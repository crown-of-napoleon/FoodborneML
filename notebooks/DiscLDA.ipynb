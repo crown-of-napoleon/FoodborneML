{
 "cells": [
  {
   "cell_type": "code",
   "execution_count": 1,
   "metadata": {
    "collapsed": true
   },
   "outputs": [],
   "source": [
    "from sklearn.feature_extraction.text import CountVectorizer\n",
    "import numpy as np\n",
    "import numpy.random as npr\n"
   ]
  },
  {
   "cell_type": "code",
   "execution_count": 704,
   "metadata": {
    "collapsed": true
   },
   "outputs": [],
   "source": [
    "import csv\n",
    "with open('reviews_foodborne.csv') as f:\n",
    "    reader = csv.reader(f)\n",
    "    reader.next()\n",
    "    pos_data = [ row[0] for row in reader if float(row[1]) == 1.0]\n",
    "with open('reviews_foodborne.csv') as f:\n",
    "    reader = csv.reader(f)\n",
    "    reader.next()\n",
    "    neg_data = [ row[0] for row in reader if float(row[1]) == 0.0]"
   ]
  },
  {
   "cell_type": "code",
   "execution_count": 511,
   "metadata": {
    "collapsed": false
   },
   "outputs": [
    {
     "name": "stdout",
     "output_type": "stream",
     "text": [
      "2827\n"
     ]
    }
   ],
   "source": [
    "print len(pos_data)"
   ]
  },
  {
   "cell_type": "code",
   "execution_count": 12,
   "metadata": {
    "collapsed": true
   },
   "outputs": [],
   "source": [
    "def print_topics(model, vocab, top_k=10):\n",
    "    topic_words = model.topic_word_\n",
    "    for i, topic_dist in enumerate(topic_words):\n",
    "        topic_words = np.array(vocab)[np.argsort(topic_dist)][:-(top_k+1):-1]\n",
    "        print('\\tTopic {}: {}'.format(i+1, ', '.join(topic_words)))\n",
    "        print\n",
    "    print"
   ]
  },
  {
   "cell_type": "code",
   "execution_count": 11,
   "metadata": {
    "collapsed": false
   },
   "outputs": [],
   "source": [
    "all_data = pos_data + neg_data\n",
    "labels = np.concatenate((np.ones(len(pos_data)), np.zeros(len(neg_data)))).astype(int)\n",
    "cv = CountVectorizer('content', strip_accents='unicode', analyzer='word', stop_words='english', max_df=.9, min_df=2, ngram_range=(1,1))\n",
    "X = cv.fit_transform(all_data)\n",
    "y = labels\n",
    "vocab = [x[0] for x in sorted(cv.vocabulary_.items(), key=lambda x:x[1])]\n"
   ]
  },
  {
   "cell_type": "code",
   "execution_count": 4,
   "metadata": {
    "collapsed": false
   },
   "outputs": [
    {
     "name": "stdout",
     "output_type": "stream",
     "text": [
      "(5394, 10731) (5394,)\n"
     ]
    }
   ],
   "source": [
    "print X.shape, y.shape\n",
    "n_topics = 10"
   ]
  },
  {
   "cell_type": "code",
   "execution_count": 10,
   "metadata": {
    "collapsed": false
   },
   "outputs": [
    {
     "data": {
      "text/plain": [
       "<disclda.lda.DiscLDA instance at 0x10abfbab8>"
      ]
     },
     "execution_count": 10,
     "metadata": {},
     "output_type": "execute_result"
    }
   ],
   "source": [
    "from disclda.lda import DiscLDA\n",
    "model = DiscLDA(n_topics=n_topics, n_iter=1000, random_state=0)\n",
    "model.fit(X,y)"
   ]
  },
  {
   "cell_type": "code",
   "execution_count": 657,
   "metadata": {
    "collapsed": true
   },
   "outputs": [],
   "source": [
    "def run_disclda(data, labels, n_topics=10, n_per=1, n_iter=1000, random_state=0):\n",
    "    print \"Running LDA with %i topics and %i iterations...\" % (n_topics, n_iter)\n",
    "    cv = CountVectorizer('content', strip_accents='unicode', analyzer='word', stop_words='english', max_df=.9, min_df=5, ngram_range=(1,1))\n",
    "    X = cv.fit_transform(data)\n",
    "    vocab = [x[0] for x in sorted(cv.vocabulary_.items(), key=lambda x:x[1])]\n",
    "    print \"(N,V): \",X.shape\n",
    "    print\n",
    "    model = DiscLDA(n_topics=n_topics, n_per=n_per, n_iter=1000, random_state=0)\n",
    "    model.fit(X, labels)\n",
    "    results = {'n_topics':n_topics,\n",
    "               'n_iter':n_iter,\n",
    "               'vocab':vocab,\n",
    "               'model':model,\n",
    "               'X':X,\n",
    "               'cv':cv\n",
    "              }\n",
    "    return results"
   ]
  },
  {
   "cell_type": "code",
   "execution_count": 8,
   "metadata": {
    "collapsed": false
   },
   "outputs": [],
   "source": [
    "%matplotlib inline\n",
    "import matplotlib.pyplot as plt"
   ]
  },
  {
   "cell_type": "code",
   "execution_count": 13,
   "metadata": {
    "collapsed": false
   },
   "outputs": [
    {
     "data": {
      "text/plain": [
       "[<matplotlib.lines.Line2D at 0x10b4c42d0>]"
      ]
     },
     "execution_count": 13,
     "metadata": {},
     "output_type": "execute_result"
    },
    {
     "data": {
      "image/png": "[encoded data removed]",
      "text/plain": [
       "<matplotlib.figure.Figure at 0x10ab33290>"
      ]
     },
     "metadata": {},
     "output_type": "display_data"
    }
   ],
   "source": [
    "plt.plot(model.loglikelihoods_)"
   ]
  },
  {
   "cell_type": "code",
   "execution_count": 14,
   "metadata": {
    "collapsed": false
   },
   "outputs": [
    {
     "name": "stdout",
     "output_type": "stream",
     "text": [
      "\tTopic 1: like, cream, sweet, tea, cake, chocolate, ice, coffee, delicious, just\n",
      "\n",
      "\tTopic 2: food, poisoning, got, night, day, sick, place, stomach, ate, eating\n",
      "\n",
      "\tTopic 3: sick, place, good, great, like, bar, really, nice, just, food\n",
      "\n",
      "\tTopic 4: order, sick, food, said, called, told, manager, restaurant, know, asked\n",
      "\n",
      "\tTopic 5: place, food, people, like, don, just, health, sick, store, dirty\n",
      "\n",
      "\tTopic 6: came, food, table, minutes, service, restaurant, didn, time, waiter, waitress\n",
      "\n",
      "\tTopic 7: food, sushi, sick, place, got, ordered, chicken, poisoning, fish, good\n",
      "\n",
      "\tTopic 8: burger, chicken, sick, cheese, food, like, ordered, got, fries, place\n",
      "\n",
      "\tTopic 9: food, place, sick, ve, good, just, don, like, pizza, really\n",
      "\n",
      "\tTopic 10: sauce, good, chicken, like, just, dish, pork, ordered, soup, restaurant\n",
      "\n",
      "\n"
     ]
    }
   ],
   "source": [
    "print_topics(model, vocab)"
   ]
  },
  {
   "cell_type": "code",
   "execution_count": 449,
   "metadata": {
    "collapsed": true
   },
   "outputs": [],
   "source": [
    "from pyhealth.models import models as m, documents as d, businesses as b, locations as l\n",
    "db = m.getDBSession()"
   ]
  },
  {
   "cell_type": "code",
   "execution_count": 515,
   "metadata": {
    "collapsed": false
   },
   "outputs": [
    {
     "name": "stdout",
     "output_type": "stream",
     "text": [
      "CPU times: user 2.68 s, sys: 353 ms, total: 3.03 s\n",
      "Wall time: 3.06 s\n"
     ]
    }
   ],
   "source": [
    "%%time\n",
    "bigreviews = db.query(d.YelpReview).limit(100000).all()"
   ]
  },
  {
   "cell_type": "code",
   "execution_count": 557,
   "metadata": {
    "collapsed": false
   },
   "outputs": [
    {
     "name": "stdout",
     "output_type": "stream",
     "text": [
      "CPU times: user 174 ms, sys: 6.63 ms, total: 180 ms\n",
      "Wall time: 178 ms\n"
     ]
    }
   ],
   "source": [
    "%%time\n",
    "fit_sample = [ r.text for r in np.random.choice(bigreviews, size=19000, replace=False)]\n",
    "posn = 1000\n",
    "data = pos_data[:posn] +fit_sample\n",
    "labels = np.concatenate((np.ones(posn), np.zeros(len(sample)))).astype(int)"
   ]
  },
  {
   "cell_type": "code",
   "execution_count": 541,
   "metadata": {
    "collapsed": false
   },
   "outputs": [
    {
     "name": "stdout",
     "output_type": "stream",
     "text": [
      "20000\n"
     ]
    }
   ],
   "source": [
    "print len(data)"
   ]
  },
  {
   "cell_type": "code",
   "execution_count": 658,
   "metadata": {
    "collapsed": false
   },
   "outputs": [
    {
     "name": "stdout",
     "output_type": "stream",
     "text": [
      "Running LDA with 50 topics and 200 iterations...\n",
      "(N,V):  (20000, 10581)\n",
      "\n",
      "CPU times: user 6min 32s, sys: 856 ms, total: 6min 33s\n",
      "Wall time: 6min 37s\n"
     ]
    }
   ],
   "source": [
    "%%time\n",
    "result_mixed = run_disclda(data, labels, n_topics=50, n_per=1, n_iter=200)"
   ]
  },
  {
   "cell_type": "code",
   "execution_count": 659,
   "metadata": {
    "collapsed": false,
    "scrolled": false
   },
   "outputs": [
    {
     "name": "stdout",
     "output_type": "stream",
     "text": [
      "\tTopic 1: bar, beer, great, selection, beers, good, place, game, drink, drinks, tap, wings, nice, pretty, watch, friendly, bartenders, bartender, friends, cool, awesome, crowd, pub, night, sports, dive, games, chill, decent, really, cheap, crowded, neighborhood, spot, atmosphere, lots, irish, bars, tv, tvs, fun, staff, big, space, craft, draft, happy, vibe, specials, want\n",
      "\n",
      "\tTopic 2: sick, food, poisoning, got, night, ate, stomach, eating, day, hours, eat, went, diarrhea, vomiting, later, friend, husband, days, bad, ordered, felt, ill, home, worst, feeling, meal, health, feel, restaurant, terrible, started, did, tasted, dinner, friends, morning, bathroom, boyfriend, yesterday, didn, experience, horrible, violently, severe, wife, having, case, threw, department, throwing\n",
      "\n",
      "\tTopic 3: flavor, dish, sauce, perfectly, perfect, bit, sweet, little, crispy, meal, light, just, bread, flavors, cooked, soft, served, nice, texture, rich, taste, fried, right, delicious, bite, menu, warm, creamy, fresh, small, sprouts, did, topped, tender, savory, crisp, potato, inside, mouth, added, interesting, salty, crunchy, quite, refreshing, plate, seasoned, slightly, roasted, favorite\n",
      "\n",
      "\tTopic 4: good, food, really, place, service, nice, pretty, bit, like, got, come, great, atmosphere, overall, decor, came, definitely, decent, little, time, ok, better, thought, tasty, area, pricey, just, liked, wasn, friendly, went, say, slow, probably, enjoyed, think, recommend, dinner, okay, drinks, average, quite, bad, expensive, prices, stars, cons, pros, attentive, didn\n",
      "\n",
      "\tTopic 5: food, place, service, bad, like, people, don, just, horrible, worst, terrible, going, restaurant, time, rude, sick, away, star, money, know, dirty, reviews, stars, awful, really, staff, better, review, avoid, eat, want, dont, business, quality, gross, disgusting, care, say, customer, customers, poor, extremely, kitchen, wrong, look, needs, need, mediocre, worse, reason\n",
      "\n",
      "\tTopic 6: burger, fries, burgers, good, cheese, shake, just, shack, potato, sweet, bun, french, onion, meat, bacon, medium, order, juicy, best, cooked, really, patty, delicious, like, beef, ketchup, rare, joint, turkey, rings, bite, cheeseburger, tasty, ordered, veggie, better, long, onions, fast, little, tots, didn, greasy, ve, love, eat, make, diner, menu, truffle\n",
      "\n",
      "\tTopic 7: wait, minutes, time, night, got, table, 10, 30, long, came, hour, waiting, seated, 15, 20, late, waited, saturday, line, just, people, hours, reservation, worth, place, open, arrived, come, early, outside, busy, right, packed, make, went, minute, 45, order, took, sunday, dinner, half, day, pm, friday, reservations, away, 12, wasn, really\n",
      "\n",
      "\tTopic 8: steak, dish, dessert, dishes, restaurant, cooked, duck, ordered, menu, meal, meat, course, delicious, fish, appetizer, good, dinner, sea, rare, entree, medium, amazing, salmon, potatoes, chef, main, lamb, came, dining, appetizers, scallops, special, great, perfectly, experience, entrees, stars, beef, filet, bass, table, salad, bone, service, best, served, started, start, sides, short\n",
      "\n",
      "\tTopic 9: tip, card, money, said, pay, credit, don, price, 10, 50, cash, charge, deal, got, 20, extra, 00, did, free, cost, told, went, worth, paid, want, charged, make, owner, dollars, come, people, going, cards, dollar, asked, 30, change, better, know, service, just, staff, paying, 12, minimum, prices, customer, manager, total, regular\n",
      "\n",
      "\tTopic 10: store, selection, fresh, items, prices, foods, shop, like, buy, market, staff, produce, organic, shopping, things, grocery, juice, nice, friendly, stuff, products, need, clean, love, make, variety, want, deli, candy, price, great, section, day, lot, neighborhood, bought, stop, options, local, fruit, frozen, meats, counter, open, sell, healthy, stores, quality, supermarket, small\n",
      "\n",
      "\tTopic 11: location, park, street, east, village, west, area, right, away, square, better, spot, located, ave, nyc, neighborhood, new, walk, brooklyn, far, great, st, walking, train, live, corner, times, ve, station, block, near, midtown, looking, close, stop, work, blocks, best, manhattan, way, ll, central, places, just, upper, like, union, truck, avenue, little\n",
      "\n",
      "\tTopic 12: thai, chinese, food, rice, dumplings, fried, chicken, soup, good, dishes, noodles, dish, sauce, pork, pad, restaurant, beef, shrimp, spicy, curry, sum, dim, duck, chinatown, order, ordered, rolls, try, noodle, asian, like, cheap, spring, menu, dumpling, tofu, tasty, authentic, crispy, lunch, place, best, really, ve, egg, pretty, usually, special, flushing, sweet\n",
      "\n",
      "\tTopic 13: wine, great, good, nice, place, date, glass, selection, menu, bottle, food, spot, little, list, service, night, dinner, perfect, atmosphere, just, ambiance, wines, friendly, staff, really, delicious, bar, excellent, definitely, attentive, cozy, small, went, beer, priced, recommend, cheese, bottles, intimate, tapas, fantastic, amazing, feel, romantic, cocktails, neighborhood, happy, dates, red, evening\n",
      "\n",
      "\tTopic 14: ve, times, time, years, ago, place, went, week, tried, used, couple, love, new, going, past, year, ll, months, food, come, think, twice, recently, better, gone, weeks, coming, neighborhood, say, don, menu, opened, disappointed, days, review, old, changed, haven, know, gotten, finally, try, sure, spot, different, visit, moved, far, regular, today\n",
      "\n",
      "\tTopic 15: place, don, line, good, people, really, long, wait, like, want, just, time, food, usually, come, hot, pretty, lot, fast, eat, order, thing, love, crowded, think, quick, make, eating, lunch, busy, need, sure, location, spot, parking, try, know, super, gets, huge, cheap, dogs, waiting, enjoy, bad, quickly, lines, area, isn, worth\n",
      "\n",
      "\tTopic 16: food, great, service, friendly, staff, recommend, delicious, highly, excellent, amazing, place, definitely, experience, attentive, restaurant, best, time, atmosphere, helpful, recommended, wonderful, fantastic, nice, extremely, wait, dinner, clean, looking, overall, owner, fresh, absolutely, super, sure, went, decor, ve, awesome, incredible, return, welcoming, incredibly, perfect, quick, pleasant, nyc, waiter, server, selection, waitress\n",
      "\n",
      "\tTopic 17: party, birthday, group, people, dinner, restaurant, friends, large, table, make, menu, reservation, family, came, time, food, just, did, reservations, went, happy, really, experience, sure, special, able, day, night, left, year, com, person, event, guests, brought, accommodating, http, mom, arrived, plates, parties, yelp, celebrate, leave, wanted, big, groups, room, share, bring\n",
      "\n",
      "\tTopic 18: new, york, best, place, city, nyc, ve, just, ny, worth, trip, favorite, time, amazing, visit, definitely, come, manhattan, say, try, love, way, eat, stop, town, years, live, hands, make, day, visiting, hard, friends, tourist, want, wait, world, hotel, going, makes, places, experience, far, having, times, know, life, absolutely, year, spots\n",
      "\n",
      "\tTopic 19: seating, tables, place, area, nice, small, table, sit, space, bar, people, inside, outside, great, room, outdoor, bit, right, little, open, seats, sitting, pretty, loud, huge, dining, big, tiny, friends, friendly, spot, seat, close, plenty, large, busy, upstairs, cramped, quiet, able, couple, cool, comfortable, chairs, summer, cozy, packed, especially, sat, restaurant\n",
      "\n",
      "\tTopic 20: like, place, decor, room, feel, old, little, restaurant, dark, walls, wall, white, bit, dining, tables, interior, bar, table, beautiful, clean, wood, open, look, space, inside, small, looks, lighting, door, new, menu, cool, felt, kind, ambiance, walk, way, atmosphere, glass, style, walking, maybe, bathroom, modern, light, floor, outside, big, water, real\n",
      "\n",
      "\tTopic 21: sauce, chicken, food, rice, good, lamb, delicious, falafel, hot, white, meat, hummus, bread, greek, fresh, pita, salad, platter, grilled, got, cart, order, ordered, eat, red, gyro, spicy, served, green, street, meal, guys, halal, plate, try, tried, ll, turkish, sauces, like, lunch, portions, add, generous, best, need, bit, small, definitely, came\n",
      "\n",
      "\tTopic 22: coffee, place, cafe, good, work, nice, staff, friendly, little, great, shop, cup, morning, espresso, starbucks, latte, iced, make, seating, pastries, free, wifi, milk, people, day, really, sit, hot, way, small, love, sandwiches, strong, cappuccino, cute, cold, neighborhood, baked, pastry, tea, almond, warm, breakfast, spot, counter, afternoon, coffees, hours, chai, stopped\n",
      "\n",
      "\tTopic 23: like, ordered, tasted, just, taste, didn, came, wasn, dry, bland, got, bad, did, flavor, pieces, hard, disappointed, really, ok, better, half, thing, salty, meat, way, pretty, disappointing, felt, sauce, time, cold, decent, looked, maybe, salt, left, eating, don, tiny, overcooked, thought, think, soggy, couldn, used, meal, wanted, instead, piece, okay\n",
      "\n",
      "\tTopic 24: pizza, slice, crust, good, best, cheese, pie, fresh, slices, sauce, pizzas, place, ve, great, really, oven, eat, toppings, large, italian, ingredients, pepperoni, brooklyn, pies, mozzarella, basil, nyc, order, ny, tomato, better, garlic, plain, way, try, regular, dough, pizzeria, margherita, neighborhood, style, crispy, joint, taste, sausage, sicilian, grimaldi, amazing, buffalo, little\n",
      "\n",
      "\tTopic 25: pasta, italian, delicious, dishes, salad, sauce, bread, great, restaurant, dish, food, wine, good, cheese, fresh, meatballs, ordered, oil, olive, special, dessert, meal, excellent, dinner, ravioli, garlic, calamari, night, mozzarella, service, appetizer, eggplant, amazing, tomato, gnocchi, menu, grilled, best, waiter, spaghetti, loved, al, entrees, little, friend, restaurants, truffle, risotto, octopus, spinach\n",
      "\n",
      "\tTopic 26: cake, chocolate, sweet, good, cupcakes, bakery, cupcake, pudding, dessert, like, just, amazing, ve, cheesecake, cookies, cakes, red, tried, desserts, try, taste, little, delicious, perfect, favorite, macarons, bread, pastries, flavor, best, velvet, flavors, love, rich, frosting, vanilla, got, baked, really, moist, bite, box, banana, tasted, pie, filling, sugar, cookie, pastry, treats\n",
      "\n",
      "\tTopic 27: drinks, bar, drink, happy, hour, bartender, night, cocktails, place, cocktail, great, friend, friends, really, menu, came, definitely, ordered, bartenders, strong, fun, went, nice, like, come, work, got, special, vodka, drinking, martini, date, good, pretty, spot, gin, free, looking, deal, ll, waitress, sweet, friday, shots, gave, super, going, make, alcohol, glass\n",
      "\n",
      "\tTopic 28: experience, quality, time, review, kitchen, second, ll, ingredients, high, things, reviews, point, probably, way, course, hit, restaurants, simple, visit, instead, true, especially, end, stars, yelp, making, does, right, non, different, served, american, star, prepared, fact, number, say, generally, truly, given, chef, far, available, completely, certainly, read, head, blue, nearly, return\n",
      "\n",
      "\tTopic 29: like, just, don, know, oh, think, ve, ll, really, want, eat, let, yes, way, love, time, said, yeah, make, eating, little, tell, damn, life, did, right, thing, sure, seriously, things, hours, need, maybe, people, girl, pretty, god, mean, say, remember, best, review, better, bad, day, doesn, kind, awesome, mind, shit\n",
      "\n",
      "\tTopic 30: sushi, roll, fish, fresh, rolls, tuna, salmon, good, japanese, place, spicy, sashimi, ordered, restaurant, like, rice, quality, sake, great, just, ve, uni, tempura, pieces, best, piece, special, shrimp, order, avocado, miso, menu, price, eat, chef, appetizer, places, omakase, favorite, usually, eel, taste, tried, different, lunch, know, really, nice, salad, wasabi\n",
      "\n",
      "\tTopic 31: lobster, shrimp, seafood, crab, fish, oysters, fresh, roll, good, fried, amazing, delicious, die, rolls, service, oyster, best, sauce, calamari, clams, clam, small, got, huge, dinner, bread, und, try, worth, man, mussels, cakes, shell, 20, garlic, definitely, raw, luke, tried, boy, favorite, chowder, chips, super, scallops, fiance, old, butter, half, der\n",
      "\n",
      "\tTopic 32: restaurant, dinner, meal, experience, service, wife, dining, dessert, french, course, menu, evening, enjoyed, did, special, try, ordered, la, excellent, main, nyc, prix, served, night, fixe, appetizer, mussels, went, came, wonderful, decided, wanted, took, husband, visit, loved, friend, room, return, surprise, le, server, chose, entrees, entree, pleasant, eat, shared, tasty, desert\n",
      "\n",
      "\tTopic 33: cream, ice, chocolate, bagel, cheese, bagels, hot, good, flavors, cookie, like, butter, milk, really, delicious, peanut, best, definitely, yogurt, got, dessert, cookies, amazing, vanilla, fresh, chip, sweet, ve, try, worth, banana, tried, caramel, soft, just, cup, apple, whipped, serve, cinnamon, oh, toasted, fruit, lox, warm, thing, big, homemade, frozen, egg\n",
      "\n",
      "\tTopic 34: brunch, eggs, breakfast, food, toast, good, french, pancakes, sunday, bacon, menu, great, wait, diner, egg, bloody, delicious, benedict, day, coffee, came, ordered, service, really, mary, friend, juice, omelette, morning, went, waffles, hash, got, mimosas, unlimited, weekend, sausage, server, saturday, syrup, salmon, definitely, cute, orange, omelet, fries, potatoes, poached, awesome, amazing\n",
      "\n",
      "\tTopic 35: service, table, food, came, asked, waiter, minutes, order, waitress, didn, told, restaurant, server, check, time, ordered, took, water, said, manager, did, ask, seated, meal, experience, left, brought, finally, wanted, friend, hostess, waited, went, got, come, drink, sat, drinks, tables, arrived, later, bad, menu, just, busy, away, gave, wasn, served, 10\n",
      "\n",
      "\tTopic 36: food, chicken, indian, vegan, vegetarian, really, good, restaurant, options, free, menu, dishes, curry, delicious, spicy, gluten, ve, rice, like, eat, dish, meal, masala, meat, restaurants, naan, love, ll, lot, tasty, best, tikka, ordered, vegetable, choices, veggie, taste, different, favorite, tried, try, tofu, nyc, lamb, definitely, actually, great, having, know, roti\n",
      "\n",
      "\tTopic 37: pork, ramen, noodles, spicy, good, broth, soup, korean, like, hot, meat, bowl, beef, buns, belly, noodle, japanese, rice, egg, definitely, really, bbq, try, flavorful, delicious, dishes, sauce, tofu, just, ordered, bun, little, pot, better, dish, come, bit, ve, pho, ippudo, kimchi, dumplings, wait, flavor, restaurant, love, salty, miso, pretty, asian\n",
      "\n",
      "\tTopic 38: got, ordered, didn, try, came, friend, really, place, wasn, wanted, went, decided, did, time, just, like, definitely, thought, think, reviews, said, night, come, pretty, yelp, boyfriend, good, eat, going, say, little, asked, sure, thing, right, took, liked, looked, different, big, couldn, day, order, nice, bit, gave, eating, actually, dinner, maybe\n",
      "\n",
      "\tTopic 39: order, food, delivery, time, ordered, called, guy, service, minutes, said, told, phone, ordering, customer, got, just, took, hour, did, didn, don, orders, place, restaurant, deliver, person, seamless, asked, wrong, delivered, later, times, make, taking, pick, tell, ask, online, want, ok, arrived, placed, know, late, review, cold, 15, takes, received, customers\n",
      "\n",
      "\tTopic 40: lunch, salad, chicken, good, menu, fresh, soup, great, dressing, food, salads, pretty, work, tasty, special, options, day, dinner, quick, spot, wrap, area, 50, specials, 10, fast, option, choice, healthy, nice, deal, ingredients, midtown, lettuce, big, large, grilled, price, come, kale, items, choose, yummy, sandwiches, 95, soups, friendly, variety, place, comes\n",
      "\n",
      "\tTopic 41: time, just, way, walked, right, counter, went, did, door, like, going, said, didn, looked, look, decided, long, walk, know, day, thought, saw, away, left, friend, knew, guy, owner, outside, visit, waiting, sitting, trying, customers, noticed, eat, took, people, kept, asked, area, sign, opened, looking, end, working, make, line, closed, man\n",
      "\n",
      "\tTopic 42: chicken, cheese, fried, good, mac, bbq, food, wings, ribs, sweet, pork, like, sauce, best, got, great, brisket, meat, sides, try, ordered, pulled, order, crispy, potatoes, delicious, potato, tender, ve, spicy, little, love, awesome, style, tasty, night, greens, bacon, juicy, dinner, amazing, definitely, mashed, corn, beef, slaw, hot, dry, stars, eating\n",
      "\n",
      "\tTopic 43: just, good, food, really, place, stars, don, better, think, service, star, ok, like, bad, pretty, ve, didn, maybe, wasn, say, way, worth, know, bit, isn, want, thing, high, fine, reason, probably, price, expect, come, rating, expensive, quite, places, special, wouldn, decent, average, doesn, wrong, lot, quality, actually, review, okay, kind\n",
      "\n",
      "\tTopic 44: music, place, night, bar, drinks, good, people, great, fun, loud, crowd, time, friends, playing, live, like, nice, cool, come, club, pretty, dance, old, drink, saturday, friday, crowded, packed, girls, party, play, hookah, room, went, dj, just, friend, check, hip, lounge, vibe, atmosphere, guys, dancing, upstairs, lot, jazz, bartenders, band, floor\n",
      "\n",
      "\tTopic 45: food, good, place, price, prices, great, small, portions, quality, priced, size, portion, service, definitely, large, decent, worth, pretty, restaurant, looking, cheap, menu, reasonable, high, little, quite, better, nice, overall, places, especially, big, bit, tasty, average, expensive, staff, reasonably, friendly, area, meal, pricey, huge, fairly, going, special, diner, considering, generous, hungry\n",
      "\n",
      "\tTopic 46: great, place, love, food, amazing, service, delicious, awesome, staff, friendly, favorite, spot, definitely, super, nice, atmosphere, just, come, prices, really, try, best, absolutely, yummy, loved, yum, coming, little, cozy, recommend, neighborhood, delish, time, excellent, friends, ambiance, right, happy, decor, perfect, vibe, wait, wish, cute, feel, wonderful, drinks, reasonable, date, fantastic\n",
      "\n",
      "\tTopic 47: like, place, don, just, know, make, people, come, real, think, feel, eat, say, home, going, need, ve, places, want, sure, doesn, makes, thing, let, lot, does, things, actually, right, better, times, old, best, comes, way, tell, day, kind, oh, family, yes, eating, owner, big, taste, island, serve, love, bring, ll\n",
      "\n",
      "\tTopic 48: tea, like, green, ice, sweet, milk, love, just, cream, taste, crepe, time, good, tried, little, place, come, try, delicious, dessert, ve, bubble, definitely, didn, mango, flavors, bit, donuts, order, iced, small, different, drink, donut, lemon, cup, flavor, sugar, coconut, bad, teas, don, got, crepes, pretty, tasted, honey, hot, favorite, bean\n",
      "\n",
      "\tTopic 49: food, tacos, mexican, good, taco, chips, beans, chicken, burrito, guacamole, rice, salsa, sangria, steak, cheese, great, chipotle, corn, guac, fish, ordered, delicious, empanadas, best, try, margaritas, chorizo, spanish, order, ve, spicy, paella, tasty, avocado, quesadilla, taste, tortilla, restaurant, beef, really, margarita, shrimp, authentic, sauce, la, eat, pork, fresh, nachos, tapas\n",
      "\n",
      "\tTopic 50: sandwich, cheese, sandwiches, bread, good, just, meat, really, pastrami, deli, delicious, soup, grilled, got, lunch, place, chicken, cold, beef, best, don, little, order, turkey, mi, eat, ball, hot, try, banh, time, ham, salad, pork, perfect, pickles, ll, think, half, roast, panini, toasted, egg, kosher, great, huge, tomato, tried, worth, counter\n",
      "\n",
      "\n"
     ]
    }
   ],
   "source": [
    "print_topics(result_mixed['model'], result_mixed['vocab'], top_k=50)"
   ]
  },
  {
   "cell_type": "code",
   "execution_count": 660,
   "metadata": {
    "collapsed": false
   },
   "outputs": [
    {
     "data": {
      "text/plain": [
       "[<matplotlib.lines.Line2D at 0x10cf3fc90>]"
      ]
     },
     "execution_count": 660,
     "metadata": {},
     "output_type": "execute_result"
    },
    {
     "data": {
      "image/png": "[encoded data removed]",
      "text/plain": [
       "<matplotlib.figure.Figure at 0x1174afa50>"
      ]
     },
     "metadata": {},
     "output_type": "display_data"
    }
   ],
   "source": [
    "plt.plot(result_mixed['model'].loglikelihoods_)"
   ]
  },
  {
   "cell_type": "code",
   "execution_count": 661,
   "metadata": {
    "collapsed": true
   },
   "outputs": [],
   "source": [
    "thetas = result_mixed['model'].doc_topic_"
   ]
  },
  {
   "cell_type": "code",
   "execution_count": 662,
   "metadata": {
    "collapsed": false
   },
   "outputs": [
    {
     "data": {
      "image/png": "[encoded data removed]",
      "text/plain": [
       "<matplotlib.figure.Figure at 0x12853a990>"
      ]
     },
     "metadata": {},
     "output_type": "display_data"
    }
   ],
   "source": [
    "fig, (ax0, ax1) = plt.subplots(1,2, figsize=(12,6), sharey=True)\n",
    "ax0.boxplot(thetas[:posn])\n",
    "ax0.grid()\n",
    "ax0.set_title(\"Positive\")\n",
    "ax0.set_xlabel(\"Topic Number\")\n",
    "ax0.set_ylabel(\"Topic Proportions\")\n",
    "ax1.boxplot(thetas[posn:])#np.random.randint(2500,10000,size=2500),:])\n",
    "ax1.grid()\n",
    "ax1.set_title(\"Unlabeled\")\n",
    "ax1.set_xlabel(\"Topic Number\")\n",
    "\n",
    "plt.tight_layout()\n",
    "#plt.savefig('lda_boxplot_2500_7500.pdf')"
   ]
  },
  {
   "cell_type": "markdown",
   "metadata": {},
   "source": [
    "### Fitting the $\\Gamma$"
   ]
  },
  {
   "cell_type": "code",
   "execution_count": 669,
   "metadata": {
    "collapsed": true
   },
   "outputs": [],
   "source": [
    "import scipy.stats as st\n",
    "def transform_doc(preprocess, model, doc):\n",
    "    X = preprocess.transform([doc])\n",
    "    #print X\n",
    "    #print np.nonzero(X)\n",
    "    return model.transform(X)"
   ]
  },
  {
   "cell_type": "code",
   "execution_count": 724,
   "metadata": {
    "collapsed": false
   },
   "outputs": [],
   "source": [
    "# get another random sample\n",
    "gam_sample = [ r.text for r in np.random.choice(bigreviews, size=10000, replace=False)]"
   ]
  },
  {
   "cell_type": "code",
   "execution_count": 725,
   "metadata": {
    "collapsed": false
   },
   "outputs": [],
   "source": [
    "# get the alpha_2s of each doc in this sample\n",
    "gvals = np.array([ transform_doc(result_mixed['cv'], result_mixed['model'], text)[0,1] for text in gam_sample])"
   ]
  },
  {
   "cell_type": "code",
   "execution_count": 726,
   "metadata": {
    "collapsed": false
   },
   "outputs": [
    {
     "name": "stdout",
     "output_type": "stream",
     "text": [
      "0.0725556603173 0.0767093989825\n"
     ]
    }
   ],
   "source": [
    "# compute empirical gamma params\n",
    "gbar = np.sum(gvals)/len(gvals)\n",
    "#print gbar\n",
    "gbar2 = gbar**2\n",
    "#print gbar2\n",
    "g2m = np.sum(gvals**2)/len(gvals)\n",
    "#print g2m\n",
    "\n",
    "# calculate shape estimate for gamma\n",
    "den = g2m - gbar2\n",
    "#print den\n",
    "bhat = gbar/den #bhat is the RATE parameter = 1/SCALE\n",
    "ahat = gbar2/den\n",
    "print ahat, 1./bhat"
   ]
  },
  {
   "cell_type": "code",
   "execution_count": 727,
   "metadata": {
    "collapsed": true
   },
   "outputs": [],
   "source": [
    "# frozen empirical gamma for evaluation\n",
    "empgam = st.gamma(ahat, scale=1./bhat)"
   ]
  },
  {
   "cell_type": "markdown",
   "metadata": {},
   "source": [
    "###  Looking at the empirical dist for individual reviews, both labeled and unlabeled"
   ]
  },
  {
   "cell_type": "code",
   "execution_count": 728,
   "metadata": {
    "collapsed": false
   },
   "outputs": [],
   "source": [
    "# pos data alpha2s for documents that we 1000 docs we didn't train on\n",
    "pos_gs = [ transform_doc(result_mixed['cv'], result_mixed['model'], t)[0,1] for t in pos_data[posn:posn+1000]]"
   ]
  },
  {
   "cell_type": "code",
   "execution_count": 729,
   "metadata": {
    "collapsed": false
   },
   "outputs": [
    {
     "data": {
      "text/plain": [
       "(array([ 0.015,  0.024,  0.031,  0.037,  0.031,  0.037,  0.035,  0.034,\n",
       "         0.032,  0.049,  0.03 ,  0.032,  0.031,  0.035,  0.026,  0.027,\n",
       "         0.019,  0.023,  0.016,  0.02 ,  0.021,  0.027,  0.024,  0.022,\n",
       "         0.021,  0.01 ,  0.013,  0.022,  0.013,  0.015,  0.01 ,  0.014,\n",
       "         0.012,  0.011,  0.012,  0.01 ,  0.007,  0.013,  0.005,  0.007,\n",
       "         0.005,  0.014,  0.004,  0.009,  0.005,  0.003,  0.006,  0.004,\n",
       "         0.003,  0.006,  0.005,  0.001,  0.002,  0.006,  0.   ,  0.003,\n",
       "         0.005,  0.002,  0.   ,  0.001,  0.003,  0.002,  0.003,  0.004,\n",
       "         0.004,  0.001,  0.004,  0.   ,  0.004,  0.001,  0.001,  0.   ,\n",
       "         0.001,  0.001,  0.   ,  0.   ,  0.   ,  0.   ,  0.   ,  0.002,\n",
       "         0.   ,  0.   ,  0.001,  0.001,  0.   ,  0.003,  0.001,  0.   ,\n",
       "         0.   ,  0.001,  0.   ,  0.   ,  0.001,  0.001,  0.   ,  0.   ,\n",
       "         0.002,  0.   ,  0.   ,  0.001]),\n",
       " array([ 0.0015789 ,  0.01062256,  0.01966623,  0.0287099 ,  0.03775356,\n",
       "         0.04679723,  0.0558409 ,  0.06488456,  0.07392823,  0.0829719 ,\n",
       "         0.09201556,  0.10105923,  0.1101029 ,  0.11914657,  0.12819023,\n",
       "         0.1372339 ,  0.14627757,  0.15532123,  0.1643649 ,  0.17340857,\n",
       "         0.18245223,  0.1914959 ,  0.20053957,  0.20958323,  0.2186269 ,\n",
       "         0.22767057,  0.23671423,  0.2457579 ,  0.25480157,  0.26384524,\n",
       "         0.2728889 ,  0.28193257,  0.29097624,  0.3000199 ,  0.30906357,\n",
       "         0.31810724,  0.3271509 ,  0.33619457,  0.34523824,  0.3542819 ,\n",
       "         0.36332557,  0.37236924,  0.3814129 ,  0.39045657,  0.39950024,\n",
       "         0.4085439 ,  0.41758757,  0.42663124,  0.43567491,  0.44471857,\n",
       "         0.45376224,  0.46280591,  0.47184957,  0.48089324,  0.48993691,\n",
       "         0.49898057,  0.50802424,  0.51706791,  0.52611157,  0.53515524,\n",
       "         0.54419891,  0.55324257,  0.56228624,  0.57132991,  0.58037358,\n",
       "         0.58941724,  0.59846091,  0.60750458,  0.61654824,  0.62559191,\n",
       "         0.63463558,  0.64367924,  0.65272291,  0.66176658,  0.67081024,\n",
       "         0.67985391,  0.68889758,  0.69794124,  0.70698491,  0.71602858,\n",
       "         0.72507224,  0.73411591,  0.74315958,  0.75220325,  0.76124691,\n",
       "         0.77029058,  0.77933425,  0.78837791,  0.79742158,  0.80646525,\n",
       "         0.81550891,  0.82455258,  0.83359625,  0.84263991,  0.85168358,\n",
       "         0.86072725,  0.86977091,  0.87881458,  0.88785825,  0.89690192,\n",
       "         0.90594558]),\n",
       " <a list of 100 Patch objects>)"
      ]
     },
     "execution_count": 729,
     "metadata": {},
     "output_type": "execute_result"
    },
    {
     "data": {
      "image/png": "[encoded data removed]",
      "text/plain": [
       "<matplotlib.figure.Figure at 0x127d36710>"
      ]
     },
     "metadata": {},
     "output_type": "display_data"
    }
   ],
   "source": [
    "# checking out what this empirical distribution and the fitted gamma look like\n",
    "fig, (ax0, ax1) = plt.subplots(1,2, figsize=(12,6), sharey=True)\n",
    "x = np.linspace(0,1,100)\n",
    "# unlabeled\n",
    "ax0.plot(x, 1-empgam.cdf(x))\n",
    "weights = np.ones_like(gvals)/len(gvals)\n",
    "ax0.hist(gvals, 100, weights=weights)\n",
    "\n",
    "#labeled\n",
    "ax1.plot(x, 1-empgam.cdf(x))\n",
    "weights = np.ones_like(pos_gs)/len(pos_gs)\n",
    "ax1.hist(pos_gs, 100, weights=weights)"
   ]
  },
  {
   "cell_type": "markdown",
   "metadata": {},
   "source": [
    "### Looking pretty good, let's check out outbreak windows now"
   ]
  },
  {
   "cell_type": "code",
   "execution_count": 572,
   "metadata": {
    "collapsed": false
   },
   "outputs": [],
   "source": [
    "#get random sample of 100 businesses\n",
    "bs = db.query(b.Business.id).limit(10000).all()\n",
    "bids = [biz.id for biz in bs]"
   ]
  },
  {
   "cell_type": "code",
   "execution_count": 677,
   "metadata": {
    "collapsed": false
   },
   "outputs": [
    {
     "name": "stdout",
     "output_type": "stream",
     "text": [
      "100\n"
     ]
    }
   ],
   "source": [
    "samp = npr.choice(bids, 100)\n",
    "print len(samp)"
   ]
  },
  {
   "cell_type": "code",
   "execution_count": 678,
   "metadata": {
    "collapsed": false
   },
   "outputs": [],
   "source": [
    "# all reviews for each of those businesses\n",
    "revs = db.query(d.YelpReview).filter(d.YelpReview.business_id.in_(samp)).all()"
   ]
  },
  {
   "cell_type": "code",
   "execution_count": 679,
   "metadata": {
    "collapsed": false
   },
   "outputs": [
    {
     "name": "stdout",
     "output_type": "stream",
     "text": [
      "10178\n"
     ]
    }
   ],
   "source": [
    "print len(revs)"
   ]
  },
  {
   "cell_type": "code",
   "execution_count": 680,
   "metadata": {
    "collapsed": false
   },
   "outputs": [],
   "source": [
    "# make a dictionary datastruct for each of those businesses by review for unlabeleds\n",
    "import logging\n",
    "logging.getLogger(\"lda\").setLevel(logging.ERROR)\n",
    "ts = {}\n",
    "for r in revs:\n",
    "    try:\n",
    "        ts[r.business_id].append((r.created, r.text, transform_doc(result_mixed['cv'], result_mixed['model'], r.text)))\n",
    "    except KeyError:\n",
    "        ts[r.business_id] = [(r.created, r.text, transform_doc(result_mixed['cv'], result_mixed['model'], r.text))]"
   ]
  },
  {
   "cell_type": "code",
   "execution_count": 681,
   "metadata": {
    "collapsed": true
   },
   "outputs": [],
   "source": [
    "# need slightly different form of labeled data for this (dates, and business)\n",
    "import csv\n",
    "with open('reviews_foodborne_date_biz.csv') as f:\n",
    "    reader = csv.reader(f)\n",
    "    reader.next()\n",
    "    pos_data_n = [ row for row in reader if float(row[1]) == 1.0]\n",
    "with open('reviews_foodborne_date_biz.csv') as f:\n",
    "    reader = csv.reader(f)\n",
    "    reader.next()\n",
    "    neg_data_n = [ row for row in reader if float(row[1]) == 0.0]"
   ]
  },
  {
   "cell_type": "code",
   "execution_count": 682,
   "metadata": {
    "collapsed": false
   },
   "outputs": [
    {
     "name": "stdout",
     "output_type": "stream",
     "text": [
      "0\n",
      "1\n",
      "2\n",
      "3\n",
      "4\n",
      "5\n",
      "6\n",
      "7\n",
      "8\n",
      "9\n",
      "10\n",
      "11\n",
      "12\n",
      "13\n",
      "14\n",
      "15\n",
      "16\n",
      "17\n",
      "18\n",
      "19\n",
      "20\n",
      "21\n",
      "22\n",
      "23\n",
      "24\n",
      "25\n",
      "26\n",
      "27\n",
      "28\n",
      "29\n",
      "30\n",
      "31\n",
      "32\n",
      "33\n",
      "34\n",
      "35\n",
      "36\n",
      "37\n",
      "38\n",
      "39\n",
      "40\n",
      "41\n",
      "42\n",
      "43\n",
      "44\n",
      "45\n",
      "46\n",
      "47\n",
      "48\n",
      "49\n",
      "50\n",
      "51\n",
      "52\n",
      "53\n",
      "54\n",
      "55\n",
      "56\n",
      "57\n",
      "58\n",
      "59\n",
      "60\n",
      "61\n",
      "62\n",
      "63\n",
      "64\n",
      "65\n",
      "66\n",
      "67\n",
      "68\n",
      "69\n",
      "70\n",
      "71\n",
      "72\n",
      "73\n",
      "74\n",
      "75\n",
      "76\n",
      "77\n",
      "78\n",
      "79\n",
      "80\n",
      "81\n",
      "82\n",
      "83\n",
      "84\n",
      "85\n",
      "86\n",
      "87\n",
      "88\n",
      "89\n",
      "90\n",
      "91\n",
      "92\n",
      "93\n",
      "94\n",
      "95\n",
      "96\n",
      "97\n",
      "98\n",
      "99\n"
     ]
    }
   ],
   "source": [
    "# make a dictionary datastruct of all reviews for the business associated with 100 labeled reviews\n",
    "ob = pos_data_n[posn:posn+100]\n",
    "os = {}\n",
    "for i, rev in enumerate(ob):\n",
    "    print i\n",
    "    biz = db.query(b.Business).filter(b.Business.name==unicode(rev[3])).first()\n",
    "    if not biz: continue\n",
    "    os[biz.id] = [ (r.created, r.text, transform_doc(result['cv'], result['model'], r.text)) for r in biz.reviews ]"
   ]
  },
  {
   "cell_type": "code",
   "execution_count": 683,
   "metadata": {
    "collapsed": false
   },
   "outputs": [
    {
     "name": "stdout",
     "output_type": "stream",
     "text": [
      "21579\n"
     ]
    }
   ],
   "source": [
    "# number of reviews for these businesses\n",
    "print len([ t[2] for r in os.values() for t in r])"
   ]
  },
  {
   "cell_type": "code",
   "execution_count": null,
   "metadata": {
    "collapsed": true
   },
   "outputs": [],
   "source": [
    "# # lets look\n",
    "# etas = [t[2][0,1] for a in os.values() for t in a]\n",
    "# texts = [t[1] for a in os.values() for t in a]"
   ]
  },
  {
   "cell_type": "code",
   "execution_count": 583,
   "metadata": {
    "collapsed": false
   },
   "outputs": [],
   "source": [
    "# fig, ax = plt.subplots(1,1, figsize=(9,6))\n",
    "# ax.plot(x, 1-empgam.cdf(x))\n",
    "# #weights = np.ones_like(gvals)/len(gvals)\n",
    "# #ax.hist(gvals, 100, alpha=.5, weights=weights)\n",
    "# ax.hist(etas, 100, weights = np.ones_like(etas)/len(etas), alpha=.3)\n",
    "# ax.set_ylim((0,.1))\n",
    "# ax.set_xlim((0,.5))"
   ]
  },
  {
   "cell_type": "code",
   "execution_count": 586,
   "metadata": {
    "collapsed": true
   },
   "outputs": [],
   "source": [
    "# create the timedelta for creating windows\n",
    "import datetime\n",
    "# delta = datetime.timedelta(30) # two months\n",
    "# delta = datetime.timedelta(15) # one month\n",
    "delta = datetime.timedelta(7) # two week\n",
    "# delta = datetime.timedelta(4) # one week"
   ]
  },
  {
   "cell_type": "code",
   "execution_count": 684,
   "metadata": {
    "collapsed": true
   },
   "outputs": [],
   "source": [
    "# get all of the reviews which we know are labeled as a list for convenience\n",
    "knowns = [ unicode(r[0], 'utf-8') for r in ob]"
   ]
  },
  {
   "cell_type": "code",
   "execution_count": 685,
   "metadata": {
    "collapsed": false
   },
   "outputs": [],
   "source": [
    "# probs = [empgam.cdf(eta) for eta in etas]\n",
    "# oldc =0\n",
    "# for e,t in sorted(zip(probs, texts), key=lambda x:x[0], reverse=True)[:100]:\n",
    "#     if t in knowns: \n",
    "#         new=False\n",
    "#         oldc +=1\n",
    "#     else: new=True\n",
    "# #     print \"%r, %r: %r\"% (new, e,t)\n",
    "# #     print"
   ]
  },
  {
   "cell_type": "code",
   "execution_count": 686,
   "metadata": {
    "collapsed": false
   },
   "outputs": [],
   "source": [
    "# get dict of biz names for display purposes\n",
    "biz_names = {}\n",
    "for bid in ts.keys():\n",
    "    try:\n",
    "        biz = db.query(b.Business).filter(b.Business.id==bid).first()  \n",
    "        biz_names[bid] = biz.name\n",
    "    except:\n",
    "        biz_names[bid] = u\"UNKNOWN\"\n",
    "\n",
    "for bid in os.keys():\n",
    "    try:\n",
    "        biz = db.query(b.Business).filter(b.Business.id==bid).first()  \n",
    "        biz_names[bid] = biz.name\n",
    "    except:\n",
    "        biz_names[bid] = u\"UNKNOWN\"\n",
    "        "
   ]
  },
  {
   "cell_type": "code",
   "execution_count": 687,
   "metadata": {
    "collapsed": true
   },
   "outputs": [],
   "source": [
    "outbreaks = []\n",
    "windows = []"
   ]
  },
  {
   "cell_type": "code",
   "execution_count": 688,
   "metadata": {
    "collapsed": false
   },
   "outputs": [],
   "source": [
    "# get all windows associated with a business that had a labeled food poisoning review\n",
    "for o in os.items():\n",
    "    for datum in o[1]:\n",
    "        revs = [ item for item in o[1] if (item[0] > (datum[0]-delta)) and (item[0] < (datum[0]+delta)) ]\n",
    "        window_d = [r[0] for r in revs ]\n",
    "        window_t = [r[1] for r in revs ]\n",
    "        window_eta =[r[2][0,1] for r in revs]\n",
    "        if datum[1] in knowns: outbreak=True\n",
    "        else: outbreak=False\n",
    "        dic = {'biz': o[0],\n",
    "               'bname': biz_names[o[0]],\n",
    "               'window_d':window_d,\n",
    "               'window_t': window_t,\n",
    "               'window_eta':window_eta,\n",
    "               'outbreak': outbreak}\n",
    "        outbreaks.append(dic)"
   ]
  },
  {
   "cell_type": "code",
   "execution_count": 689,
   "metadata": {
    "collapsed": true
   },
   "outputs": [],
   "source": [
    "# do the same for the unlabeled random sample of restaurants\n",
    "for o in ts.items():\n",
    "    for datum in o[1]:\n",
    "        revs = [ item for item in o[1] if (item[0] > (datum[0]-delta)) and (item[0] < (datum[0]+delta)) ]\n",
    "        window_d = [r[0] for r in revs ]\n",
    "        window_t = [r[1] for r in revs ]\n",
    "        window_eta =[r[2][0,1] for r in revs]\n",
    "        if datum[1] in knowns: outbreak=True\n",
    "        else: outbreak=False\n",
    "        dic = {'biz': o[0],\n",
    "               'bname': biz_names[o[0]],\n",
    "               'window_d':window_d,\n",
    "               'window_t': window_t,\n",
    "               'window_eta':window_eta,\n",
    "               'outbreak': outbreak}\n",
    "        windows.append(dic)"
   ]
  },
  {
   "cell_type": "code",
   "execution_count": 690,
   "metadata": {
    "collapsed": false
   },
   "outputs": [
    {
     "name": "stdout",
     "output_type": "stream",
     "text": [
      "21579\n",
      "10178\n"
     ]
    }
   ],
   "source": [
    "#number of windows\n",
    "print len(outbreaks)\n",
    "print len(windows)"
   ]
  },
  {
   "cell_type": "code",
   "execution_count": 691,
   "metadata": {
    "collapsed": false
   },
   "outputs": [
    {
     "name": "stdout",
     "output_type": "stream",
     "text": [
      "6.0\n",
      "6.0\n"
     ]
    }
   ],
   "source": [
    "# avg number of docs in each window type (hopefully are similar)\n",
    "print sum([len(w) for w in outbreaks])/float(len(outbreaks))\n",
    "print sum([len(w) for w in windows])/float(len(windows))"
   ]
  },
  {
   "cell_type": "code",
   "execution_count": 742,
   "metadata": {
    "collapsed": false,
    "scrolled": true
   },
   "outputs": [],
   "source": [
    "# compute the window outbreak scores\n",
    "for w in outbreaks:\n",
    "    n = len(w['window_eta'])\n",
    "    s = np.sum(np.array(w['window_eta']))\n",
    "    gam = st.gamma(n*ahat, scale=1./bhat)\n",
    "    score = gam.cdf(s)\n",
    "#     print n, s, score\n",
    "#     for date, eta,  t in sorted(zip(w['window_d'],w['window_eta'], w['window_t']), key=lambda x:x[0]):\n",
    "#         print \"%r, %0.3f, %r\" % (date.strftime(\"%m-%d-%y\"), eta, t)\n",
    "#         print\n",
    "#     print\n",
    "#     print\n",
    "    w['outbreak_score'] = score\n",
    "    w['outbreak_s'] = s"
   ]
  },
  {
   "cell_type": "code",
   "execution_count": 743,
   "metadata": {
    "collapsed": false
   },
   "outputs": [],
   "source": [
    "# do the same for the unlabeled windows\n",
    "for w in windows:\n",
    "    n = len(w['window_eta'])\n",
    "    s = np.sum(np.array(w['window_eta']))\n",
    "    gam = st.gamma(n*ahat, scale=1./bhat)\n",
    "    score = gam.cdf(s)\n",
    "    #print n, s, score\n",
    "    #for date, eta,  t in sorted(zip(w['window_d'],w['window_eta'], w['window_t']), key=lambda x:x[0]):\n",
    "        #print \"%r, %0.3f, %r\" % (date.strftime(\"%m-%d-%y\"), eta, t)\n",
    "        #print\n",
    "    #print\n",
    "    #print\n",
    "    w['outbreak_score'] = score\n",
    "    w['outbreak_s'] = s"
   ]
  },
  {
   "cell_type": "code",
   "execution_count": 745,
   "metadata": {
    "collapsed": false
   },
   "outputs": [],
   "source": [
    "# compute the average outbreak score\n",
    "w_scores = [ w['outbreak_score'] for w in windows]\n",
    "o_scores = [ w['outbreak_score'] for w in outbreaks]\n",
    "w_avg_score = np.sum(np.array(w_scores))/len(w_scores)\n",
    "o_avg_score = np.sum(np.array(o_scores))/len(o_scores)"
   ]
  },
  {
   "cell_type": "code",
   "execution_count": 750,
   "metadata": {
    "collapsed": false,
    "scrolled": false
   },
   "outputs": [
    {
     "data": {
      "text/plain": [
       "<matplotlib.lines.Line2D at 0x13093a810>"
      ]
     },
     "execution_count": 750,
     "metadata": {},
     "output_type": "execute_result"
    },
    {
     "data": {
      "image/png": "[encoded data removed]",
      "text/plain": [
       "<matplotlib.figure.Figure at 0x130823fd0>"
      ]
     },
     "metadata": {},
     "output_type": "display_data"
    }
   ],
   "source": [
    "fig, (ax0, ax1) = plt.subplots(1,2, figsize=(12,6), sharey=True)\n",
    "# plot how these scores look\n",
    "weights = np.ones_like(w_scores)/len(w_scores)\n",
    "# plt.plot(x, empgam.cdf(x))\n",
    "ax0.hist(w_scores, 500, weights=weights)\n",
    "ax0.axvline(x=w_avg_score)\n",
    "\n",
    "oweights = np.ones_like(o_scores)/len(o_scores)\n",
    "ax1.hist(o_scores, 500, weights=oweights)\n",
    "ax1.axvline(x=o_avg_score)"
   ]
  },
  {
   "cell_type": "code",
   "execution_count": 739,
   "metadata": {
    "collapsed": false
   },
   "outputs": [],
   "source": [
    "# let's look at our top predictions\n",
    "tops = sorted(windows, key=lambda x:x['outbreak_score'], reverse=True)"
   ]
  },
  {
   "cell_type": "code",
   "execution_count": 740,
   "metadata": {
    "collapsed": true
   },
   "outputs": [],
   "source": [
    "top = []\n",
    "unique = []\n",
    "for w in tops:\n",
    "    if not w['bname'] in unique:\n",
    "        top.append(w)\n",
    "        unique.append(w['bname'])\n",
    "        "
   ]
  },
  {
   "cell_type": "code",
   "execution_count": 741,
   "metadata": {
    "collapsed": false,
    "scrolled": true
   },
   "outputs": [
    {
     "name": "stdout",
     "output_type": "stream",
     "text": [
      "Biz: u'Kun Jip', Score: 1.000\n",
      "'08-05-14', 0.754, u'Do not get the Yook Hye Jang here....I got really bad food poisoning the other day and am still recovering.'\n",
      "\n",
      "'08-05-14', 0.001, u'This place is absolute crap. It doesn\\'t deserve a star because it\\'s the definition if being conned in Korea town, but that\\'s not even an option on yelp. Please don\\'t be fooled by the lines. People go here because they seem to think bad quality and rude lacking service is somehow the cool equivalent of roughing it as though you were really in Korea- as though that makes it \"authentic.\" After walking down the K-town row of restaurants I wanted to be a little adventurous and try a new place. I came here for Korean BBQ because it was crowded and seemed busy. Upon entering they pushed us to the back by the bathrooms. It was weird. They took our orders as we were on the line at the back of the restaurant. The manager with her little headset kept telling me to move up on the line not realizing I would be blocking the bathroom for the people who were trying to get by me every couple seconds. You\\'d think if this \\'back of the restaurant line\\' is a regular practice she\\'d know that whoever is standing there needs to leave room for people who have to do their business to pass. Being pushed around by management bad sign #1. From there I was looking at the food people around me were eating as I was on the line and it didn\\'t look so hot. I had a bad vibe and wanted to leave with my friend,but alas we were STUCK. In forced haste by the headset lady, our orders had already been placed. They ask you to order while you\\'re on the back of the restaurant line, so you don\\'t even really get a chance to figure out what you want. So after a ridiculous 30 minute wait in this loud, stinky, crowded to the hilt small restaurant, we were led to our tables. I had ordered traditional beef BBQ. I can genuinely say it was the blandest lowest quality I have ever had the misfortune to pay 35 bucks for. No marinade could save the low quality of this beef. They cooked it on a portable BBQ which looked like it was from the 80s. The waiter was centimeters away from spilling hot grease on my friends foot. Looked down smiled and didn\\'t even clean it up. I wanted to literally get up and leave without paying for the crap we were given. The little Korean appetizers were such a small amount and so lacking in flavor, my friend was laughing from how absolutely horrible everything was and from the look of anger and disappointment on my face. A woman next to me ordered bibimbap that was obviously cold and had been sitting out for a long time. She asked the waiter for a new one. He kept insisting on getting her a new egg. She kept explaining she wanted a NEW one, but he kept pretending to not understand with what seemed like fear for his life. Btw I got a strong feeling that this place doesn\\'t follow labor laws. Anyways, time comes for the check. I honestly had crap service and truly it was the worst meal of my life so I didn\\'t want to give a tip. My friend insisted we should give SOMETHING. Collectively we gave 3 of the supposedly expected 5. The male manager comes up to us and says intimidatingly that the tip is 5 dollars. I tell him tip is optional and that I wasn\\'t happy with service. He takes our receipt goes to the front desk  and literally whacks the receipt to the ground in a fit of rage showing us the door. We happily walk out of that shithole for truly that is what it is.'\n",
      "\n",
      "'08-05-14', 0.003, u\"This place is great, the food is good and it is open 24h!\\nI'm happy I went there before seeing its yelp review because I might not have gone there.\\nIt's pretty crowded so you might have to wait to get seated but even in line they take your order so when you finally get your table, the food comes out right away!\"\n",
      "\n",
      "'08-06-14', 0.002, u'I have been coming to this place for over the past 10 years, it has always been a part of my New York experience. It has always been a busy place, trying to accommodate to the rush and high demand of their customers. In the past, their food was what made it worth the wait, but it is no longer worth considering.\\n\\nAlmost every single time I\\'ve been there the experience kicks off by being forced to stand in a line against the wall by the entrance. The line is formed by the exit so you can imagine the congestion and lack of space already. This is phase one. There is a huge traffic jam of people are trying to leave, staff is running around, and people waiting to be seated. Phase two: while I am waiting I am handed a menu and constantly badgered to make a decision so that they can put my order in and have my food ready by the time someone else leaves and a table moves up. Phase three: I am led to the back corner by the bathrooms and forced to hover awkwardly over other customers eating. In order to accommodate to the demand and the high volume of customers, they have taken tables and put a little divider over it in order to serve as many people as possible.\\n\\nFinally after much confusion and waiting, I am seated at my table. My food comes out almost immediately. I order SoonDooBu (seafood tofu) for lunch special. It cannot be considered a \"seafood\" tofu when you are only given one clam and one shrimp in it. The soup base was poorly made, there was a ton of MSG, the vegetables in it were overcooked (the squash was disintegrating). It\\'s almost as if it was just sitting on heat for a long time. My rice was dry. They no longer give service (steamed egg normally). The only redeeming quality of my lunch was the boricha and only because it\\'s not even possible to mess it up. Over the past 10 years, the prices have steadily risen as the quality has exponentially gone down. It is not worth the money for the small portions they give. Over $20 for Korean BBQ? You\\'re so much better off going to H-Mart and grabbing a pack of meat and cooking it yourself. Also, there is definitely something suspicious about the taste of the food...almost like it came from one of those instant packages because my stomach was not happy after that. To wrap up my fine lunch time, the waitress brings me my check before I am even done, a subtle but clear warning that your time is up and you need to leave.\\n\\nThey\\'re currently building a new location across the street so that will definitely eliminate the chaos but who knows if the food will be able to redeem itself. \\n\\nTL;DR: The food, the space, and the atmosphere all suck. Save your money because it is NOT worth the price or the wait or the chaos.'\n",
      "\n",
      "'08-06-14', 0.005, u\"Came here on a Wednesday night. The wait was abt 20 minutes. Very crowded tiny restaurant. Don't come here if u are trying to relax. A waitress in a hurry takes your order while you wait next to a bathroom. Oh well...Much too noisy for any type of civil conversation. The food was so so at best. If u order a lot you will have to finish some before there's room for your other dishes. Overall I don't recommend it. But I guess it's not hugely disappointing to put it politely.\"\n",
      "\n",
      "'08-08-14', 0.003, u\"i am so outraged!!!! this is going to be the most nastiest review ever!!!! i hate this f***ing restaurant after this....i don't care if food is good, people especially the so called manager \\n\\ni had the worst kunjip experience just happened to me now!\\n\\ni take time out of my work to go get take-out food at this restaurant in the morning/afternoon. i ordered vegetable jap-chae (or however you spell it) and they gave me meat jap-chae. so i call them and the guy picks up (who is the most rude manager everrr!!!! would not give me his name. does nottttt try to solve any problem!!) he wouldn't even refund my money back!!!\\n\\nhe makes me talk to this other korean english dummy women, who doesn't understand shit and then she gave the phone back to the manager, making things worsee!!!! \\n\\nended: after half hour wasting both our times, and him trying to not give my money back or deliver my correct meal, he wanted me to come back there. i work no to far from them, i cannot just leave my office whnever!!!\\n\\nkunjip manager and customer wayyyyyy below par!!!!! y'all should to other good korean places!!! my best advice!!!!\\n\\nnow i'm going to go get food somewhere else!!!! never going back again!!!!!\"\n",
      "\n",
      "'08-10-14', 0.001, u\"I pretty much follow a binary code in Korean restaurants - Bibimbap or BBQ. This time after FINALLY getting through the line here (have tried twice before without success) I decided to be adventurous and went for the seafood tofu soup. The broth was delicious and had an ample amount of seafood and tofu. I think the tofu could be better, and it was store bought for sure. I have had tofu at Korean places in Toronto where they make their own tofu and believe me there is a difference. They do have great kimchi and other starters and in good portions too which I really appreciated.\\nMy friend got the seafood pancake, which was good but way too oily for my taste. Next time \\nThe whole place is an experience, squashed against the wall and ordering while waiting in line for the table definitely brought back memories of trips to Asia.  food looked freshly prepared. \\nGoing back? For sure. But sticking to Bibimbap next time :) I think it'll make this place a 5*.\"\n",
      "\n",
      "'08-10-14', 0.054, u\"My go-to for Korean food in the city for years now. 24/7, so popular for all those club-goers at 5am (guilty). \\n\\nIt's extremely packed during the dinner rush. They line you up in front of the restaurant and also through the entry walkway- it can get crazy so be prepared to wait.\\nThey also rush you out when you're done eating to get ready for the next customer. You can't really complain for them wanting to move things as quickly as possible- let's get over it people and just EAT.\\n\\nSeolungtang/naengmyun/bibimbap are my three top choices.\"\n",
      "\n",
      "'08-11-14', 0.001, u\"I usually go to the Kun Jip in Palisades Park but last weekend I was in the city and decided to give this place a try with my friends. I was surprised to see so many people eating at 4:30am. We were a party of 6 and we were seated right away at a table. I thought the prices were slightly more than the usual but I guess it's because we're in NYC. It was $16.95 for the bibimbap+jjigae combo. \\nThe more important thing was that when we ordered and asked for specific things to be left out (been sprouts/carrots/etc.) they actually did this correctly. I found myself sometimes frustrated when we order things and say someone has an allergy but they still bring the dish with those ingredients. \\nOther than that I didn't see anything spectacular about the side dishes. There were 2 types of kimchi, spinach, bean sprouts, fishcake, eggjjim(?). Just your typical side dishes. \\nWe waited for a good 10minutes for someone to bring us our check but no one did. So one of us had to get up, go to the front and get our bill. Oh yeah, they also have a min of $20 if you want to use credit cards. This kind of made it awk for us because all of us ordered the $17 and couldn't pay with our cards. \\nOverall, unless there are no other places open at 4:30am on a saturday night, I probably won't be back here again. (at least this one in NYC). I just wanted to eat and get home but everything took slightly too long.\"\n",
      "\n",
      "'08-13-14', 0.001, u\"Upon being seated, I was guessing Kunjip must be Korean term for madhouse. The place was crazy-busy on a Friday night, servers were in fast-forward mode.  However, our orders were taken promptly, food came out quicker than expected and everything was really good--we left satisfied. Prices are reasonable as well.  It wasn't a quiet, peaceful atmosphere but we could see that from the line we stood in waiting to be seated.  We'll return!\"\n",
      "\n",
      "'08-14-14', 0.009, u'Dont be fooled.. the line outside the restaurant isnt the real line. They extend the line towards the back of the room... BUT thats not my reason for the bad score. Its new york.. waiting for restaurants shouldnt be a problem..\\n\\nWe were waiting in line for 45 minutes finally getting to our turn. When a seat finally opens up, they seat another group of the same number and they were wayyyy after us in the line. They continue to seat five groups after us. \\n\\n\\n\\nTheir food isnt that great either. Our rice was so watered down it was pretty much a rice cake (how do you screw up the rice.. if youre korean restaurant..?) and my  jjigae tasted like a msg broth.\\n\\nI noticed that most of the customers are not korean.. and a lot maybe trying korean food for the first time.. which gives me a bad feeling because i dont want people who would be trying korean food for the first time to come here.... this place is a bad representation of korean food and korean service-- overall a bad rep for our culture.'\n",
      "\n",
      "'08-14-14', 0.008, u\"The service here pretty sucks and its not the first time. All 2 stars given to the foods I love to come here for Budae Chigae, the soup was delicious. But the problem is .. I was eating not even half of it, and they put the check on the table, So I asked staff to wrap up for me and pay the bill. Once I sign the bill they took it and say thank you and bring in another customer to my seat immediately. I was still waiting for my food to come back. \\nI'm not over exaggerating. I totally understand the business they gonna need to turn the table as much as they can. But I'm the customer here paying for the food and plus 20% tips, I just want some peace. Can't you just wait till I finish my dishes? \\nGoodbye forever.\"\n",
      "\n",
      "'08-16-14', 0.003, u\"The WORST experience ever in a restaurant.  They give you the bill before finishing, Managers are super rude, food is OK... but the worst service ever.  Don't waste your time.  There are better serviced Korean restaurants in K-Town with better food.\"\n",
      "\n",
      "\n",
      "\n",
      "Biz: u'SriPraPhai Thai Restaurant', Score: 0.996\n",
      "'11-15-13', 0.001, u\"This place was good but I don't get the hype. I mean, yeah the food is just right but...why is it so famous?  I've had thai that was just as great at other places in the area and NYC in general too. So I deducted 1 star for the hype but not for the food. You'll be happy here. It can just be crowded and a bit impossible to get a table without a long wait. I don't like anxiety along with my meal so I'll continue going to the lesser known but just as great Thai places nearby.\"\n",
      "\n",
      "'11-19-13', 0.002, u'Great Thai food!! The food is authentic and taste amazing! This place can get packed on weekends but it moves pretty quickly definitely the best Thai in queens'\n",
      "\n",
      "'11-21-13', 0.137, u\"Love the raw shrimp! But make sure your body can handle them or else you will end up on the toilet for the rest of the night. Lol. \\nTheir Tom yum was the best I've had in nyc and as good as the ones I had in Thailand.   Tom Yummmm... indeed!\"\n",
      "\n",
      "'11-22-13', 0.001, u\"The best Thai food in NYC.  I've been to both locations and they are the same.  I usually order a duck dish (roasted duck, duck salad, or noodles) from here and they have all been delish.  I've also tried the papaya salad, chicken and ginger, soft shell crab app, and fish cakes.  I have no complaints with the food.\"\n",
      "\n",
      "'11-23-13', 0.370, u'We had a very rude and unprofessional waitress. We let her know about that and she probably poisoned our food. When we got home, my son threw up, my husband and I had to run to the bathroom right away. We are thinking of filing a complaint with the Department of Health for an investigation.\\nWe will never come there again.'\n",
      "\n",
      "'11-24-13', 0.000, u\"4.5 stars. This place is solid! I made the trek to Queens a few weeks ago to try the famous SriPraPhai. Among the 4 of us in the group, we pretty much ordered one of every kind of dish on the menu: papaya salad, Tom Yum soup, panang curry, pad khee mao, and crispy pork belly. Everything was delicious! We asked for medium spicy, but next time I go, I'll definitely try some things Thai spicy. I highly recommend it!\\n\\nNote: cash only.\\n\\n-L.\"\n",
      "\n",
      "'11-25-13', 0.001, u\"The food here is so so.  The service...  horrbile!!!\\n\\nWe tried the tom yum soup, we were not impressed... too much water and not enough flavor.\\n\\nThe fried fish was okay (but not great), looks like it was a bit undercooked.  And the sauce that they put on the fish with too much water, makes the fish skin soggy.\\n\\nThe stir fried vegetable taste like stir fried vegetable from a take out restaurant.\\n\\nOverall, I wouldn't say the food was great.\\n\\nAnyway, the thing that makes this place the worse place to go spend the evening is the service.  The waitresses are un-trained, bad attitude, and bad manners.  They are very busy so don't ask them any question about anything, else they would give you this nasty attitude and throw insults at you.  \\n\\nAnd don't bother making any complaint to the owner, as she is the only one manning the cash register (too busy collecting the money), and has no time to hear your complaints about her workers.  \\n\\nAll together, it makes it a bad evening!!\"\n",
      "\n",
      "\n",
      "\n",
      "Biz: u'A A JING', Score: 0.996\n",
      "'12-05-14', 0.434, u\"I don't normally write bad reviews but I got the worst case of food poisoning from the General Tsos chicken/Lo Mein. I ate it two days ago and I'm still suffering.\"\n",
      "\n",
      "\n",
      "\n",
      "Biz: u'Think Coffee', Score: 0.992\n",
      "'07-07-12', 0.000, u\"Packed with a bunch of college/ hipster like peeps who are trying to avoid good old Starbucks, as they are too hip for that. This place is quite packed when it comes to finding a place to sit. It's huge, dont get me wrong, but I just don't get why people love the vibe here so much. \\n\\nCoffee isn't the greatest, waiters are slightly obnoxious, and Think Coffee isn't exactly the 'quiet coffee house' around the corner. There are outlets for those who are looking to type up your next novels here. Overall, meh, no wifi? intense noise level? no offense but I'd rather go to Starbucks.\"\n",
      "\n",
      "'07-09-12', 0.391, u'Note: a manager contacted me the next day and assured that they had contacted an exterminator immediately to investigate the situation and remedy if necessary.'\n",
      "\n",
      "\n",
      "\n",
      "Biz: u\"Bobby Van's Steakhouse\", Score: 0.986\n",
      "'04-25-15', 0.340, u'This place made me ill. I had bad spinach and spent my first 3 days in Barcelona confined to my hotel room expelling it from my body out both ends. Avoid eating here at all costs.  I plan to stop in on my return flight and ask for a refund of my meal.'\n",
      "\n",
      "\n",
      "\n",
      "Biz: u'Annadale Terrace', Score: 0.980\n",
      "'05-23-15', 0.310, u'Update: My wife and I received a gift certificate to this place recently.  Against our better judgment, we used it to get two salads for lunch.  An hour later, we were both suffering stomach pains and running for the toilet.  AVOID this place.  Something is critically wrong.'\n",
      "\n",
      "\n",
      "\n",
      "Biz: u'Crab Spot Restaurant', Score: 0.955\n",
      "'09-16-15', 0.249, u\"I had high expectations for this restaurant the name alone grabbed my attention. Being a crab lover my Sister found this spot to celebrate my birthday. For Starters the soup had to be sent back because it was cold. My Sister In law that loves calamari ate two to three pieces and covered it, not a good sign because she will make good calamari her meal and then some. Let's not forget the fly that was hovering over our food. The lobster we received tasted as if it was boiled no taste at all. The saut\\xe9ed spinach was frozen couldn't eat them. To top it off I got home feeling ill had to drink a cleansing tea to relieve the nausea. spoke with my Sister the next morning only to learn she had a bad night of stomach issues. Will not recommend nor eat there again!\\nGave the one star because The waiter was friendly\"\n",
      "\n",
      "\n",
      "\n",
      "Biz: u\"Freda's Caribbean & Soul Cuisine\", Score: 0.915\n",
      "'02-23-11', 0.199, u'\"What is that smell...?\"\\n\\n\\nThe food here is decent. The service is pathetic. Myself and a group of ladies decided to try this place for lunch last week. Big Mistake!! The service was pathetic. The casheir was very rude and unapologetic. Our order took FOREVER to come out. When our food finally arrived it was extremely greasy and the roti was burnt! As we were leaving we noticed a putrid odor eminating from a door which led to the basement. This led me to wonder where the letter grade was that is supposed to be posted in the window. My friend decided to investigate further. Here is what she found: \\n\\nViolations from 01/25/2011 Inspection \\nTip! \"Critical\" violations are displayed in red. \\n  \\nViolation points: 15\\n\\n\\nViolations were cited in the following area(s).\\n\\n\\nSanitary Violations\\n1) Filth flies or food/refuse/sewage-associated (FRSA) flies present in facility\\'s food and/or non-food areas. Filth flies include house flies, little house flies, blow flies, bottle flies and flesh flies. Food/refuse/sewage-associated flies include fruit flies, drain flies and Phorid flies. (Gross!!)\\n\\n2) Facility not vermin proof. Harborage or conditions conducive to attracting vermin to the premises and/or allowing vermin to exist. (Yikes!!)\\n\\n3) Food contact surface not properly maintained.\\n\\n4) Non-food contact surface improperly constructed. Unacceptable material used. Non-food contact surface or equipment improperly maintained and/or not properly sealed, raised, spaced or movable to allow accessibility for cleaning on all sides, above and underneath the unit.\\n\\nAdministrative Violations\\n1) Current valid permit, registration or other authorization to operate establishment not available.\\n\\nI think it\\'s safe to say that I will NEVER eat at this place again!!! Yikes! \\n\\n**EAT AT YOUR OWN RISK**'\n",
      "\n",
      "\n",
      "\n",
      "Biz: u'One If By Land Two If By Sea', Score: 0.913\n",
      "'02-17-10', 0.014, u\"I went here for restaurant week with my husband and our two friends. The place is so pretentious and stuffy that its humorous. The chef presented us with an amuse bouche of pureed cauliflower soup.  The waiter somehow assumed that we wouldn't know what to do with soup in a cup so he told us exactly how to drink it - which of course we knew how to do already, lol.  The food was above average but not that great. The bread was stale. The fois gras was good but really cold and hard.  The beet salad (which my husband ordered) was excellent.  The fish was good but not amazing.  Same with the steak.  The creme brulee was okay - I've had better.  But the chocolate dessert was wonderful.  The dishes weren't bad. They were just unimaginative.  If you want to go to a pretentious restaurant with amazing food, try JoJos.\"\n",
      "\n",
      "'02-18-10', 0.073, u\"This place is romantic like getting engaged on top of the Eiffel Tower is romantic. Heavy-handed, uncreative and a little dark. And so OBVIOUS. \\n\\nWhile I appreciate the live piano and the candlelight, the food doesn't quite live up to expectations. The wine list is great, which is good because you need it to get through the cloying atmosphere. \\n\\nThe one thing that threw me off the most was the chicken entree. it was some sort of roulade, and did NOT work. We got it out the first time and it was clearly underdone--the chicken was still pink (which was not super easy to see in the terribly dark dining room). So we sent it back, wanting to avoid food poisoning for the evening. Then we received another one, conspicuously only 5 minutes after the one we sent back. 95% sure they just stuck the same undercooked bird in, didn't even cook it all the way again, and threw it back. The waitress was pretty rude at this point, which caused us just to share one entree and get the heck outta there.\\n\\nif you are looking for a nice place to bring your date, there are about 200 better choices.\"\n",
      "\n",
      "'02-19-10', 0.026, u'I came here with my boyfriend for Restaurant Week and was truly impressed. It has a great ambiance, excellent service and amazing food. The restaurant is dimly lit and has a piano player on site. It looks like an old castle inside with old oil paintings on the wall. \\n\\nFor all the food we got, I love every single dish from the tangerine salad, red snapper to my citrus creme brulee. They also gave us a sample cauliflower soup on the house and it was delish!'\n",
      "\n",
      "'02-21-10', 0.001, u\"Candle light dinner with vintage chandeliers and decor make for a romantic date restaurant. \\n\\nBut also a great environment for a business dinner or such, specially if corporate is paying because it is pricey. They have a couple prix fix menus to choose from which are: $78, $105 or lucky for me when I went the $35 extended restaurant week menu.(until end of Feb.) \\n\\nAfter we ordered they brought out an apple walnut paprika soup... After hearing the food runner announce the name just like you I thought to myself WTH? kind of combination is that? But to my pleasant surprise the Aroma of the soup was like a well diversified bouquet of flowers. So I reached for my spoon to mellow my curiosity but then I realized that I didn't have one. Then my girlfriend and I looked at each other pondering about this mysterious cup and just as I was about to ask the waiter for a spoon I remembered reading a yelp review that talked about drinking the soup straight from the cup. Lets just say...That was the best soup I have ever had... It was like a collage of vibrant flavors. \\n\\nThen I continued to have the Duck Terrine which was OK considering I'm not a big fan of pattes. The Grilled Bavette Steak was my choice for main course which was good but nothing extra ordinary. \\n\\nTo finish off our palate I had the creme brulee and my girlfriend the Chocolate Fondant Cake..... Chocolate Fondant Cake all the way!!! It was so rich, creamy and yet the cake was airy. Coming out nice and hot you can not go wrong. \\n\\nOverall a great experience set the ambiance and completed with the food and service.\"\n",
      "\n",
      "'02-22-10', 0.011, u'My boyfriend and I went here for dinner couple of nights ago and wow, we were really dissapointed.  The food was blah and the waiters were extremely rude. Will not be coming back to this place.'\n",
      "\n",
      "'02-23-10', 0.119, u'Well I\\'m going to say this restaurant is truly an romantic spot for couples.  Vintage chandeliers and the decor inside is perfect for couples.  Well since it was my day off I was hanging around wall st and running around the subway until I got a text from my friend.  \"Come eat at the restaurant.\"\\n\\nTo make a long story short.  I got the chef\\'s tasting menu with wine.  Everything was phenomenal but, I thought the courses were to heavy for my stomach.  The wine cut down a remarkable amount of denseness but left the place feeling a little sick.  I would definitely try the tasting menu again but limit myself in what I eat.\\n\\nHis name is Kirk and he is the best waiter you can image!!! So request for Kirk when you go eat... He\\'s extremely knowledgeable about wine and food.'\n",
      "\n",
      "\n",
      "\n",
      "Biz: u\"Jin's Big Apple\", Score: 0.904\n",
      "'10-30-12', 0.190, u'Gritty & Open 24 hours'\n",
      "\n",
      "\n",
      "\n",
      "Biz: u'Arepas Cafe', Score: 0.902\n",
      "'12-05-14', 0.004, u'This place does not make a bad dish! Order anything, no really anything, everything is delicious!'\n",
      "\n",
      "'12-06-14', 0.205, u'The new staff is super friendly, the food has always been good no issues to report. The mami arepa  is my favorite.'\n",
      "\n",
      "'12-06-14', 0.003, u'Great food and great service :) very authentic Venezuelan food. Never tried it or heard about it before. It was absolutely delicious!!!'\n",
      "\n",
      "'12-09-14', 0.004, u'Love, love, love this place!  My boyfriend and I come here at least once every other week - or order in!  The service is great, waiters are nice, food is excellent.  Great atmosphere for a chill dinner.  I tell everyone I know about the food!'\n",
      "\n",
      "\n",
      "\n",
      "Biz: u'Cinema Brasserie', Score: 0.902\n",
      "'10-12-14', 0.195, u'As of oct 2014, brasserie not open for business. Sign on door says closed for remodel thru aug 2014, but still no signs of life.'\n",
      "\n",
      "'10-16-14', 0.002, u'I have been here twice on a weekend and it is a GREAT place. The bar tender is awesome and the lamb burgers were awesome, Happy hour is also great. It has been closed for renovations. I am hoping that it opens soon!!'\n",
      "\n",
      "\n",
      "\n",
      "Biz: u'Gristedes', Score: 0.876\n",
      "'12-09-10', 0.169, u'The Good:\\n\\nOpen 24 hours\\n\\nThe BAD:\\n\\nAwful produce\\nAwful meat\\nAwful selection\\nEXTREME prices, even for NYC. \\n\\nThis place is awful, I never come here for anything unless its an emergency, and even when I do that, I wish i had gone anywhere else. This place is the ultimate suck.'\n",
      "\n",
      "\n",
      "\n",
      "Biz: u\"Zabar's\", Score: 0.872\n",
      "'08-16-13', 0.174, u'The best of everything Jewish food has to offer.  Go here and just eat until you are sick.  Go to the bathroom, and then eat more.  I am remiss that I did not buy the matjes herring.\\n\\nI have only one complaint.  I didn\\'t like that the \"restaurant\" doesn\\'t make your sandwich fresh.  It\\'s made in the back somewhere, wrapped in plastic, and put out in the cooler.'\n",
      "\n",
      "'08-21-13', 0.001, u\"Although Zabar's is a NYC institution & bursting @ the seams w everything you could want, it hasn't lost its quaintness to me.\\nIt's not pretentious like Dean & Deluca. It doesn't lure you with trendy eating styles like Fairway, Trader Joes, WholeFoods or the like.\\nIt's maintained it's neighborhood feel while offering traditional & modern items for today's ever changing gastronomic desires.\\nBiggest drawback would be the crowds in droves that never seem to leave. Prepare your mind for it before you go.\\nThey slice their own Lox by hand to order & also offer corn beef style brined salmon.\\nThe cheese section is fantastic & the staff is patient, accommodating & enthusiastic about sharing!\\nExcellent bagles & flavors of cream cheese. \\nTheir coffee tends to be bitter & strong.\\nBroad variety of chocolates, honey, jams, etc.\\nPrepared foods, full deli, produce, traditional Jewish food items, & bakery.\\nZabar's is unique & wonderful & speaks to the hungry heart.\"\n",
      "\n",
      "\n",
      "\n",
      "Biz: u'Ange Noir cafe', Score: 0.863\n",
      "'03-16-14', 0.162, u'While I thought this place would be a good breakfast spot when there was not enough time for brunch, that was not the case. The prosciutto sandwich on a bagel gave me food poisoning quality diarrhea all day. To top it off the place typically has a bunch of flies in the summer time. I would avoid this place If possible and go to one of the other restaurants in the area.'\n",
      "\n",
      "\n",
      "\n",
      "Biz: u'Torigo Japanese Restaurant', Score: 0.842\n",
      "'08-29-13', 0.069, u\"This is my first time I can say yelpers need helpers! The place is small doesn't give off the clean feeling. At lunch it took over an hour for our food to come. Waiter def not attentive. The worst part was the food. I ordered the Fourth of July roll - stuck up tempura shrimp. Both really sucked. I really don't get how anyone can enjoy a meal here. I highly recommend sushi you in Oakland gardens 10min drive from here buy way better food and service!\"\n",
      "\n",
      "'09-01-13', 0.089, u\"This place offers delicious authentic Japanese food.  \\n\\nThe owners are Japanese.   There's a huge selection of dishes, something for everyone.  \\n\\nMy nieces liked the udon, my husband the curry, and my wasabi loving 5 year old daughter liked the sashimi very much.  \\n\\nI ate the salmon salad which was very fresh.\"\n",
      "\n",
      "\n",
      "\n",
      "Biz: u\"Applebee's\", Score: 0.831\n",
      "'07-10-13', 0.043, u\"The seats were STICKY. The table was STICKY. the food looked OLD.  Checked the pic i posted, the buffalo wings looked like its was made last friday... I'd also like to note that yelp removed my photo. However, I'm glad the department of health already contacted me regarding the matter so hopefully they are finally making FRESH FOOD.\\n \\n\\nsee below:\\nHi there,\\n\\nWe're writing to let you know that we have removed your photo of Applebee's Neighborhood Bar & Grill. Business photos and captions should be broadly representative of the business, however you're welcome to share your personal experiences in your written review. \\n\\nThanks for using Yelp! \\n\\nRegards,\\nHarris\\nYelp User Support\\nSan Francisco, California\"\n",
      "\n",
      "'07-11-13', 0.110, u\"I took my husband to this Applebees dinner today. After explaining to the hostess two times what we wanted they still did not get it right. The food was the worst I have ever had in my life. We could have done better by staying home and microwaving a pre packaged meal. I nor any of my family will ever eat at an Applebees again once the waiter finally took our order, never saw him again, except at other tables, never came back to mine. Never asked how our meal was (which was cold), never asked us for refills on our drinks. First time in my life that I didn't leave a tip.\"\n",
      "\n",
      "\n",
      "\n",
      "Biz: u'Hudson River Cafe', Score: 0.825\n",
      "'04-27-12', 0.010, u'Been here for Dinner & brunch...and dinner again...MEH. The food here is BLAND. I wanted to like it badly, but oh well.'\n",
      "\n",
      "'04-28-12', 0.100, u\"I have been coming to this restaurant since '08 and I have seen many changes. I used to LOVE this place but now the service is slow, the food portions are smaller and the flavors are lackluster. \\n\\nI just want Hudson River Cafe to return to it former glory, not this super club with a tent that is leaking and reeks from the night before.\"\n",
      "\n",
      "'04-29-12', 0.065, u'The food was pretty good. I had the Grilled Hanger Steak & Shrimp. The steak was cooked perfectly and the shrimp were nice and large. I was definitely full after eating the plate. I will most likely be visiting this place again in the near future.'\n",
      "\n",
      "'04-30-12', 0.000, u\"I was here with a big group of people for a dinner and they accommodated us in the upstairs area. It was nice because it was a cozy space for the group so we could all mingle without interrupting other guests. The wait staff was super helpful and attentive. I can't imagine it being easy to serve 25 people.\\n\\nThe dinner included sangria, appetizers for the table (chicken, shrimp, and beef skewers, bruschetta, plantain chips and guac), a choice of appetizer, choice of entree, and dessert.\\n\\nI was amazed by the amount of food for a group dinner like this. Usually, I'm used to portions are on the smaller side. But at Hudson River Cafe, everything is like a double portion. One of the appetizers too choose from was mussels, and I kid you not, they brought a metal pot the size of a person's head. All of the food were extremely tasty and cooked well.\\n\\nI can't comment on the price, so that could skew this review a bit. But in terms of food and service, Hudson River Cafe is pretty solid!\"\n",
      "\n",
      "'05-02-12', 0.001, u'I visited this place last night to celebrate my friend\\'s birthday.  Other friends and family had visited the place and had good things to say about it.  \\n\\nUpon arriving, I realized they had free valet parking.  I, however, had already parked up the street, but it is good to know that parking is available for free.  Once we were inside, I thought the place was very small.  They had plenty of \"outside seating\" even though it was under a tent-like structure, but I think that space was off-limits last night because no one was seated there.  Instead, my party of four and the rest of the patrons were seated inside in what doubles as a bar area/seating area.  For my personal taste, I like restaurants where its spacious and comfortable.\\n\\nOn to the food....  My gf ordered the Churrasco (Skirt Steak) with Yucca Fries, I ordered the Hanger Steak and Shrimp dish served with mashed potatos and veggies.  The presentation of the plates was good.  However, I was not very impressed with the taste of the food.  My gf\\'s Churrasco was surprisingly bland, but we had no salt at the table to add on to it and the Yucca fries were nothing special.  As for my plate, the steak was cut into small pieces, but was tough!!  The mashed potatos were good.\\n\\nThe service........... Ok, but not great.  My friend and his gf ordered a diet coke and a virgin pina colada and even forgot they had ordered it, but so did our waiter....  So they had to order it again......\\n\\nOn to the price......... In all, we had an appetizer, the Guacamole and Chips, which was pretty good.  We also had 4 Entrees, which were 2 Churrasco dishes, my dish and the Blackened Salmon dish I believe.  We didnt have any alcoholic beverages, just one diet coke and virgin pina colada, and 2 cups of coffee.  The bill was around $135.00 plus tip.  I thought this was a bit much, but not by much....\\n\\nI don\\'t know if I\\'m being hard on this place....  I just wasn\\'t very impressed with it all and doubt I would go back.'\n",
      "\n",
      "\n",
      "\n",
      "Biz: u'Lunchbox Brooklyn', Score: 0.823\n",
      "'06-27-14', 0.141, u\"Sandwiches on point, I'm eating one as we speak and felt I had to post a review. So good and fresh. I also got the berry smoothie, super amazing! Go here!!!\"\n",
      "\n",
      "\n",
      "\n",
      "Biz: u'Osaka', Score: 0.817\n",
      "'05-24-13', 0.139, u'Please do not eat here.  The tuna sashimi I just opened was shimmery and iridescent in color. I of course threw all the sashimi away, unfortunately I had already finished the specialty role I had ordered.  My stomach is really starting to bother me. Please do not patronize this establishment as I would hate for you to get good poisoning as well.'\n",
      "\n",
      "\n",
      "\n",
      "Biz: u'The National Bar and Dining Rooms', Score: 0.816\n",
      "'09-15-12', 0.144, u\"I'm the friend of Richard D.\\nI have to say the food - was exceptional.\\nAnd the service was really good.\\nThe ambiance great.\\nand the manager exceptional.\\nIt was the unfortunate incident with the bartender that really was unbelievable.\\nIt's funny how one thing can really stand out.\"\n",
      "\n",
      "'09-15-12', 0.001, u'I arrived early so I went to the bar. I ordered a beer, listed as $8 on the menu. The bartender said $9. I gave her  $10. She didn\\'t bring any money back. I would normally tip $1, anyway, but she didn\\'t give me the change, probably because you can\\'t get change when you don\\'t ring up the item in the cash register. So I asked her why the menu says $8 and she told me $9. She said: \"Taxes.\" I said taxes aren\\'t that much. She replied: \"We don\\'t have change.\" That\\'s ludicrous.\\nShe went to the register and entered in $8. It said $8.71. She hit cancel, and told me the taxes are 70 cents. \"If you want your 30 cents  back, I can give it to you,\" she said obnoxiously. \\nMy friend arrived, and we sat down for our  overpriced dinner. (What looks like a salad entree, based on the price, is actually an appetizer)\\nI told the manager what happened at the bar. He agreed that they \"don\\'t have change\" but said her comment about the 30 cents was rude.\\nHe later gave me a free beer. \\nThe food (duck, on special) was delicious.\\nBut the bartender left a bad taste in my mouth.\\nI wouldn\\'t go again to this overpriced restaurant with poor service.'\n",
      "\n",
      "'09-20-12', 0.010, u\"Grabbed an impromptu bite between classes with my friends at lunch hour. We were told they were fully booked, but the bar serves the full menu, so we ate at the bar, which was not bad at all.\\n\\nThe bartender was friendly enough, and helped us rush our food, since we only had 45 minutes for lunch. \\n\\nI had the National Cuban Sandwich, which came with a small frisee salad. The baguette was just the right about of crisp and the meat to the pickle ratio was well balanced. \\nMy friends had the burger, the beet salad and the salmon salad with a side of crispy brussel sprouts. All their dishes looked delicious and generous portions.\\n\\nNext time I'll make a reservation, but I kind of liked sitting at the bar.\"\n",
      "\n",
      "\n",
      "\n",
      "Biz: u'Famous Amadeus Pizza', Score: 0.815\n",
      "'08-09-09', 0.145, u'I went here today t expecting a typical slice of greasy, cheesy NY pizza after a long drunken night. It did not work out quite that way for me. It was too thick and the flavor was blend. Nothing special here but it did fill my stomach.'\n",
      "\n",
      "'08-11-09', 0.001, u\"I've never actually ordered pizza from Amadeus Pizza, it's generally my option when I can't get out from work for lunch. I love it. I wouldn't necessarily have first believed that a pizza place would come even close to having a legitimately amazing pasta dish, but my god they do.\\n\\nI stick with the penne a la vodka with grilled chicken or the penne alfredo and grilled chicken...and highly recommend both of them. At some point I'll try other items on the menu, either one of their heros, which a coworker ordered today, or their actual pizza.\\n\\nUsing seamlessweb.com or delivery.com makes it really easy for anyone to just order and about half an hour later you receive and awesome lunch. Be warned though, it's an enormous amount of food, so even though the prices are pretty low, you really get a portion it would usually take two to finish.\\n\\nI'd like to check out the location and see how much better the food could possibly get if it didn't have a wait time attached to ordering it. Hopefully I'll be around the area when I'm not busy at work soon because my lunch today (the alfredo option this time) reminded me why I love pasta dishes so much. Until then, I'll continue ordering from Amadeus Pizza and enjoying their meals, I strongly suggest you do the same.\"\n",
      "\n",
      "\n",
      "\n",
      "Biz: u'Local West', Score: 0.810\n",
      "'08-05-13', 0.005, u\"Service is pretty icky and the whole self-seating thing is great if you have a small group, but not ideal for a drop in with more than 3 pals. The roof space is nice, though the wait can be pretty long and terrible (there's a few other roof tops on the block to pick from) and the bar space is really limited. The food is decent and so is the beer selection. Crowd can be a little hodge-podge at times, but it is a quick watering hole for a drink after work.\"\n",
      "\n",
      "'08-08-13', 0.001, u'Local West is a solid choice for those passing through Midtown, or for a really nice day outside. The outdoor seating is spacious and service attentive. Local West offers your typical bar fare: wings, tenders, sandwiches and fries. A sufficient draught beer selection and your standard spirits. \\n\\nVisit Local West to watch a game with friends.'\n",
      "\n",
      "'08-08-13', 0.146, u'Came here after a long day of work; not the worst, but not the best. Very average bar.'\n",
      "\n",
      "\n",
      "\n",
      "Biz: u'El Viejo Yayo', Score: 0.788\n",
      "'08-15-12', 0.004, u'Great Spanish food.Very cheap lunch specials around $5.95.Beef stew is awesome so is baked chicken and the rice they come with.Drinks are well price  beers are 4 bucks  and really cold.Big plus is all the girls that work here got big bootys lol and they are very nice ;-)'\n",
      "\n",
      "'08-15-12', 0.009, u'Good food at a great price!'\n",
      "\n",
      "'08-18-12', 0.129, u'Quick delivery.  Good food! Little expensive but my stomach is happy!'\n",
      "\n",
      "\n",
      "\n",
      "Biz: u'Calexico Taco / Burrito Cart', Score: 0.738\n",
      "'09-16-13', 0.001, u\"Took forever (about 35 minutes because of the number of customers and the fact that there were only 3 dudes manning the cart), but the burrito itself (I ordered the Carne Asada) was pretty tasty: the meat was tender and flavorful, and the other ingredients married well with it. Not much more to say. Out of the oddly limited food (not ice cream) options in the park, this is the only one I'd revisit.\"\n",
      "\n",
      "'09-21-13', 0.039, u\"Pre-game for Brooklyn movie night.\\n\\nIt wasn't even busy and we waited 30 mins for food. \\n\\nAfter the initial frustration of waiting and waiting and waiting, we walked the food to our spot on the lawn and started to eat... it was pretty good but some other folks had some pizza and other folks had amazing looking sandwiches. So consider your options when you decide to invest half an hour waiting for this food.\"\n",
      "\n",
      "'09-22-13', 0.085, u\"Maybe I loved it b/c I loved the day I was having so much, but I think it actually made the day even better. It was already amazing, walking around the park with my boyfriend, spending our last few days in the city ,we moved :(  , and we were starving, so we chose this cart. We ate at a table in front of the water, the food was really good! The guac was great, my steak tacos were amazing, better than the burrito he had. But he said it was really good too. It was fast, fresh food, the people were nice, and not to expensive. I'd def suggest it.\"\n",
      "\n",
      "\n",
      "\n",
      "Biz: u'Knapp Pizza II', Score: 0.730\n",
      "'11-02-14', 0.108, u'Disgusted beyond belief. Never had a problem with this place and have been ordering for a few years because the selection is so extensive. Ordered dinner in tonight. Hubby got chicken parm. Unfortunately, it was raw inside. My toddlers were sharing with us and my stomach is in knots thinking about this. \\n\\nCalled them up to tell them. They refused to give credit which is fine, the guy said that people take advantage of it and end up getting a free meal. That\\'s great, however I still have raw chicken under a gallon of sauce? The guy said they would deliver it again in fifteen minutes (which if done so, delivery guy would have discovered said raw poultry awaiting him). An hour passes, another hour... call back....\\n\\nThis guy had the nerve to say \"keep it for tomorrow, heat it up so it\\'s not raw anymore\" what in the world, seriously. Can you say salmonella? Call to the health department? BBB? \\n\\nNeedless to say it wasn\\'t redelivered. \\n\\nFyi, salad gross, baked clams awful dry disgustingness. Vomit (if we don\\'t already have food poisoning.)'\n",
      "\n",
      "\n",
      "\n",
      "Biz: u'Bread & Butter', Score: 0.702\n",
      "'04-21-15', 0.107, u'Awesome food... Not very hygiene friendly... But cheap and tasty.. I have ate here a lot because of variety they offer. Busy place overall. \\n\\nVegetarians friendly :).\\n\\nFood to try:\\n\\nQuesadilla, panini are good'\n",
      "\n",
      "'04-23-15', 0.000, u'They increased their price to $8.66 for a small salad but now we have unlimited topping options. Still the best deal in town.'\n",
      "\n",
      "\n",
      "\n",
      "Biz: u'The LCL: Bar & Kitchen', Score: 0.701\n",
      "'06-21-15', 0.100, u'Side order of fries took 25 minutes, showed up cold. Also got the turkey burger which made me a little sick.\\n\\nServers are nice, but food and service itself are mediocre.'\n",
      "\n",
      "\n",
      "\n",
      "Biz: u'Hill Country Barbecue Market', Score: 0.675\n",
      "'02-10-14', 0.120, u'I LOOKED FORWARD TO DINING HERE FOR WEEKS!!! As I sit here, with food poisoning, a rumbling stomach, I have to let the public know about my experience. \\n\\nI went here for dinner with my boyfriend (I had the pork ribs, chicken, and macaroni and cheese). I have family in Nashville. Let\\'s just say, this was not the best of the best. My boyfriend said, \"I might as well have gone to Boston Market.\" I think the ribs were undercooked (definitely were because I have been throwing up for the past hour! I have severe food poisoning!) I have to say, the chicken was better than \"okay\", had a nice fire coal taste to it. The macaroni and cheese was a tad disappointing. \\n\\nEntry: Greeted by the host. He was extremely friendly, showed us to our table, welcomed us, and was really kind. \\n\\nOn line ordering the meat: Sarcastic, over-bearring people that constantly questioned a personal conversation I was having with my boyfriend. \\n\\nWaiting for our drinks: A waitress approached us and said, \"you do not have to order drinks on this line. Your waiter or waitress will come take your order, and bring them to your table for you.\" \\n\\nWe sat down and did not have ANY SERVICE. NOTHING. We had neighbors on each side, and they had the best service the entire time. It was almost as if we weren\\'t in the room (the establishment was NOT BUSY). We waited. We wanted our beers, and lemonades with our food. We never even were acknowledged. \\n\\nPaying for the check: The host was not even at the cashier. He was in the back in the kitchen having a drink (I don\\'t blame him, people need beverage breaks--but someone should have been there). He asked us how everything was, and we did not receive any service. He was apologetic, and offered us a free drink card (way to go for customer service. He did the right thing---still does not change our horrible experience). \\n\\nI was on the train, had to get off and take a cab home with my boyfriend because I was really sick. I have been in the bathroom since I have come home. I have food poisoning. I am really disappointed and I wish this did not happen. I saw the reviews, and I pass by everyday. I can\\'t believe this happened. I think everyone there means well, but they have not gotten the service down yet. What a shame.'\n",
      "\n",
      "'02-10-14', 0.000, u'Arriving at the brand-new, many thousand square Hill Country market it was clear what had been emphasized in the weeks of pre-opening training - the counter service. \\n\\nFrom the greeter to our bartender to the person cutting the meat, everyone was sure to remind us that things here were served \"counter style,\" and launched into lengthy explanations of what this meant. Part of this was opening night perfectionism, but there\\'s something downright counterintuitive\\n to this place. \\n\\nFood is ordered, but not paid in a large buffet room, with separate stations for meats, sides and desserts. Items ordered are marked off on a card to be collected by a waiter at the end of the night. Drinks always come from the waiter, but she also offered to bring us the desserts. You can sit in the bar area, where you can also get drinks from the bartender. No wonder people management thanks people need to hear the rules more than once. \\n\\nThe best thing about this place is the cavernous surroundings, which allow for a honky-tonk or bluegrass band to play upstairs while others can carry on a conversation downstairs in the bar or main dining room. Long lines here won\\'t mean waiting in sub-zero temperatures, like at the perpetually\\n overcrowded Fette Sau or Mighty Quinn\\'s.\\n\\nThere wasn\\'t much of a line at the counter, so I was able to sample most of the sides and a couple meats. The mac n\\'cheese, thick but heavy and one-note belongs in the negative card, while the refreshing Texas black-eyed caviar and crisp cucumber salad are definitely pluses. The brisket was an improvement on what I\\'d sampled at their Manhattan location and with a very solid combination of moist and lean meat.\\n\\nWith specialized and experimental barbecue places dominating the scene in Brooklyn, I welcome a larger, more organized and professional operation. Once things settle down here, this is going to be a reliable place to eat meat, do a little country dancing and eat a slice of banana cream pudding, no matter the size of your party.'\n",
      "\n",
      "'02-10-14', 0.003, u'Decent food- though its ridiculously over priced. Extremely bad service, too. Our waitress refused to separate the check and didnt get drink orders till well into the meal.'\n",
      "\n",
      "'02-13-14', 0.001, u'Food was good but a bit overpriced.\\nFriendly staff although sometimes seems a little confused. Had a good time!'\n",
      "\n",
      "'02-15-14', 0.001, u\"PIE. Their pies--banana cream, cherry, pecan--are amazing. Full disclosure: I've never had any chicken here, but I think they deserve five stars for desert alone. Also, the prices are good and the people who work there are always friendly.\"\n",
      "\n",
      "'02-15-14', 0.001, u'Food was very good but other little things were annoying. Ordered brisket, ribs, corn pudding and bean side. Brisket was good but I found to meat to be a little lean and the fatty part to be too fatty (of that makes sense). The ribs had great flavor though a little dry. Sides were good too. I found the server/ordering thing annoying. We order and pickup and the waiters hang around looking for a tip. Bathrooms upstairs were also annoying. While the space was large the area with the tables felt cramped. Overall with so many other options in Brooklyn I will probably not return but a good option if you want something on Brooklyn Heights.'\n",
      "\n",
      "\n",
      "\n",
      "Biz: u'Bar Roma', Score: 0.671\n",
      "'12-06-14', 0.097, u'Stopped by here with my wife for a drink, ended up eating a fabulous dinner. The food is right out of Italy, as is almost all the staff.  The gnocchi is to die for..... Definitely going back and so should you...'\n",
      "\n",
      "'12-12-14', 0.002, u'Good food. Attentive service. Definitely worth bookmarking and dropping in. Right around corner from 92Y for those visiting. For locals, give it a try.'\n",
      "\n",
      "\n",
      "\n",
      "Biz: u'Sun Fish Market', Score: 0.664\n",
      "'08-15-14', 0.090, u\"If I could give this 0 stars I would.\\nWe picked up a large piece of catfish for dinner, and after beginning to fry it up, noticed a foul, odd smell.  We decided to finish cooking it, and each took a nibble off the corner to see if it was edible or if that curious smell was in fact a bad fish.  There was just something off about it, a muddy, old taste, so we threw the whole steak out.  We both were up in the middle of the night with painful tummies & an uncomfortable bathroom situation just from a tiny bite.  Thank god we decided not to eat it.  Now I cannot get the foul stench out of my house that has been lingering for 2 days.  This obvi should not happen from cooking a fish! The rotten fish from this joint should make you steer clear.\\n\\n..... we did get some extra large shrimp from here as well that seemed to be fine.  But after that experience it's not worth it going back and risking it.\"\n",
      "\n",
      "\n",
      "\n",
      "Biz: u'Rose House', Score: 0.621\n",
      "'05-13-14', 0.041, u'Came here on Mother\\'s Day and decided that it was a really bad idea. We were planning to go to Nori Nori but darn it they replaced the lunch menu with an all day dinner menu. Who\\'s going to pay $40 for lunch in flushing? Not me. Well so we ventured out to the tea house down on the first floor at queens crossing. Totally regretted it.\\n\\nWe had a party of three - including a three year old child. Server decided to seat us at a-couch-seating \"booth\" near the entrance. Bad idea. I asked to be reseated because apparently my child can\\'t eat sitting on a couch. Anyway, server A was mildly displeased for reasons only she would know. Frowned upon my request to be seated at an actual TABLE because hey, we need to eat and we have a child. Anyway, our request was fulfilled despite her reluctance  \\n\\nFood-wise: nothing spectacular. Seriously, for $23, I could be enjoying something a little more decent. We ordered two lunch sets: grilled chicken and salmon. The food is edible (meaning it\\'s cooked and not a cause for health concern), but that\\'s pretty much about it. Chicken is bland and dry; Salmon is overcooked. Totally disappointed!!! \\n\\nI concur with other reviewers - if you want a space to just sit and chat for 120 minutes (yes there IS a time limit as per sign posted on door) with tea of reasonable quality that costs no less than $10 a pot, then you\\'ve found the right place. If you want an actual meal, or any kind of real food, then take my word and skip it.'\n",
      "\n",
      "'05-14-14', 0.046, u'The fruit is amazing! The environment is cozy! But the attitudes of services need to be improve. P.S. VIP room available with consuming at least $180.'\n",
      "\n",
      "\n",
      "\n",
      "Biz: u'La Palina Restaurant', Score: 0.616\n",
      "'02-18-10', 0.000, u'Well we had a bit of nasty weather in the Northeast so we postponed our Valentine\\'s Day dinner.  I didn\\'t mind because I dislike crowds and I dislike bad service even more.\\n\\nLa Palina did not disappoint.  One reviewer in 2008 complained about parking, but now they have a convenient parking lot right next door.  We walked through the door and the atmosphere is very serence, old world, and pretty with paintings in pastel.  A big burly waiter who had to be least 6\\' 7\" and looked like he just stepped out of \"Bronx Tale\" suggested that we should get comfortable at the round table.  \\n\\nThe waiter brought out a plate of garlic bread on the house and they were hot, crunchy and very garlicky.  We then had a sizeable portion of fried calamari which was more than enough for our party of four.  They were fresh, light, crisp and just perfect with the marinara sauce. This combination was the best we ever had.\\n\\nWe ordered the special for two which included filet mignon, veal cutlet francaise, and chicken scarpiello.  My husband couldn\\'t resist the eggplant parmigiana so we ordered that as well.  The filet mignon was tendor, the veal was good, but the chicken was the best.  It had flavor inside and the burnt skin took the dish a notch up.  I only wish that the sauteed spinach  was not under the veal because it became too lemony with the sauce.  The sauteed mushrooms and peppers did not have enough flavor since the flavors melded with the lemon sauce. The eggplant was very good as well with lots of cheese.\\n\\nThe kids had ordered the spaghetti and meatballs and the meatballs were the size of baseballs and smooth to the bite.  The pasta was cooked al dente.\\n\\nI would have loved to have tried their dessert, but there was simply no room!  Well, there\\'s always next time.  \\n\\nLa Palina takes Amex and there is an ATM at the restaurant.  You can\\'t beat this place on service which is certainly five stars.'\n",
      "\n",
      "'02-22-10', 0.086, u\"This place is definitely old school with some charm an very accommodating to the customers.  Their loyal patrons seem to know the staff for years and I give them points for this.  But, that said the food is unremarkable, not bad mind you just average.  Our fried calamari was like eating rubber and the other dishes shared by the four of us OK but again noting to write home about.\\n\\nParking is horrible in this area and don't bank on getting into their small lot for valet parking.  I did manage to find a spot on the street only to find pigeon dung all over my car on leaving that night.\\n\\nThe bottom line - We drove 55 miles from the Jersey shore to get there, be pooped on and eat just average food.  I had to have the car washed the following morning.  Trust me, we would never do it again.\"\n",
      "\n",
      "\n",
      "\n",
      "Biz: u'Milkflower', Score: 0.615\n",
      "'02-08-15', 0.004, u\"I went to Milkflower with a friend from work, who loves this place and told me it was the best pizza in New York. I thought it was great. We had to wait about 30 min, but it was a Saturday night and they don't take reservations, so that really wasn't bad at all. The service was great once we got to our table.\\n\\nMeatball appetizer - This is my friend's favorite, and it did not disappoint. It comes with three meatballs in a delicious tomato sauce with bread. Absolutely delicious.\\n\\nBurrata appetizer - This was a special that came with walnuts. It was extremely fresh and delicious.\\n\\nQueen pizza with sausage - This is what my friend always loves to get, and it was amazing. The crust is so good - it's soft and chewy, and the toppings were also delicious. I loved it. \\n\\nI would go back to Milkflower in a second, and would love to try more of the menu.\"\n",
      "\n",
      "'02-09-15', 0.001, u\"The food was very good. The only problem I have is that I heard they had gluten free pizza, and when we arrived, they said they don't make gluten free pizza at all.\"\n",
      "\n",
      "'02-09-15', 0.108, u'I want to marry this place.\\n\\nThe pizza is TO DIE FOR. The string bean salad started the meal off right, the Abe Froman pizza took me to the edge of glory, and the Van Dammer threw me over the edge. \\n\\nEver since this amazing experience I have been drooling in my sleep, dreaming of this meal. Dear Lord.'\n",
      "\n",
      "'02-10-15', 0.001, u\"I've had this type of 'fancy' 'wood-fired' pizza a few times now and have been kind of disappointed by it. I avoided Milkflower for while because of all the hype but now that I've been I can say for certain that it's definitely worth a visit. We walked in for a Sunday brunch and we got the Abe Froman (for the meat) and the lady got the Arugula. \\n\\nI was getting ready to not like it, with the price of the pizza being a little higher than I wanted. My tune changed quickly though when the pizza came. I imagined that the Froman-would have a scattering of meat under the guise of 'gourmet' but I was pleasantly surprised. The pizza had a good balance of sausage with the other topics and definitely not on the skimpy side of topping placement. The arugula was also a good choice which had a little bitterness and crispness of the slightly uncooked arugula and the speck provided a nice counterpoint to it.\\n\\nProbably the best 'fancy' pizza place I've been to so far.\"\n",
      "\n",
      "'02-12-15', 0.001, u\"This is my new favorite pizza shop.  My husband and I have had Milkflower 4x in the last 4 weeks (3x take out, 1x eat in), and plan on having Milkflower tomorrow.\\n\\nI think on each occasion one of us has ordered the Van Dammer because it's just that stinkin delicious. I usually gag at truffle oil, but it's used very sparingly and adds that extra note of richness that makes the pie that much more special.\\n\\nI also love the spicy soppressata (they add honey! so perfect!), the abe froman, and was completely surprised and delighted by the superfly snuka (jalapeno + pineapple, can't believe that works!)\\n\\nNot only are the toppings inventive, delicious and thoughtful, the crust is just so great.  Chewy, crisp, with just enough char... I can't rave enough about this pizza.\\n\\nWe also tried the meatball app, which was good, but I have to say the real star for me was the sauce the meatballs sit in!  I would order a bowl of just that sauce so I could scoop it up with the pizza crust from the Van Dammer. YUM.\"\n",
      "\n",
      "'02-14-15', 0.002, u\"This place is a solid 4. We went on Valentine's day during a full house and the service was a bit flawed. They just forgot some people and left them waiting and they also left us waiting for our bill too.\\n\\nThe food is pretty good. The roasted marinated peppers & burrata toasts, black olive oil, anchovy was pretty good except there wasn't enough peppers... \\nThe string beans, radicchio, orange, goat cheese, toasted walnuts, shallots is on point. It's worth every penny here. Nice, light, summery and refreshing.\\n\\nWe ordered the Abe Froman pizza... it's a cheese-less sausage pizza... it wasn't bad but there was something missing.\\n\\nDefinitely worth going to. Good vibe, good atmosphere, prices aren't bad too.\"\n",
      "\n",
      "'02-19-15', 0.001, u\"I went here on a cold thursday evening.  It was very warm inside (in a good way) and we were seated immediately by an out of work musical theater actress who was much sweeter than she needed to be.  We ordered these delicious shishito peppers as a small plate and then we got the stun dunn pizza-- which was basically a vegetarian option.  We loved the pizza-- the crust was thin and soft-- the outer edges were thicker and had risen more than a regular thin crust pizza.  We had the gelato at the end of the meal.  The chocolate kind was in the bowl for about 1 minute-- while the strawberry and rose petal kinds went a little more slowly.  \\n\\n I wish they had different salad options-- perhaps they'll change their menu every now and then.  The place wasn't as vegetarian friendly as most pizza and italian places tend to be.  \\n\\nAll of this being said, I will definitely go back here.\"\n",
      "\n",
      "\n",
      "\n",
      "Biz: u'Nur Thai', Score: 0.605\n",
      "'09-06-15', 0.000, u'Have passed by this place for months prior to its opening and was excited to get a Thai restaurant in the area. Went on Yelp to see what Thai place was around since our regular one closed and saw that Nur has opened. Didn\\'t read the reviews but saw they were all 4-5 stars so I told my friend to try them today. We got there around 4:15 and they were closed. They reopened 5:00. Whatever would we for for 45 mins in that area lol. We drove to Juniper Park for a walk and drove back at 5:00. \\n\\nThere was a family dining there when we returned. The place is nicely done and I love the color of the wall. Very different. It\\'s clean and spacious. Don\\'t walk in expecting Asian staff (except in the kitchen). The waiter came immediately with menus while we chose where we wanted to sit and asked what type of water we wanted. He asked if we were familiar with Thai food and what told us their specialties. Also recommended the Phuket Sampler which we ordered. For entrees we got beef pad see ew and chicken red thunder fried rice. \\n\\nSampler was small compared to other samplers I\\'ve had. Came with two pieces each of spring rolls, firecracker shrimp, steamed dumplings, and jade curry puffs. The spring rolls need to be filled with more filling, firecracker shrimp pretty good but lacks something, steamed dumplings were good, and jade curry puffs were my fave but were teeny. Their curry puffs were practically dumpling size. Significantly smaller than other curry puffs I\\'ve had. \\n\\nPad see ew pretty good, but felt the noodles were just a bit \"stiff\". The fried rice was very good and different from what I\\'ve had. Also felt the rice was a little dry. Other than that, the taste was pretty solid. Again, portion on the small side. The service was good. I will definitely come back to try the Thaiger aka Thai burger.'\n",
      "\n",
      "'09-07-15', 0.016, u\"Good food and excellent service.  Basil rice / chicken lollipop is awesome.  Need some work with Tom Yum soup,  which was pretty bad. And off course little bit more shrimp on the rice won't hurt.  And one more thing to remember is there's a service charge also.\"\n",
      "\n",
      "'09-07-15', 0.001, u'Nur Thai is such a great addition to the neighborhood. 5 stars for ambiance, service, food, and drinks. They play awesome music and have such a good vibe inside with the lighting and decor. The service is also great, and very friendly. Lastly, the food is delicious. Everything from drinks to appetizers to main courses, all the food was amazing and came out quick on a busy night! Overall, best thai food in queens id say.'\n",
      "\n",
      "'09-09-15', 0.008, u'5 stars\\nNice and clean place \\nFood is good \\nMusic \\nPerfect \\nService id not bad \\nI will comeback with my family \\nEveryone should try'\n",
      "\n",
      "'09-09-15', 0.003, u\"My son and I were really hungry around 9 pm and this place was on our way home from the mall. I've wanting to check the place out as few of my friends posted visit to there on Facebook and raved about it. I was impressed at first look. It was memorial Monday and they were pretty busy. As soon as we walked in, someone greeted us and asked us to wait a minute as they were putting setups on the only empty table at that moment.\\n\\nThey have a good size menu, lots of options to choose from. As for my son, it left him confused to have to choose one or two from such a large menu according to him. He ended up ordering Tum yum seafood soup and spicy basil chicken. I asked the waitress whether to go for tilapia or salmon, she suggested teriyaki salmon and I went with that. We waited for a while and our food came but got no soup. I asked the person serving that we had a order of soup. He apologized and said he will go look. I asked him not to worry, we will skip on the soup. He came back after a minute and apologized few more times and offer a bowl of soup on the house. We decided not to get the soup as we were already into our meal. Half way through our meal, my son kept reaching for water as he found his dish to be too spicy. I tasted some of his food and found it to be fine. We got the menu again and ordered pad Thai noodles for him. The waitress took our order and came back again to ask what kind of meat would he like on it. I wish she would have pen and paper when taking orders. Maybe then she wouldn't forget our soup and what kind of meat we want.\\n\\nDespite missing on the soup and not taking order properly, I would have to say that the wait staff were really courteous and nice. Everyone spoke with a smile. When we asked the busboy that we want to take our leftovers home, he quickly took our plates and packed them up.\\n\\nAs for the food, I got to try both the dishes my son had and I would say that they are better than your average Thai restaurant. My teriyaki salmon was really good. The place it not very pricy and I think that will give them a lot of customers. I am not a big fan of dark decor or dark environment, I like places to be bright (and I know it's hard to come by in terms of restaurants). If dark is your thing, you might like the atmosphere. I would recommend my friends and family to go check it out. And I will probably go there again as it is only about 15 mins drive from my house.\"\n",
      "\n",
      "'09-10-15', 0.001, u\"I came here with my family on the recommendation of a good friend. The moment we stepped in we were greeted and seated by a waiter. Of course prior to arriving I called to let them know there was a party of four coming just in case it was really busy. ;) fortunately it wasn't exactly brimming with customers after 9:30pm but just enough people. \\nThe decor is pretty nice (although purple isn't exactly  my favorite color especially for a restaurant). We ordered a few appetizers such as the firecracker shrimp, spring rolls and papaya salad. It was decent. The papaya salad was actually better than expected.   Their non-alcoholic drink menu is pretty on point. The Thai tea was good. My sister and mom had the mock mojitos and I totally forget the name of my dad's drink but it had berries. Everyone was happy........ Now on to the Entrees!\\n\\nOrder= \\nRama Duck- \\nCrispy duck with a sweet peanut sauce and jasmine rice. It was probably the best dish. If you don't like too much sauce be sure to have the waiter take note as it does come with a lot.\\n\\nLamb with Massaman glaze- \\nthe lamb was super tender and juicy. The sauce was pretty darn good....until I got to the potatoes. They tasted a bit off, maybe even sour. I made sure to tell my waiter as well as the guy whom is the owner/manager. I hope they correct this soon because it was a pretty good dish otherwise. \\n\\nPad Thai with Tofu- pretty standard\\n            \\nSalmon with Mango glaze(???)-\\nSorry I can't remember the exact title. My sister loved it. It was flavorful, however just a tad over-cooked causing it to be a little dry.\\n\\nNow for the finale: Warm Taro custard. -I'm not a fan of any type of warm pudding but this seemed to have a nice unique flavor. I would have preferred cold. My parents like it a lot. \\n\\nOverall, I will give this place another try. Food was good and service was even better. Hopefully they find their footing as a new restaurant.\"\n",
      "\n",
      "'09-12-15', 0.002, u'This restaurant has great food and friendly staff! Will go back again. The restaurant decor is really lovely and wonderful.'\n",
      "\n",
      "'09-14-15', 0.003, u'If it was any other restaurant I would have given it a 3 star rating, but since this is one of the few halal Thai restaurants in NYC, a 4 star rating is much deserved. Do expect exceptional service, and as far as the food goes, some are better than the other. Skip the wings, burger, and lollipop chicken. Do try the basil duck, and drunken noodle, they are packed with flavors. And the drinks (guava, mango, Thai iced tea) are also worth a try. Call ahead on weekends to avoid long wait.'\n",
      "\n",
      "'09-17-15', 0.069, u\"Great food, service, and drinks! \\n\\nWould recommend the chicken dumplings & lollipop for apps. Their homemade drinks were delicious. We ordered the pad thai and pad sew-ew for entree, left with our stomachs full and even had some leftovers. \\n\\nParking is scarce, just drive through the inner blocks there's plenty there.\"\n",
      "\n",
      "'09-17-15', 0.028, u'First time eating here tonight. Was great! Server was very delightful and knowledgeable on the food. The only thing is they do not have their liquor license yet but I enjoyed the Thai iced tea. 4 glasses later lol! I will definitely be going back. I recommend the Thai dumplings they were delicious :)'\n",
      "\n",
      "\n",
      "\n",
      "Biz: u'Blue Sky Chinese Restaurant', Score: 0.598\n",
      "'08-27-11', 0.076, u\"I'm feeling a bit generous today... Food hasn't been too bad since I've been ordering from them most recently... Would keep going as long as food is consistent!\"\n",
      "\n",
      "\n",
      "\n",
      "Biz: u'Just Combo--Halal For All', Score: 0.593\n",
      "'03-10-12', 0.001, u\"Really good halal place! friendly staff! quick service! plus it down my block! the pizza is meh, just go for the halal food, that's there specialty. plus if you go there late sometimes they give you sides for free!\"\n",
      "\n",
      "'03-12-12', 0.001, u'Well, I definitely didn\\'t get what I was expecting based on the other reviews, but it wasn\\'t a bad experience at all. The chicken shawarma was pretty good. Not the best I\\'ve had by any means, but good. The pita was a little too thick and the toppings were just iceburg lettuce and tomatoes with a few pickle spears tossed in. They gave some pickled beets on the side, which I tucked into the sandwich. It\\'s definitely a huge step up from the rotation of pizza joints that have occupied this corner since I moved here ten years ago, and I like having more halal options in the area (my understanding is that halal meat is the most humanely slaughtered). The \"Halal For All\" slogan is really charming. \\n\\nSo the food was decent, the service was very polite and welcoming and the place looked pretty clean and well run. I think they could take a few cues from the King of Shawarma and Falafel in terms of improving their sandwiches, but I\\'m glad they\\'re right around the corner in case I get a hankering for Shawarma and don\\'t feel like trekking too far. I think this place has great potential.'\n",
      "\n",
      "'03-14-12', 0.086, u\"DELICIOUS  FOOD !!!!!!! : )))))))\\nGREAT STAFF !!!!!!!!!  :)))))) \\n\\nI've been eating here EVERY single day for the past 5 weeks. I'm glad they are here and hope they stay for a while. An ASSET  to the community.\\n\\nCustomer Satisfaction Guaranteed !!!!\\n\\nGreat spot !!!\"\n",
      "\n",
      "\n",
      "\n",
      "Biz: u'Break Bar & Billiards', Score: 0.589\n",
      "'02-05-15', 0.004, u\"I've been here over 10 times - at all different hours of the day, at all different days of the week, for every different type of occasion/game. Doesn't get better than this - great food and drinks, sooo much pool and other games to play, and huge open layout with lots of TV's makes for fun with friends or even on a date. This is and will always be my favorite sports bars in Astoria. The end. (This is probably the shortest review I've ever written. Honestly there's just too much good to this place that you just have to go yourself and experience it. Otherwise I'd be writing an essay and you'd think I own the place - ha. P.S. - I don't.)\"\n",
      "\n",
      "'02-08-15', 0.077, u'NEVER COMING BACK...I am a regular there and am HORRIFIED by the experience I had Friday night February 6 when I got THREATENED to be \"thrown down the stairs\" by the bouncer.(tall guy with glasses) \\n\\nI brought In a water bottle which the bouncer so rudely told me \"to go outside and throw that \\'shit\\' out\". I just walked up over 15 stairs and kindly asked him if he could throw out the bottle for me so I don\\'t have to make a trip  and he was FAR from accommodating. \\n\\nMy friends and I are outraged at this point and get the manager.(guy with dark hair ponytail) we spoke to him politely regarding our situation and he sided with the bouncer.!!! We told him \"isn\\'t the customer always right?!\" And he had the AUDACITY to say \"no\" \\n\\nThen the bouncer told me \"IF it was up to me I would\\'ve thrown yall down the stairs by now\" We are regular patrons you moron!!! What kind of ANIMALS do you have running this place?!. I demand to speak to the owner! I feel sick to my stomach that this all happened. And to believe the manager told us to leave and sided with his THUG bouncer is unbelievable. I will NEVER EVER GO NEAR this place again and I am going to make sure no one else does either. I demand an apology !!!!!!\\n\\nI feel sick even giving this place 1 star.'\n",
      "\n",
      "'02-11-15', 0.005, u'Awesome place. I went a couple of days ago and just chilled at the bar. Alecza the bartender was great. Awesome service. She really knows what she is doing. Because of her I will come again and bring a group of my friends.'\n",
      "\n",
      "\n",
      "\n",
      "Biz: u'Brooklyn Taco Co', Score: 0.574\n",
      "'04-16-13', 0.077, u\"Thank you to Jesse and his staff for an absolutely spectacular wedding this past weekend.  They went above and beyond to ensure that the food was both beautiful and delicious - in fact, many of our guests (including a chef or two) reported that this was the best wedding food they'd ever experienced.\"\n",
      "\n",
      "'04-19-13', 0.003, u\"I read about this place on Yelp and I'm so glad I made the effort to hunt it out. It's in a sweet little market and the hottie who served me was super nice. I got the guac taco (would have eaten more but I'd already eaten half-way around NYC!). Can't wait to go back to try some more stuff out. Deffo worth it! x\"\n",
      "\n",
      "'04-20-13', 0.003, u\"Big fan.  The brisket taco was very good.  Stood out from the Chicken taco.  Overall, both were very good.\\n\\nThe place is very small and tucked inside the Essex Street Market.  Lunch time during the the week usually has 4-7 people eating/waiting for tacos.  The weekend can be a bit larger, but you won't have to wait very long.  There are tables in the back of the Market to sit down and eat at if you can't grab a stool in their little space.\\n\\nDefinitely worth the trip to go eat there.\"\n",
      "\n",
      "\n",
      "\n",
      "Biz: u'Coconut Palm Bar & Grill', Score: 0.559\n",
      "'12-05-11', 0.069, u'Food one day                - 4 stars\\nFood another day         - 2 stars\\nThat\\'s why I have to give them a three. \\n\\nTheir en tree\\'s are inconsistent when it comes to their \"Chinese\" portion of their menu. As far as it goes for their Guyanese menu everything is all good. Not at great place to eat in with the family after six on the weekends. \\n\\nMy wife and I really like their black pudding.'\n",
      "\n",
      "\n",
      "\n",
      "Biz: u'Mia Famiglia', Score: 0.514\n",
      "'10-11-13', 0.007, u'We were in town to visit our son. We had several dinners that were all very good. The most important part is that we were made to feel like family. We were able to just leisurely enjoy our meal and left to visit with our son without being rushed.  Definitely worth a repeat visit.'\n",
      "\n",
      "'10-14-13', 0.059, u'If I could, I would give it 3.5 stars.\\n\\nFood-5 (this keeps me coming)\\nService/Reliability-2.5 (waiters are nice...but see comments)\\nEnvironment/decor-3.5 (bare but nice)\\n\\nAte here for dinner once and the food was great.  The music was grunge rock though.  I was on a date with my wife and expected something a little more romantic and toned down.  I asked for a manager, and the manager (which I now know is an owner/chef) asked me \"what is romantic music?\"  Well, I think most men know what kind of music is good for having ladies over?  He did change it, and it was great besides this interaction.  \\n\\nI also ordered lunch here (they have great meatball heroes that come with a drink for $6.95).  The food was great.  I work right next to the place so I would order again. \\n\\nHowever, I called today and they said they were closed because they have a party...so call before you get excited about eating their yummy food.'\n",
      "\n",
      "\n",
      "\n",
      "Biz: u'Gulf Station', Score: 0.509\n",
      "'11-29-14', 0.060, u'Beware.... It appears that this service center preys on a perspective customers naiveity than trying to perpetuate repeat business. In this day and age of Internet no one has to be naive. It is as quick as click of the mouse to find out the going rate for a repair. It was determined the car needed a catalytic converter which should cost no more than $300. to $400. Dollars using new but after market parts.The service manager went on to say that he also needed to replace my coils & plugs since they are most likely the culprits that caused the malfunction and demise of my catalytic converter. I knew he was fabricating this car repair rhetoric since I replaced my ignition system when the vehicle needed to pass inspection June of this year. I was told the cost of repairs would be better than $3000. I told him that this estimate was unexceptable especially since my vehicle is over 10 years old with 100,000 plus miles and paid him the predetermined fee to diagnos the problem. At least he was able to get the car started so that I could drive it to my regular mechanic who repaired the vehicle for $400.'\n",
      "\n",
      "\n",
      "\n",
      "Biz: u'7-Eleven', Score: 0.503\n",
      "'09-19-15', 0.059, u\"It's open 24 hours in an area where everything else is dead if you need some food after 10 p.m.  However, I feel like the one down the street right near Continental Avenue is better.  It seems to have more selection and be a little nicer.\"\n",
      "\n",
      "\n",
      "\n",
      "Biz: u'Brooklyn Burger', Score: 0.501\n",
      "'04-23-14', 0.059, u\"This kind of hit the spot at a recent Nets game.  I've only ever eaten at Calexico at the Barclays center, but I'd had a burrito that morning at the Del Toros Yelp event, and couldn't fathom a quesadilla or fish tacos.  So, my date and I split chicken fingers, a cheese burger and fries.  I'd say the food was nothing special, but for what we wanted--greasy fried food--it hit the spot.  We washed it down with a few beers from the bar across the hall.  Yes, it's pricey--I think the food plus a bottle of water was $25, but that's stadium food.  And it was really tasty.\"\n",
      "\n",
      "\n",
      "\n",
      "Biz: u'South Shore Pizza', Score: 0.501\n",
      "'08-05-11', 0.059, u'Used to come here often. Delivery driver decided to tell me \"GRATUITY IS APPRECIATED\" before I even got a chance to reach in my pocket. Well.. that\\'s the last time I order anything from South Shore. Pizza is often under cooked anyway.'\n",
      "\n",
      "\n",
      "\n",
      "Biz: u'Key Food Supermarket', Score: 0.497\n",
      "'12-19-14', 0.058, u\"Every time I'm unlucky enough to end up at Key Food, items ring up at a higher price than they're marked on the shelves. This time, both myself and other customer complained about the same item ringing up incorrectly. They said they would look into it. A few days later, I checked back. The price on the shelf was the same, and the item still rung up at a higher price.\\n\\nIf you're forced to shop here, check your receipts!\"\n",
      "\n",
      "\n",
      "\n",
      "Biz: u'Pizza Villagio Cafe', Score: 0.457\n",
      "'03-26-10', 0.052, u\"I know exactly what happened here. Sick of all the cookie cutter midtown sandwich shops (I'm looking at you Cafe Metro!) serving 'za on the side, some business minded pizzeria men decided to flip the tables on them and have a carbon copy of those stores inside of a place that says pizza on the awning. \\n\\nAnd the results are pretty much what you'd expect. Slightly above average, and completely satisfying.\"\n",
      "\n",
      "\n",
      "\n",
      "Biz: u'Cafe Ole', Score: 0.439\n",
      "'10-23-10', 0.049, u\"My family is from Spain and my husband is from Spain.  I was born in the U.S. but have been to Spain several times.  Which is why I must say, that this is the BEST Spanish restaurant I've encountered in New York.  This is NOT an Italian restaurant.  This is NOT a Greek restaurant.  This is NOT a Mexican restaurant.  The country is SPAIN.  And the food in this restaurant is prepared perfectly.  It's small and out of the way which is a shame, but the food is out of this world.\"\n",
      "\n",
      "\n",
      "\n",
      "Biz: u'Ray Bono Pizza', Score: 0.438\n",
      "'07-03-11', 0.049, u'I think this place should be ashamed to call itself a NYC pizzeria. I also wonder about the people who gave this place 4 and 5 stars. I suspect they ate here after a long night of drinking and smoking bud. These are only my suspicions. For your reference: a not-fresh slice of unmemorable pizza will cost you $2.75. Keep walking, trust me.'\n",
      "\n",
      "\n",
      "\n",
      "Biz: u\"Maggie Moo's Ice Cream & Treatery\", Score: 0.421\n",
      "'07-02-12', 0.047, u\"This place is the melted version of Coldstone Creamery: same price, same overwhelming almost sickening sweetness, similar offerings. But it is very convenient for me since I live in the vicinity. \\n\\nI ordered a Rocky Road combination and a plain pistachio scoop (these orders were separate; it'd be kinda weird if they were combined.) The toppings for the Rocky Road favorite combination wasn't mixed too well, but that's all right because it would have turned to a sticky soupy mess if the worker mixed it more. But I have to give their award-winning double chocolate ice cream props, because it is so deliciously amazing. And I'm not even a fan of chocolate ice cream! The pistachio flavor was disappointing, sadly. The taste was very synthetic with A LOT of sugar. \\n\\nI miss those days back in the 90s when Carvel made pistachio ice cream with actual pistachio nuts. Gone are the days when food was made with wholesome ingredients. Now everything is just natural and/or artificial flavors added.\"\n",
      "\n",
      "\n",
      "\n"
     ]
    }
   ],
   "source": [
    "for w in top[:50]:\n",
    "    print \"Biz: %r, Score: %.3f\" % (w['bname'], w['outbreak_score'])\n",
    "    for date, eta,  t in sorted(zip(w['window_d'],w['window_eta'], w['window_t']), key=lambda x:x[0]):\n",
    "        print \"%r, %0.3f, %r\" % (date.strftime(\"%m-%d-%y\"), eta, t)\n",
    "        print\n",
    "    print\n",
    "    print"
   ]
  },
  {
   "cell_type": "code",
   "execution_count": 751,
   "metadata": {
    "collapsed": true
   },
   "outputs": [],
   "source": [
    "# let's look at our top predictions\n",
    "tops = sorted(outbreaks, key=lambda x:x['outbreak_score'], reverse=True)"
   ]
  },
  {
   "cell_type": "code",
   "execution_count": 752,
   "metadata": {
    "collapsed": true
   },
   "outputs": [],
   "source": [
    "top = []\n",
    "unique = []\n",
    "for w in tops:\n",
    "    if not w['bname'] in unique:\n",
    "        top.append(w)\n",
    "        unique.append(w['bname'])\n",
    "        "
   ]
  },
  {
   "cell_type": "code",
   "execution_count": 754,
   "metadata": {
    "collapsed": false,
    "scrolled": false
   },
   "outputs": [
    {
     "name": "stdout",
     "output_type": "stream",
     "text": [
      "Biz: u'Happy Days Diner', Score: 1.000\n",
      "Known?False, '05-19-14', 0.423, u'They should be shut down by the Dept of Health.  The place is disgusting and the food not fit for human consumption.'\n",
      "\n",
      "Known?False, '05-22-14', 0.001, u\"This place gets a bad rap from some but I gotta say it's treated me well.  I've eaten there and ordered in a number of times and things are always solid (this is diner food, folks).  They're corned beef hash is top notch, as are their sundaes, if you're in the mood.  Also one of very few 24 hour joints in Brooklyn Heights.\"\n",
      "\n",
      "\n",
      "\n",
      "Biz: u'Pinche Taqueria', Score: 1.000\n",
      "Known?False, '12-20-10', 0.158, u'I HAVE NEVER IN MY LIFE GOTTEN SO SICK FROM FOOD!\\n\\nMy boyfriend and I almost died from the food poisoning that this lovely establishment so kindly delivered to us. We shared a steak taco salad and became violently ill for the 24 hours that followed our \"meal\"\\n\\nWill NEVER go back and after reading how many other people have gotten sick there, curse the staff and the management for not keeping up to standard. \\nI recommend a Pinche Taqueria boycott.'\n",
      "\n",
      "Known?False, '12-20-10', 0.183, u\"I started off 2010 violently ill after getting food from here!  It was a harrowing experience of food poisoning; I've never felt like that before in my life! It effected me so much that I didn't have Mexican food for most of this year. Reading reviews of others who've also had the same effects isn't exactly a consolation prize, just surprises me the Health Department hasn't done anything yet.\"\n",
      "\n",
      "\n",
      "\n",
      "Biz: u'Communal Oven & Earth', Score: 0.999\n",
      "Known?True, '03-11-15', 0.261, u'Came here for dinner on Monday, March 9th, 2015. Had the Beef-Lamb Meatballs around 8:30pm. At 1:40am March 10th, I woke up feeling sick to my stomach. Proceeded to wake up in cold sweat, intensely nauseous, vomitting and hitting the bathroom every hour until 8am. March 11th and still feeling weak and feverish. I hope this review saves you from the absolute pain and inconvenience this place has caused me. \\n\\nTL;DR - my experience here: FOOD POISONING.'\n",
      "\n",
      "\n",
      "\n",
      "Biz: u\"Susano's Pizzeria & Restaurant\", Score: 0.999\n",
      "Known?False, '04-25-15', 0.248, u\"MADE ME VIOLENTLY ILL. DO NOT TAKE A CHANCE. Had cheese sticks and french fries. This means the bacteria was cross contamination - dirty hands, dirty people, dirty facility.  Was throwing up for 12 hours. Was hot/cold, and weak since I couldn't even keep water down. DO NOT ORDER. THERE IS A CHANCE YOU COULD BE VERY SICK.\"\n",
      "\n",
      "\n",
      "\n",
      "Biz: u'Fette Sau', Score: 0.999\n",
      "Known?False, '06-20-14', 0.017, u\"I didn't have lunch when I came here for dinner.  I kinda wish I did only because I think it shrunk a bit, my stomach wasn't ready for the amount if meat that was about to go inside it.  I had to abandon the potato salad and baked beans I ordered because I though 1lbs of stuff wasn't a lot... I was and sadness in my eye for abandoning those sides. 1 lbs of meat is a lot.... At least I finished all of the meat.\"\n",
      "\n",
      "Known?False, '06-22-14', 0.000, u\"For all of the hype - this place is not worth it. There are definitely better brisket places around and if you are on a brisket hunt, I would skip this place. The interior and decor/vibe, is cool, though. Very industrial and centered around the concept of meat/butchering itself. Plus they also have outdoor seating. \\n\\nThe line was outrageous. I've been on long brisket lines before and I've seen better time management with serving people. The first thing I noticed was that the meats were in a hot case and I automatically thought everything was going to be dry. It was. I wasn't impressed at all. I wasn't impressed with their brisket, ribs, pork, or sausage. Good thing they had sauce there because everything really need it! But also I wasn't impressed with the sauces either. The sides weren't good either. \\n\\nAll in all, I won't come back. I'm trying to find the best brisket place and there are places I would revisit, but definitely not here. Prices are way too expensive for no reason, given the food isn't good either. Staff was okay, but not super friendly or helpful. Seemed bothered. Don't come here for good brisket, go somewhere else. The whole notion of the place seems to be playing more into the brisket hype in NYC and focusing more so on ambiance rather than food. It would be a really difficult case to give this place a 4, but it is decent enough for a 3.\"\n",
      "\n",
      "Known?False, '06-22-14', 0.006, u'Excellent pork ribs and pulled pork shoulder.  Very good sauces (3) to dip your meat in.\\n\\nSausage was spicy and good.\\n\\nHalf sour pickles were good.\\n\\nBaked Beans were just OK; too mushy.\\n\\nCome off hours for no wait. obviously applicable to any place.'\n",
      "\n",
      "Known?False, '06-23-14', 0.000, u\"The food is indeed tasty, but expensive with a bit too much oil for comfort. You also have to watch out for grizzle, unless you like your meat a bit fatty. The decor is nice, but with a minimum 30 minute wait to eat while standing in line, cafeteria style, and no reasonable seating guarantee for more than two people, I'd say you gotta know what you're in for.\"\n",
      "\n",
      "Known?False, '06-24-14', 0.388, u\"Updated: had TERRIBLE bout of food poisoning. As in, the worst food poisoning I've ever had besides full-on stomach flu. STAY AWAY!\"\n",
      "\n",
      "Known?False, '06-25-14', 0.001, u'Always the best place to take out-of-towners when they visit!'\n",
      "\n",
      "Known?False, '06-25-14', 0.001, u'Solid BBQ in WillyBees'\n",
      "\n",
      "Known?False, '06-25-14', 0.000, u\"Excellent Texas meat market style BBQ. There's often a line at times near 8, so if you want to avoid the wait, try to go before 6pm or after 9pm.\"\n",
      "\n",
      "Known?False, '06-26-14', 0.003, u'Meats were lacking flavor (good char on outside) but everything was so very dry except the pork belly. Had Ribs (ok, dry and not super flavorful), Pulled Pork (again, very dry, OK - needed lots of vinegar / bbq sauce), beef brisket (great char on outside, but so dry it was almost inedible), and pork belly (was cooked well and not over-dry which is understandable given its fatty nature, but wasnt extremely flavorful, which is odd, given its fatty nature).  Also had the burnt ends beans which were quite good.  Line was not tot long at 730pm weds night and seating was not bad to obtain.'\n",
      "\n",
      "Known?False, '06-28-14', 0.048, u'Some of the best BBQ in all of New York! Take that from a southerner who knows good BBQ! The brisket is melt in your mouth.'\n",
      "\n",
      "Known?False, '06-29-14', 0.002, u'Good Food, Good services, love the setup, food came up really fast and the services was amazing..'\n",
      "\n",
      "Known?False, '06-29-14', 0.023, u'This is a pretty good place if you\\'re born and raised in New York or are from a different country and are uneducated about what makes great BBQ. I had high expectations given the rating. I\\'m a transplant from the Midwest and have tried authentic fresh BBQ from top restaurants in STL along with down south in Louisiana and this place not only is incredibly inferior, it\\'s insanely overpriced considering the meat they give you is just sitting in a heated tray. The pulled pork was a bit dry even though it was $25/lb. the brisket was decent but nothing miraculous or justifiable of a 29$/lb price tag, and the ribs were just sad. I really regret the ribs. I got a half pound which included two ribs of huge bones and lots of tendons. The meat was not \"fall off the bone\" as it should be. They reminded me of when I first learned how to make ribs and left a rack in the oven too long because I fell asleep or got distracted.\\n\\nThe one positive thing I will say is that the baked beans were above average(hard to mess up). The sauces at the table were also pretty decent. I definitely am glad I tried \"one of the best BBQ joints in ny\" but I now know to wait until I visit the Midwest for BBQ if this is what the gold standard is lol. I won\\'t be back.'\n",
      "\n",
      "Known?False, '06-29-14', 0.029, u\"I felt it's my duty to write a review for Fette Sau considering how often I frequent this place. I really enjoy the food here and my bf is obsessed with the pork belly. Its pay by the pound and the lines can get very long and it moves slowly. So get yourself a beer and prepare to stand awhile in line at peak dining hours.\\n\\nThe best thing to do is to come at an odd hour to avoid the wait. The reason I didn't give it 5 stars is because the bbq is inconsistent. Once the ribs were just okay but yesterday when I went they were absolutely amazing. Previously the pork belly was amazing and yesterday just so so. However, the broccoli and potato salad sides are always delicious! \\n\\nBut all in all its worth the trip for some really good bbq in Brooklyn.\"\n",
      "\n",
      "\n",
      "\n",
      "Biz: u\"McDonald's\", Score: 0.998\n",
      "Known?False, '11-25-13', 0.205, u'One Word: GHETTOFABULOUS\\n\\nDirty, Ghetto, Dingy, Homeless, Obesity, Poverty, Spanish Over-Haul, Food Stamps, Welfare-types, Coupon-waving, Disorganized Lines and Staff\\n\\nENUFF SAID'\n",
      "\n",
      "\n",
      "\n",
      "Biz: u'Spice', Score: 0.998\n",
      "Known?False, '08-19-13', 0.202, u\"I like the ambience of this place and the staff is always nice.  The food tastes OK, too.  But I've been here a few (3-4) times, and I always get an upset stomach afterwards (stomachache or diarrhea).  So I'm not going to give it another try; there are too many really good places to spend your time and money, that don't make you sick!\"\n",
      "\n",
      "\n",
      "\n",
      "Biz: u'Mee Thai', Score: 0.998\n",
      "Known?False, '10-13-14', 0.201, u'The food tastes great but it\\'s packed with MSG or some other similar preservative.  Neither myself nor my wife could sleep after eating some noodles & curry; and we usually sleep like logs.  \\n\\nCaveat emptor : MSG galore (btw, we kindly requested \"no MSG\" so goodluck)'\n",
      "\n",
      "\n",
      "\n",
      "Biz: u'Lan Larb Soho', Score: 0.998\n",
      "Known?False, '03-17-15', 0.000, u\"Mad props for the red curry! Like dayyym!!! Make sure to order it here. Probably the best  red curry I've had in the last year.\"\n",
      "\n",
      "Known?False, '03-20-15', 0.275, u\"I had take out from the Centre Street Lan Larb 5 days ago and I am still sick.  The food was way too greasy and obviously contaminated.  I've never been so sick from food.  They have open health department violations for their sanitary conditions. Stay away.\"\n",
      "\n",
      "Known?False, '03-22-15', 0.001, u'We feasted! Had the curry puffs, crab fried rice, Som tum muar zaur, and pumpkin custard! It was all AMAZING! The staff was sweet and we will be eating here again'\n",
      "\n",
      "\n",
      "\n",
      "Biz: u'Happy Taco Burrito', Score: 0.998\n",
      "Known?False, '03-28-13', 0.188, u'Literally the most disgusting, bland Mexican food I have ever had.'\n",
      "\n",
      "\n",
      "\n",
      "Biz: u'Room Service', Score: 0.998\n",
      "Known?False, '10-26-12', 0.002, u\"The food was okay - not incredible, but just okay.  The restaurant is beautiful, and the prices are much lower than the decor would suggest.\\n\\nThe problem here is service.  Our waiter never checked on us, never offered refills on our martinis (helloooo people - that's where the money is), and worst of all, ran our cards wrong THREE times, causing a 30 minute delay.  When the manager got involved, he was unapologetic.  We are still awaiting reimbursement on our credit cards (over $50 each).  \\n\\nGreat concept, but poor execution.  I'll never be back.\"\n",
      "\n",
      "Known?False, '10-28-12', 0.336, u'Food...meh.  Over sauced and unrefined.  got sick off of the food that tasted bad to begin with.'\n",
      "\n",
      "Known?False, '10-30-12', 0.002, u'Ever had a hostess pick people to sit from the BACK of the line, ignoring the fact that you were obviously there first?\\n\\nEver had to grab a candle from a nearby table, or wait 20 minutes sans water and only receive some by bothering a water-guy?\\n\\nEver wait 67 MINUTES for your appetizers? \\n(After getting up TWICE and confronting hostess/waiter, the 2nd time forcing him to re-take order and demanding free dessert?; THEN yelling HEY! What\\'s going on?? As he cavalierly slides by the table again. causing people to take notice?) \\n\\nEver get appetizers (seafood) that was partially inedible (not completely cooked) then wait 25 MORE with no sign of entrees, while nearby tables fought with waiters who twice brought the wrong appetizers, and the other table eventually gets food--before us)?\\n\\nEver see 5 or more take out orders become available before your meal?\\n\\nEver get up and say angrily and  \"We\\'re leaving and NOT paying\" and the guy just smiles and says \"Thank You\" and your friend says \\'SCREW YOU!\\' and you leave?\\n\\n\\nEver feel like if this were 40 years prior that you and your friend would feel like you were racially discriminated upon??\\n\\n\\n\\nNever a-fucking-gain.'\n",
      "\n",
      "Known?False, '10-31-12', 0.001, u\"After living in Hawaii for about a year and a half with its high cost of living I've become accustomed to the ridiculously priced items and the expensive dinner bills...And I expected the same when stepping foot into one of the biggest cities in the world. \\n\\nSo when I opened up the menu and saw the prices for the appetizers/entrees I was shocked. Not only that but the decor (chandeliers, hostess/bartenders - dressed to kill) of the restaurant would immediately lead you to believe that the prices would be high. I paid $4 for 6 large pieces of sesame crusted tofu. 4 BUCKS! Served with a sweet dipping sauce. Although they weren't fried they were big so after 3 I had to move it to the side so I wouldn't get full. \\n\\nWe both ordered a mojito, I got the pomegranate while my girlfriend got the guava. Both were good, not overly sweet. They have a wide range of flavors too! \\n\\nWhen looking at the reviews the pad thai in an egg omelete seemed popular so I assumed that when ordering the pad thai with chicken, that is what I would be getting. Whoops! I should have read the menu more closely. There are two pad thais, and the one with the egg omelete is the Room Service one. Just an FYI.  \\n\\nI was happy with my Pad thai though. The noodles were a little thinner than what I was used to and the sauce wasn't overly sweet. It was tossed with bean sprouts, eggs, and onions and at $9 it was a good value. I even brought my leftovers home. \\n\\nOct31Challenge:31/31\"\n",
      "\n",
      "Known?False, '11-01-12', 0.000, u'Placed order on Seamless at 5:55pm for a 7:00pm delivery.  7:00pm comes and goes, I call at 7:10pm and spoke to \"Bill\" who couldn\\'t find my order.  Gave him my last name, my first name, my order number - all of these things TWICE over the course of a 12 minute phone call.  He finally \"found\" my order and said the delivery guy was on his way.  He had no idea when the delivery person left, nor did he have any idea when it would arrive.  He gave me a superficial apology and offered no compensation for the inconvenience.  This was TERRIBLE service and I will NEVER order food from here again.'\n",
      "\n",
      "Known?False, '11-01-12', 0.001, u\"I would've given this place 5 stars had it not been for our man-bitch server with the glasses. But otherwise 5 stars for the stunning decor and excellent dishes. We ordered the tom yum soup, pad thai, red curry, massaman curry, red snapper over eggplant, basil noodles, and the pineapple fried rice. Our group of six passed everything around and devoured every last morsel.  With a few rounds of beers and food, the bill came to a grand total of $160 inclusive of tax and tip.\\n\\nI highly recommend dining at this restaurant!\"\n",
      "\n",
      "\n",
      "\n",
      "Biz: u'New Tokyo', Score: 0.998\n",
      "Known?True, '02-22-15', 0.184, u\"Run run run very far from this place. I got soo sick eating their sushi that I'm still vomiting bile.\"\n",
      "\n",
      "\n",
      "\n",
      "Biz: u'Sunac Natural Foods', Score: 0.997\n",
      "Known?True, '09-29-14', 0.174, u\"The hot food bar gives me diarrhea every time but it's worth it.\"\n",
      "\n",
      "\n",
      "\n",
      "Biz: u'1849 Restaurant', Score: 0.997\n",
      "Known?True, '04-01-15', 0.174, u\"This place is disgusting, I don't know how they pass their health inspection. I made the mistake of grabbing a quick bite here and I was sick to my stomach after. The staff was completely rude. There are tons of local bars in the area so take your business anywhere but here.\"\n",
      "\n",
      "\n",
      "\n",
      "Biz: u'House Of Vegetarian', Score: 0.997\n",
      "Known?True, '04-13-15', 0.173, u\"I was violently ill only hours after eating here. I had the hot & sour soup. Fever, cold sweats, vomit and diarrhea. I'm surprised I lived to see the morning. A waitress farted as she walked by the table. The staff started flipping the chairs onto the tables and mopping with ammonia while we were still eating. It was late, granted. It's an experience I wish I could forget. If I could give zero stars, I would.\"\n",
      "\n",
      "\n",
      "\n",
      "Biz: u'Caliente Cab Co', Score: 0.997\n",
      "Known?False, '09-21-08', 0.212, u'Caliente has gone frio!  Ate there last spring & had a good meal.  Ate there tonight & will not go back!  Food was so-so & waitress was just cranky.'\n",
      "\n",
      "Known?False, '09-24-08', 0.004, u\"Decent place - I actually didn't like my Panini -Mex sandwich, but I vultured my girlfriend's dish, a steak fajita with all the fixins - tasty and not too shabby outdoor seating on a cool fall night...\"\n",
      "\n",
      "\n",
      "\n",
      "Biz: u'Taboonette', Score: 0.997\n",
      "Known?False, '04-07-15', 0.237, u'My daughter and I had lunch there a few days ago. I had the beet soup, We did not share our food. 8 Hours later I had symptoms of severe gastroenteritis with water diarrhea, loss of appetite and fatigue. That was the only food I ate that day so I an assuming the food at Taboonette did it.   \\n      I will never return.'\n",
      "\n",
      "Known?False, '04-13-15', 0.000, u'A+, Taboonette takes your average middle eastern/mediterranean fare and spices it up with fresh pitas, a unique spin on lamb (pattys), and delicious sides.\\n\\nFar better than mamouns\\n\\nClean, nice little space as well'\n",
      "\n",
      "Known?False, '04-15-15', 0.004, u'I had the most amazing kebab sandwich ($9.80) here. The eggplant in it takes it to another level and the meat is perfectly seasoned and melts in your mouth.  All of the flavors go so well together and you can taste the good quality of ingredients. It came with a small amount of chips and a spicy green herbal sauce (wish I knew the name). You might be able to get a cheap kebab anywhere but this place takes the sandwich to high quality heaven. Plus I love the cozy and chic interior design and the staff is kind and friendly. Community style seating. \\nBathroom available.\\nFree WiFi (ask the staff for the password). \\nGet a frequent buyers punch card.'\n",
      "\n",
      "\n",
      "\n",
      "Biz: u'Cafe Chili', Score: 0.995\n",
      "Known?True, '04-24-15', 0.143, u\"Here is the down and dirty on Cafe Chili.  The food tastes good. Note: the waiters are a little slow and in their own little world. Other than that it's a nice environment, for take out a Thai restaurant. By the time I walked home my stomach was off charts not well. I had the Panang Chicken Curry for the next hour diarrhea central. \\n\\nStay away from Cafe Chili unless you want to take a chance on bad stomach ache.\"\n",
      "\n",
      "\n",
      "\n",
      "Biz: u'5 Napkin Burger', Score: 0.995\n",
      "Known?False, '06-16-15', 0.187, u'Got the worst food poisoning from their Tuna steak sandwich. Never happened to me before not even in the poorest countries.'\n",
      "\n",
      "Known?False, '06-21-15', 0.002, u'This place is the best, it beats the rest!  Put it to the test, go eat and then....take a long nap.'\n",
      "\n",
      "\n",
      "\n",
      "Biz: u'Pizza Garden', Score: 0.995\n",
      "Known?False, '03-16-15', 0.185, u'Pizza is terrible. Got three different slices and all of them were equally tasteless. Feel so sick this morning... Only good thing was the garlic knot I had.'\n",
      "\n",
      "Known?False, '03-20-15', 0.000, u\"My wife and I have been back here several times. I live in the next town over, BAYSIDE, and this place does not disappoint . With all the Italian restaurants in the area ,this one was recommend by a friend. The baked clam's were out of this world. You could not go wrong with the other dishes on the menu. The service was prompt and friendly. Oh: Did I mention the pizza is Great. As a skeptical New Yorker, I must give them a top rating.\"\n",
      "\n",
      "\n",
      "\n",
      "Biz: u'Mapo Tofu', Score: 0.995\n",
      "Known?False, '03-10-13', 0.104, u'They had me at, \"MSG? We don\\'t use MSG! We aren\\'t an American Chinese restaurant!\" Delicious food, freshly made dumplings, tender beef, and delicious jasmine tea. Am here for work for two weeks and will be back as often as possible, yum!'\n",
      "\n",
      "Known?False, '03-16-13', 0.035, u'Just an oridinary Sichuan restaurant, but close to work.'\n",
      "\n",
      "Known?False, '03-20-13', 0.074, u'Buon ristorante cinese. I piatti sono parecchio diversi e migliori di quelli cui siamo abituati in Italia!'\n",
      "\n",
      "\n",
      "\n",
      "Biz: u'CoBa 53', Score: 0.994\n",
      "Known?True, '03-31-15', 0.179, u'The Banh Mi gave me explosive Diarrhea - I think the vegetables were dirty. On the other hand - I lost 5 lbs in 2 days!!! #thinspiration'\n",
      "\n",
      "Known?True, '04-04-15', 0.001, u'Food was extremely bland. Meat was indistinguishable. Pho broth lacked Flavor, tasted like water. The service was brusque. The restaurant itself was trendy and had a lovely ambience but does not make up for food.'\n",
      "\n",
      "\n",
      "\n",
      "Biz: u'Sing Huang Restaurant Corp', Score: 0.994\n",
      "Known?False, '05-28-15', 0.133, u'Accompanied by a family member for a doctor appointment afterwards my party of two ate lunch here as it was the nearest caf\\xe9 since I am currently in abject pain from recent major surgery.  By the power of observation it was nearly empty at peak lunch hour of 12 pm noon with only one White woman and one Chinese patron we doubt if the quality of food was any good.  The atmosphere was rather dark and dingy.  Neither of us wanted a big lunch but something quick so we can both be on our merry way home.  Ergo, respectively we ordered:\\n\\nRoast duck with noodles $5.25\\nRoast Pork with noodles $5.25\\n\\nWhoa!  It was heavily loaded with MSG and salt.  Completely unhealthy.  The MSG made us both thirsty for water.  Three hours later I ended up with a big case of diarrhea with the porcelain throne (aka toilet) for 1/2 hour with additional pain. Pain from surgery + diarrhea.  Service was average as they stood attention within mere inches away from us either waiting to usher us out or waiting to serve us more while listening in to our private conversation.  ICK to MSG!'\n",
      "\n",
      "\n",
      "\n",
      "Biz: u\"Bill's Bar & Burger\", Score: 0.994\n",
      "Known?False, '05-21-14', 0.122, u'What happened to the veggie burger?? I came here and ordered my usual veggie burger and they replaced it with sawdust buns and mushy grass patties. The veggie burger used to be so good and now its too disgusting to even finish. My coworker and I only ate half of it and called it quits.'\n",
      "\n",
      "Known?False, '05-23-14', 0.083, u\"My 2nd time here with a company team outing.  I had the BBQ Burger w/ Sweet Potato Fries.  We also had the Guacamole, boneless wings & Spinach dip appetizers.  I'm not sure what part of the meal it was but everyone (with the exception of the person who had the veggie burger) did not feel well.  I had the worst of it which - severely I'll which caused me to miss work. I suspect this was some sort of food poisoning.  Needless to say they're off the list!!!\"\n",
      "\n",
      "Known?False, '05-28-14', 0.001, u\"In a midtown pinch at lunch hour, willing to brave some tourists, it is fast and friendly service, a diverse menu that will suit all types (including vegetarians -- their salads are great) and good space.  There are, however, a lot of tourists to endure, but overall in a part of the city where non-corporate lunch options are few and far between, its location and consistency really can't be beat.\"\n",
      "\n",
      "\n",
      "\n",
      "Biz: u'Dinosaur Bar-B-Que', Score: 0.994\n",
      "Known?False, '04-13-15', 0.004, u\"So here we go with another Dinosaur review. I believe in honesty in reviews, and tho my first review wasn't that good, I felt compelled to write a review of the Brooklyn location.\\n\\nWe had such a great time I wish I didn't have to leave. As you can tell by every review I have wrote, I LOVE THE DEVILED EGGS!!!! I ate a dozen myself (I was there with three other people).\\n\\nThis time I also had the TRES NINOS and the Mac and Cheese and chicken wings, as per my incredibly knowledgeable waiters recommendation. The people I was with debated how hot to get the wings, so I ordered them naked, with various sauces on the side. They ended up being so good, I didn't even use any sauce on mine. They rate as some of the BEST wings I have ever had!!\\n\\nThe Tres Ninos was just a plate of deliciousness. Each item on the plate was better then the item before it. Coupled with the mac and cheese, it was the epitome of comfort food.\\n\\nThe ambiance and atmosphere here is great. Great music in the back ground. Loud enough to enjoy, quiet enough to engage in conversation without yelling.\\n\\nThe wait staff checks periodically to make sure all is well, and brings all food and drinks in a timely matter.\\n\\nJoe runs a tight ship, and really cares about each customers experience.\\n\\n15 Minutes from my hotel in Manhattan, I would recommend this place to anyone staying in the Financial district in Manhattan.\\n\\nWe had many choices of where to go, including a BBQ place across form the Conrad Hotel. Glad we made the right decision.\\n\\nOh, LOL, did I mention they make the best deviled eggs!!!!\"\n",
      "\n",
      "Known?False, '04-14-15', 0.001, u'Great addition to the neighborhood! Love their food (wings, fried tomatoes, ribs and Mac and cheese are all delicious). Their drinks are great too and most importantly for us is their friendliness to children. Delivery tough takes forever!'\n",
      "\n",
      "Known?False, '04-16-15', 0.004, u'Waited over two hours for a delivery which consisted of a missing an entr\\xe9e, a smashed chicken sandwich that was raw in the middle, and cold ribs. \\n\\nThis restaurant is clearly poorly managed and overwhelmed. \\n\\nAvoid.'\n",
      "\n",
      "Known?False, '04-17-15', 0.001, u\"The wait was to be expected but the unwelcoming and condescending host staff was not.\\nOnce we were seated, the food came out quicker than expected.\\n\\nPulled pork was great, tender and well seasoned.\\nThe brisket was not the best, fatty and just not that appealing.\\nPeel and eat shrimp were good and the cocktail sauce was great.\\nThe Mac a cheese was far from hot (as was most of the food) when it was brought to the table and not very good.\\nThe mashed potatoes and gravy were great. \\nThe rice was interesting, but not something I would recommend with that type of meal, it seemed like an after thought to the menu. \\nI enjoyed the corn muffins, but felt that the overall approach to the taste was to put bbq sauce and Cajun seasoning on things and call it BBQ food. The sauce by the way is simply ok, nothing special.\\n\\nOur waitress Chantelle was great. \\n\\nThe presentation of the food was lackluster, it felt like a cafeteria.\\n\\nI thought the size of the portion was skewed down comparatively for the price, it's not a place I would particularly recommend or return back to.\"\n",
      "\n",
      "Known?False, '04-18-15', 0.003, u'went to DBBQ for birthday. food was okay. pretty heavy taste to me.'\n",
      "\n",
      "Known?False, '04-19-15', 0.000, u\"Family style meal is the bang for your buck! 3 guys 3 girls we left satisfiedddd! Don't forget to order the wings!!\"\n",
      "\n",
      "Known?False, '04-20-15', 0.017, u\"I've always gone to Harlem for dinosaur BBQ, but now that I know there's one in Brooklyn (and next to ample hills creamery) I can have it so much more often! If I'm ever in the mood to wait the wait! Good thing is--you can put down your number, go have drinks and play shuffle board at Royal Palms while you wait for a table. \\n\\nI don't actually believe it's the best BBQ, but it's still finger licking good. And the sides in addition make a damn good meal. I love the Mac n cheese, and I usually get the brisket or ribs. The hot BBQ sauce too makes the dish! If you're feeling young, the donkey punch will probably still make you dizzy from just watching the bartender add all the different types of liquor to your glass. It'll definitely give you a quick buzz. \\n\\nOther than that, the place is just a fun atmosphere. The BBQ loving crowds are happy people! And in some ways, it almost feels like you're in a big cabin lodge. Go and enjoy!\"\n",
      "\n",
      "Known?False, '04-21-15', 0.293, u'order sandwich to go, gave a small tip (5%) as a token, heard a staff member in the back shouting \"thank you\" sarcastically. then she said something about \"MSG\". ate the sandwich reluctantly - it was OK for a brisket sandwich but not worth $10. now feeling the undeniable tongue tingling only associated with MSG intake. so yeah, I was MSG poisoned, on purpose.'\n",
      "\n",
      "Known?False, '04-22-15', 0.001, u'So my entire family and I came to Dinosaur BBQ because we heard raving reviews about the Harlem location. It was my cousin\\'s birthday and we were all in an upbeat mood. However, our waitress, M*n*que (Yelp prohibits members from writing names), was not. Our party arrived in in 2 groups and never once did she introduce herself to us. She often disappeared for long periods of time where several people in our party stood up and looked all around the restaurant for her but to no avail. When we finally got our food, the waitress messed up the orders for 3 people in our party delaying them from fully enjoying their meals. It is also worth mentioning that the only thing memorable about the food was that it was cold and it took over an hour to come out - the same time it took for us to get our drinks. Then, when someone in our party complained that they did not like the chicken because it was dry and asked for a different dish the waitress snapped and said, \"the kitchen is closed\". That was the official moment that I was over this place. Why wasn\\'t our party ever greeted properly by the waitress? Why weren\\'t we told that the kitchen was closing prior to the kitchen closing? We weren\\'t even able to order a dessert and sing happy birthday to my cousin because she didn\\'t inform us that the kitchen was closing. It wasn\\'t until I vocalized these issues that the waitress ran to the back to get the \"kitchen manager\" who said, \"we don\\'t inform guest that the kitchen is closing. We close at 11pm.\" After all of this, a busboy comes over to our table to tell us that his coworkers are racist and we were well in our right to complain because they treat minority customers poorly at this particular restaurant.  NEVERRRRRRRRR WILL I EVER GO BACK TO THIS PLACE EVER AGAIN.'\n",
      "\n",
      "\n",
      "\n",
      "Biz: u'Rock Center Cafe', Score: 0.994\n",
      "Known?True, '09-29-13', 0.001, u\"A mediocre lunch for way too much money, but it was cool sitting next to the fountains with the gold statue, so we didn't complain.\\n\\nTwo drinks, an appetizer and a steak salad came out to about $75. There is a bar as well, so if you aren't looking to spend that kind of money on lunch, you can just grab a $14 drink and take in the ambiance.\\n\\nJust watch out for tourists trying to take pictures on the stairs down to the restaurant, they can get feisty.\"\n",
      "\n",
      "Known?True, '10-04-13', 0.174, u'The service was poor, the food was cold....and 2 hours later I was literally sick to my stomach.I actually  called the restaurant to complain and the manager was not helpful. Dont go here'\n",
      "\n",
      "\n",
      "\n",
      "Biz: u'Brooklyn Standard', Score: 0.994\n",
      "Known?False, '09-10-15', 0.129, u'Gross.  Way salty biscuit with funny tasting over salty eggs and over salty bacon.  That plus lukewarm drip coffee was my miserable first meal today. My stomach regrets the decision. Nice place, room for improvement for sure, but as of today, Gross.'\n",
      "\n",
      "\n",
      "\n",
      "Biz: u'T Bone Diner', Score: 0.994\n",
      "Known?False, '04-14-15', 0.148, u'Mediocre food.. Not the best place to eat. When I was working late nights I would stop here eat all the time but next morning I would wake up sick to my stomach.  There Blt is better than anything else.'\n",
      "\n",
      "Known?False, '04-17-15', 0.026, u\"Stopped by here once with a friend to chat. Ordered a slice of a chocolate Oreo cake and friend had a plain lemon water. The chocolate Oreo cake tasted dry, old, and not fresh. I felt sick with each bite. My friend's drink had a slice of lemon with the sticker still attached onto it.\\nWas a huge disappointment because this diner has been around since 1948, and really needs to stop cutting corners. \\n\\nBasically, don't come here!\"\n",
      "\n",
      "\n",
      "\n",
      "Biz: u'Takahachi', Score: 0.993\n",
      "Known?False, '06-11-15', 0.123, u'Sushi was decent, waiter not so good, atmosphere blehh. My advise if you want melt in your mouth fish, try another place.'\n",
      "\n",
      "\n",
      "\n",
      "Biz: u'Hanabi', Score: 0.993\n",
      "Known?True, '05-31-15', 0.122, u\"Look I am a grown man who has been eating NYC Sushi since before I could walk (seriously...) My family owns restaurants in NYC so I never write on Yelp because I know how annoying it can be for small business owners who really try to provide the best experience that they can. I have the stomach of a goat and almost never get sick from food. I just ordered the Sashimi Deluxe from Hanabi last night and immediately after I was done eating I had aches all over my body. I don't know if they dip their fish in mercury before serving or if they buy their fish from the Fukushima nuclear plant in Japan but this stuff is poisonous. I woke up this morning with stomach cramps and my whole body is weak with some aches in my joints. I truly wish I never ordered from these guys... Please take my advice, I know the prices are decent but if you want to eat raw fish please spend the extra buck or you can try these guys and learn the hard way. Anyway, good luck with your Sushi search.\"\n",
      "\n",
      "\n",
      "\n",
      "Biz: u\"Bombay's Indian Restaurant\", Score: 0.993\n",
      "Known?False, '03-06-10', 0.144, u'Have been here often and may usually give it three or four stars, but Thursday I went for lunch (Chicken Tika Masala) and by last night I was vomiting like never before. The worst food poisoning. The evil is still in my body somehow... Will never return :('\n",
      "\n",
      "Known?False, '03-09-10', 0.021, u'What FiDi lacks is a good sit-down Indian place... maybe one with a nice buffet and a tablecloth. So what to do? One option is the various DEK outposts on every other block, which are ok but that\\'s another review. The clear winner for me is Baluchi\\'s. While the menu is quite limited (though not more than the other FiDi places) it\\'s all really good. And you get a nice generous portion for the combo - and bonus points since they serve it in a bowl instead of the triple-compartment Styrofoam! Food in a bowl HAS to be good. The seating is kind of tough since the place is always packed (but that\\'s a good sign right?). I always end up sitting at the counters running along the wall. I\\'ve no real insight to share about what to order...  chicken tika masala, good... lamb vindaloo, good ... saag paneer, good... but now we\\'re like 60% of the way through their menu. Their \"medium\" spicy seems a bit spicier than you\\'d expect, but certainly not nuclear. They have a little cooler filled with beer and mango lassis and Snapples, they heat Naan to order, they pipe in classical music (and did I mention they\\'ll come and clean up your bowl?) so what\\'s not to love? Overall, for about $10 a great Indian place for lunch if you\\'re down here.'\n",
      "\n",
      "\n",
      "\n",
      "Biz: u'Chelsea Cottage', Score: 0.992\n",
      "Known?False, '12-03-12', 0.114, u'I ordered some beef cubes for lunch today and it was the most disgusting thing I have ever had in my life. The meat was partly raw/burnt, and the entire dish was so bland that I had to drown it in soy sauce. The order clearly stated that it has \"Vietnamese sauce\" but there was NO SAUCE. I am now feeling nausea...ugh.'\n",
      "\n",
      "\n",
      "\n",
      "Biz: u'Brooklyn Mac', Score: 0.992\n",
      "Known?True, '11-17-13', 0.112, u'This place WAS delicious but has went down hill. Attitude is awful from the employees. \\nThey get No STARS if I can because BAD MEAT smelled bad, tasted bad and made me sick to my stomach.\\n\\nWe gave them many chances to fix this issue but two other times they had bad smelly MEAT delivered.\\n\\nWe never will order from there again! Disgusting I give them a C for Health reasons'\n",
      "\n",
      "\n",
      "\n",
      "Biz: u'American Latin Cuisine', Score: 0.991\n",
      "Known?True, '07-28-15', 0.111, u\"I've eaten here twice. First time I got pernil which was pretty tasty with bland rice and not good beans. But it was cheap\\nAnd dude was nice, so I was okay with it. \\n\\nSecond time I got oxtail, rice and beans. Oxtail was not trimmed at all. It all tasted bad. I rarely toss food, but after stomaching the oxtail and a few bites of rice and beans with extra hot sauce, I threw it out. I can't help but wonder, who is cooking back there?  And the icing on this awful cake, I got sick. Sluggish, lay down then run to bathroom type sick.  This was my first time  getting sick from eating cooked food. No bueno. \\n\\nI won't be eating here again. Period.\"\n",
      "\n",
      "\n",
      "\n",
      "Biz: u'Paula Pizza', Score: 0.991\n",
      "Known?False, '08-22-13', 0.110, u\"Paula's Pizza is what NYC pizza is all about.  Except to an idiot critic likeRob R., who knows absolutely crap about pizza.  I bet he never even ate there.  What does he know about Yankee Stadium pizza...what a rat faced jerk off!\"\n",
      "\n",
      "\n",
      "\n",
      "Biz: u'Mia Halal Food', Score: 0.991\n",
      "Known?True, '04-21-15', 0.110, u\"I've been coming here for a while now. The food is pretty darn good and the prices are very fair. The only issue I have is the food always gives me stomach pains and makes me run to the bathroom. Sorry guys, but it's the truth and you should know. \\n\\nMy husband has the same issue. Once, We actually timed it to see if it was their food and let's say thank goodness we have two bathrooms at home. He continued to eat from here until he got the worse pain in his stomach and refused to eat here again. He was in denial until then. We thought it can't be food poison because it's not a constant running to the bathroom issue.\\n\\nI don't know if it's an ingredient they use or what but we took a long break from eating here. The last time I ate here about two months ago, my chicken with rice had pieces of bone fragments which grossed me out. \\n\\nOverall the food is good and the place looks clean. Anyone had the same stomach pain issue?\"\n",
      "\n",
      "\n",
      "\n",
      "Biz: u'The Smith', Score: 0.991\n",
      "Known?False, '12-29-14', 0.001, u\"Of all the restaurants offering Thanksgiving dinners in Manhattan, and there are many, this was the one I chose.  I found this to be the most reasonably priced, and they had an assortment of dishes to choose from that me, my daughter, and my husband were happiest with.  It turned out to be perfect for us.\\n\\nI rather liked the limited menu because I was able to zero in on what I wanted immediately, and I knew it'd be along the lines of a turkey dinner.  My husband decided short ribs were the way to go, and I've been giving him a hard time about it ever since (jokingly, of course).  It's Thanksgiving, and he ordered short ribs.  Yuck.  \\n\\nThis was a 3-course menu, and they offered some wonderful choices for an appetizer.  My husband ordered French onion soup with a cheddar melt.  I couldn't begin to envision a cheddar melt on French onion soup, but I have to say, he had the winning appetizer.  It was deeeeeeeeeeeeeeeelicious.  I loved it.  The cheddar cheese was not too strong for that soup.  My daughter ordered the burrata served on grilled ciabatta and tomatoes and drizzled with balsamic vinegar.  She said it was really good, but I didn't taste it.  As for myself, I ordered the tuna tartare with jalapeno, black sesame and cucumber.  It had wonderful flavor, and I was surprised I ate something with jalapenos..... it was a negligible amount, though.\\n\\nAs for our main course, my daughter and I had the turkey dinner...... all the traditional fixins'....... turkey, stuffing, and mashed potatoes (we added them), with a splash of cranberry sauce, and it was also served with brussel sprouts....... at 60 years old, this was my first time since childhood trying brussel sprouts....... they were soooooooooooo good here.  I couldn't get over how tasty they were.... all I remember of childhood is that they were so bitter, nothing but bitter...... so this was a VERY welcome surprise.  Turkey was moist, all the sides had flavor.  The only downer, and a minor one at that, was that it came out bordering on cool in temperature.  I sent it back, and they brought me a new plate that was much warmer.  My husband ordered short ribs (of all things) for his Thanksgiving dinner (*rolling eyes*).  I can't say I understand that, but it's a free country, and he chose what he wanted.  No, I didn't taste it..... I refused.  It was Thanksgiving.  Turkey, turkey ALL THE WAY.\\n\\nFor dessert, I ordered the pumpkin bread pudding while my daughter and husband ordered the sticky toffee pudding.  They loved theirs, and I loved mine, but we were all so full by that point that none of us finished what we ordered, nor did we taste each other's desserts.  But yes, we all liked what we ordered.\\n\\nI would come back to this restaurant in a heartbeat.  Good 'ole American comfort food.  Large portions, great selection of dishes, and service with a smile...... it doesn't get much better.\"\n",
      "\n",
      "Known?False, '12-29-14', 0.006, u\"We wanted to go out for Christmas Eve dinner, but made the decision a bit late, so after trying about 12 different locations in the area, we found seating at 5:00 PM. It was rather empty to our surprise, but by the time we left at 6:40 PM it was quite crowded. I like the bread in the bag they served after being seated. We ordered gnocchi which was very good and the frisee salad was fantastic. I don't know why, but it was really good. The tuna tartar was also tasty. I really liked the flavor. The lamb chops were well prepared and cooked just right. Overall it was a nice experience. I like the atmosphere as it seems very British in decor, especially the co-ed bathrooms. Loved the lighting, the set up, the whole feel and well maintained. I should like to try their brunch sometime.\"\n",
      "\n",
      "Known?False, '12-30-14', 0.196, u\"Abbiamo Cenato a The Smith due volte durante il nostro soggiorno a New York ed \\xe8 sempre stata una bella esperienza ! Il locale \\xe8 tipicamente newyorkese: bel bar sempre affollato, gente giovane che si diverte in compagnia risate ecc. Buonissimo l'hamburger della casa, la bistecca e anche i gamberi grigliata con smash potatos!\"\n",
      "\n",
      "Known?False, '01-03-15', 0.001, u'We took some friends here who are in from out of town. My husband has very issues in the waiters were extremely attentive to his dietary restrictions. Delicious delicious food drinks and excellent atmosphere highly recommend!'\n",
      "\n",
      "Known?False, '01-04-15', 0.039, u'The first morning of 2015 we celebrate at this amazing restaurant with good drinks breakfast and wonderful dessert :) the resrevistion was so easy we order a place on line and when we get there (after 10 min) we already had a table!!! And then we took some pictures at the photo booth, we had fun and great experience for the first time there! We definitely come back!'\n",
      "\n",
      "Known?False, '01-05-15', 0.002, u\"I've Always wanted to try out The Smith, especially since I always walk by their East Village location. My cousin lives near the 52nd street one so we decided to come here for dinner. His girlfriend absolutely love the Fried Gnocchi and always tells me to try it so I was excited that I Finally got the chance to. First off it's ricotta stuffed. Second, it's freaking FRIED. and Third, it's covered in a truffle cream sauce. Oh my goodness it's ridiculous how good it is. We also had the Kale and quinoa salad and the fried string beans with ranch....they were so good we asked for a second gravy boat of ranch. Everything was delicious. Although I couldn't stop thinking about how I could make the strings beans, so I could coax myself into eating string beans all the time. \\n\\nIt was a Sunday night so it wasn't too packed and I enjoyed my perfectly made Hot toddy. The final cherry on top was that were was a photobooth in the bathroom so of course we piled ourselves in! I can definitely see this place as a fun dinner spot during the Friday night/Saturday night rush. Go Go Go!!\"\n",
      "\n",
      "\n",
      "\n",
      "Biz: u'Alladin', Score: 0.990\n",
      "Known?True, '12-11-14', 0.106, u'First of all none of the cooks wear nets or cooking hats on their heads. I ordered a fresh salad from them which had a hair wrapped around the tomatoes/cucumbers and also I ordered Biliyash with meat which tasted exremely old and stale and had a hair BAKED IN the bread! Disgusting. Extremely unsanitary kitchen. Oh and also my husband got a food poisoning from one of their soups and their kebabs. I hope the health department investigates this place and they close down for good.'\n",
      "\n",
      "\n",
      "\n",
      "Biz: u'Hide-Chan Ramen', Score: 0.990\n",
      "Known?False, '10-01-14', 0.157, u'I had the pork buns, deluxe ramen, and the red dragon.. All of which were delicious but gave me and my boyfriend a stomachache for hours after!'\n",
      "\n",
      "Known?False, '10-03-14', 0.020, u\"This place is great. The noodles are very yummy and it's better than ipoudo and totto.\\n\\nI felt they were unfair though because they made us adhere to the $10 minimum rule when they were cool with the ppl sitting next to us not adhering to the rule, but I assured myself this was ok cause they were plebeians, but still. Not pleasant\\n\\nThe amazingness of the ramen is however evidenced by my 5 rating despite this odious encounter. Yayyyy\"\n",
      "\n",
      "Known?False, '10-04-14', 0.001, u\"I've been wanting to try Hide Chan for a while now. When we found a spot right in front of the restaurant I thought the stars were aligned. Plus the wait wasn't that bad for a Saturday afternoon.\\n\\nUnfortunately, the food was lacking compared to other ramen places in the city, such as Ippudo, Minca, Momofuku. The spicy miso ramen broth was bland, like the pork inside. The spicy garlic broth was a little better, but I think that's just because garlic has a stronger taste. Everything else was pretty forgettable. Well, the pork buns were juicy.\\n\\nNext time I think we'll just go to Totto next door.\"\n",
      "\n",
      "\n",
      "\n",
      "Biz: u'Extra Fancy', Score: 0.990\n",
      "Known?False, '11-02-13', 0.151, u'Food poisoning from consuming raw fish and chips tonight. Grossed out and sick. Never again this place has gone way down the hill since the last visit many months ago.'\n",
      "\n",
      "Known?False, '11-02-13', 0.024, u\"It's okay. I mean it's just okay. Nothing so special. The famous seafood bowl in soup doesn't have deep flavor. But if I have no choice left, I would go back to fill my stomach.\"\n",
      "\n",
      "Known?False, '11-06-13', 0.001, u\"Very delicious seafood restaurant and bar with a $20 special on Tuesdays for a large lobster roll, fries, and a beer. About a five minute walk from the Bedford stop and a great weeknight alternative if you're looking to get out of your comfort zone. Started by chefs who used to work at Le Bernardin and prices around $16-28 for entrees. Get the deviled eggs as an appetizer.  The bartender's also super nice.\"\n",
      "\n",
      "\n",
      "\n",
      "Biz: u\"Duke's\", Score: 0.990\n",
      "Known?False, '05-10-15', 0.000, u\"That's the place I discovered the delicious sweet potatoes' French fries. \\nThe rest of the menu and the service were average. The size portion was fair.\"\n",
      "\n",
      "Known?False, '05-14-15', 0.192, u'Yummy slippy food with lots of sauce. Very frothy hope my diarrhea is not number one tonight'\n",
      "\n",
      "Known?False, '05-15-15', 0.001, u\"Best happy hour in the city I've been to so far. If you're looking for a down-home, Southern experience with half price cocktails and appetizers every weekday from 4-7PM. Perfect place to get together with friends after work. We also went on a Thursday so the BBQ brisket was 1/2 price. It was delicious! For drinks, I ordered the Carolina lemonade (with whiskey) and the Firefly lemonade (sweet tea vodka and lemonade). For appetizers, we ordered the pulled pork spring rolls, mac and cheese, nachos, and guacamole with chips. Suffice to say, our stomachs were very happy. Do yourself a favor and visit during happy hour. You won't regret it.\"\n",
      "\n",
      "Known?False, '05-15-15', 0.004, u\"My husband is an electrician, building a building on 20th, so I met him for lunch. He had 2 Yuengling drafts, and I just had a Bud Btl, and our bill was $24.50!!!!!!!!!!!!! I feel violated. I'm so disgusted I literally want to spit on their bar. I need a shower after that filth.\"\n",
      "\n",
      "\n",
      "\n",
      "Biz: u'Pazza Notte', Score: 0.989\n",
      "Known?True, '08-14-15', 0.006, u\"This place disappointed. It wasn't my choice for dinner; I deferred to the group of seven I was traveling with.\\n\\nHowever, I was excited when I read on the menu that they offered housemade pasta. I rarely have the chance to enjoy fresh pasta, so that was clearly the choice for us that night! I offered for my husband to choose which dish & he went with the Penne Alla Vecchia Bettola: crushed tomato, prosciutto, asparagus, garlic, cream, parmesan & a splash of vodka. Sounds delightful, right? When we realized that this dish was also an option on the prix fixe menu, we opted for that. For an additional $7, we received a glass of house wine & an appetizer. It was a no brainer. \\n\\nThe small braided rolls brought to the table were rather hard & forgettable. Our server was none too generous either: one for each of us (7) in the basket.\\n\\nOut came our calamari appetizer. It's an infrequent occasion that I order anything fried, so when I suggested this to my husband, he was surprised but, as a sweet husband does, obliged to my request. The calamari was good, not great. It was a mix of tubes & tentacles, which I like. But they lacked that crisp bite one expects from well-prepared calamari. In addition, the marinara sauce for dipping lacked any seasoning. Another disappointment. \\n\\nI'm sure the fresh pasta will redeem it all!\\n\\nNot. The bowl was small, which wasn't terribly surprising since we opted for the prix fixe portion. I took a bite &, while it tasted fine, it was far from fresh pasta. Seriously? Urgh. I decided to forego questioning this in front of our group, but approached the manager when we left that evening. I asked about the menu's claim of fresh pasta & he replied that the housemade pastas are the lasagne, fettuccine & occasionally, tagliatelle. The fresh options are noted on the menu with an asterisk. All of the others are dried De Cecco pasta. I told him how I thought this was misleading & should be made more clear on the menu. He was kind & responded by saying he would try to think of a way to re-do that portion of the menu. I thanked him, but no bother. It was a quick stay in NY for us this time & knowing the other food we had here wasn't that memorable, I won't be back when we do return. There are far too many 4 & 5 star options to try!\"\n",
      "\n",
      "Known?True, '08-19-15', 0.136, u\"Great food, til this morning, when my bf couldn't get up for work on the account of being sick. Perhaps it was the bad mushrooms?\\n\\nCalled Management, which was unresponsive and a bit crude. Offering no apology, instead a shoddy implication of take your problem elsewhere. \\n\\nSad, cause we were hoping to dine here again- Guess Not.\"\n",
      "\n",
      "\n",
      "\n",
      "Biz: u'Aya Sushi', Score: 0.989\n",
      "Known?False, '04-23-15', 0.000, u'Love this place.  In town on business.  Checked yelp.  Had a 4 star rating.  Fresh, delicious, Good service, outstanding sushi.  Highly recommended'\n",
      "\n",
      "Known?False, '04-27-15', 0.171, u\"I don't know why, but every time when I eat my take-outs here, I get a stomachache and diarrhea later. I always order salmon, so salmon, or rice, might be a reason that causes my stomachache.\\nFood tastes good and it is moderately priced though...\\n\\nAt other traditional Japanese sushi restaurants (eat-in), I do not get a stomachache. My stomach usually hurts only after I eat too much garlic, milk, or spicy food.\"\n",
      "\n",
      "Known?False, '04-28-15', 0.001, u'Not a good place for dine-in dinner meal. They charge you Manhattan price for a very cheap quality food.'\n",
      "\n",
      "\n",
      "\n",
      "Biz: u'Market Diner', Score: 0.989\n",
      "Known?False, '07-05-10', 0.099, u\"Stopped here just before the Macy's 4th of July fireworks show. Quick service despite the crowds, and the Italian burger was great.\"\n",
      "\n",
      "\n",
      "\n",
      "Biz: u'Wu Liang Ye', Score: 0.989\n",
      "Known?False, '10-22-15', 0.098, u\"Late 19th-century parlor floor of a townhouse, with chandeliers and fireplaces, and, most of all, good Szechuan food. And NO MUSIC! Voices rose and fell, but that's normal.\\n\\nIf it's significant, we heard lots of Chinese at other tables.\\n\\nWe had cumin lamb, camphor duck, and mixed vegs. The oranges presented for dessert were perfect foils. \\n\\nPricey for me, but worth it. A birthday celebration for someone special.\"\n",
      "\n",
      "\n",
      "\n",
      "Biz: u\"Isabella's\", Score: 0.988\n",
      "Known?True, '04-12-15', 0.185, u'Came here today for brunch. Great location, beautiful interior and good service. All this probably 4 or 5 stars. Downside: the food. My smoked salmon benedict was just ok, the side salad was literally just a handful of leaves and the kitchen forgot to include the melon to be on the side. The food itself probably could get 2 stars though. The thing that really got to me was the Campari drink I got. After having it, I instantly felt dizzy. Not like happy drunk dizzy, but sick dizzy. I went home and fell asleep for two hours, woke up with a bad headache and nausea. I can hold my alcohol and this has never happened before, so I suspect that there was something wrong with the alcohol itself. For making the rest of my Sunday a wash and possibly causing me some kind of poisoning, one star. Unfortunate.'\n",
      "\n",
      "Known?True, '04-13-15', 0.001, u\"I wish I had read my own review before coming back here. We did sit outside for lunch, but the food was very mediocre and overpriced. Children's menu 'grilled' salmon was very charred and not edible for the kids. My seafood salad was disappointing and lacking in seafood substance. \\nHopefully next time I'll remember not to go back.\"\n",
      "\n",
      "Known?True, '04-13-15', 0.001, u\"Pros: Close to the Natural History Museum and Central Park, outdoor seating, and on Sundays, you get a free cocktail and coffee with your meal!\\nCons: Outdoor seating was in the shade for our whole meal (11am-1pm). Food wasn't very good; I got the Goat Cheese Omelet, and it didn't impress.\"\n",
      "\n",
      "Known?True, '04-13-15', 0.000, u\"I had a great experience here and it was delicious!\\n\\nMy mother was visiting and we popped into Isabellas' based on the lovely building and inside open decor which felt perfect for a Spring day. There is a lot of windows and natural light in this restaurant. \\n\\nMy mother had a salad and I had the smoked salmon eggs Benedict. It was all delicious! I never see my mom finish everything on her place, but she couldn't stop eating from her or my plate. Our waitress, Alex, was lovely. She was so approachable and friendly. This makes a huge difference and great experience.\\n\\nIt should also be noted that the host was super friendly and all smiles as we walked in on a busy Sunday afternoon.\"\n",
      "\n",
      "\n",
      "\n",
      "Biz: u'Wok To Walk', Score: 0.988\n",
      "Known?False, '05-19-15', 0.087, u'Thought it was odd that either a sauce that had no \"spicy\" stars next to it, sweet and sour of all things, had something hot in it like chile peppers or jalepano or the peppers were in the jasmine rice, which clearly doesn\\'t mention being spicy.  Does everything in this city have to have peppers hidden in it! Also felt sick a few hours later with an upset stomach and thought it was a little too coincidental that two other yelpers within last 6 months got sick. Not a good sign. A little chaotic too at the end of getting my order as some staffers don\\'t know English that well and difficult to follow. The mgr is also a little abrupt when he swoops in to try to quickly solve a \"problem\" with little human relations grace, seemingly more interested in returning to the conveyer belt-like money-making operation.'\n",
      "\n",
      "Known?False, '05-23-15', 0.046, u'So let me start off by saying this place rips.  I had just smoked some chrome on 26th street and was in need of some food...I then graled out an L and ate here.  It was delicious and the people represent #tibet ....great eatery.'\n",
      "\n",
      "\n",
      "\n",
      "Biz: u'Empire Szechuan Noodle House', Score: 0.987\n",
      "Known?False, '02-07-15', 0.000, u'I had one of the specials. Pork chop in hot pepper bean sauce. It was excellent. Nothing fancy place. But happy with my choice.'\n",
      "\n",
      "Known?False, '02-10-15', 0.133, u\"FOOD POISONING!! Chicken and eggplant w/ brown rice and hot sour soup.\\n\\nI normally don't write reviews but just couldn't let this go by. I had gone here a few times back in 2012 but stopped because they refuse to put less soy sauce in my food when I explicitly ask. Forward to 2015, today I ordered a chicken and eggplant dish with brown rice and the hot sour soup. Ate it around noon and the stomach cramps came around 1pm. Had to leave work to go rest at home. Twisted in bed for about 4 hours and then the diarrhea kicked in. Feeling better now but definitely won't be coming back. \\nAnd the dish today was again very oily and too salty. This is not close to real Chinese food. While Jade garden isn't much better in terms of quality at least you don't get food poisoning.\"\n",
      "\n",
      "\n",
      "\n",
      "Biz: u\"Grandma's Dim Sum\", Score: 0.987\n",
      "Known?True, '04-07-15', 0.000, u'Decor was nice but that didn\\'t come close to making up for everything else. Spicy beef had decent spices but the quality of meat was at the level of a mediocre Chinese take-out in a Non-Chinese area. Tasted like it was made the night before and thrown in a wok when ordered to reheat. The \"Japan style udon\" - isn\\'t udon supposed to be Japanese style - was greasy and tasted reheated. The seafood in it tasted like it was defrosted from a cheap \"frozen seafood\" mix. Very very greasy and oily. The price for those two and a chicken feet appetizer was $40 with tax and tip included. I haven\\'t even discussed the lack of dim sum at a restaurant that calls itself Dim Sum. Rip off for below quality food.'\n",
      "\n",
      "Known?True, '04-09-15', 0.131, u\"Had a few dishes with the family here yesterday...only thing I had different was the Tofu with some kind of crab egg sauce... Made me sick immediately ...within 10 minutes I ran to the restaurant bathroom and had a violent puking session.  I came here on a empty stomach and  I am not allergic to anything... If fact I'll try anything twice... But NOT this place ever again!   Something seriously wrong here... Eat at your own risk!!!\"\n",
      "\n",
      "\n",
      "\n",
      "Biz: u'Tenzan', Score: 0.987\n",
      "Known?False, '02-16-15', 0.001, u'The service has improved quite a bit. I frequent this restaurant and usually it is a 3 or 4 stars experience. It can be the fact that I was served with extra kindness a few days ago (my birthday). The waitresses were smiling and relaxed.. unlike the time in my last review. Their vibes and the ambiance were a perfect match to the quiet time I envisioned for my birthday dinner. What I did not envision was the green tea ice cream they served free for birthdays :D'\n",
      "\n",
      "Known?False, '02-20-15', 0.010, u\"Very decent place. They have private rooms. Huge plus. \\n\\nWe were here for Chinese New Year 2015 for a small gathering. It packed up fast. \\n\\nAlso BYOB, but they may charge you $15 for cork service. I didn't pay that because the family is regular here. One cousin had a complimentary mojito courtesy of the boss. Good management. Chinese run. Yes I'm not a big fan of that, but business is business. And business is good here. \\n\\nHighlights were definitely all the sashimi that was ordered. We had baby yellowtail, toro, salmon, and tuna. We ordered a few rolls, but they were standard fare. \\n\\nMy family also ordered a hibachi shrimp and teriyaki beef. I'm not a particular fan of cooked food when I have Japanese cuisine, so I didn't care much for those. Those were pretty standard. We also had a grilled squid. Standard fare as well. \\n\\nHowever one cool cooked item I had was the salmon neck. Not too shabby. They accompany it with a ginger type of sauce for dipping purposes, but I went without. It was just lightly grilled salmon neck and it was pretty good as is. \\n\\nOne thing of note is that the decor is nice. Very clean all around. Very spacious. Restroom is well maintained. They even have a second floor here. \\n\\nWait staff was also very attentive. Their English is fine if that is a question for some of you. \\n\\nTo finish it off my youngest nephew ordered a green tea fried ice cream. Nothing special. Standard fare. \\n\\nDefinitely a great place for a date. Good lighting and not too loud on the music. \\n\\nBill came to $270 before tip. It was a party of five. A little pricey for this type of establishment, but the quality was on par. And that's what counts to me, so it is worth the price of admission. I'll be sure to check back here on my next trip through the neighborhood.\"\n",
      "\n",
      "Known?False, '02-22-15', 0.149, u\"I had sushi take out yesterday and five minutes after eating it, my co workers and I started feeling nauseous and sat on the toilet for a long time.... Won't order again...\"\n",
      "\n",
      "\n",
      "\n"
     ]
    }
   ],
   "source": [
    "for w in top[:50]:\n",
    "    print \"Biz: %r, Score: %.3f\" % (w['bname'], w['outbreak_score'])\n",
    "    for date, eta,  t in sorted(zip(w['window_d'],w['window_eta'], w['window_t']), key=lambda x:x[0]):\n",
    "        print \"Known?%s, %r, %0.3f, %r\" % (w['outbreak'], date.strftime(\"%m-%d-%y\"), eta, t)\n",
    "        print\n",
    "    print\n",
    "    print"
   ]
  },
  {
   "cell_type": "code",
   "execution_count": null,
   "metadata": {
    "collapsed": true
   },
   "outputs": [],
   "source": []
  }
 ],
 "metadata": {
  "kernelspec": {
   "display_name": "Python 2",
   "language": "python",
   "name": "python2"
  },
  "language_info": {
   "codemirror_mode": {
    "name": "ipython",
    "version": 2
   },
   "file_extension": ".py",
   "mimetype": "text/x-python",
   "name": "python",
   "nbconvert_exporter": "python",
   "pygments_lexer": "ipython2",
   "version": "2.7.10"
  }
 },
 "nbformat": 4,
 "nbformat_minor": 0
}
