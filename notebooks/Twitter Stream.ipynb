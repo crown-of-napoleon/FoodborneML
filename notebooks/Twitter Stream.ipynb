{
 "cells": [
  {
   "cell_type": "code",
   "execution_count": 2,
   "metadata": {
    "collapsed": true
   },
   "outputs": [],
   "source": [
    "consumer_key = '7zIhqJrP60j37HRPddYwyqMAq'\n",
    "consumer_secret = 'uid7tU3OgQCJvLAl38zsP3phHzmKZO7SDPvY0mOIP21hmpKoUw'\n",
    "access_token = '352017605-yCxbWz4uz7H3ITcO50fzWOBdL6W3E31WnZcBExxo'\n",
    "access_token_secret = 'o5jNfKxnFFztoO40rHpYQA8OLPKmUOIUm27ZpQlGL9DJN'"
   ]
  },
  {
   "cell_type": "code",
   "execution_count": 97,
   "metadata": {
    "collapsed": false
   },
   "outputs": [],
   "source": [
    "from twython import TwythonStreamer\n",
    "from shapely.geometry import Polygon # for comparing bounding boxes efficiently\n",
    "from collections import deque\n",
    "import json\n",
    "import codecs\n",
    "\n",
    "class FoodBorneStreamer(TwythonStreamer):\n",
    "    \"\"\"Custom streaming endpoint class. Defines how to handle incoming tweets\"\"\"\n",
    "    def __init__(self, *args, **kwargs):\n",
    "        TwythonStreamer.__init__(self, *args, **kwargs)\n",
    "        self.counter = 0\n",
    "        self.count_limit = 20\n",
    "        self.error_counter = 0\n",
    "        self.error_limit = 10\n",
    "        self.follow = deque(maxlen=5000)\n",
    "        self.tweets = []\n",
    "        self.incidents = []\n",
    "        self.output_tweets = 'stream_tweets1.json'\n",
    "        self.output_incidents = 'stream_incidents1.json'\n",
    "        \n",
    "    def on_success(self, data):\n",
    "        if 'text' not in data: return\n",
    "        if self.in_incident(data): #takes care of adding status to incident if True\n",
    "            print \"Tweet involves tracked user %r:\" % (data['user'])\n",
    "            print self.counter, \":: \", data['text'].encode('utf-8')\n",
    "            print\n",
    "            self.tweets.append(data)\n",
    "            self.counter +=1\n",
    "        \n",
    "        elif self.in_trackterms(data) and self.in_box(data):\n",
    "            print \"NEW INCIDENT\"\n",
    "            print self.counter,':: ',data['text'].encode('utf-8')\n",
    "            #print data['user'].keys()\n",
    "            print\n",
    "            \n",
    "            self.create_incident(data)\n",
    "            self.update_follow_list()\n",
    "            self.tweets.append(data)\n",
    "            self.save_tweet(data)\n",
    "            self.counter +=1\n",
    "            \n",
    "        if self.counter >= self.count_limit:\n",
    "            self.counter = 0\n",
    "            self.save_incidents()\n",
    "            self.disconnect()\n",
    "    \n",
    "        if self.counter % 10 == 0:\n",
    "            self.save_incidents()\n",
    "    \n",
    "    def on_error(self, status_code, data):\n",
    "            print \"Error status code: \", status_code\n",
    "            self.error_counter += 1\n",
    "            if self.error_counter >= self.error_limit:\n",
    "                self.error_counter = 0\n",
    "                self.save_incidents()\n",
    "                self.disconnect()\n",
    "                \n",
    "    def run_dynamic_stream(self, filter_params):\n",
    "        # initial dynamic params\n",
    "        self.track = filter_params['track']\n",
    "        self.location = filter_params['locations']\n",
    "        \n",
    "        self.statuses.set_dynamic_filter(track=','.join(self.track), \n",
    "                                         locations=','.join(self.location))\n",
    "        self.statuses.dynamic_filter()\n",
    "                \n",
    "    def in_box(self, status):\n",
    "        \"\"\"recreate twitter filter to check if a tweet is in the bounding box\n",
    "            1. See if coordinates in box\n",
    "            2. check if place polygon intersects box\n",
    "        \"\"\"\n",
    "        #try:\n",
    "        if not self.location: \n",
    "            return True # no bounding box => anything is valid\n",
    "        locationbox = [(float(self.location[0]), float(self.location[1])), (float(self.location[0]), float(self.location[3])),\\\n",
    "                        (float(self.location[2]), float(self.location[1])), (float(self.location[2]), float(self.location[3]))]\n",
    "        if status['coordinates']:\n",
    "            c = status['coordinates']\n",
    "            if c['type'] == u'Point':\n",
    "                coord = c['coordinates']\n",
    "                if coord[0] <= self.location[0] and coord[0] >= self.location[2]\\\n",
    "                and coord[1] >= self.location[1] and coord[1] <= self.location[3]:\n",
    "                    return True\n",
    "                else:\n",
    "                    return False\n",
    "            elif c['type'] == u'Polygon':\n",
    "                loc = Polygon([tuple(point) for point in c['coordinates']])\n",
    "                box = Polygon(locationbox)\n",
    "                if loc.intersects(box):\n",
    "                    return True\n",
    "                else:\n",
    "                    return False\n",
    "        elif status['place']:\n",
    "            if status['place']['bounding_box']['type'] == u'Point':\n",
    "                coord = status['place']['bounding_box']['coordinates']\n",
    "                if coord[0] <= self.location[0] and coord[0] >= self.location[2]\\\n",
    "                and coord[1] >= self.location[1] and coord[1] <= self.location[3]:\n",
    "                    return True\n",
    "                else:\n",
    "                    return False\n",
    "            elif status['place']['bounding_box']['type'] == u'Polygon':\n",
    "                loc = Polygon([tuple(point) for point in status['place']['bounding_box']['coordinates']][0])\n",
    "                box = Polygon(locationbox)\n",
    "                if loc.intersects(box):\n",
    "                    return True\n",
    "                else:\n",
    "                    return False\n",
    "        else:\n",
    "            return False\n",
    "        #except:\n",
    "        #    print \"ERROR IN_BOX\"\n",
    "        #    return False\n",
    "        \n",
    "    def in_trackterms(self, status):\n",
    "        try:\n",
    "            if not self.track: return True # no terms means all pass\n",
    "            for term in self.track:\n",
    "                if term in status['text']: return True\n",
    "            return False\n",
    "        except:\n",
    "            return False\n",
    "        \n",
    "    def in_incident(self, status):\n",
    "        if len(self.incidents) == 0: return False\n",
    "        added = False\n",
    "        for incident in self.incidents:\n",
    "            added = incident.add_if_in_this_incident(status)\n",
    "        return added    \n",
    "    \n",
    "    def update_follow_list(self):\n",
    "        self.follow = deque([i.user['id'] for i in self.incidents if not i.is_over()], maxlen=5000)\n",
    "        \n",
    "    def create_incident(self, status):\n",
    "        self.incidents.append(Incident(status))\n",
    "        \n",
    "    def save_tweet(self, status):\n",
    "        with codecs.open(self.output_tweets, 'a', encoding='utf-8') as f:\n",
    "            f.write(json.dumps(status)+'\\n')\n",
    "            \n",
    "    def save_incidents(self):\n",
    "        with codecs.open(self.output_incidents, 'w', encoding=\"utf-8\") as f:\n",
    "            for incident in self.incidents:\n",
    "                f.write(json.dumps(incident.as_dict())+'\\n')\n",
    "                "
   ]
  },
  {
   "cell_type": "code",
   "execution_count": 16,
   "metadata": {
    "collapsed": false
   },
   "outputs": [],
   "source": [
    "stream = FoodBorneStreamer(consumer_key, consumer_secret, access_token, access_token_secret)"
   ]
  },
  {
   "cell_type": "raw",
   "metadata": {},
   "source": [
    "status keys: [u'contributors', u'truncated', u'text', u'is_quote_status', u'in_reply_to_status_id', u'id', u'favorite_count', u'source', u'retweeted', u'coordinates', u'timestamp_ms', u'entities', u'in_reply_to_screen_name', u'id_str', u'retweet_count', u'in_reply_to_user_id', u'favorited', u'user', u'geo', u'in_reply_to_user_id_str', u'lang', u'created_at', u'filter_level', u'in_reply_to_status_id_str', u'place']\n",
    "\n",
    "user keys:[u'follow_request_sent', u'profile_use_background_image', u'default_profile_image', u'id', u'verified', u'profile_image_url_https', u'profile_sidebar_fill_color', u'profile_text_color', u'followers_count', u'profile_sidebar_border_color', u'id_str', u'profile_background_color', u'listed_count', u'profile_background_image_url_https', u'utc_offset', u'statuses_count', u'description', u'friends_count', u'location', u'profile_link_color', u'profile_image_url', u'following', u'geo_enabled', u'profile_banner_url', u'profile_background_image_url', u'name', u'lang', u'profile_background_tile', u'favourites_count', u'screen_name', u'notifications', u'url', u'created_at', u'contributors_enabled', u'time_zone', u'protected', u'default_profile', u'is_translator']"
   ]
  },
  {
   "cell_type": "code",
   "execution_count": 22,
   "metadata": {
    "collapsed": false
   },
   "outputs": [],
   "source": [
    "\"\"\"API LIMITS:\n",
    "Follow: up to 5000 ids\n",
    "Locations: up to 25 boxes\n",
    "Terms: up to 400 terms\"\"\"\n",
    "boundingbox = []#['-74.259090','40.491370','-73.700272','40.915256'] # SW -> NE\n",
    "trackterms=['#foodpoisoning',\n",
    "            '#stomachache',\n",
    "            'food poison',\n",
    "            'food poisoning',\n",
    "            'stomach',\n",
    "            'vomit',\n",
    "            'vomited',\n",
    "            'puke',\n",
    "            'puked',\n",
    "            'diarrhea',\n",
    "            'the runs',\n",
    "            'got sick',\n",
    "            '#theruns',\n",
    "            'cool'\n",
    "            ]\n",
    "follow = []\n",
    "filterparams = {'locations':boundingbox, 'track':trackterms, 'follow':follow}"
   ]
  },
  {
   "cell_type": "code",
   "execution_count": 18,
   "metadata": {
    "collapsed": false
   },
   "outputs": [],
   "source": [
    "# old_follow = stream.follow\n",
    "# old_tweets = stream.tweets\n",
    "# print len(tweets)"
   ]
  },
  {
   "cell_type": "code",
   "execution_count": 19,
   "metadata": {
    "collapsed": false
   },
   "outputs": [],
   "source": [
    "stream = FoodBorneStreamer(consumer_key, consumer_secret, access_token, access_token_secret)\n"
   ]
  },
  {
   "cell_type": "code",
   "execution_count": 255,
   "metadata": {
    "collapsed": true
   },
   "outputs": [],
   "source": [
    "from twython import Twython\n",
    "twitter = Twython(consumer_key, consumer_secret, access_token, access_token_secret)"
   ]
  },
  {
   "cell_type": "code",
   "execution_count": 257,
   "metadata": {
    "collapsed": false
   },
   "outputs": [
    {
     "name": "stdout",
     "output_type": "stream",
     "text": [
      "Test 5\n",
      "{u'type': u'Point', u'coordinates': [40.80960442, -73.96121137]} ,  {u'type': u'Point', u'coordinates': [-73.96121137, 40.80960442]} ,  {u'full_name': u'Manhattan, NY', u'url': u'https://api.twitter.com/1.1/geo/id/01a9a39529b27f36.json', u'country': u'United States', u'place_type': u'city', u'bounding_box': {u'type': u'Polygon', u'coordinates': [[[-74.026675, 40.683935], [-73.910408, 40.683935], [-73.910408, 40.877483], [-74.026675, 40.877483]]]}, u'contained_within': [], u'country_code': u'US', u'attributes': {}, u'id': u'01a9a39529b27f36', u'name': u'Manhattan'}\n",
      "\n",
      "Test 4\n",
      "None ,  None ,  {u'full_name': u'Joe', u'url': u'https://api.twitter.com/1.1/geo/id/07d9dd0921480000.json', u'country': u'United States', u'place_type': u'poi', u'bounding_box': {u'type': u'Polygon', u'coordinates': [[[-73.96180629730225, 40.809976486485596], [-73.96180629730225, 40.809976486485596], [-73.96180629730225, 40.809976486485596], [-73.96180629730225, 40.809976486485596]]]}, u'contained_within': [], u'country_code': u'US', u'attributes': {}, u'id': u'07d9dd0921480000', u'name': u'Joe'}\n",
      "\n",
      "Test 3\n",
      "None ,  None ,  {u'full_name': u'Teachers College, Columbia University', u'url': u'https://api.twitter.com/1.1/geo/id/07d9d215e5c87002.json', u'country': u'United States', u'place_type': u'poi', u'bounding_box': {u'type': u'Polygon', u'coordinates': [[[-73.96077632904053, 40.80991152281341], [-73.96077632904053, 40.80991152281341], [-73.96077632904053, 40.80991152281341], [-73.96077632904053, 40.80991152281341]]]}, u'contained_within': [], u'country_code': u'US', u'attributes': {}, u'id': u'07d9d215e5c87002', u'name': u'Teachers College, Columbia University'}\n",
      "\n",
      "test 2\n",
      "None ,  None ,  {u'full_name': u'Manhattan, NY', u'url': u'https://api.twitter.com/1.1/geo/id/01a9a39529b27f36.json', u'country': u'United States', u'place_type': u'city', u'bounding_box': {u'type': u'Polygon', u'coordinates': [[[-74.026675, 40.683935], [-73.910408, 40.683935], [-73.910408, 40.877483], [-74.026675, 40.877483]]]}, u'contained_within': [], u'country_code': u'US', u'attributes': {}, u'id': u'01a9a39529b27f36', u'name': u'Manhattan'}\n",
      "\n",
      "Test 1\n",
      "None ,  None ,  {u'full_name': u'Manhattan, NY', u'url': u'https://api.twitter.com/1.1/geo/id/01a9a39529b27f36.json', u'country': u'United States', u'place_type': u'city', u'bounding_box': {u'type': u'Polygon', u'coordinates': [[[-74.026675, 40.683935], [-73.910408, 40.683935], [-73.910408, 40.877483], [-74.026675, 40.877483]]]}, u'contained_within': [], u'country_code': u'US', u'attributes': {}, u'id': u'01a9a39529b27f36', u'name': u'Manhattan'}\n",
      "\n"
     ]
    }
   ],
   "source": [
    "tests = twitter.get_user_timeline(screen_name='tommyeffland')\n",
    "for t in tests:\n",
    "    print t['text']\n",
    "    print t['geo'],', ', t['coordinates'],', ', t['place']\n",
    "    print"
   ]
  },
  {
   "cell_type": "code",
   "execution_count": null,
   "metadata": {
    "collapsed": true
   },
   "outputs": [],
   "source": []
  },
  {
   "cell_type": "code",
   "execution_count": null,
   "metadata": {
    "collapsed": true
   },
   "outputs": [],
   "source": []
  },
  {
   "cell_type": "code",
   "execution_count": null,
   "metadata": {
    "collapsed": true
   },
   "outputs": [],
   "source": []
  },
  {
   "cell_type": "code",
   "execution_count": null,
   "metadata": {
    "collapsed": true
   },
   "outputs": [],
   "source": []
  },
  {
   "cell_type": "code",
   "execution_count": null,
   "metadata": {
    "collapsed": true
   },
   "outputs": [],
   "source": []
  },
  {
   "cell_type": "code",
   "execution_count": 23,
   "metadata": {
    "collapsed": false,
    "scrolled": false
   },
   "outputs": [
    {
     "name": "stdout",
     "output_type": "stream",
     "text": [
      "1 ::  RT @jazyjaz1d: cool sind wir #1DAT\n",
      "\n",
      "2 ::  This is an incredibly designed bathroom. The pixelated tile in the shower is unbelievably cool, albeit a bit ecce... https://t.co/2M5vTeTGpH\n",
      "\n",
      "3 ::  happy birthday Hugo, hope ur day is as cool as you🤗😎 @HugoooAlves\n",
      "\n",
      "4 ::  RT @digitaljournal: Check out this cool photo essay of avant-garde #fashion at the @Museumofvan https://t.co/XRIER4wZGi ^MC\n",
      "\n",
      "5 ::  RT @MyBELLAWE: https://t.co/k8dDrATFeq \n",
      "#jewelry #design #fashion #luxury #style #unique #art #beautiful  #cool \n",
      "#trend #model… https://t.c…\n",
      "\n",
      "6 ::  RT @5SECONDSOFSTEF: Michael is cool \n",
      "\n",
      "#MTVStars 5 Seconds Of Summer\n",
      "\n",
      "7 ::  RT @iHarryNavy: @luke_brooks tweet #1DAT to show that you're cool and hot\n",
      "\n",
      "8 ::  RT @ryanellisracing: @DaleJr cool to race with one of the guys I look up to most last weekend! #RookieStripe https://t.co/SGOr9oolkR\n",
      "\n",
      "9 ::  @meagananders live-photos are so effing cool tho man. #cantwaittilluhavetheseprobstoo\n",
      "\n",
      "10 ::  Omg me &amp; Irene just smoke sum good bud bud w/ ah couple cool mfs\n",
      "\n",
      "11 ::  RT @annadrezen: Wonder what my high school bf is up to...\n",
      "\n",
      "(unspools Legolas poster)\n",
      "\n",
      "Oh wow he's still doing archery that's cool\n",
      "\n",
      "12 ::  i wish my life was more interesting so I would have cool shit to post on ig\n",
      "\n",
      "13 ::  @josharnold066 Meet your head coach, he's a cool guy. But I'm liking that weight room. 👌🏻\n",
      "\n",
      "14 ::  It’s still hot out there! Let #MinuteMaid show you how to cool down with some fun freezer treats! #MCRFreezerFun https://t.co/CHmaUVBoEb\n",
      "\n",
      "15 ::  @luke_brooks so like you're really cool and stuff but you not following me makes you a cunt. wanna change that? 12\n",
      "\n",
      "16 ::  RT @kenziee2101: a cool date would be anything with you\n",
      "\n",
      "17 ::  when people \"chica\" or \"seniorita\" me...and we're not cool...or you're not Mexican/Spanish/Latin it makes me cringe a lil.\n",
      "\n",
      "18 ::  Its really not a cool time to catch a fever 🤒\n",
      "\n",
      "19 ::  RT @Red_Doom: If the SoaR designers want in Red I say let them in lol, they're all super talented and really cool people.\n",
      "\n",
      "20 ::  @PrettySmileCeCe shittin me b i aint talk to yu in a min i thought we were cool\n",
      "\n",
      "21 ::  RT @camilacabello97: @ItsharmonizerYo dayuuuuum this is so cool #YAASS5H\n",
      "\n",
      "22 ::  @SabrinaNajia12 lol its cool 😂\n",
      "\n",
      "23 ::  RT @lgnored: i'm 100% cool with having like 3 friends because people suck\n",
      "\n",
      "24 ::  RT @Louis_Tomlinson: Heard my mum is hanging out with some cool little people today ❤️ Olivia, Spencer &amp; Harvey X\n",
      "\n",
      "25 ::  This Harry Potter house thing is cool but it would be cooler if I've seen the movies 😅🙈\n",
      "\n",
      "26 ::  Occhiali da sole KISS® - stile LADY GAGA Paparazzi - FLIP-UP cool donna steampunk PARTY sunglasses https://t.co/dIVwBMKJ1X\n",
      "\n",
      "27 ::  RT @cocreateSA: We're glad @MinPres likes the vid @HorbachBonnie made of #GardenoftheFuture We find it pretty cool too;) Have a look https:…\n",
      "\n",
      "28 ::  TEAM PRO SPOTLIGHT: Have you seen this cool video featuring Mike \"The Striper Ninja\" and his Team Old School... https://t.co/gJ9GZwHyKn\n",
      "\n",
      "29 ::  RT @Louis_Tomlinson: Heard my mum is hanging out with some cool little people today ❤️ Olivia, Spencer &amp; Harvey X\n",
      "\n",
      "30 ::  @TheBietz Freue mich schon drauf.Das was du in letzter Zeit Hochlädst ist echt sehr cool,lustig &amp; Spannend! Macht Spaß dir zuzugucken!💯\n",
      "\n",
      "31 ::  Chow have my stomach in turmoil man...\n",
      "\n",
      "32 ::  @El_Kikitos_ un j'aime un soutien t'as vus chui cool\n",
      "\n",
      "33 ::  RT @CommonWhiteGrl: so awkward when you meet someone you've stalked and don't know whether to play it cool or ask if their dad enjoyed pari…\n",
      "\n",
      "34 ::  @Talkmaster @AlanColmes @TheFive I find it hard to stomach FOX anymore. Their pro Jeb has turned me off.\n",
      "\n",
      "35 ::  RT @ravenoxoxo: Direct deposit, clear skin, a nigga that won't lie to you, a 4.0 GPA, a fat ass w a flat stomach, bomb eyebrows https://t.c…\n",
      "\n",
      "36 ::  RT @Andreah_44: #1DCO amo como anda harry tan cool por las calles y siendo tan tirno y bebe en la vida real\n",
      "\n",
      "37 ::  @hib31_art I just realised you did this on an iPad??? That's sooo cool what app foot\n",
      "\n",
      "38 ::  RT @GamzeStyles23: @zaynmalik1317 zayn'de cool bakınca badboy'um benim 💜💛💚💙\n",
      "#1DTR\n",
      "\n",
      "39 ::  No pueden comparar club con cool , auque sea el mismo boliche nada que ver !\n",
      "\n",
      "40 ::  @PerryBergson @thebrandonsun cool stuff, will look for it!\n",
      "\n",
      "41 ::  yes bro, I get so heated, it's not cool https://t.co/Lmf0l8BpWQ\n",
      "\n",
      "42 ::  Really cool variety of shelves in this little home office. You can't go wrong adding more storage space to your h... https://t.co/GWpg0NrYZ4\n",
      "\n",
      "43 ::  RT @Got_5ive: We cant be cool if you act different around your friends😉\n",
      "\n",
      "44 ::  I started filming with @TexasHoopsTV in 2014 and it's cool to finally watch that class hoop in college!\n",
      "\n",
      "45 ::  RT @tastefactory: A cool way to die would be if you're driving in a Transformer and it turns into its robot form while you're in it and you…\n",
      "\n",
      "46 ::  Occhiali da sole KISS® - stile LADY GAGA Paparazzi - FLIP-UP cool donna steampunk PARTY sunglasses https://t.co/VGoFJd4c3z\n",
      "\n",
      "47 ::  @JVWitch cool! That sounds awesome! ...the interview, not the booger.\n",
      "\n",
      "48 ::  RT @positiveplants: you're a cool cat and you deserve the absolute best in life\n",
      "\n",
      "49 ::  @DroppinDiamonds oh okay, cool.\n",
      "\n",
      "50 ::  Being cool in high school means nothing the day you graduate\n",
      "\n",
      "51 ::  #Beta test our new drinking game #iphone #app &amp; win cool prizes! #gamenight #cocktails  https://t.co/bHvXbtMwWu https://t.co/ndFu2kRpsG\n",
      "\n",
      "52 ::  🇲🇽🌎🔥- ice bear is coming soon lol, if my spot is still there :) you're a cool person, stay golden pony boy\n",
      "\n",
      "53 ::  RT @CityNews: Muslim woman had hijab ripped off &amp; was punched in her stomach outside her children’s school https://t.co/TqI2eq6TGZ https://…\n",
      "\n",
      "54 ::  @luke_brooks so like you're really cool and stuff but you not following me makes you a cunt. wanna change that? 13\n",
      "\n",
      "55 ::  RT @MarthaSaidThat: Life is cool when you remove toxic people from your life.\n",
      "\n",
      "56 ::  RT @EricaWithA_C: Eff everybody and worry about yourself. It don't matter what anybody saying about you as long as you cool with yourself.\n",
      "\n",
      "57 ::  🚴🏼⛳️// you're really funny &amp; I miss hanging with you guys.¡ you're also really cool.😊✌🏻️\n",
      "\n",
      "58 ::  RT @lad3uxieme: You been throwin dick in her stomach every night for a month straight then cut her off, she call you like http://t.co/pxvMz…\n",
      "\n",
      "59 ::  @Salzano14 @wwhyte @BC_WHockey @KatCornetta @NESN @NWHL_ this is cool. FARDS ON TV\n",
      "\n",
      "60 ::  RT @unpleasent: nice, cool, thanks\n",
      "\n",
      "61 ::  @VanessaDeLaVina now that's cool @OmniGrovePark\n",
      "\n",
      "62 ::  Occhiali da sole KISS® - stile LADY GAGA Paparazzi - FLIP-UP cool donna steampunk PARTY sunglasses https://t.co/J1FYwLEGBt\n",
      "\n",
      "63 ::  @RacheleLynae \n",
      "Great!💗🤗\n",
      "The cool and very cute.\n",
      "\n",
      "64 ::  Having some tea.. And put some different jams on:) I learned a cool new… https://t.co/l4fasu43Ru\n",
      "\n",
      "65 ::  You should join me on Listia to get some cool free stuff plus a special bonus gift here: https://t.co/iinDa9yeFm\n",
      "\n",
      "66 ::  RT @drugproblem: @janislut @britneyraycarey no you instead stan people who cover themselves in vomit and let r.kelly piss on them. congrats\n",
      "\n",
      "67 ::  RT @Louis_Tomlinson: Heard my mum is hanging out with some cool little people today ❤️ Olivia, Spencer &amp; Harvey X\n",
      "\n",
      "68 ::  RT @Louis_Tomlinson: Heard my mum is hanging out with some cool little people today ❤️ Olivia, Spencer &amp; Harvey X\n",
      "\n",
      "69 ::  @Shaylen_Carroll @luke_brooks @YouTube @JBCrewdotcom so cool !!!\n",
      "\n",
      "70 ::  @NamcoFucker that's real cool oh my goD\n",
      "\n",
      "71 ::  RT @FaZeApex: Opened this in a common supply drop yesterday, am I cool yet? https://t.co/XRy9fHd8Gh\n",
      "\n",
      "72 ::  @TomLeviz @OnVousRegarde c'est cool, un head of digital avec 60 followers qui donne des leçons d'engagement.\n",
      "\n",
      "73 ::  not cool https://t.co/TG1bBsvB6K\n",
      "\n",
      "74 ::  @NikoliStevens cool picture tho 👌🏼\n",
      "\n",
      "75 ::  RT @Louis_Tomlinson: Heard my mum is hanging out with some cool little people today ❤️ Olivia, Spencer &amp; Harvey X\n",
      "\n",
      "76 ::  @luke_brooks so like you're really cool and stuff but you not following me makes you a cunt. wanna change that? 14\n",
      "\n",
      "77 ::  #TiiNQuieroIrALosPremiosTelehitPorQue será cool ❤️\n",
      "\n",
      "78 ::  mdr ça y est chui énervée, je réponds limite ds la minute et moi faut que j'attende qu'on soit en semaine b ok cool nique ta mère\n",
      "\n",
      "79 ::  @KatmanMotoji tu lui dis ya une meuf grv cool a lyon faut que t'ailles la chercher ;-)))\n",
      "\n",
      "80 ::  Fuck, I wish I remembered her name. She was really cool. I kinda saw her like an older sister.\n",
      "\n",
      "81 ::  but coups isnt cool smh\n",
      "\n",
      "82 ::  RT @pbookman: A cool use of containers to increase security in so many ways. Microservices allow for new usage models of... https://t.co/Sr…\n",
      "\n",
      "83 ::  @bea_ellie they're so good, I used to love mine! Imagine how cool we'd look on the main roads with our helmets on 🙉😂\n",
      "\n",
      "84 ::  RT @MykeSkates: No matter how educated, talented, rich, or cool you are, how you treat people ultimately tells all.\n",
      "\n",
      "85 ::  @hugeowl @GameDevBRbot is that a laser smoke puke attack?\n",
      "\n",
      "86 ::  @JulienP75 cool.\n",
      "\n",
      "87 ::  rileydbgtm: RT Lord_Arse: Loving these cool little LEGO \"Minicomputers\".\n",
      "#spectrum #c64 #amiga #macintosh\n",
      "\n",
      "#retrog… https://t.co/ABC4iESySs\n",
      "\n",
      "88 ::  RT @lgnored: i'm 100% cool with having like 3 friends because people suck\n",
      "\n",
      "89 ::  vous devenez bizarre après 23h30 entre les snap avec le pied et les selfies chelou c cool\n",
      "\n",
      "90 ::  RT @camilacabello97: @ItsharmonizerYo dayuuuuum this is so cool #YAASS5H\n",
      "\n",
      "91 ::  RT @TheTumblrPosts: boyfriends are cool because when u aren't feeling that great u get to bury your head in their chest and that helps a lot\n",
      "\n",
      "92 ::  RT @Louis_Tomlinson: Heard my mum is hanging out with some cool little people today ❤️ Olivia, Spencer &amp; Harvey X\n",
      "\n",
      "93 ::  https://t.co/flJNSAEVUi #shoes jordan retro 12 cool grey https://t.co/DPhui17Th0\n",
      "\n",
      "94 ::  cool cool cool cool cool cool cool cool cool cool cool cool cool cool cool cool cool cool cool cool cool cool cool cool cool cool cool cool\n",
      "\n",
      "95 ::  So C can do a twitcam with S for ikwydls but she can't do a twitcam with the Girls they had promised us. Right ok. cool. fab.\n",
      "\n",
      "96 ::  Went on a very cool hike along the Niagara Gorge. That part is called Niagara Glen. Most times have… https://t.co/tBPexsj7Lb\n",
      "\n",
      "97 ::  RT @roqchams: \"One of the men started punching the woman in the stomach and a second man ripped off her hijab during the assault.\"\n",
      "\n",
      "98 ::  @KevinHart4real , cool.U r u there Kevin?\n",
      "\n",
      "99 ::  RT @tiiaapauliina: ok sain 64 RT enkä oo ikinä saanu tyylii 10 enempää how freaking cool is that #1DFI\n",
      "\n",
      "100 ::  RT @I_AM_WILDCAT: Lots of people asking if there will be spoilers in this video. It's nothing but general exploring and cool side quests :D\n",
      "\n",
      "101 ::  RT @Louis_Tomlinson: Heard my mum is hanging out with some cool little people today ❤️ Olivia, Spencer &amp; Harvey X\n",
      "\n",
      "102 ::  @luke_brooks so like you're really cool and stuff but you not following me makes you a cunt. wanna change that? 15\n",
      "\n",
      "103 ::  RT @Louis_Tomlinson: Heard my mum is hanging out with some cool little people today ❤️ Olivia, Spencer &amp; Harvey X\n",
      "\n",
      "104 ::  @shaunmicheelpga @pxg getting the four...shipping soon...Tmag. Pxg looks cool; not seen them in person yet\n",
      "\n",
      "105 ::  \"I want to make music that I think is cool shit.\" f u c k o f f\n",
      "\n",
      "106 ::  timelordbob1: RT Lord_Arse: Loving these cool little LEGO \"Minicomputers\".\n",
      "#spectrum #c64 #amiga #macintosh\n",
      "\n",
      "#retr… https://t.co/ABC4iESySs\n",
      "\n",
      "107 ::  its a rainy day dnt forget ur rain gears..have a cool day to all\n",
      "#OTWOLDreamLove\n",
      "\n",
      "108 ::  @duckielein oki cool bin gleich online :3\n",
      "\n",
      "109 ::  @ClaireAdams99 @jillxg195 cool girl games\n",
      "\n",
      "110 ::  @extarordinary thank you walahi😌bas eh 3elakt vomit fel mawdo3?😂\n",
      "\n",
      "111 ::  My stomach hurts so bad\n",
      "\n",
      "112 ::  @Drv1997  that's cool\n",
      "\n",
      "113 ::  RT @FemaleTexts: i just want nice legs long hair good friends money clothes shoes food a flat stomach a cute voice and laugh what did i do …\n",
      "\n",
      "114 ::  RT @KeshaTedder: #HiddenSilverLining to insomnia is to able to play some cool late night Hashtag games\n",
      "\n",
      "115 ::  Batman by MaDonna New Tab Page  very cool https://t.co/igEr5DjnyR\n",
      "\n",
      "116 ::  @FukDa_GoDDamSht lmaooooooooooo cool it\n",
      "\n",
      "117 ::  @Ja_Small erghhhhh stomach turned\n",
      "\n",
      "118 ::  cause it's cool... (Vine by Evan Peters) https://t.co/Rh0SePKmWD\n",
      "\n",
      "119 ::  RT @_SlickkRedz: HIGH SCHOOL made everyone either cool😎, uncool😑, bisexual👭, real💯, fake🐍, pregnant👶, dropouts🚶, alcoholics,🍸 pot heads 🌿so…\n",
      "\n",
      "120 ::  RT @justjamiie: For real for real it would be so cool to live in Dubai I wanna move there NOW\n",
      "\n",
      "121 ::  RT @btfrisco: Pretty cool moment from Sunday having Jeetu, one of our BT India church planters, pray over @btfrisco #BTthankful https://t.c…\n",
      "\n",
      "122 ::  Sick to my stomach\n",
      "\n",
      "123 ::  RT @jojojojude: No one writes edgy erotica like billierosie! 12 cool #erotic tales in FETISH TRANSCENDENCE...https://t.co/aXWspFWkBw https:…\n",
      "\n",
      "124 ::  Art is cool. #murakami @ The Broad https://t.co/TIVENJDOTh\n",
      "\n",
      "125 ::  @javicartes OMGGGGGGGGGGGGG EN SERIO? OMGGGG mira si no es cool Mike ewe\n",
      "\n",
      "126 ::  Mike Huckabee talking about Syrian refugees makes me want to puke\n",
      "\n",
      "127 ::  @Her_Fantasy Ima jus hit you up later then , it's cool\n",
      "\n",
      "128 ::  being a tutor is cool cuz bonuses for report cards.\n",
      "\n",
      "129 ::  \"I'm in a cool boyband\"\n",
      "\n",
      "130 ::  My power just went out so that's pretty cool\n",
      "\n",
      "131 ::  @L1_nino You're cool man 👨🏿\n",
      "\n",
      "132 ::  RT @MykeSkates: No matter how educated, talented, rich, or cool you are, how you treat people ultimately tells all.\n",
      "\n",
      "133 ::  @bluryfxce hey cool kidz do this\n",
      "\n",
      "134 ::  RT @Louis_Tomlinson: Heard my mum is hanging out with some cool little people today ❤️ Olivia, Spencer &amp; Harvey X\n",
      "\n",
      "135 ::  RT @Louis_Tomlinson: Heard my mum is hanging out with some cool little people today ❤️ Olivia, Spencer &amp; Harvey X\n",
      "\n",
      "136 ::  Recovering from probably the worst stomach big I've ever had. And I've lost close to 10 pounds. Great.\n",
      "\n",
      "137 ::  RT @kadijahjoanne: college is really cool bc you can wear the same shirt two days in a row if you have to. your MWF ppl don't know about yo…\n",
      "\n",
      "138 ::  RT @yungjonny_: Wednesday and friday are gonna be cool 😎\n",
      "\n",
      "139 ::  RT @ziamsmain: \"When you're on the cover of the fader it says that you have some sort of cool cultural importance\" #BEFOUR https://t.co/6Ig…\n",
      "\n",
      "140 ::  @luke_brooks so like you're really cool and stuff but you not following me makes you a cunt. wanna change that? 16\n",
      "\n",
      "141 ::  I can't believe zayn is out there insulting the boys' music when that \"not so cool shit\" gave him the house he gave his mother smh\n",
      "\n",
      "142 ::  @CharaGenocide \n",
      "\n",
      "\"P-PLEASE! Listen! Killing P-People isn't cool..\"\n",
      "\n",
      "143 ::  RT @phattttttt: I need to lose this stomach dude. I hate this skinny girl pouch like ew wtf\n",
      "\n",
      "144 ::  RT @WordsPosts: Laughing until your stomach hurts, its what friends are for.\n",
      "\n",
      "145 ::  RT @5SECONDSOFSTEF: Michael is cool \n",
      "\n",
      "#MTVStars 5 Seconds Of Summer\n",
      "\n",
      "146 ::  RT @iHarryNavy: @luke_brooks tweet #1DAT to show that you're cool and hot\n",
      "\n",
      "147 ::  RT @surveyguy2: .@david_green_uk Check out this cool #recruiting blog by @barryjflack: https://t.co/ux0QU5fyE4 \"Taking a plastic fork to th…\n",
      "\n",
      "148 ::  When u feel like ur stomach drops is honestly the worst feeling\n",
      "\n",
      "149 ::  @thatsobxo You're going to LA? That's cool! Where will you be staying?\n",
      "\n",
      "150 ::  @Calum5SOS you're cool but i wanna break the mutual\n",
      "\n",
      "151 ::  RT @Asmaa_rocaine: Et Corneil et Bernie c'etait cool\n",
      "\n",
      "152 ::  RT @Buttonlessblog: Ich komm wieder in das Alter wo der ganze alte Merch cool ist und nicht mehr Peinlich 😂 #1DDE\n",
      "\n",
      "153 ::  RT @BenJPierce: i hope ur doing well, listening to #cool tunes, and staying hydrated! 🎧✌️\n",
      "\n",
      "154 ::  RT @FemaleTexts: i just want nice legs long hair good friends money clothes shoes food a flat stomach a cute voice and laugh what did i do …\n",
      "\n",
      "155 ::  @luke_brooks 'gangsters' wow you're getting less and less cool everyday\n",
      "\n"
     ]
    },
    {
     "ename": "KeyboardInterrupt",
     "evalue": "",
     "output_type": "error",
     "traceback": [
      "\u001b[0;31m---------------------------------------------------------------------------\u001b[0m",
      "\u001b[0;31mKeyboardInterrupt\u001b[0m                         Traceback (most recent call last)",
      "\u001b[0;32m<ipython-input-23-da0307f90d75>\u001b[0m in \u001b[0;36m<module>\u001b[0;34m()\u001b[0m\n\u001b[1;32m      2\u001b[0m \u001b[0;31m#stream.statuses.dynamic_filter()\u001b[0m\u001b[0;34m\u001b[0m\u001b[0;34m\u001b[0m\u001b[0m\n\u001b[1;32m      3\u001b[0m \u001b[0;31m#stream.statuses.sample()\u001b[0m\u001b[0;34m\u001b[0m\u001b[0;34m\u001b[0m\u001b[0m\n\u001b[0;32m----> 4\u001b[0;31m \u001b[0mstream\u001b[0m\u001b[0;34m.\u001b[0m\u001b[0mrun_dynamic_stream\u001b[0m\u001b[0;34m(\u001b[0m\u001b[0mfilterparams\u001b[0m\u001b[0;34m)\u001b[0m\u001b[0;34m\u001b[0m\u001b[0m\n\u001b[0m",
      "\u001b[0;32m<ipython-input-15-272b658123fc>\u001b[0m in \u001b[0;36mrun_dynamic_stream\u001b[0;34m(self, filter_params)\u001b[0m\n\u001b[1;32m     52\u001b[0m         self.statuses.set_dynamic_filter(track=','.join(self.track), \n\u001b[1;32m     53\u001b[0m                                          locations=','.join(self.location))\n\u001b[0;32m---> 54\u001b[0;31m         \u001b[0mself\u001b[0m\u001b[0;34m.\u001b[0m\u001b[0mstatuses\u001b[0m\u001b[0;34m.\u001b[0m\u001b[0mdynamic_filter\u001b[0m\u001b[0;34m(\u001b[0m\u001b[0;34m)\u001b[0m\u001b[0;34m\u001b[0m\u001b[0m\n\u001b[0m\u001b[1;32m     55\u001b[0m \u001b[0;34m\u001b[0m\u001b[0m\n\u001b[1;32m     56\u001b[0m     \u001b[0;32mdef\u001b[0m \u001b[0min_box\u001b[0m\u001b[0;34m(\u001b[0m\u001b[0mself\u001b[0m\u001b[0;34m,\u001b[0m \u001b[0mstatus\u001b[0m\u001b[0;34m)\u001b[0m\u001b[0;34m:\u001b[0m\u001b[0;34m\u001b[0m\u001b[0m\n",
      "\u001b[0;32m/Users/thomaseffland/.virtualenvs/health/lib/python2.7/site-packages/twython/streaming/types.pyc\u001b[0m in \u001b[0;36mdynamic_filter\u001b[0;34m(self)\u001b[0m\n\u001b[1;32m    105\u001b[0m         \u001b[0murl\u001b[0m \u001b[0;34m=\u001b[0m \u001b[0;34m'https://stream.twitter.com/%s/statuses/filter.json'\u001b[0m\u001b[0;31m \u001b[0m\u001b[0;31m\\\u001b[0m\u001b[0;34m\u001b[0m\u001b[0m\n\u001b[1;32m    106\u001b[0m               \u001b[0;34m%\u001b[0m \u001b[0mself\u001b[0m\u001b[0;34m.\u001b[0m\u001b[0mstreamer\u001b[0m\u001b[0;34m.\u001b[0m\u001b[0mapi_version\u001b[0m\u001b[0;34m\u001b[0m\u001b[0m\n\u001b[0;32m--> 107\u001b[0;31m         \u001b[0mself\u001b[0m\u001b[0;34m.\u001b[0m\u001b[0mstreamer\u001b[0m\u001b[0;34m.\u001b[0m\u001b[0m_request\u001b[0m\u001b[0;34m(\u001b[0m\u001b[0murl\u001b[0m\u001b[0;34m,\u001b[0m \u001b[0;34m'POST'\u001b[0m\u001b[0;34m,\u001b[0m \u001b[0mparams\u001b[0m\u001b[0;34m=\u001b[0m\u001b[0mself\u001b[0m\u001b[0;34m.\u001b[0m\u001b[0mparams\u001b[0m\u001b[0;34m)\u001b[0m\u001b[0;34m\u001b[0m\u001b[0m\n\u001b[0m",
      "\u001b[0;32m/Users/thomaseffland/.virtualenvs/health/lib/python2.7/site-packages/twython/streaming/api.pyc\u001b[0m in \u001b[0;36m_request\u001b[0;34m(self, url, method, params)\u001b[0m\n\u001b[1;32m    139\u001b[0m             \u001b[0mresponse\u001b[0m \u001b[0;34m=\u001b[0m \u001b[0m_send\u001b[0m\u001b[0;34m(\u001b[0m\u001b[0mretry_counter\u001b[0m\u001b[0;34m)\u001b[0m\u001b[0;34m\u001b[0m\u001b[0m\n\u001b[1;32m    140\u001b[0m \u001b[0;34m\u001b[0m\u001b[0m\n\u001b[0;32m--> 141\u001b[0;31m             \u001b[0;32mfor\u001b[0m \u001b[0mline\u001b[0m \u001b[0;32min\u001b[0m \u001b[0mresponse\u001b[0m\u001b[0;34m.\u001b[0m\u001b[0miter_lines\u001b[0m\u001b[0;34m(\u001b[0m\u001b[0mself\u001b[0m\u001b[0;34m.\u001b[0m\u001b[0mchunk_size\u001b[0m\u001b[0;34m)\u001b[0m\u001b[0;34m:\u001b[0m\u001b[0;34m\u001b[0m\u001b[0m\n\u001b[0m\u001b[1;32m    142\u001b[0m                 \u001b[0;32mif\u001b[0m \u001b[0;32mnot\u001b[0m \u001b[0mself\u001b[0m\u001b[0;34m.\u001b[0m\u001b[0mconnected\u001b[0m\u001b[0;34m:\u001b[0m\u001b[0;34m\u001b[0m\u001b[0m\n\u001b[1;32m    143\u001b[0m                     \u001b[0;32mbreak\u001b[0m\u001b[0;34m\u001b[0m\u001b[0m\n",
      "\u001b[0;32m/Users/thomaseffland/.virtualenvs/health/lib/python2.7/site-packages/requests/models.pyc\u001b[0m in \u001b[0;36miter_lines\u001b[0;34m(self, chunk_size, decode_unicode, delimiter)\u001b[0m\n\u001b[1;32m    697\u001b[0m         \u001b[0mpending\u001b[0m \u001b[0;34m=\u001b[0m \u001b[0mNone\u001b[0m\u001b[0;34m\u001b[0m\u001b[0m\n\u001b[1;32m    698\u001b[0m \u001b[0;34m\u001b[0m\u001b[0m\n\u001b[0;32m--> 699\u001b[0;31m         \u001b[0;32mfor\u001b[0m \u001b[0mchunk\u001b[0m \u001b[0;32min\u001b[0m \u001b[0mself\u001b[0m\u001b[0;34m.\u001b[0m\u001b[0miter_content\u001b[0m\u001b[0;34m(\u001b[0m\u001b[0mchunk_size\u001b[0m\u001b[0;34m=\u001b[0m\u001b[0mchunk_size\u001b[0m\u001b[0;34m,\u001b[0m \u001b[0mdecode_unicode\u001b[0m\u001b[0;34m=\u001b[0m\u001b[0mdecode_unicode\u001b[0m\u001b[0;34m)\u001b[0m\u001b[0;34m:\u001b[0m\u001b[0;34m\u001b[0m\u001b[0m\n\u001b[0m\u001b[1;32m    700\u001b[0m \u001b[0;34m\u001b[0m\u001b[0m\n\u001b[1;32m    701\u001b[0m             \u001b[0;32mif\u001b[0m \u001b[0mpending\u001b[0m \u001b[0;32mis\u001b[0m \u001b[0;32mnot\u001b[0m \u001b[0mNone\u001b[0m\u001b[0;34m:\u001b[0m\u001b[0;34m\u001b[0m\u001b[0m\n",
      "\u001b[0;32m/Users/thomaseffland/.virtualenvs/health/lib/python2.7/site-packages/requests/models.pyc\u001b[0m in \u001b[0;36mgenerate\u001b[0;34m()\u001b[0m\n\u001b[1;32m    655\u001b[0m             \u001b[0;32mif\u001b[0m \u001b[0mhasattr\u001b[0m\u001b[0;34m(\u001b[0m\u001b[0mself\u001b[0m\u001b[0;34m.\u001b[0m\u001b[0mraw\u001b[0m\u001b[0;34m,\u001b[0m \u001b[0;34m'stream'\u001b[0m\u001b[0;34m)\u001b[0m\u001b[0;34m:\u001b[0m\u001b[0;34m\u001b[0m\u001b[0m\n\u001b[1;32m    656\u001b[0m                 \u001b[0;32mtry\u001b[0m\u001b[0;34m:\u001b[0m\u001b[0;34m\u001b[0m\u001b[0m\n\u001b[0;32m--> 657\u001b[0;31m                     \u001b[0;32mfor\u001b[0m \u001b[0mchunk\u001b[0m \u001b[0;32min\u001b[0m \u001b[0mself\u001b[0m\u001b[0;34m.\u001b[0m\u001b[0mraw\u001b[0m\u001b[0;34m.\u001b[0m\u001b[0mstream\u001b[0m\u001b[0;34m(\u001b[0m\u001b[0mchunk_size\u001b[0m\u001b[0;34m,\u001b[0m \u001b[0mdecode_content\u001b[0m\u001b[0;34m=\u001b[0m\u001b[0mTrue\u001b[0m\u001b[0;34m)\u001b[0m\u001b[0;34m:\u001b[0m\u001b[0;34m\u001b[0m\u001b[0m\n\u001b[0m\u001b[1;32m    658\u001b[0m                         \u001b[0;32myield\u001b[0m \u001b[0mchunk\u001b[0m\u001b[0;34m\u001b[0m\u001b[0m\n\u001b[1;32m    659\u001b[0m                 \u001b[0;32mexcept\u001b[0m \u001b[0mProtocolError\u001b[0m \u001b[0;32mas\u001b[0m \u001b[0me\u001b[0m\u001b[0;34m:\u001b[0m\u001b[0;34m\u001b[0m\u001b[0m\n",
      "\u001b[0;32m/Users/thomaseffland/.virtualenvs/health/lib/python2.7/site-packages/requests/packages/urllib3/response.pyc\u001b[0m in \u001b[0;36mstream\u001b[0;34m(self, amt, decode_content)\u001b[0m\n\u001b[1;32m    320\u001b[0m         \"\"\"\n\u001b[1;32m    321\u001b[0m         \u001b[0;32mif\u001b[0m \u001b[0mself\u001b[0m\u001b[0;34m.\u001b[0m\u001b[0mchunked\u001b[0m\u001b[0;34m:\u001b[0m\u001b[0;34m\u001b[0m\u001b[0m\n\u001b[0;32m--> 322\u001b[0;31m             \u001b[0;32mfor\u001b[0m \u001b[0mline\u001b[0m \u001b[0;32min\u001b[0m \u001b[0mself\u001b[0m\u001b[0;34m.\u001b[0m\u001b[0mread_chunked\u001b[0m\u001b[0;34m(\u001b[0m\u001b[0mamt\u001b[0m\u001b[0;34m,\u001b[0m \u001b[0mdecode_content\u001b[0m\u001b[0;34m=\u001b[0m\u001b[0mdecode_content\u001b[0m\u001b[0;34m)\u001b[0m\u001b[0;34m:\u001b[0m\u001b[0;34m\u001b[0m\u001b[0m\n\u001b[0m\u001b[1;32m    323\u001b[0m                 \u001b[0;32myield\u001b[0m \u001b[0mline\u001b[0m\u001b[0;34m\u001b[0m\u001b[0m\n\u001b[1;32m    324\u001b[0m         \u001b[0;32melse\u001b[0m\u001b[0;34m:\u001b[0m\u001b[0;34m\u001b[0m\u001b[0m\n",
      "\u001b[0;32m/Users/thomaseffland/.virtualenvs/health/lib/python2.7/site-packages/requests/packages/urllib3/response.pyc\u001b[0m in \u001b[0;36mread_chunked\u001b[0;34m(self, amt, decode_content)\u001b[0m\n\u001b[1;32m    465\u001b[0m         \u001b[0;32mwith\u001b[0m \u001b[0mself\u001b[0m\u001b[0;34m.\u001b[0m\u001b[0m_error_catcher\u001b[0m\u001b[0;34m(\u001b[0m\u001b[0;34m)\u001b[0m\u001b[0;34m:\u001b[0m\u001b[0;34m\u001b[0m\u001b[0m\n\u001b[1;32m    466\u001b[0m             \u001b[0;32mwhile\u001b[0m \u001b[0mTrue\u001b[0m\u001b[0;34m:\u001b[0m\u001b[0;34m\u001b[0m\u001b[0m\n\u001b[0;32m--> 467\u001b[0;31m                 \u001b[0mself\u001b[0m\u001b[0;34m.\u001b[0m\u001b[0m_update_chunk_length\u001b[0m\u001b[0;34m(\u001b[0m\u001b[0;34m)\u001b[0m\u001b[0;34m\u001b[0m\u001b[0m\n\u001b[0m\u001b[1;32m    468\u001b[0m                 \u001b[0;32mif\u001b[0m \u001b[0mself\u001b[0m\u001b[0;34m.\u001b[0m\u001b[0mchunk_left\u001b[0m \u001b[0;34m==\u001b[0m \u001b[0;36m0\u001b[0m\u001b[0;34m:\u001b[0m\u001b[0;34m\u001b[0m\u001b[0m\n\u001b[1;32m    469\u001b[0m                     \u001b[0;32mbreak\u001b[0m\u001b[0;34m\u001b[0m\u001b[0m\n",
      "\u001b[0;32m/Users/thomaseffland/.virtualenvs/health/lib/python2.7/site-packages/requests/packages/urllib3/response.pyc\u001b[0m in \u001b[0;36m_update_chunk_length\u001b[0;34m(self)\u001b[0m\n\u001b[1;32m    412\u001b[0m         \u001b[0;32mif\u001b[0m \u001b[0mself\u001b[0m\u001b[0;34m.\u001b[0m\u001b[0mchunk_left\u001b[0m \u001b[0;32mis\u001b[0m \u001b[0;32mnot\u001b[0m \u001b[0mNone\u001b[0m\u001b[0;34m:\u001b[0m\u001b[0;34m\u001b[0m\u001b[0m\n\u001b[1;32m    413\u001b[0m             \u001b[0;32mreturn\u001b[0m\u001b[0;34m\u001b[0m\u001b[0m\n\u001b[0;32m--> 414\u001b[0;31m         \u001b[0mline\u001b[0m \u001b[0;34m=\u001b[0m \u001b[0mself\u001b[0m\u001b[0;34m.\u001b[0m\u001b[0m_fp\u001b[0m\u001b[0;34m.\u001b[0m\u001b[0mfp\u001b[0m\u001b[0;34m.\u001b[0m\u001b[0mreadline\u001b[0m\u001b[0;34m(\u001b[0m\u001b[0;34m)\u001b[0m\u001b[0;34m\u001b[0m\u001b[0m\n\u001b[0m\u001b[1;32m    415\u001b[0m         \u001b[0mline\u001b[0m \u001b[0;34m=\u001b[0m \u001b[0mline\u001b[0m\u001b[0;34m.\u001b[0m\u001b[0msplit\u001b[0m\u001b[0;34m(\u001b[0m\u001b[0;34mb';'\u001b[0m\u001b[0;34m,\u001b[0m \u001b[0;36m1\u001b[0m\u001b[0;34m)\u001b[0m\u001b[0;34m[\u001b[0m\u001b[0;36m0\u001b[0m\u001b[0;34m]\u001b[0m\u001b[0;34m\u001b[0m\u001b[0m\n\u001b[1;32m    416\u001b[0m         \u001b[0;32mtry\u001b[0m\u001b[0;34m:\u001b[0m\u001b[0;34m\u001b[0m\u001b[0m\n",
      "\u001b[0;32m/System/Library/Frameworks/Python.framework/Versions/2.7/lib/python2.7/socket.pyc\u001b[0m in \u001b[0;36mreadline\u001b[0;34m(self, size)\u001b[0m\n\u001b[1;32m    449\u001b[0m             \u001b[0;32mwhile\u001b[0m \u001b[0mTrue\u001b[0m\u001b[0;34m:\u001b[0m\u001b[0;34m\u001b[0m\u001b[0m\n\u001b[1;32m    450\u001b[0m                 \u001b[0;32mtry\u001b[0m\u001b[0;34m:\u001b[0m\u001b[0;34m\u001b[0m\u001b[0m\n\u001b[0;32m--> 451\u001b[0;31m                     \u001b[0mdata\u001b[0m \u001b[0;34m=\u001b[0m \u001b[0mself\u001b[0m\u001b[0;34m.\u001b[0m\u001b[0m_sock\u001b[0m\u001b[0;34m.\u001b[0m\u001b[0mrecv\u001b[0m\u001b[0;34m(\u001b[0m\u001b[0mself\u001b[0m\u001b[0;34m.\u001b[0m\u001b[0m_rbufsize\u001b[0m\u001b[0;34m)\u001b[0m\u001b[0;34m\u001b[0m\u001b[0m\n\u001b[0m\u001b[1;32m    452\u001b[0m                 \u001b[0;32mexcept\u001b[0m \u001b[0merror\u001b[0m\u001b[0;34m,\u001b[0m \u001b[0me\u001b[0m\u001b[0;34m:\u001b[0m\u001b[0;34m\u001b[0m\u001b[0m\n\u001b[1;32m    453\u001b[0m                     \u001b[0;32mif\u001b[0m \u001b[0me\u001b[0m\u001b[0;34m.\u001b[0m\u001b[0margs\u001b[0m\u001b[0;34m[\u001b[0m\u001b[0;36m0\u001b[0m\u001b[0;34m]\u001b[0m \u001b[0;34m==\u001b[0m \u001b[0mEINTR\u001b[0m\u001b[0;34m:\u001b[0m\u001b[0;34m\u001b[0m\u001b[0m\n",
      "\u001b[0;32m/System/Library/Frameworks/Python.framework/Versions/2.7/lib/python2.7/ssl.pyc\u001b[0m in \u001b[0;36mrecv\u001b[0;34m(self, buflen, flags)\u001b[0m\n\u001b[1;32m    732\u001b[0m                     \u001b[0;34m\"non-zero flags not allowed in calls to recv() on %s\"\u001b[0m \u001b[0;34m%\u001b[0m\u001b[0;34m\u001b[0m\u001b[0m\n\u001b[1;32m    733\u001b[0m                     self.__class__)\n\u001b[0;32m--> 734\u001b[0;31m             \u001b[0;32mreturn\u001b[0m \u001b[0mself\u001b[0m\u001b[0;34m.\u001b[0m\u001b[0mread\u001b[0m\u001b[0;34m(\u001b[0m\u001b[0mbuflen\u001b[0m\u001b[0;34m)\u001b[0m\u001b[0;34m\u001b[0m\u001b[0m\n\u001b[0m\u001b[1;32m    735\u001b[0m         \u001b[0;32melse\u001b[0m\u001b[0;34m:\u001b[0m\u001b[0;34m\u001b[0m\u001b[0m\n\u001b[1;32m    736\u001b[0m             \u001b[0;32mreturn\u001b[0m \u001b[0mself\u001b[0m\u001b[0;34m.\u001b[0m\u001b[0m_sock\u001b[0m\u001b[0;34m.\u001b[0m\u001b[0mrecv\u001b[0m\u001b[0;34m(\u001b[0m\u001b[0mbuflen\u001b[0m\u001b[0;34m,\u001b[0m \u001b[0mflags\u001b[0m\u001b[0;34m)\u001b[0m\u001b[0;34m\u001b[0m\u001b[0m\n",
      "\u001b[0;32m/System/Library/Frameworks/Python.framework/Versions/2.7/lib/python2.7/ssl.pyc\u001b[0m in \u001b[0;36mread\u001b[0;34m(self, len, buffer)\u001b[0m\n\u001b[1;32m    619\u001b[0m                 \u001b[0mv\u001b[0m \u001b[0;34m=\u001b[0m \u001b[0mself\u001b[0m\u001b[0;34m.\u001b[0m\u001b[0m_sslobj\u001b[0m\u001b[0;34m.\u001b[0m\u001b[0mread\u001b[0m\u001b[0;34m(\u001b[0m\u001b[0mlen\u001b[0m\u001b[0;34m,\u001b[0m \u001b[0mbuffer\u001b[0m\u001b[0;34m)\u001b[0m\u001b[0;34m\u001b[0m\u001b[0m\n\u001b[1;32m    620\u001b[0m             \u001b[0;32melse\u001b[0m\u001b[0;34m:\u001b[0m\u001b[0;34m\u001b[0m\u001b[0m\n\u001b[0;32m--> 621\u001b[0;31m                 \u001b[0mv\u001b[0m \u001b[0;34m=\u001b[0m \u001b[0mself\u001b[0m\u001b[0;34m.\u001b[0m\u001b[0m_sslobj\u001b[0m\u001b[0;34m.\u001b[0m\u001b[0mread\u001b[0m\u001b[0;34m(\u001b[0m\u001b[0mlen\u001b[0m \u001b[0;32mor\u001b[0m \u001b[0;36m1024\u001b[0m\u001b[0;34m)\u001b[0m\u001b[0;34m\u001b[0m\u001b[0m\n\u001b[0m\u001b[1;32m    622\u001b[0m             \u001b[0;32mreturn\u001b[0m \u001b[0mv\u001b[0m\u001b[0;34m\u001b[0m\u001b[0m\n\u001b[1;32m    623\u001b[0m         \u001b[0;32mexcept\u001b[0m \u001b[0mSSLError\u001b[0m \u001b[0;32mas\u001b[0m \u001b[0mx\u001b[0m\u001b[0;34m:\u001b[0m\u001b[0;34m\u001b[0m\u001b[0m\n",
      "\u001b[0;31mKeyboardInterrupt\u001b[0m: "
     ]
    }
   ],
   "source": [
    "#stream.statuses.set_dynamic_filter(locations=boundingbox)\n",
    "#stream.statuses.dynamic_filter()\n",
    "#stream.statuses.sample()\n",
    "stream.run_dynamic_stream(filterparams)"
   ]
  },
  {
   "cell_type": "code",
   "execution_count": null,
   "metadata": {
    "collapsed": true
   },
   "outputs": [],
   "source": []
  },
  {
   "cell_type": "code",
   "execution_count": 224,
   "metadata": {
    "collapsed": false
   },
   "outputs": [
    {
     "name": "stdout",
     "output_type": "stream",
     "text": [
      "deque([463860666, 299714481, 3299925044, 3254290707, 1838249203, 3037140440, 3296227784, 987994399, 1239611395, 4128622012], maxlen=5000)\n"
     ]
    }
   ],
   "source": [
    "print stream.follow"
   ]
  },
  {
   "cell_type": "markdown",
   "metadata": {
    "collapsed": true
   },
   "source": [
    "### Testing out Incidents"
   ]
  },
  {
   "cell_type": "code",
   "execution_count": 29,
   "metadata": {
    "collapsed": true
   },
   "outputs": [],
   "source": [
    "import json\n",
    "import codecs\n",
    "from twython import Twython\n",
    "twitter = Twython(consumer_key, consumer_secret, access_token, access_token_secret)"
   ]
  },
  {
   "cell_type": "raw",
   "metadata": {},
   "source": [
    "status keys: [u'contributors', u'truncated', u'text', u'is_quote_status', u'in_reply_to_status_id', u'id', u'favorite_count', u'source', u'retweeted', u'coordinates', u'timestamp_ms', u'entities', u'in_reply_to_screen_name', u'id_str', u'retweet_count', u'in_reply_to_user_id', u'favorited', u'user', u'geo', u'in_reply_to_user_id_str', u'lang', u'created_at', u'filter_level', u'in_reply_to_status_id_str', u'place']\n",
    "\n",
    "user keys:[u'follow_request_sent', u'profile_use_background_image', u'default_profile_image', u'id', u'verified', u'profile_image_url_https', u'profile_sidebar_fill_color', u'profile_text_color', u'followers_count', u'profile_sidebar_border_color', u'id_str', u'profile_background_color', u'listed_count', u'profile_background_image_url_https', u'utc_offset', u'statuses_count', u'description', u'friends_count', u'location', u'profile_link_color', u'profile_image_url', u'following', u'geo_enabled', u'profile_banner_url', u'profile_background_image_url', u'name', u'lang', u'profile_background_tile', u'favourites_count', u'screen_name', u'notifications', u'url', u'created_at', u'contributors_enabled', u'time_zone', u'protected', u'default_profile', u'is_translator']"
   ]
  },
  {
   "cell_type": "code",
   "execution_count": 25,
   "metadata": {
    "collapsed": true
   },
   "outputs": [],
   "source": [
    "tweets = [ json.loads(l) for l in codecs.open('../stream_tweets1.json', 'r', encoding='utf8').readlines()]"
   ]
  },
  {
   "cell_type": "code",
   "execution_count": 26,
   "metadata": {
    "collapsed": false
   },
   "outputs": [
    {
     "name": "stdout",
     "output_type": "stream",
     "text": [
      "{u'contributors': None, u'truncated': False, u'text': u'My stomach is killinggggg me', u'is_quote_status': False, u'in_reply_to_status_id': None, u'id': 666750775096385536, u'favorite_count': 0, u'source': u'<a href=\"http://twitter.com/download/iphone\" rel=\"nofollow\">Twitter for iPhone</a>', u'retweeted': False, u'coordinates': None, u'timestamp_ms': u'1447800747070', u'entities': {u'user_mentions': [], u'symbols': [], u'hashtags': [], u'urls': []}, u'in_reply_to_screen_name': None, u'in_reply_to_user_id': None, u'retweet_count': 0, u'id_str': u'666750775096385536', u'favorited': False, u'user': {u'follow_request_sent': None, u'profile_use_background_image': True, u'id': 2343347891, u'verified': False, u'profile_image_url_https': u'https://pbs.twimg.com/profile_images/664626134060040193/RXGusrwa_normal.jpg', u'profile_sidebar_fill_color': u'DDEEF6', u'is_translator': False, u'geo_enabled': True, u'profile_text_color': u'333333', u'followers_count': 846, u'protected': False, u'location': None, u'default_profile_image': False, u'id_str': u'2343347891', u'utc_offset': None, u'statuses_count': 15653, u'description': u'you save everyone . who saves you ..?', u'friends_count': 942, u'profile_link_color': u'0084B4', u'profile_image_url': u'http://pbs.twimg.com/profile_images/664626134060040193/RXGusrwa_normal.jpg', u'notifications': None, u'profile_background_image_url_https': u'https://abs.twimg.com/images/themes/theme1/bg.png', u'profile_background_color': u'C0DEED', u'profile_banner_url': u'https://pbs.twimg.com/profile_banners/2343347891/1447368859', u'profile_background_image_url': u'http://abs.twimg.com/images/themes/theme1/bg.png', u'screen_name': u'ayooitsgabyxo', u'lang': u'en', u'profile_background_tile': False, u'favourites_count': 3585, u'name': u'gaby', u'url': None, u'created_at': u'Fri Feb 14 15:45:35 +0000 2014', u'contributors_enabled': False, u'time_zone': None, u'profile_sidebar_border_color': u'C0DEED', u'default_profile': True, u'following': None, u'listed_count': 1}, u'geo': None, u'in_reply_to_user_id_str': None, u'lang': u'en', u'created_at': u'Tue Nov 17 22:52:27 +0000 2015', u'filter_level': u'low', u'in_reply_to_status_id_str': None, u'place': {u'country_code': u'US', u'url': u'https://api.twitter.com/1.1/geo/id/e4faa50d904ab815.json', u'country': u'United States', u'place_type': u'city', u'bounding_box': {u'type': u'Polygon', u'coordinates': [[[-74.312288, 40.670152], [-74.312288, 40.722201], [-74.222196, 40.722201], [-74.222196, 40.670152]]]}, u'full_name': u'Union, NJ', u'attributes': {}, u'id': u'e4faa50d904ab815', u'name': u'Union'}}\n"
     ]
    }
   ],
   "source": [
    "print tweets[0]"
   ]
  },
  {
   "cell_type": "code",
   "execution_count": 32,
   "metadata": {
    "collapsed": false
   },
   "outputs": [
    {
     "name": "stdout",
     "output_type": "stream",
     "text": [
      "{u'contributors': None, u'truncated': False, u'text': u'@sofiyoe I had tears! And my stomach started hurting', u'is_quote_status': False, u'in_reply_to_status_id': 666809876501405696, u'id': 666811090748235776, u'favorite_count': 0, u'source': u'<a href=\"http://twitter.com/download/iphone\" rel=\"nofollow\">Twitter for iPhone</a>', u'retweeted': False, u'coordinates': None, u'timestamp_ms': u'1447815127442', u'entities': {u'user_mentions': [{u'indices': [0, 8], u'screen_name': u'sofiyoe', u'id': 3669408315, u'name': u'.', u'id_str': u'3669408315'}], u'symbols': [], u'hashtags': [], u'urls': []}, u'in_reply_to_screen_name': u'sofiyoe', u'in_reply_to_user_id': 3669408315, u'retweet_count': 0, u'id_str': u'666811090748235776', u'favorited': False, u'user': {u'follow_request_sent': None, u'profile_use_background_image': True, u'id': 575106641, u'verified': False, u'profile_image_url_https': u'https://pbs.twimg.com/profile_images/666431333938233344/cH6BRhtc_normal.jpg', u'profile_sidebar_fill_color': u'EFEFEF', u'is_translator': False, u'geo_enabled': True, u'profile_text_color': u'333333', u'followers_count': 1071, u'protected': False, u'location': u'in the DMs', u'default_profile_image': False, u'id_str': u'575106641', u'utc_offset': None, u'statuses_count': 26236, u'description': u'NO! Not Like Meek Mill  #TheHIVE', u'friends_count': 1268, u'profile_link_color': u'009999', u'profile_image_url': u'http://pbs.twimg.com/profile_images/666431333938233344/cH6BRhtc_normal.jpg', u'notifications': None, u'profile_background_image_url_https': u'https://abs.twimg.com/images/themes/theme14/bg.gif', u'profile_background_color': u'131516', u'profile_banner_url': u'https://pbs.twimg.com/profile_banners/575106641/1447306621', u'profile_background_image_url': u'http://abs.twimg.com/images/themes/theme14/bg.gif', u'screen_name': u'King_Shit5', u'lang': u'en', u'profile_background_tile': True, u'favourites_count': 15630, u'name': u'MEEK\\u26a1\\ufe0f', u'url': None, u'created_at': u'Wed May 09 06:28:24 +0000 2012', u'contributors_enabled': False, u'time_zone': None, u'profile_sidebar_border_color': u'EEEEEE', u'default_profile': False, u'following': None, u'listed_count': 3}, u'geo': None, u'in_reply_to_user_id_str': u'3669408315', u'lang': u'en', u'created_at': u'Wed Nov 18 02:52:07 +0000 2015', u'filter_level': u'low', u'in_reply_to_status_id_str': u'666809876501405696', u'place': {u'country_code': u'US', u'url': u'https://api.twitter.com/1.1/geo/id/9d22866e11c9b6b7.json', u'country': u'United States', u'place_type': u'city', u'bounding_box': {u'type': u'Polygon', u'coordinates': [[[-74.305281, 40.592141], [-74.305281, 40.627526], [-74.255435, 40.627526], [-74.255435, 40.592141]]]}, u'full_name': u'Rahway, NJ', u'attributes': {}, u'id': u'9d22866e11c9b6b7', u'name': u'Rahway'}}\n",
      "\n",
      "{u'contributors': None, u'truncated': False, u'text': u'@pukekiller yes im so excited!!!', u'is_quote_status': False, u'in_reply_to_status_id': 666820045289320450, u'id': 666820292837310465, u'favorite_count': 0, u'source': u'<a href=\"http://twitter.com\" rel=\"nofollow\">Twitter Web Client</a>', u'retweeted': False, u'coordinates': None, u'timestamp_ms': u'1447817321391', u'entities': {u'user_mentions': [{u'indices': [0, 11], u'screen_name': u'pukekiller', u'id': 242027371, u'name': u'right to chill', u'id_str': u'242027371'}], u'symbols': [], u'hashtags': [], u'urls': []}, u'in_reply_to_screen_name': u'pukekiller', u'in_reply_to_user_id': 242027371, u'retweet_count': 0, u'id_str': u'666820292837310465', u'favorited': False, u'user': {u'follow_request_sent': None, u'profile_use_background_image': True, u'id': 96865531, u'verified': False, u'profile_image_url_https': u'https://pbs.twimg.com/profile_images/654808460563869698/KawglSxM_normal.jpg', u'profile_sidebar_fill_color': u'000000', u'is_translator': False, u'geo_enabled': True, u'profile_text_color': u'6E5C3C', u'followers_count': 1239, u'protected': False, u'location': u'Manhattan, NY', u'default_profile_image': False, u'id_str': u'96865531', u'utc_offset': -28800, u'statuses_count': 87763, u'description': u'international sex toy photoshopper', u'friends_count': 1132, u'profile_link_color': u'7B0D8F', u'profile_image_url': u'http://pbs.twimg.com/profile_images/654808460563869698/KawglSxM_normal.jpg', u'notifications': None, u'profile_background_image_url_https': u'https://pbs.twimg.com/profile_background_images/472083926249254912/IgUMu56f.png', u'profile_background_color': u'FFFFFF', u'profile_banner_url': u'https://pbs.twimg.com/profile_banners/96865531/1438874781', u'profile_background_image_url': u'http://pbs.twimg.com/profile_background_images/472083926249254912/IgUMu56f.png', u'screen_name': u'Jeevesmeister', u'lang': u'en', u'profile_background_tile': True, u'favourites_count': 24282, u'name': u'wildman dick jeeves', u'url': None, u'created_at': u'Mon Dec 14 23:30:11 +0000 2009', u'contributors_enabled': False, u'time_zone': u'Pacific Time (US & Canada)', u'profile_sidebar_border_color': u'000000', u'default_profile': False, u'following': None, u'listed_count': 54}, u'geo': None, u'in_reply_to_user_id_str': u'242027371', u'lang': u'en', u'created_at': u'Wed Nov 18 03:28:41 +0000 2015', u'filter_level': u'low', u'in_reply_to_status_id_str': u'666820045289320450', u'place': {u'country_code': u'US', u'url': u'https://api.twitter.com/1.1/geo/id/01a9a39529b27f36.json', u'country': u'United States', u'place_type': u'city', u'bounding_box': {u'type': u'Polygon', u'coordinates': [[[-74.026675, 40.683935], [-74.026675, 40.877483], [-73.910408, 40.877483], [-73.910408, 40.683935]]]}, u'full_name': u'Manhattan, NY', u'attributes': {}, u'id': u'01a9a39529b27f36', u'name': u'Manhattan'}}\n",
      "\n",
      "{u'contributors': None, u'truncated': False, u'text': u\"@seanhannity He doesn't have the stomach to send our brave troops into harms way. He will wait till we get hit again. God help us!\", u'is_quote_status': False, u'in_reply_to_status_id': 666823900274102272, u'id': 666826703147266049, u'favorite_count': 0, u'source': u'<a href=\"http://twitter.com/download/iphone\" rel=\"nofollow\">Twitter for iPhone</a>', u'retweeted': False, u'coordinates': None, u'timestamp_ms': u'1447818849728', u'entities': {u'user_mentions': [{u'indices': [0, 12], u'screen_name': u'seanhannity', u'id': 41634520, u'name': u'Sean Hannity', u'id_str': u'41634520'}], u'symbols': [], u'hashtags': [], u'urls': []}, u'in_reply_to_screen_name': u'seanhannity', u'in_reply_to_user_id': 41634520, u'retweet_count': 0, u'id_str': u'666826703147266049', u'favorited': False, u'user': {u'follow_request_sent': None, u'profile_use_background_image': True, u'id': 54086590, u'verified': False, u'profile_image_url_https': u'https://pbs.twimg.com/profile_images/411962968633393152/OuAMtSRP_normal.jpeg', u'profile_sidebar_fill_color': u'DDEEF6', u'is_translator': False, u'geo_enabled': True, u'profile_text_color': u'333333', u'followers_count': 1222, u'protected': False, u'location': u'New York, USA', u'default_profile_image': False, u'id_str': u'54086590', u'utc_offset': None, u'statuses_count': 1514, u'description': u'Pragmatic, hopeful American of Irish descent who believes in God, Family and a Country that is in desperate need of a leader.', u'friends_count': 2310, u'profile_link_color': u'0084B4', u'profile_image_url': u'http://pbs.twimg.com/profile_images/411962968633393152/OuAMtSRP_normal.jpeg', u'notifications': None, u'profile_background_image_url_https': u'https://abs.twimg.com/images/themes/theme1/bg.png', u'profile_background_color': u'C0DEED', u'profile_banner_url': u'https://pbs.twimg.com/profile_banners/54086590/1446473671', u'profile_background_image_url': u'http://abs.twimg.com/images/themes/theme1/bg.png', u'screen_name': u'QuinnBx', u'lang': u'en', u'profile_background_tile': False, u'favourites_count': 2982, u'name': u'Michael', u'url': None, u'created_at': u'Mon Jul 06 02:43:50 +0000 2009', u'contributors_enabled': False, u'time_zone': None, u'profile_sidebar_border_color': u'C0DEED', u'default_profile': True, u'following': None, u'listed_count': 5}, u'geo': None, u'in_reply_to_user_id_str': u'41634520', u'lang': u'en', u'created_at': u'Wed Nov 18 03:54:09 +0000 2015', u'filter_level': u'low', u'in_reply_to_status_id_str': u'666823900274102272', u'place': {u'country_code': u'US', u'url': u'https://api.twitter.com/1.1/geo/id/94965b2c45386f87.json', u'country': u'United States', u'place_type': u'admin', u'bounding_box': {u'type': u'Polygon', u'coordinates': [[[-79.76259, 40.477383], [-79.76259, 45.015851], [-71.777492, 45.015851], [-71.777492, 40.477383]]]}, u'full_name': u'New York, USA', u'attributes': {}, u'id': u'94965b2c45386f87', u'name': u'New York'}}\n",
      "\n",
      "{u'contributors': None, u'truncated': False, u'text': u\"@laurynmat yeah and the ones who almost puke at McDonald's after\", u'is_quote_status': False, u'in_reply_to_status_id': 666829870635335680, u'id': 666909956784934912, u'favorite_count': 0, u'source': u'<a href=\"http://twitter.com/download/iphone\" rel=\"nofollow\">Twitter for iPhone</a>', u'retweeted': False, u'coordinates': None, u'timestamp_ms': u'1447838698942', u'entities': {u'user_mentions': [{u'indices': [0, 10], u'screen_name': u'laurynmat', u'id': 312822276, u'name': u'Lauryn', u'id_str': u'312822276'}], u'symbols': [], u'hashtags': [], u'urls': []}, u'in_reply_to_screen_name': u'laurynmat', u'in_reply_to_user_id': 312822276, u'retweet_count': 0, u'id_str': u'666909956784934912', u'favorited': False, u'user': {u'follow_request_sent': None, u'profile_use_background_image': True, u'id': 348089351, u'verified': False, u'profile_image_url_https': u'https://pbs.twimg.com/profile_images/611010320065253376/p-U6yYl7_normal.jpg', u'profile_sidebar_fill_color': u'F3F3F3', u'is_translator': False, u'geo_enabled': True, u'profile_text_color': u'333333', u'followers_count': 180, u'protected': False, u'location': u'New York City', u'default_profile_image': False, u'id_str': u'348089351', u'utc_offset': -18000, u'statuses_count': 10751, u'description': u'singer of sad dramatic jazz songs. currently residing in the wonderful world of manhattan.', u'friends_count': 388, u'profile_link_color': u'910B59', u'profile_image_url': u'http://pbs.twimg.com/profile_images/611010320065253376/p-U6yYl7_normal.jpg', u'notifications': None, u'profile_background_image_url_https': u'https://pbs.twimg.com/profile_background_images/378800000055480977/3079e1b21aa0b9c4224025fdb1502f18.jpeg', u'profile_background_color': u'FAF5F8', u'profile_banner_url': u'https://pbs.twimg.com/profile_banners/348089351/1422764979', u'profile_background_image_url': u'http://pbs.twimg.com/profile_background_images/378800000055480977/3079e1b21aa0b9c4224025fdb1502f18.jpeg', u'screen_name': u'scorpiosunray', u'lang': u'en', u'profile_background_tile': False, u'favourites_count': 5636, u'name': u'Scorpio Sunshine', u'url': None, u'created_at': u'Wed Aug 03 21:23:38 +0000 2011', u'contributors_enabled': False, u'time_zone': u'Eastern Time (US & Canada)', u'profile_sidebar_border_color': u'FFFFFF', u'default_profile': False, u'following': None, u'listed_count': 3}, u'geo': None, u'in_reply_to_user_id_str': u'312822276', u'lang': u'en', u'created_at': u'Wed Nov 18 09:24:58 +0000 2015', u'filter_level': u'low', u'in_reply_to_status_id_str': u'666829870635335680', u'place': {u'country_code': u'US', u'url': u'https://api.twitter.com/1.1/geo/id/011add077f4d2da3.json', u'country': u'United States', u'place_type': u'city', u'bounding_box': {u'type': u'Polygon', u'coordinates': [[[-74.041878, 40.570842], [-74.041878, 40.739434], [-73.855673, 40.739434], [-73.855673, 40.570842]]]}, u'full_name': u'Brooklyn, NY', u'attributes': {}, u'id': u'011add077f4d2da3', u'name': u'Brooklyn'}}\n",
      "\n"
     ]
    }
   ],
   "source": [
    "replies = [tweet for tweet in tweets if tweet['in_reply_to_status_id']]\n",
    "for r in replies:\n",
    "    print r\n",
    "    print\n",
    "reply_ids = [str(r['in_reply_to_status_id']) for r in replies]"
   ]
  },
  {
   "cell_type": "code",
   "execution_count": 33,
   "metadata": {
    "collapsed": false
   },
   "outputs": [],
   "source": [
    "back1 = twitter.lookup_status(id=','.join(reply_ids))"
   ]
  },
  {
   "cell_type": "code",
   "execution_count": 37,
   "metadata": {
    "collapsed": false
   },
   "outputs": [
    {
     "name": "stdout",
     "output_type": "stream",
     "text": [
      "{u'contributors': None, u'truncated': False, u'text': u'@King_Shit5 \\U0001f602\\U0001f602\\U0001f602\\U0001f602\\U0001f602 man you was dying before', u'is_quote_status': False, u'in_reply_to_status_id': 666809506253418496, u'id': 666809876501405696, u'favorite_count': 1, u'source': u'<a href=\"http://twitter.com/download/iphone\" rel=\"nofollow\">Twitter for iPhone</a>', u'retweeted': False, u'coordinates': None, u'entities': {u'symbols': [], u'user_mentions': [{u'id': 575106641, u'indices': [0, 11], u'id_str': u'575106641', u'screen_name': u'King_Shit5', u'name': u'MEEK\\u26a1\\ufe0f'}], u'hashtags': [], u'urls': []}, u'in_reply_to_screen_name': u'King_Shit5', u'id_str': u'666809876501405696', u'retweet_count': 0, u'in_reply_to_user_id': 575106641, u'favorited': False, u'user': {u'follow_request_sent': False, u'has_extended_profile': True, u'profile_use_background_image': True, u'default_profile_image': False, u'id': 3669408315, u'profile_background_image_url_https': u'https://pbs.twimg.com/profile_background_images/654937718862942208/VG3gWHUg.jpg', u'verified': False, u'profile_text_color': u'000000', u'profile_image_url_https': u'https://pbs.twimg.com/profile_images/663558600665800704/X79DrDoO_normal.jpg', u'profile_sidebar_fill_color': u'000000', u'entities': {u'description': {u'urls': []}}, u'followers_count': 820, u'profile_sidebar_border_color': u'000000', u'id_str': u'3669408315', u'profile_background_color': u'C0DEED', u'listed_count': 5, u'is_translation_enabled': False, u'utc_offset': None, u'statuses_count': 11373, u'description': u\"this ain't twitter nigga *throws weak ass blows* sofi/yan-ah\", u'friends_count': 316, u'location': u'Bryson Tiller ', u'profile_link_color': u'0084B4', u'profile_image_url': u'http://pbs.twimg.com/profile_images/663558600665800704/X79DrDoO_normal.jpg', u'following': False, u'geo_enabled': False, u'profile_banner_url': u'https://pbs.twimg.com/profile_banners/3669408315/1447822897', u'profile_background_image_url': u'http://pbs.twimg.com/profile_background_images/654937718862942208/VG3gWHUg.jpg', u'screen_name': u'sofiyoe', u'lang': u'en-GB', u'profile_background_tile': False, u'favourites_count': 5843, u'name': u'.', u'notifications': False, u'url': None, u'created_at': u'Wed Sep 16 00:52:37 +0000 2015', u'contributors_enabled': False, u'time_zone': None, u'protected': False, u'default_profile': False, u'is_translator': False}, u'geo': None, u'in_reply_to_user_id_str': u'575106641', u'lang': u'en', u'created_at': u'Wed Nov 18 02:47:17 +0000 2015', u'in_reply_to_status_id_str': u'666809506253418496', u'place': None}\n",
      "\n",
      "{u'contributors': None, u'truncated': False, u'text': u'will there be a portland earthquake that kills everyone?', u'is_quote_status': False, u'in_reply_to_status_id': None, u'id': 666820045289320450, u'favorite_count': 0, u'source': u'<a href=\"http://twitter.com\" rel=\"nofollow\">Twitter Web Client</a>', u'retweeted': False, u'coordinates': None, u'entities': {u'symbols': [], u'user_mentions': [], u'hashtags': [], u'urls': []}, u'in_reply_to_screen_name': None, u'id_str': u'666820045289320450', u'retweet_count': 0, u'in_reply_to_user_id': None, u'favorited': False, u'user': {u'follow_request_sent': False, u'has_extended_profile': False, u'profile_use_background_image': True, u'default_profile_image': False, u'id': 242027371, u'profile_background_image_url_https': u'https://pbs.twimg.com/profile_background_images/580935771705589760/xNB2Tdx5.jpg', u'verified': False, u'profile_text_color': u'362720', u'profile_image_url_https': u'https://pbs.twimg.com/profile_images/666658181494403072/qtzA5_M-_normal.jpg', u'profile_sidebar_fill_color': u'E5507E', u'entities': {u'url': {u'urls': [{u'url': u'https://t.co/HhWGKPnq8g', u'indices': [0, 23], u'expanded_url': u'http://tdkrecordings.bandcamp.com', u'display_url': u'tdkrecordings.bandcamp.com'}]}, u'description': {u'urls': []}}, u'followers_count': 747, u'profile_sidebar_border_color': u'000000', u'id_str': u'242027371', u'profile_background_color': u'000000', u'listed_count': 25, u'is_translation_enabled': False, u'utc_offset': -32400, u'statuses_count': 35651, u'description': u'this twitter account as it stands is a public service, i educate over 1000 of you at my own expense for little to no compensation', u'friends_count': 468, u'location': u\"gerby's husband, noise, tdk\", u'profile_link_color': u'000000', u'profile_image_url': u'http://pbs.twimg.com/profile_images/666658181494403072/qtzA5_M-_normal.jpg', u'following': False, u'geo_enabled': True, u'profile_banner_url': u'https://pbs.twimg.com/profile_banners/242027371/1430156140', u'profile_background_image_url': u'http://pbs.twimg.com/profile_background_images/580935771705589760/xNB2Tdx5.jpg', u'screen_name': u'pukekiller', u'lang': u'en', u'profile_background_tile': False, u'favourites_count': 20620, u'name': u'right to chill', u'notifications': False, u'url': u'https://t.co/HhWGKPnq8g', u'created_at': u'Sun Jan 23 19:22:50 +0000 2011', u'contributors_enabled': False, u'time_zone': u'Alaska', u'protected': False, u'default_profile': False, u'is_translator': False}, u'geo': None, u'in_reply_to_user_id_str': None, u'lang': u'en', u'created_at': u'Wed Nov 18 03:27:42 +0000 2015', u'in_reply_to_status_id_str': None, u'place': None}\n",
      "\n",
      "{u'contributors': None, u'truncated': False, u'text': u'.@RepMcCaul: \\u201cI think the president\\u2019s playing Russian roulette with the American people\\u2019s safety &amp; national security issues.\" #Hannity', u'is_quote_status': False, u'in_reply_to_status_id': None, u'id': 666823900274102272, u'favorite_count': 378, u'source': u'<a href=\"https://about.twitter.com/products/tweetdeck\" rel=\"nofollow\">TweetDeck</a>', u'retweeted': False, u'coordinates': None, u'entities': {u'symbols': [], u'user_mentions': [{u'id': 26424123, u'indices': [1, 11], u'id_str': u'26424123', u'screen_name': u'RepMcCaul', u'name': u'Michael McCaul'}], u'hashtags': [{u'indices': [130, 138], u'text': u'Hannity'}], u'urls': []}, u'in_reply_to_screen_name': None, u'id_str': u'666823900274102272', u'retweet_count': 243, u'in_reply_to_user_id': None, u'favorited': False, u'user': {u'follow_request_sent': False, u'has_extended_profile': False, u'profile_use_background_image': True, u'default_profile_image': False, u'id': 41634520, u'profile_background_image_url_https': u'https://pbs.twimg.com/profile_background_images/378800000111343835/4ed961f1836bf5e9e1ae3de108c38501.jpeg', u'verified': True, u'profile_text_color': u'000000', u'profile_image_url_https': u'https://pbs.twimg.com/profile_images/378800000709183776/6273b31aa1836ac86426478aaa82a597_normal.jpeg', u'profile_sidebar_fill_color': u'CCCCFF', u'entities': {u'url': {u'urls': [{u'url': u'http://t.co/ZnZMpoB0Br', u'indices': [0, 22], u'expanded_url': u'http://hannity.com', u'display_url': u'hannity.com'}]}, u'description': {u'urls': []}}, u'followers_count': 1212578, u'profile_sidebar_border_color': u'000000', u'id_str': u'41634520', u'profile_background_color': u'663333', u'listed_count': 12932, u'is_translation_enabled': False, u'utc_offset': -18000, u'statuses_count': 28580, u'description': u'', u'friends_count': 6494, u'location': u'NYC', u'profile_link_color': u'0084B4', u'profile_image_url': u'http://pbs.twimg.com/profile_images/378800000709183776/6273b31aa1836ac86426478aaa82a597_normal.jpeg', u'following': False, u'geo_enabled': False, u'profile_banner_url': u'https://pbs.twimg.com/profile_banners/41634520/1398970584', u'profile_background_image_url': u'http://pbs.twimg.com/profile_background_images/378800000111343835/4ed961f1836bf5e9e1ae3de108c38501.jpeg', u'screen_name': u'seanhannity', u'lang': u'en', u'profile_background_tile': False, u'favourites_count': 102, u'name': u'Sean Hannity', u'notifications': False, u'url': u'http://t.co/ZnZMpoB0Br', u'created_at': u'Thu May 21 17:41:12 +0000 2009', u'contributors_enabled': False, u'time_zone': u'Eastern Time (US & Canada)', u'protected': False, u'default_profile': False, u'is_translator': False}, u'geo': None, u'in_reply_to_user_id_str': None, u'lang': u'en', u'created_at': u'Wed Nov 18 03:43:01 +0000 2015', u'in_reply_to_status_id_str': None, u'place': None}\n",
      "\n"
     ]
    }
   ],
   "source": [
    "for r in back1:\n",
    "    print r\n",
    "    print"
   ]
  },
  {
   "cell_type": "code",
   "execution_count": 49,
   "metadata": {
    "collapsed": false
   },
   "outputs": [],
   "source": [
    "def backtrace_conversation(status):\n",
    "    convo = deque()\n",
    "    convo.append(status)\n",
    "    reply_F = True\n",
    "    while reply_F:\n",
    "        in_reply_to = str(status['in_reply_to_status_id'])\n",
    "        #print in_reply_to\n",
    "        status = twitter.lookup_status(id=in_reply_to)[0]\n",
    "        #print status\n",
    "        convo.appendleft(status)\n",
    "        if not status['in_reply_to_status_id']:\n",
    "            reply_F = False\n",
    "    return convo"
   ]
  },
  {
   "cell_type": "code",
   "execution_count": 50,
   "metadata": {
    "collapsed": false
   },
   "outputs": [
    {
     "name": "stdout",
     "output_type": "stream",
     "text": [
      "666809876501405696\n",
      "{u'contributors': None, u'truncated': False, u'text': u'@King_Shit5 \\U0001f602\\U0001f602\\U0001f602\\U0001f602\\U0001f602 man you was dying before', u'is_quote_status': False, u'in_reply_to_status_id': 666809506253418496, u'id': 666809876501405696, u'favorite_count': 1, u'source': u'<a href=\"http://twitter.com/download/iphone\" rel=\"nofollow\">Twitter for iPhone</a>', u'retweeted': False, u'coordinates': None, u'entities': {u'symbols': [], u'user_mentions': [{u'id': 575106641, u'indices': [0, 11], u'id_str': u'575106641', u'screen_name': u'King_Shit5', u'name': u'MEEK\\u26a1\\ufe0f'}], u'hashtags': [], u'urls': []}, u'in_reply_to_screen_name': u'King_Shit5', u'id_str': u'666809876501405696', u'retweet_count': 0, u'in_reply_to_user_id': 575106641, u'favorited': False, u'user': {u'follow_request_sent': False, u'has_extended_profile': True, u'profile_use_background_image': True, u'default_profile_image': False, u'id': 3669408315, u'profile_background_image_url_https': u'https://pbs.twimg.com/profile_background_images/654937718862942208/VG3gWHUg.jpg', u'verified': False, u'profile_text_color': u'000000', u'profile_image_url_https': u'https://pbs.twimg.com/profile_images/663558600665800704/X79DrDoO_normal.jpg', u'profile_sidebar_fill_color': u'000000', u'entities': {u'description': {u'urls': []}}, u'followers_count': 820, u'profile_sidebar_border_color': u'000000', u'id_str': u'3669408315', u'profile_background_color': u'C0DEED', u'listed_count': 5, u'is_translation_enabled': False, u'utc_offset': None, u'statuses_count': 11373, u'description': u\"this ain't twitter nigga *throws weak ass blows* sofi/yan-ah\", u'friends_count': 316, u'location': u'Bryson Tiller ', u'profile_link_color': u'0084B4', u'profile_image_url': u'http://pbs.twimg.com/profile_images/663558600665800704/X79DrDoO_normal.jpg', u'following': False, u'geo_enabled': False, u'profile_banner_url': u'https://pbs.twimg.com/profile_banners/3669408315/1447822897', u'profile_background_image_url': u'http://pbs.twimg.com/profile_background_images/654937718862942208/VG3gWHUg.jpg', u'screen_name': u'sofiyoe', u'lang': u'en-GB', u'profile_background_tile': False, u'favourites_count': 5843, u'name': u'.', u'notifications': False, u'url': None, u'created_at': u'Wed Sep 16 00:52:37 +0000 2015', u'contributors_enabled': False, u'time_zone': None, u'protected': False, u'default_profile': False, u'is_translator': False}, u'geo': None, u'in_reply_to_user_id_str': u'575106641', u'lang': u'en', u'created_at': u'Wed Nov 18 02:47:17 +0000 2015', u'in_reply_to_status_id_str': u'666809506253418496', u'place': None}\n",
      "666809506253418496\n",
      "{u'contributors': None, u'truncated': False, u'text': u'@sofiyoe \\U0001f602 so what, I understand and that shit has me in tears all over again \\U0001f602', u'is_quote_status': False, u'in_reply_to_status_id': 666807750165417984, u'id': 666809506253418496, u'favorite_count': 1, u'source': u'<a href=\"http://twitter.com/download/iphone\" rel=\"nofollow\">Twitter for iPhone</a>', u'retweeted': False, u'coordinates': None, u'entities': {u'symbols': [], u'user_mentions': [{u'id': 3669408315, u'indices': [0, 8], u'id_str': u'3669408315', u'screen_name': u'sofiyoe', u'name': u'.'}], u'hashtags': [], u'urls': []}, u'in_reply_to_screen_name': u'sofiyoe', u'id_str': u'666809506253418496', u'retweet_count': 0, u'in_reply_to_user_id': 3669408315, u'favorited': False, u'user': {u'follow_request_sent': False, u'has_extended_profile': True, u'profile_use_background_image': True, u'default_profile_image': False, u'id': 575106641, u'profile_background_image_url_https': u'https://abs.twimg.com/images/themes/theme14/bg.gif', u'verified': False, u'profile_text_color': u'333333', u'profile_image_url_https': u'https://pbs.twimg.com/profile_images/666860633837572096/wz7BPjrv_normal.jpg', u'profile_sidebar_fill_color': u'EFEFEF', u'entities': {u'description': {u'urls': []}}, u'followers_count': 1074, u'profile_sidebar_border_color': u'EEEEEE', u'id_str': u'575106641', u'profile_background_color': u'131516', u'listed_count': 3, u'is_translation_enabled': False, u'utc_offset': None, u'statuses_count': 26288, u'description': u'NO! Not Like Meek Mill #TheHIVE', u'friends_count': 1279, u'location': u'Cloud9', u'profile_link_color': u'009999', u'profile_image_url': u'http://pbs.twimg.com/profile_images/666860633837572096/wz7BPjrv_normal.jpg', u'following': False, u'geo_enabled': True, u'profile_banner_url': u'https://pbs.twimg.com/profile_banners/575106641/1447306621', u'profile_background_image_url': u'http://abs.twimg.com/images/themes/theme14/bg.gif', u'screen_name': u'King_Shit5', u'lang': u'en', u'profile_background_tile': True, u'favourites_count': 15641, u'name': u'MEEK\\u26a1\\ufe0f', u'notifications': False, u'url': None, u'created_at': u'Wed May 09 06:28:24 +0000 2012', u'contributors_enabled': False, u'time_zone': None, u'protected': False, u'default_profile': False, u'is_translator': False}, u'geo': None, u'in_reply_to_user_id_str': u'3669408315', u'lang': u'en', u'created_at': u'Wed Nov 18 02:45:49 +0000 2015', u'in_reply_to_status_id_str': u'666807750165417984', u'place': {u'full_name': u'Rahway, NJ', u'url': u'https://api.twitter.com/1.1/geo/id/9d22866e11c9b6b7.json', u'country': u'United States', u'place_type': u'city', u'bounding_box': {u'type': u'Polygon', u'coordinates': [[[-74.305281, 40.592141], [-74.255435, 40.592141], [-74.255435, 40.627526], [-74.305281, 40.627526]]]}, u'contained_within': [], u'country_code': u'US', u'attributes': {}, u'id': u'9d22866e11c9b6b7', u'name': u'Rahway'}}\n",
      "666807750165417984\n",
      "{u'contributors': None, u'truncated': False, u'text': u'@King_Shit5 nobody will understand it on here tho\\U0001f602', u'is_quote_status': False, u'in_reply_to_status_id': 666807136387731456, u'id': 666807750165417984, u'favorite_count': 0, u'source': u'<a href=\"http://twitter.com/download/iphone\" rel=\"nofollow\">Twitter for iPhone</a>', u'retweeted': False, u'coordinates': None, u'entities': {u'symbols': [], u'user_mentions': [{u'id': 575106641, u'indices': [0, 11], u'id_str': u'575106641', u'screen_name': u'King_Shit5', u'name': u'MEEK\\u26a1\\ufe0f'}], u'hashtags': [], u'urls': []}, u'in_reply_to_screen_name': u'King_Shit5', u'id_str': u'666807750165417984', u'retweet_count': 0, u'in_reply_to_user_id': 575106641, u'favorited': False, u'user': {u'follow_request_sent': False, u'has_extended_profile': True, u'profile_use_background_image': True, u'default_profile_image': False, u'id': 3669408315, u'profile_background_image_url_https': u'https://pbs.twimg.com/profile_background_images/654937718862942208/VG3gWHUg.jpg', u'verified': False, u'profile_text_color': u'000000', u'profile_image_url_https': u'https://pbs.twimg.com/profile_images/663558600665800704/X79DrDoO_normal.jpg', u'profile_sidebar_fill_color': u'000000', u'entities': {u'description': {u'urls': []}}, u'followers_count': 820, u'profile_sidebar_border_color': u'000000', u'id_str': u'3669408315', u'profile_background_color': u'C0DEED', u'listed_count': 5, u'is_translation_enabled': False, u'utc_offset': None, u'statuses_count': 11373, u'description': u\"this ain't twitter nigga *throws weak ass blows* sofi/yan-ah\", u'friends_count': 316, u'location': u'Bryson Tiller ', u'profile_link_color': u'0084B4', u'profile_image_url': u'http://pbs.twimg.com/profile_images/663558600665800704/X79DrDoO_normal.jpg', u'following': False, u'geo_enabled': False, u'profile_banner_url': u'https://pbs.twimg.com/profile_banners/3669408315/1447822897', u'profile_background_image_url': u'http://pbs.twimg.com/profile_background_images/654937718862942208/VG3gWHUg.jpg', u'screen_name': u'sofiyoe', u'lang': u'en-GB', u'profile_background_tile': False, u'favourites_count': 5843, u'name': u'.', u'notifications': False, u'url': None, u'created_at': u'Wed Sep 16 00:52:37 +0000 2015', u'contributors_enabled': False, u'time_zone': None, u'protected': False, u'default_profile': False, u'is_translator': False}, u'geo': None, u'in_reply_to_user_id_str': u'575106641', u'lang': u'en', u'created_at': u'Wed Nov 18 02:38:50 +0000 2015', u'in_reply_to_status_id_str': u'666807136387731456', u'place': None}\n",
      "666807136387731456\n",
      "{u'contributors': None, u'truncated': False, u'text': u\"@sofiyoe that's seriously the funniest thing ever I swear \\U0001f602\", u'is_quote_status': False, u'in_reply_to_status_id': 666806296964947969, u'id': 666807136387731456, u'favorite_count': 0, u'source': u'<a href=\"http://twitter.com/download/iphone\" rel=\"nofollow\">Twitter for iPhone</a>', u'retweeted': False, u'coordinates': None, u'entities': {u'symbols': [], u'user_mentions': [{u'id': 3669408315, u'indices': [0, 8], u'id_str': u'3669408315', u'screen_name': u'sofiyoe', u'name': u'.'}], u'hashtags': [], u'urls': []}, u'in_reply_to_screen_name': u'sofiyoe', u'id_str': u'666807136387731456', u'retweet_count': 0, u'in_reply_to_user_id': 3669408315, u'favorited': False, u'user': {u'follow_request_sent': False, u'has_extended_profile': True, u'profile_use_background_image': True, u'default_profile_image': False, u'id': 575106641, u'profile_background_image_url_https': u'https://abs.twimg.com/images/themes/theme14/bg.gif', u'verified': False, u'profile_text_color': u'333333', u'profile_image_url_https': u'https://pbs.twimg.com/profile_images/666860633837572096/wz7BPjrv_normal.jpg', u'profile_sidebar_fill_color': u'EFEFEF', u'entities': {u'description': {u'urls': []}}, u'followers_count': 1074, u'profile_sidebar_border_color': u'EEEEEE', u'id_str': u'575106641', u'profile_background_color': u'131516', u'listed_count': 3, u'is_translation_enabled': False, u'utc_offset': None, u'statuses_count': 26288, u'description': u'NO! Not Like Meek Mill #TheHIVE', u'friends_count': 1279, u'location': u'Cloud9', u'profile_link_color': u'009999', u'profile_image_url': u'http://pbs.twimg.com/profile_images/666860633837572096/wz7BPjrv_normal.jpg', u'following': False, u'geo_enabled': True, u'profile_banner_url': u'https://pbs.twimg.com/profile_banners/575106641/1447306621', u'profile_background_image_url': u'http://abs.twimg.com/images/themes/theme14/bg.gif', u'screen_name': u'King_Shit5', u'lang': u'en', u'profile_background_tile': True, u'favourites_count': 15641, u'name': u'MEEK\\u26a1\\ufe0f', u'notifications': False, u'url': None, u'created_at': u'Wed May 09 06:28:24 +0000 2012', u'contributors_enabled': False, u'time_zone': None, u'protected': False, u'default_profile': False, u'is_translator': False}, u'geo': None, u'in_reply_to_user_id_str': u'3669408315', u'lang': u'en', u'created_at': u'Wed Nov 18 02:36:24 +0000 2015', u'in_reply_to_status_id_str': u'666806296964947969', u'place': {u'full_name': u'Rahway, NJ', u'url': u'https://api.twitter.com/1.1/geo/id/9d22866e11c9b6b7.json', u'country': u'United States', u'place_type': u'city', u'bounding_box': {u'type': u'Polygon', u'coordinates': [[[-74.305281, 40.592141], [-74.255435, 40.592141], [-74.255435, 40.627526], [-74.305281, 40.627526]]]}, u'contained_within': [], u'country_code': u'US', u'attributes': {}, u'id': u'9d22866e11c9b6b7', u'name': u'Rahway'}}\n",
      "666806296964947969\n",
      "{u'contributors': None, u'truncated': False, u'text': u'@King_Shit5 lmaoo. \\U0001f602\\U0001f602', u'is_quote_status': False, u'in_reply_to_status_id': 666806122595110914, u'id': 666806296964947969, u'favorite_count': 1, u'source': u'<a href=\"http://twitter.com/download/iphone\" rel=\"nofollow\">Twitter for iPhone</a>', u'retweeted': False, u'coordinates': None, u'entities': {u'symbols': [], u'user_mentions': [{u'id': 575106641, u'indices': [0, 11], u'id_str': u'575106641', u'screen_name': u'King_Shit5', u'name': u'MEEK\\u26a1\\ufe0f'}], u'hashtags': [], u'urls': []}, u'in_reply_to_screen_name': u'King_Shit5', u'id_str': u'666806296964947969', u'retweet_count': 0, u'in_reply_to_user_id': 575106641, u'favorited': False, u'user': {u'follow_request_sent': False, u'has_extended_profile': True, u'profile_use_background_image': True, u'default_profile_image': False, u'id': 3669408315, u'profile_background_image_url_https': u'https://pbs.twimg.com/profile_background_images/654937718862942208/VG3gWHUg.jpg', u'verified': False, u'profile_text_color': u'000000', u'profile_image_url_https': u'https://pbs.twimg.com/profile_images/663558600665800704/X79DrDoO_normal.jpg', u'profile_sidebar_fill_color': u'000000', u'entities': {u'description': {u'urls': []}}, u'followers_count': 820, u'profile_sidebar_border_color': u'000000', u'id_str': u'3669408315', u'profile_background_color': u'C0DEED', u'listed_count': 5, u'is_translation_enabled': False, u'utc_offset': None, u'statuses_count': 11373, u'description': u\"this ain't twitter nigga *throws weak ass blows* sofi/yan-ah\", u'friends_count': 316, u'location': u'Bryson Tiller ', u'profile_link_color': u'0084B4', u'profile_image_url': u'http://pbs.twimg.com/profile_images/663558600665800704/X79DrDoO_normal.jpg', u'following': False, u'geo_enabled': False, u'profile_banner_url': u'https://pbs.twimg.com/profile_banners/3669408315/1447822897', u'profile_background_image_url': u'http://pbs.twimg.com/profile_background_images/654937718862942208/VG3gWHUg.jpg', u'screen_name': u'sofiyoe', u'lang': u'en-GB', u'profile_background_tile': False, u'favourites_count': 5843, u'name': u'.', u'notifications': False, u'url': None, u'created_at': u'Wed Sep 16 00:52:37 +0000 2015', u'contributors_enabled': False, u'time_zone': None, u'protected': False, u'default_profile': False, u'is_translator': False}, u'geo': None, u'in_reply_to_user_id_str': u'575106641', u'lang': u'und', u'created_at': u'Wed Nov 18 02:33:04 +0000 2015', u'in_reply_to_status_id_str': u'666806122595110914', u'place': None}\n",
      "666806122595110914\n",
      "{u'contributors': None, u'truncated': False, u'text': u'@sofiyoe lmfao omg stop \\U0001f602\\U0001f602\\U0001f602', u'is_quote_status': False, u'in_reply_to_status_id': 666806057419821056, u'id': 666806122595110914, u'favorite_count': 1, u'source': u'<a href=\"http://twitter.com/download/iphone\" rel=\"nofollow\">Twitter for iPhone</a>', u'retweeted': False, u'coordinates': None, u'entities': {u'symbols': [], u'user_mentions': [{u'id': 3669408315, u'indices': [0, 8], u'id_str': u'3669408315', u'screen_name': u'sofiyoe', u'name': u'.'}], u'hashtags': [], u'urls': []}, u'in_reply_to_screen_name': u'sofiyoe', u'id_str': u'666806122595110914', u'retweet_count': 0, u'in_reply_to_user_id': 3669408315, u'favorited': False, u'user': {u'follow_request_sent': False, u'has_extended_profile': True, u'profile_use_background_image': True, u'default_profile_image': False, u'id': 575106641, u'profile_background_image_url_https': u'https://abs.twimg.com/images/themes/theme14/bg.gif', u'verified': False, u'profile_text_color': u'333333', u'profile_image_url_https': u'https://pbs.twimg.com/profile_images/666860633837572096/wz7BPjrv_normal.jpg', u'profile_sidebar_fill_color': u'EFEFEF', u'entities': {u'description': {u'urls': []}}, u'followers_count': 1074, u'profile_sidebar_border_color': u'EEEEEE', u'id_str': u'575106641', u'profile_background_color': u'131516', u'listed_count': 3, u'is_translation_enabled': False, u'utc_offset': None, u'statuses_count': 26288, u'description': u'NO! Not Like Meek Mill #TheHIVE', u'friends_count': 1279, u'location': u'Cloud9', u'profile_link_color': u'009999', u'profile_image_url': u'http://pbs.twimg.com/profile_images/666860633837572096/wz7BPjrv_normal.jpg', u'following': False, u'geo_enabled': True, u'profile_banner_url': u'https://pbs.twimg.com/profile_banners/575106641/1447306621', u'profile_background_image_url': u'http://abs.twimg.com/images/themes/theme14/bg.gif', u'screen_name': u'King_Shit5', u'lang': u'en', u'profile_background_tile': True, u'favourites_count': 15641, u'name': u'MEEK\\u26a1\\ufe0f', u'notifications': False, u'url': None, u'created_at': u'Wed May 09 06:28:24 +0000 2012', u'contributors_enabled': False, u'time_zone': None, u'protected': False, u'default_profile': False, u'is_translator': False}, u'geo': None, u'in_reply_to_user_id_str': u'3669408315', u'lang': u'en', u'created_at': u'Wed Nov 18 02:32:22 +0000 2015', u'in_reply_to_status_id_str': u'666806057419821056', u'place': None}\n",
      "666806057419821056\n",
      "{u'contributors': None, u'truncated': False, u'text': u'butterscotch @King_Shit5', u'is_quote_status': False, u'in_reply_to_status_id': None, u'id': 666806057419821056, u'favorite_count': 0, u'source': u'<a href=\"http://twitter.com/download/iphone\" rel=\"nofollow\">Twitter for iPhone</a>', u'retweeted': False, u'coordinates': None, u'entities': {u'symbols': [], u'user_mentions': [{u'id': 575106641, u'indices': [13, 24], u'id_str': u'575106641', u'screen_name': u'King_Shit5', u'name': u'MEEK\\u26a1\\ufe0f'}], u'hashtags': [], u'urls': []}, u'in_reply_to_screen_name': None, u'id_str': u'666806057419821056', u'retweet_count': 0, u'in_reply_to_user_id': None, u'favorited': False, u'user': {u'follow_request_sent': False, u'has_extended_profile': True, u'profile_use_background_image': True, u'default_profile_image': False, u'id': 3669408315, u'profile_background_image_url_https': u'https://pbs.twimg.com/profile_background_images/654937718862942208/VG3gWHUg.jpg', u'verified': False, u'profile_text_color': u'000000', u'profile_image_url_https': u'https://pbs.twimg.com/profile_images/663558600665800704/X79DrDoO_normal.jpg', u'profile_sidebar_fill_color': u'000000', u'entities': {u'description': {u'urls': []}}, u'followers_count': 820, u'profile_sidebar_border_color': u'000000', u'id_str': u'3669408315', u'profile_background_color': u'C0DEED', u'listed_count': 5, u'is_translation_enabled': False, u'utc_offset': None, u'statuses_count': 11373, u'description': u\"this ain't twitter nigga *throws weak ass blows* sofi/yan-ah\", u'friends_count': 316, u'location': u'Bryson Tiller ', u'profile_link_color': u'0084B4', u'profile_image_url': u'http://pbs.twimg.com/profile_images/663558600665800704/X79DrDoO_normal.jpg', u'following': False, u'geo_enabled': False, u'profile_banner_url': u'https://pbs.twimg.com/profile_banners/3669408315/1447822897', u'profile_background_image_url': u'http://pbs.twimg.com/profile_background_images/654937718862942208/VG3gWHUg.jpg', u'screen_name': u'sofiyoe', u'lang': u'en-GB', u'profile_background_tile': False, u'favourites_count': 5843, u'name': u'.', u'notifications': False, u'url': None, u'created_at': u'Wed Sep 16 00:52:37 +0000 2015', u'contributors_enabled': False, u'time_zone': None, u'protected': False, u'default_profile': False, u'is_translator': False}, u'geo': None, u'in_reply_to_user_id_str': None, u'lang': u'en', u'created_at': u'Wed Nov 18 02:32:07 +0000 2015', u'in_reply_to_status_id_str': None, u'place': None}\n"
     ]
    }
   ],
   "source": [
    "convo = backtrace_conversation(replies[0])"
   ]
  },
  {
   "cell_type": "code",
   "execution_count": 51,
   "metadata": {
    "collapsed": false
   },
   "outputs": [
    {
     "name": "stdout",
     "output_type": "stream",
     "text": [
      "butterscotch @King_Shit5\n",
      "\n",
      "@sofiyoe lmfao omg stop 😂😂😂\n",
      "\n",
      "@King_Shit5 lmaoo. 😂😂\n",
      "\n",
      "@sofiyoe that's seriously the funniest thing ever I swear 😂\n",
      "\n",
      "@King_Shit5 nobody will understand it on here tho😂\n",
      "\n",
      "@sofiyoe 😂 so what, I understand and that shit has me in tears all over again 😂\n",
      "\n",
      "@King_Shit5 😂😂😂😂😂 man you was dying before\n",
      "\n",
      "@sofiyoe I had tears! And my stomach started hurting\n",
      "\n"
     ]
    }
   ],
   "source": [
    "for t in convo:\n",
    "    print t['text']\n",
    "    print"
   ]
  },
  {
   "cell_type": "code",
   "execution_count": 114,
   "metadata": {
    "collapsed": false
   },
   "outputs": [],
   "source": [
    "from datetime import datetime, timedelta\n",
    "def parse_twitter_timestamp(status):\n",
    "    \"\"\" \n",
    "    Convert 'Wed Nov 18 15:40:46 +0000 2015' to datetime object\n",
    "    Note: Python 2 can't handle the UTC offset '+0000', so slice around it\n",
    "    \"\"\"\n",
    "    return datetime.strptime(status['created_at'][:-10] + status['created_at'][-4:], \"%a %b %d %H:%M:%S %Y\")\n",
    "\n",
    "class Incident():\n",
    "    \"\"\"\n",
    "    A data structure to keep track of local information about a pulled tweet.\n",
    "    1. Keeps the the tweet filtered from the stream\n",
    "    2. Gets this user's timeline going back up to 'timedelta' days\n",
    "    3. Gets any conversation this tweet was involved in\n",
    "    4. Tracks any future conversations this tweet is involved in\n",
    "    \"\"\"\n",
    "    def __init__(self, status):\n",
    "        self.start_date = parse_twitter_timestamp(status) # when the incident occured\n",
    "        self.timedelta = timedelta(7) # in days, max number of days to keep from timeline\n",
    "        self.conversations = [self._backtrace_conversation(status)] # all conversations involving this tweet\n",
    "        self.user_timeline = self._get_user_timeline(status) # a deque of tweets by the user\n",
    "        self.user = status['user']\n",
    "        self.tweet0 = status['id']\n",
    "        \n",
    "    # public methods\n",
    "    def is_over(self):\n",
    "        if (self.start_date + self.timedelta) >= datetime.now():\n",
    "            return True\n",
    "        else:\n",
    "            return False\n",
    "    \n",
    "    def add_if_in_this_incident(self, status):\n",
    "        if self.is_over(): return False\n",
    "        if status['user']['id'] == self.user['id']: # tweet involves this user\n",
    "            # add to the timeline\n",
    "            self.timeline.append(status)\n",
    "            # add to any conversations if it was in one\n",
    "            self._add_to_relevant_conversation(status)\n",
    "            return True\n",
    "        if status['in_reply_to_user_id'] == self.user['id']: # tweet was in reply to this user\n",
    "            # add to any conversations if it was in one, else this reply isn't relevant\n",
    "            added = self._add_to_relevant_conversation(status)\n",
    "            return added\n",
    "        return False\n",
    "    \n",
    "    def as_dict(self):\n",
    "        return {\n",
    "            'tweet0':self.tweet0,\n",
    "            'start_date': datetime.strftime(self.start_date, \"%a %b %d %H:%M:%S %Y\"),\n",
    "            'window': self.timedelta.days,\n",
    "            'user': self.user,\n",
    "            'timeline': list(self.user_timeline),\n",
    "            'conversations':[ list(convo) for convo in self.conversations ]   \n",
    "        }\n",
    "    \n",
    "    # private methods\n",
    "    def _add_to_relevant_conversation(self, status):\n",
    "        # note that each tweet can be in only one conversation thread, so always return on success\n",
    "        reply_id = status['in_reply_to_user_id']\n",
    "        if not reply_id: return False#no conversations if this wasn't a reply\n",
    "        for convo in self.conversations:\n",
    "            # if in reply to the end of a thread, just add it to that convo\n",
    "            if reply_id == convo[-1]:\n",
    "                convo.append(status)\n",
    "                return True\n",
    "            # now check if this response is to an earlier tweet in the convo, splitting into another convo\n",
    "            for i, id in enumerate([status['id'] for status in reversed(convo)]): #traverse convo reverse chronologically\n",
    "                # don't split conversations if they split before the tweet that caused the incident\n",
    "                if id == self.tweet0:\n",
    "                    if reply_id == id:\n",
    "                        new_convo = deque(list(convo)[:len(convo)-i] + [status])\n",
    "                        self.conversations.append(new_convo)\n",
    "                        return True\n",
    "                    else: break # got all the way back to tweet0 and reply wasn't involved, so stop analyzing this convo\n",
    "                if reply_id == id:\n",
    "                        new_convo = deque(list(convo)[:len(convo)-i] + [status])\n",
    "                        self.conversations.append(new_convo)\n",
    "                        return True\n",
    "        return False\n",
    "                    \n",
    "    def _get_user_timeline(self, status):\n",
    "        user_timeline = twitter.get_user_timeline(id=str(status['user']['id']))\n",
    "        timeline = deque()\n",
    "        backlimit = parse_twitter_timestamp(status) - self.timedelta\n",
    "        for t in user_timeline:\n",
    "            if parse_twitter_timestamp(t) >= backlimit:\n",
    "                timeline.appendleft(t)\n",
    "        return timeline \n",
    "        \n",
    "    def _backtrace_conversation(self, status):\n",
    "        convo = deque()\n",
    "        convo.append(status)\n",
    "        if not status['in_reply_to_status_id']: return convo # no replies to backtrace\n",
    "        reply_F = True\n",
    "        while reply_F:\n",
    "            in_reply_to = str(status['in_reply_to_status_id'])\n",
    "            status = twitter.lookup_status(id=in_reply_to)[0]\n",
    "            convo.appendleft(status) # keep conversation in chronological order\n",
    "            if not status['in_reply_to_status_id']:\n",
    "                reply_F = False\n",
    "        return convo\n",
    "    \n",
    "    "
   ]
  },
  {
   "cell_type": "code",
   "execution_count": 53,
   "metadata": {
    "collapsed": false
   },
   "outputs": [
    {
     "name": "stdout",
     "output_type": "stream",
     "text": [
      "20\n"
     ]
    }
   ],
   "source": [
    "#twitter.get_user_timeline(id=str(status['user']['id']))\n",
    "user_id = '41634520'\n",
    "timeline = twitter.get_user_timeline(id=user_id)\n",
    "print len(timeline)"
   ]
  },
  {
   "cell_type": "code",
   "execution_count": 80,
   "metadata": {
    "collapsed": false
   },
   "outputs": [
    {
     "name": "stdout",
     "output_type": "stream",
     "text": [
      "Everything Wrong With America's Syrian Refugee Policy In One Graph https://t.co/naffs8oPPZ\n",
      "\n",
      "Question of the Day: Should we let Syrian refugees into the United States? Weigh in using #Hannity\n",
      "\n",
      "Next on #Hannity: @SarahPalinUSA weighs in on governors around the country taking a stand against Syrian refugees in their states.\n",
      "\n",
      ".@RepMcCaul: “I think the president’s playing Russian roulette with the American people’s safety &amp; national security issues.\" #Hannity\n",
      "\n",
      ".@RepMcCaul: “We cannot assure the American people that we can protect their safety bringing these refugees into the country.” #Hannity\n",
      "\n",
      "Still to come: @RepMcCaul &amp; @RandPaul discuss their concerns about Syrian refugees in the U.S. #Hannity\n",
      "\n",
      ".@MarkSteynOnline: Pres. Obama “stood there in front of the world… &amp; announced that he would be doing nothing.” #Hannity\n",
      "\n",
      "Coming Up on #Hannity:  @MarkSteynOnline reacts to my interview with @realDonaldTrump &amp; Pres. Obama’s press conference yesterday.\n",
      "\n",
      ".@realDonaldTrump: @HillaryClinton “is gonna lose the election, especially if I run against her.” #Hannity\n",
      "\n",
      ".@SarahPalinUSA: “I’m so proud of these governors…Someone has to be our last line of defense here in protecting this country.” #Hannity\n",
      "\n",
      "NEXT: MORE with @realDonaldTrump &amp; how he would defeat ISIS if he were elected president.’ #Hannity\n",
      "\n",
      ".@realDonaldTrump: “@HillaryClinton refuses to say [‘radical Islamic terrorism.’] She’s as bad as [Pres. Obama] is.” #Hannity\n",
      "\n",
      ".@realDonaldTrump on Pres. Obama: “I don’t think he was meant for this job.” #Hannity\n",
      "\n",
      ".@realDonaldTrump joins me NOW to discuss Pres. Obama’s ISIS strategy &amp; his stance on the U.S. taking in Syrian refugees. #Hannity\n",
      "\n",
      "#Hannity starts NOW! Are you watching?\n",
      "\n",
      "Listen: I Take On The Guest Who Suggests Letting A Few Terrorists Into The U.S. Is Okay: https://t.co/AZ19sytUiU\n",
      "\n",
      "Watch: 'May Allah Exterminate You', Suspected Paris Mastermind Speaks: https://t.co/qHJsATqJSF\n",
      "\n",
      "Gingrich: \"Madness And Suicidal\" To Bring In More Syrian Refugees https://t.co/UPVSXTG0Ss\n",
      "\n",
      "Watch: 'ISIS Is An Obama Creation' Mayor Giuliani Tears Into Syria Policy https://t.co/kode0Ze6EO\n",
      "\n",
      "That is it for tonight’s show, but be sure to tune in tomorrow night when I am joined by @realDonaldTrump and @MarkSteynOnline #Hannity\n",
      "\n"
     ]
    }
   ],
   "source": [
    "for t in timeline:\n",
    "    print t['text']\n",
    "    print"
   ]
  },
  {
   "cell_type": "code",
   "execution_count": 73,
   "metadata": {
    "collapsed": true
   },
   "outputs": [],
   "source": [
    "from datetime import datetime, timedelta"
   ]
  },
  {
   "cell_type": "code",
   "execution_count": 90,
   "metadata": {
    "collapsed": false
   },
   "outputs": [
    {
     "name": "stdout",
     "output_type": "stream",
     "text": [
      "2015-11-11 15:40:46\n",
      "<type 'int'>\n"
     ]
    }
   ],
   "source": [
    "delta = timedelta(7)\n",
    "print parse_twitter_timestamp(timeline[0]) - delta\n",
    "print type(delta.days)\n",
    "# for t in timeline:\n",
    "#     print t['created_at']\n",
    "#     print datetime.strptime(t['created_at'][:-10] + t['created_at'][-4:], \"%a %b %d %H:%M:%S %Y\")\n",
    "#     print"
   ]
  },
  {
   "cell_type": "code",
   "execution_count": 86,
   "metadata": {
    "collapsed": false
   },
   "outputs": [
    {
     "name": "stdout",
     "output_type": "stream",
     "text": [
      "9\n",
      "8\n",
      "7\n",
      "6\n",
      "5\n",
      "4\n",
      "3\n",
      "2\n",
      "1\n",
      "0\n",
      "deque([0, 1, 2, 3, 4, 5, 6, 7, 8, 9])\n",
      "deque([9, 8, 7, 6, 5, 4, 3, 2, 1, 0])\n",
      "0\n",
      "[0, 1, 2, 3, 4, 5, 6]\n"
     ]
    }
   ],
   "source": [
    "# reverse testing\n",
    "convo = deque(range(10))\n",
    "for i in reversed(convo):\n",
    "    print i\n",
    "print convo\n",
    "convo.reverse()\n",
    "print convo\n",
    "print convo[-1]\n",
    "convo.reverse()\n",
    "print list(convo)[:len(convo)-3]"
   ]
  },
  {
   "cell_type": "markdown",
   "metadata": {},
   "source": [
    "### Test the new streamer with incidents"
   ]
  },
  {
   "cell_type": "code",
   "execution_count": 115,
   "metadata": {
    "collapsed": true
   },
   "outputs": [],
   "source": [
    "\"\"\"API LIMITS:\n",
    "Follow: up to 5000 ids\n",
    "Locations: up to 25 boxes\n",
    "Terms: up to 400 terms\"\"\"\n",
    "boundingbox = []#['-74.259090','40.491370','-73.700272','40.915256'] # SW -> NE\n",
    "trackterms=['#foodpoisoning',\n",
    "            '#stomachache',\n",
    "            'food poison',\n",
    "            'food poisoning',\n",
    "            'stomach',\n",
    "            'vomit',\n",
    "            'vomited',\n",
    "            'puke',\n",
    "            'puked',\n",
    "            'diarrhea',\n",
    "            'the runs',\n",
    "            'got sick',\n",
    "            '#theruns',\n",
    "            'cool'\n",
    "            ]\n",
    "follow = []\n",
    "filterparams = {'locations':boundingbox, 'track':trackterms, 'follow':follow}\n",
    "stream = FoodBorneStreamer(consumer_key, consumer_secret, access_token, access_token_secret)"
   ]
  },
  {
   "cell_type": "code",
   "execution_count": 116,
   "metadata": {
    "collapsed": false
   },
   "outputs": [
    {
     "name": "stdout",
     "output_type": "stream",
     "text": [
      "NEW INCIDENT\n",
      "0 ::  @froothoweIl @AmazingPhil its so cool, im so cool, coolşör clara\n",
      "\n",
      "NEW INCIDENT\n",
      "1 ::  Is Thermal Technology cool or not? https://t.co/c2EHan7Vs1\n",
      "\n",
      "NEW INCIDENT\n",
      "2 ::  RT @Louis_Tomlinson: Heard my mum is hanging out with some cool little people today ❤️ Olivia, Spencer &amp; Harvey X\n",
      "\n",
      "NEW INCIDENT\n",
      "3 ::  RT @NiallOfficial: #MadeInTheAM having a great time on this promo run. doing some really cool shows , havin a laugh..\n",
      "\n",
      "NEW INCIDENT\n",
      "4 ::  @DinaaELH @Cyrilhanouna cool\n",
      "\n",
      "NEW INCIDENT\n",
      "5 ::  Ma mère a oublié qu'il y a la réunion parents profs vendredi c'est plutôt cool ça\n",
      "\n",
      "NEW INCIDENT\n",
      "6 ::  @ad_schmidt wow that's cool\n",
      "\n",
      "NEW INCIDENT\n",
      "7 ::  RT @dog_rates: Those are sunglasses and a jean jacket. 11/10 dog cool af https://t.co/uHXrPkUEyl\n",
      "\n",
      "NEW INCIDENT\n",
      "8 ::  @marknorm I don't know, I think I'd be kind of cool to have famous AIDS.\n",
      "\n",
      "NEW INCIDENT\n",
      "9 ::  RT @GinaEPA: Happy #AmericaRecyclesDay! Learn some cool tips on recycling at https://t.co/Bg1IaHqO93, and pass them on. https://t.co/16FPrt…\n",
      "\n",
      "NEW INCIDENT\n",
      "10 ::  @taylorswift13 looks like you're coming to my place for a while? I'm cool with it if you are https://t.co/nzQazdTA3a\n",
      "\n",
      "NEW INCIDENT\n",
      "11 ::  RT @SCNotTopTen: This video is so cool 💯 https://t.co/Ir8zVPYBXR\n",
      "\n",
      "NEW INCIDENT\n",
      "12 ::  JAJAJAJAJAJAJA así no por favor @lsolano13: Que cool se siente estar loco y andar suelto! 👯👯👯👯👯\n",
      "\n",
      "NEW INCIDENT\n",
      "13 ::  Neil cool at 1159 https://t.co/rFVoLtGFW9\n",
      "\n",
      "NEW INCIDENT\n",
      "14 ::  RT @LifeOfGuy_: Moi je reviens plus vers les gens vous partez c'est cool pour vous.\n",
      "\n",
      "NEW INCIDENT\n",
      "15 ::  &amp; just because I'm cool with a nigga doesn't mean I fucked or am fucking him.\n",
      "\n",
      "NEW INCIDENT\n",
      "16 ::  @bearshrugged @GoldenSnowflake @jtLOL we can tear down any man made construct if you want, but it's either all or nonenone.  That cool?\n",
      "\n",
      "NEW INCIDENT\n",
      "17 ::  In a cool mood 😎😌\n",
      "\n",
      "NEW INCIDENT\n",
      "18 ::  @Neztto @Barbie Jajajajaja! Cómo no? Las primas cool jajaja!\n",
      "\n",
      "NEW INCIDENT\n",
      "19 ::  This looks very cool! https://t.co/y33J5dzS0X\n",
      "\n"
     ]
    }
   ],
   "source": [
    "stream.run_dynamic_stream(filterparams)"
   ]
  },
  {
   "cell_type": "code",
   "execution_count": null,
   "metadata": {
    "collapsed": true
   },
   "outputs": [],
   "source": []
  }
 ],
 "metadata": {
  "kernelspec": {
   "display_name": "Python 2",
   "language": "python",
   "name": "python2"
  },
  "language_info": {
   "codemirror_mode": {
    "name": "ipython",
    "version": 2
   },
   "file_extension": ".py",
   "mimetype": "text/x-python",
   "name": "python",
   "nbconvert_exporter": "python",
   "pygments_lexer": "ipython2",
   "version": "2.7.10"
  }
 },
 "nbformat": 4,
 "nbformat_minor": 0
}
