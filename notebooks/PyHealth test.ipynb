{
 "cells": [
  {
   "cell_type": "code",
   "execution_count": 3,
   "metadata": {
    "collapsed": false
   },
   "outputs": [
    {
     "ename": "ValueError",
     "evalue": "Attempted relative import in non-package",
     "output_type": "error",
     "traceback": [
      "\u001b[0;31m---------------------------------------------------------------------------\u001b[0m",
      "\u001b[0;31mValueError\u001b[0m                                Traceback (most recent call last)",
      "\u001b[0;32m<ipython-input-3-7109aa2383a2>\u001b[0m in \u001b[0;36m<module>\u001b[0;34m()\u001b[0m\n\u001b[0;32m----> 1\u001b[0;31m \u001b[0;32mfrom\u001b[0m \u001b[0;34m.\u001b[0m\u001b[0;34m.\u001b[0m\u001b[0mpyhealth\u001b[0m\u001b[0;34m.\u001b[0m\u001b[0msources\u001b[0m \u001b[0;32mimport\u001b[0m \u001b[0myelp_fast\u001b[0m \u001b[0;32mas\u001b[0m \u001b[0myelp\u001b[0m\u001b[0;34m\u001b[0m\u001b[0m\n\u001b[0m",
      "\u001b[0;31mValueError\u001b[0m: Attempted relative import in non-package"
     ]
    }
   ],
   "source": [
    "from pyhealth.sources import yelp_fast as yelp"
   ]
  },
  {
   "cell_type": "code",
   "execution_count": 4,
   "metadata": {
    "collapsed": false
   },
   "outputs": [
    {
     "data": {
      "text/plain": [
       "'/Users/thomaseffland/Development/FoodborneNYC/notebooks'"
      ]
     },
     "execution_count": 4,
     "metadata": {},
     "output_type": "execute_result"
    }
   ],
   "source": [
    "import os\n",
    "os.getcwd()"
   ]
  },
  {
   "cell_type": "code",
   "execution_count": 2,
   "metadata": {
    "collapsed": false
   },
   "outputs": [
    {
     "ename": "NameError",
     "evalue": "name 'yelp' is not defined",
     "output_type": "error",
     "traceback": [
      "\u001b[0;31m---------------------------------------------------------------------------\u001b[0m",
      "\u001b[0;31mNameError\u001b[0m                                 Traceback (most recent call last)",
      "\u001b[0;32m<ipython-input-2-c99a66fac219>\u001b[0m in \u001b[0;36m<module>\u001b[0;34m()\u001b[0m\n\u001b[1;32m      1\u001b[0m \u001b[0;31m# setup local config\u001b[0m\u001b[0;34m\u001b[0m\u001b[0;34m\u001b[0m\u001b[0m\n\u001b[0;32m----> 2\u001b[0;31m \u001b[0;32mprint\u001b[0m \u001b[0myelp\u001b[0m\u001b[0;34m.\u001b[0m\u001b[0mconfig\u001b[0m\u001b[0;34m\u001b[0m\u001b[0m\n\u001b[0m\u001b[1;32m      3\u001b[0m \u001b[0myelp\u001b[0m\u001b[0;34m.\u001b[0m\u001b[0mconfig\u001b[0m\u001b[0;34m[\u001b[0m\u001b[0;34m'rawdata_dir'\u001b[0m\u001b[0;34m]\u001b[0m \u001b[0;34m=\u001b[0m \u001b[0;34m'../pyhealth/sources/yelpfiles'\u001b[0m\u001b[0;34m\u001b[0m\u001b[0m\n",
      "\u001b[0;31mNameError\u001b[0m: name 'yelp' is not defined"
     ]
    }
   ],
   "source": [
    "# setup local config\n",
    "print yelp.config\n",
    "yelp.config['rawdata_dir'] = '../pyhealth/sources/yelpfiles'"
   ]
  },
  {
   "cell_type": "code",
   "execution_count": null,
   "metadata": {
    "collapsed": false
   },
   "outputs": [],
   "source": [
    "#fname = yelp.downloadLatestYelpData()"
   ]
  },
  {
   "cell_type": "code",
   "execution_count": null,
   "metadata": {
    "collapsed": false
   },
   "outputs": [],
   "source": [
    "#data = yelp.unzipYelpFeed(fname)"
   ]
  },
  {
   "cell_type": "code",
   "execution_count": null,
   "metadata": {
    "collapsed": true
   },
   "outputs": [],
   "source": [
    "#yelp.updateDBFromFeed(data, geocode=False)"
   ]
  },
  {
   "cell_type": "code",
   "execution_count": 39,
   "metadata": {
    "collapsed": true
   },
   "outputs": [],
   "source": [
    "import pyhealth.models as models\n",
    "from pyhealth.models.documents import YelpReview\n",
    "from pyhealth.models.businesses import Business\n",
    "from pyhealth.models.locations import Location\n",
    "from sqlalchemy.sql.functions import *\n",
    "from sqlalchemy import desc"
   ]
  },
  {
   "cell_type": "code",
   "execution_count": 6,
   "metadata": {
    "collapsed": false
   },
   "outputs": [],
   "source": [
    "db = models.models.getDBSession()"
   ]
  },
  {
   "cell_type": "code",
   "execution_count": 43,
   "metadata": {
    "collapsed": false
   },
   "outputs": [
    {
     "name": "stdout",
     "output_type": "stream",
     "text": [
      "CPU times: user 1.05 ms, sys: 1.55 ms, total: 2.6 ms\n",
      "Wall time: 10.3 s\n"
     ]
    },
    {
     "data": {
      "text/plain": [
       "<sqlalchemy.engine.result.ResultProxy at 0x1070d9e10>"
      ]
     },
     "execution_count": 43,
     "metadata": {},
     "output_type": "execute_result"
    }
   ],
   "source": [
    "# create a descending index on created, so we can get most recent\n",
    "stmt = \"CREATE INDEX desc_created_IX ON dbo.yelp_reviews (created DESC);\"\n",
    "%time db.execute(stmt)"
   ]
  },
  {
   "cell_type": "code",
   "execution_count": null,
   "metadata": {
    "collapsed": true
   },
   "outputs": [],
   "source": [
    "numreviews = db.query(func.count(YelpReview.yelp_id)).scalar()\n",
    "print numreviews"
   ]
  },
  {
   "cell_type": "code",
   "execution_count": 8,
   "metadata": {
    "collapsed": false
   },
   "outputs": [
    {
     "name": "stderr",
     "output_type": "stream",
     "text": [
      "/Users/thomaseffland/.virtualenvs/health/lib/python2.7/site-packages/sqlalchemy/sql/sqltypes.py:185: SAWarning: Unicode type received non-unicode bind param value 'Pisticci'. (this warning may be suppressed after 10 occurrences)\n",
      "  (util.ellipses_string(value),))\n"
     ]
    }
   ],
   "source": [
    "pisticci = db.query(Business).filter(Business.name=='Pisticci').first()"
   ]
  },
  {
   "cell_type": "code",
   "execution_count": 9,
   "metadata": {
    "collapsed": false
   },
   "outputs": [
    {
     "name": "stdout",
     "output_type": "stream",
     "text": [
      "<Location (None, None): 125 la salle st, , , new york, ny 10027>\n"
     ]
    }
   ],
   "source": [
    "print pisticci.location"
   ]
  },
  {
   "cell_type": "code",
   "execution_count": null,
   "metadata": {
    "collapsed": false
   },
   "outputs": [],
   "source": [
    "print len(pisticci.reviews)"
   ]
  },
  {
   "cell_type": "code",
   "execution_count": 42,
   "metadata": {
    "collapsed": false
   },
   "outputs": [
    {
     "name": "stdout",
     "output_type": "stream",
     "text": [
      "CPU times: user 6.19 s, sys: 996 ms, total: 7.19 s\n",
      "Wall time: 1min 10s\n"
     ]
    }
   ],
   "source": [
    "%time revs = db.query(YelpReview).order_by(desc(YelpReview.created)).limit(100000).all()"
   ]
  },
  {
   "cell_type": "code",
   "execution_count": 45,
   "metadata": {
    "collapsed": false
   },
   "outputs": [
    {
     "name": "stdout",
     "output_type": "stream",
     "text": [
      "69\n"
     ]
    }
   ],
   "source": [
    "fp = [ r for r in revs if ' food poisoning ' in r.text]\n",
    "print len(fp)"
   ]
  },
  {
   "cell_type": "code",
   "execution_count": 50,
   "metadata": {
    "collapsed": false
   },
   "outputs": [
    {
     "name": "stdout",
     "output_type": "stream",
     "text": [
      "0 1LIptXhtDh58vAA-QPFL4w ::  2015-09-28 00:00:00  :::  I can barely write this without feeling nauseous. Last night I went to cask to purchase two macaroni and cheese. It was late, around 11, but I didn't think anything of it since they said the kitchen was still open. Also I had to eat something since I didn't get a chance to eat dinner. I got the Mac and cheese and went home to eat it. It tasted a little funny but I didn't think any thing of it since it was literally just Mac and cheese. Long story short I wake up at 4 am puking on and off for the next 6 hours. I literally have never felt so bad in my life. I had the hot and cold chills, I couldn't even bare to look outside since I had a headache and my eyes were sensitive to the light (prob from dehydration since I can't keep any water down) I've never had food poisoning before but believe me it's NO joke. Whatever they prepped my food on must have been contaminated. I'll never go back here again. I'm very disappointed with this cute little place.\n",
      "\n",
      "1 2hmhZim4bX2lbjPSNc7LaA ::  2015-10-11 00:00:00  :::  1) Long Wait\n",
      "2) Food poisoning\n",
      "3) Shitty management\n",
      "\n",
      "\n",
      "Came here with a very large group based off a recommendation, but was disappointed throughout the entire time. \n",
      "\n",
      "They made us wait in the narrow front area for half an hour before seating us. It was super fun dodging people and squishing together. The manager assured us our table would be ready 'soon.'  A bunch of us came from out of the city and one of the girls was pregnant, but by all means keep your guests waiting and shoved around when the reservation was made and confirmed well ahead of time. The restaurant is incredibly loud, we couldn't even hear the person next to us.\n",
      "\n",
      "Nobody was impressed by the food or the watered down drinks. The queso sampler thing was glorified Taco bell cheese sauce, and my dish in particular gave me food poisoning well into the next day. I contacted the manager via email recapping the entire night and got no response. Definitely not coming back.\n",
      "\n",
      "2 41lYGMnCGfX4ZDZEWmgHTw ::  2015-10-11 00:00:00  :::  Underwhelmed. Had been anxious to try this place after joining friends there for drinks over the summer. It is a tough Saturday night table to get so we accepted a 9.15 reservation and we're excited to dive in. The hostess could not have been lovelier however we were not seated until 9.30, having gotten there at 9pm to have a drink AND were basically seated at a very awkward table for 4 in the bar. \n",
      "\n",
      "I was not blown away by the menu but that was just me - I had no problem finding choices but was underwhelmed by the selection. \n",
      "\n",
      "Food arrived and was overall mediocre. Beet salad totally bland, octopus leg, which was the best preparation, totally dry burger and extra creamy potato purée and a totally so-so halibut with boring accoutrements. I also did not care for their blistered shishitos.  Our dining companions seemed happier with their scallops, salad, quinoa tagliatelle and other halibut preparation. \n",
      "\n",
      "All that said, we got through the meal went elsewhere for dessert and I woke up w food poisoning this am...not blaming it on the cafe but totally tainted my blah experience so not sure how fast I'll be running back there. \n",
      "\n",
      "I will say our server could not have been more charming and accommodating, and the cocktails were great!\n",
      "\n",
      "3 4ANBeb1D2S8GxU79hahZkQ ::  2015-09-17 00:00:00  :::  0 stars if possible - This is a late review from early this summer, on May 31, 2015 but I felt like I needed to write this.\n",
      "\n",
      "Judging from most of these good reviews, maybe this food poisoning was a rare experience. But my family and I ate the $100 sashimi platter, which came with sea urchin/cucumber appetizers, etc. It tasted good at the moment. Two days afterward my dad, brother and I were sick with vomiting and diarrhea for more than a week. My mom, the only one who didn't eat the raw fish, was completely fine so we strongly think it was because of this restaurant. If so, this restaurant really needs to be more careful in handling the food and putting future customers in danger.\n",
      "\n",
      "4 6ZZUTGtH25tLN1SiM029ig ::  2015-09-08 00:00:00  :::  So... This place gave me food poisoning.\n",
      "\n",
      "I'll spare you the graphic deets, but here's how it went down: I work in the Theater District and left work around 10:30 PM. By this time, many of my usual go-to restaurants were closed. I hadn't eaten a thing all day. \"Why not go for this well-appointed yet casual spot for my takeout? I have had a couple decent experiences with the original Yum Yum Bangkok,\" says I, ducking into Yum Yum Too.\n",
      "\n",
      "I ordered the tom yum fried rice and spring rolls. No fewer than ten minutes later, the food is in my hands, I make the trek home, and dig in.\n",
      "\n",
      "The tom yum fried rice was really not to my liking, but I soldiered through it.\n",
      "\n",
      "Six hours later on the dot, I wake up with unholy stomach pain that lasts for hours, accompanied by all the usual food poisoning symptoms that we know and love. It was misery. It was disgusting. It was the tom yum fried rice and/or spring rolls.\n",
      "\n",
      "This place is bad and it should feel bad. I am never eating here again.\n",
      "\n",
      "5 7NR6Clgg26cB5blBK1PVng ::  2015-10-09 00:00:00  :::  I ate dinner here yesterday.  I had 45 minutes and sat at the bar.  I ordered pan seared tuna and the bartender ordered the tuna ceviche.  Since I didn't have time to send it back, I began eating it and wish I returned it.  The bartender apologized, but still charged me for the meal instead of comp-Ing it.  I complained and she credited the meal.  Thank god I complained because the meal gave me food poisoning - both ends!  I will never go back and hope that no one else gets sick. I want to give them no stars but Yelp doesn't allow it.\n",
      "\n",
      "6 83O-3A2jxYbNjaArNN5-Bw ::  2015-10-10 00:00:00  :::  VEGETARIANS AND VEGANS BEWARE!!! I was served real meat here tonight by mistake, and there are many similar complaints on Yelp.  The menu says that the ENTIRE menu is available vegan. But in fact, that is not true at all. I was served REAL meat tonight, and when I pointed it out to the waitress she started an argument with me, and said that what I ordered was by default not vegan. The words \"I'm sorry\" or \"can I get you anything else\"? never came out of her mouth. It was only after I got very upset because someone started an argument with me after I mistakingly bit into chicken (it's been 20 years since I became vegetarian) did someone else come from the back and sort of try to make it right.  Too little, too late.\n",
      "\n",
      "Also, too many complaints of food poisoning here too.\n",
      "\n",
      "7 8I_U7pIH_TSUMJXGFMAWPQ ::  2015-10-10 00:00:00  :::  Bad experience! Took 1 hour for 1 main dish and appetizer, I live across the street. I ordered vegetable dish, I ended up with chicken in my dish! Then I read the food poisoning from some comments, I threw away all the food-i had only eaten 1/2 of appetizer, better safe than sorry. Food flavor was not that good. This is my first order and my LAST.\n",
      "\n",
      "8 8bnQ06S07cxZNIW1ljBURA ::  2015-10-25 00:00:00  :::  This 1 star is for the nice location... The food for me was honestly like a 0. Not only did I get food poisoning after (yea that was so not pleasant... I was in pain for hours), I couldn't even eat more than a few spoons of it! It was incredibly salty. I got one of the two vegetarian options, and while I know the soy base is always salty, this was wayyy wayyy too salty. My friends were satisfied with what they got for the most part, but one of them did try mine (not a fan of wasting food), and declared it inedible as well. Ugh. I should have had food elsewhere in the complex honestly, because I do like Gotham West.\n",
      "\n",
      "9 AhmnKeoGWNLdAkxw6iuF3g ::  2015-09-28 00:00:00  :::  ******FOOD POISONING********\n",
      "Please do yourself a favor and do NOT go here. The service is disgusting all of the waiters are very rude and not accommodating at all. They drove our party crazy all night about ordering and gave stank faces and attitude every time we called them over. The waiter messed one of our orders up and spent a solid 10 minutes arguing that it was our fault - completely unprofessional. The food is laughable as well I understand the food is not the main attraction for this place but no amount of saki bomb is worth getting food poisoning again. Oh and their saki is basically watered down nothing and you have to beg them to warm it up even a little. They look for ways to charge you any chance they get and in no way are you getting a steal at this place given the fact that the service is terrible and the food is of extremely low quality. Do yourself a favor and take your money elsewhere.\n",
      "\n",
      "10 DguAGioaK6ZIAt_6kk93tA ::  2015-09-16 00:00:00  :::  cute place but i got food poisoning from the crab fried rice. i was vomiting for 24 hours :( just don't order the crab\n",
      "\n",
      "11 ENKKM_3Hz1cbaLRf6s0dZQ ::  2015-10-09 00:00:00  :::  Don't go here. I got food poisoning from their burger! If there was a zero star option I would do it.\n",
      "\n",
      "12 FpFa7ev55vcg5vwej6o-8A ::  2015-09-26 00:00:00  :::  When I lived on the west coast I would always when given the chance choose red lobster as a dinner spot. I loved it and couldn't get enough! Wowwwww, didn't that change real quick? I live in queens now and decided to go to red lobster, I was so excited, but as we sat down and ate it soon became the most disappointing dining experience I have had in years! \n",
      "\n",
      "We started out with Calamari and Mussels, when it came out it was nothing but a plate of fried broccoli and red peppers, with three forks worth of calamari, it lacked any kind of flavor and had the double refry taste to it, big bummer right? Doesn't end there...next the mussels, me and my party began to take the bread and dip it into the sauce, we all looked up at each other with our mouths frowned and our hands reaching for the closest drink. It has so much salt in it, it was literally enough to gag a person. Most of the party refused to eat it and few continued on, but there wasn't much to be had since 2/3 of the pot was unopened mussels meaning they were beyond dead before being cooked posing a food poisoning threat, so most of it was left uneaten and the rest that were edible required multiple glasses of water to wash down the immense amount of salt. \n",
      "\n",
      "Finally just completely disappointed we hope for the best with our entrees, again with the unbearable  amounts of salt. It was really disappointing to me cause it ranks below from the usual service and food I have always gotten from red lobster, but even far below any dining experience I have ever had.\n",
      "\n",
      "After paying the expensive bill for a meal that didn't even earn its worth, I left the restaurant with my party and put red lobster on my blacklist, probably never go again til they tremendously improve their quality of food. It's been a week since this meal and I am still experiencing food depression, because of this incident. Wanna pay a not so cheap dinner? GO ELSEWHERE, like Joes Crab Shack around the corner or any other seafood spot!!!\n",
      "\n",
      "13 GtfhGhWmr1kQ4EnFTlwg7w ::  2015-10-02 00:00:00  :::  It was my birthday Sept 10th and I wanted nothing but to eat at By Chloes in the city because I have all 3 of her cook books and she's still one of my favorite chefs...picked up 61 dollars worth of food (I threw up all the yummy food btw)with my boyfriend before we saw Amy, the documentary...which was great by the way...didn't see Chloe by the way...got food poisoning and was vomiting for days...hugely disappointed...Thursday Night was my birthday...I couldn't stomach anything...not even water....everything came up plus I had diarrhea ...a handful of white rice stayed down Sunday night...it was the 2nd time I got food poisoning ever mind u I just turned 36....I'll just stick with her cook books...\n",
      "\n",
      "14 HD0e3eHwv573qHZOJJitWg ::  2015-09-04 00:00:00  :::  DO NOT GO HERE! Both me and my husband got awful food poisoning from this place and when we called them to let them know they said it couldn't possibly have been them, suggested that we got it elsewhere and said they'd call back after speaking to the chef which they never did. My food poisoning was so bad I went to a&e. The dinner menu was also average and my salmon was so below average I didn't really touch it. The staff were also quite pushy and rude giving our big group table the menu as soon as they took our plates away whilst we still had bottles of wine to finish. All in all probably my worst NY dining experience.\n",
      "\n",
      "15 JYNBy2r3LVhJbLHE1bASfg ::  2015-09-06 00:00:00  :::  The decor, ambience, and service are great. Our waiter is such a gem. The food however is either salty, rich (oily), heavy, or a combination of all. I got food poisoning from the octopus salad. I'm surprised the Department of Health gives this place an A grade when it highlights an outstanding violation: \"Food not protected from potential source of contamination during storage, preparation, transportation, display or service\" (last inspection 6.29.15).\n",
      "\n",
      "16 KGQ2gB0NwjwHlZAdDS9e0Q ::  2015-09-08 00:00:00  :::  My friend picked up two sandwiches at Eli's on Labor Day. I found a nickel-sized piece of rock hard plastic in my mozzarella and prosciutto sandwich. So I shared the other,  tomato mozzarella sandwich with my friend and we both ended up with food poisoning which cost both of us a day of work. \n",
      "\n",
      "As a result, I'm very concerned about the food preparation practices of this store, and urge caution to future patrons.\n",
      "\n",
      "17 K_nsaXmlsyg0I8PoIjPXrA ::  2015-10-03 00:00:00  :::  After dinner I got food poisoning and was violently throwing up!  I mean- how ridiculous!  We had the bacon steak as appetizer.  I had the center cut ribeye as the main course and the tiramosu for dessert and 1 glass of wine.  I had the center cut ribeye cooked as \"medoum rare plus\" but i sent it back because it was a bit too rare in the center for me, so they cooked it to medium, so the food was cooked through.  I give 1 star due to the food poisoning I got last night after eating here !\n",
      "\n",
      "18 L-0kBMMibv1iZbbz-uPv3g ::  2015-10-08 00:00:00  :::  Tried this place for the first time because it came recommended from a friend. Food was delicious (I had the salad bowl with falafel) but I know I got food poisoning from it. About two hours later I vomited at work. I barely made it home and once I did I was weak and nauseated. Vomited some more at home and almost fainted the next morning. Not sure what component of my salad could have caused this (the garlic sauce? the cold Spanish eggplant). Still not feeling too great two days later.\n",
      "\n",
      "19 L-IuiVoFMDSw2K6OAciP1g ::  2015-10-10 00:00:00  :::  My boyfriend and I got really bad food poisoning from the place. Obviously with 4.5 stars and 1000+ reviews that's not a constant problem, but I filtered through and there are other reviews of people getting sick. A restaurant just shouldn't be inconsistent when it comes to sanitation. You've been warned!\n",
      "\n",
      "20 LAq0KHNgGpOHVp_uGpEgWg ::  2015-10-03 00:00:00  :::  First of all, the good- happy hour includes 4$ for a pint of Racer 5. That's a great price\n",
      "\n",
      "The two stars are because of the food poisoning I got from their food. I guess it's not really the place for food. But still, you don't get this sick unless you eat really rotten food. \n",
      "Also, the staff was not friendly or quick\n",
      "\n",
      "21 MjSVlekDlCQhgooexu8mIg ::  2015-10-17 00:00:00  :::  I began to trust this place again after a bought of severe food poisoning from a hamburger. I just avoid the meat here if i have to and order fries and a shackmeister.  If i feel really daring Ill get an extra well done burger.\n",
      "\n",
      "22 PNJJrao73hdGU1zYXqaP-g ::  2015-10-10 00:00:00  :::  I have been eating and ordering from this diner for years, on the last occasion I got food poisoning . need I say more. best to check online nyc.gov/restaurant rating system and complaints. This diner has and is still having my violations/ BEWARE!\n",
      "\n",
      "23 QCpJlezYJnkZYNat-XYXYw ::  2015-09-15 00:00:00  :::  I don't think that I have ever given a restaurant one star, but I got major food poisoning after eating at New Topaz. I got the green curry with chicken, which I've had plenty of times before at other Thai restaurants. I don't know if it was something with the coconut milk or chicken, but I have never had food poisoning like that before. I will never be coming back here.\n",
      "\n",
      "24 RIXbZgQn1twi_1u6S4aqFg ::  2015-10-11 00:00:00  :::  The only way I can accurately describe this place is to say it's absolutely inedible.  There's good Chinese food, there's bad, there's trash and then there's this shit.  Chicken was rubbery, tasted old and sour (I had to stop after eating three or four pieces and I'm the kind of guy who would probably do well on Fear Factor).  The egg roll tasted stale and ancient, hovering past the point of no return (I could only stomach two bites).  I'm lucky I didn't get food poisoning from this place and I'm not about to double check.  The delivery guy seemed nice so I'll give it one star instead of zero.\n",
      "\n",
      "25 SbXJlImRDoMeepmq_f96cw ::  2015-10-01 00:00:00  :::  I've been to this specific location two (x2) times. The first time around was pretty good; I had the curry sauce over white rice with chicken katsu, and it was delicious. \n",
      "\n",
      "However, my second time dining here wasn't so pleasant. I experienced a horrible and painful case of food poisoning from the same item on the menu that I had eaten before: curry sauce over rice with chicken katsu. I'm not sure what it was that sent me into misery, but something this time wasn't right with the food. I spent an hour in the bathroom and the entire day in bed.\n",
      "\n",
      "I don't know how cleanly this particular establishment is, but if Go! Go! Curry (19th St.) is reading this, I'd advise them to wear gloves when handling/prepping food. I noticed one of workers handling slabs of rice with his bare hands (please wear plastic gloves!)\n",
      "\n",
      "The food is delicious, but the painful food poisoning I endured was enough to make me not want to set foot in this place ever again and eat their food.\n",
      "\n",
      "26 SiNW4jtpGsVNdu_9aSdqHg ::  2015-09-05 00:00:00  :::  Violent food poisoning after I had their burger.  \n",
      "\n",
      "They offer a 9 dollar burger lunch that comes with a choice of and soda.  They also offer 5 dollar well drinks.  Since it was my day off I decided to have a cocktail with my drink but the waitresses quickly told me they use low quality vodka. I opted for the top shelf vodka and the drink arrived strong and delicious.  \n",
      "\n",
      "The burger was also good and the fries hot and crispy.  The other servers stopped and checked on me which was nice but won't return for any food.\n",
      "\n",
      "27 T3-F6v1BUk3BBDHVz1cBig ::  2015-10-22 00:00:00  :::  I will never ever EVER! Eat from this place again\n",
      " Ordered a salad and a small pizza. Got the worse food poisoning I have had in my life. \n",
      "Never again.!!\n",
      "\n",
      "28 TZUUHibxWwJaffQO10-guA ::  2015-09-28 00:00:00  :::  Dirty, unprofessional and got sick twice from here. Never again. Really who gets food poisoning not once by twice from DD? Aren't they all suppose to be the same? I know it's right across from the train but just walk the extra block to\n",
      "37ave and go to the DD there at least you won't get sick and it's clean(meaning it's not rat infested with sticky counters)\n",
      "\n",
      "29 UqGgvnKD-blqhRz-U2c1fA ::  2015-10-16 00:00:00  :::  Be careful when ordering the standard meatballs with pesto, I got food poisoning at this location. I'm sure mine was just a fluke but wanted to give everyone a heads up. I called the restaurant to let them know and the manager's response wasn't very apologetic. \n",
      "\n",
      "I normally love the Meatball Shop but this definitely scared me into not going to this location anymore. \n",
      "\n",
      "Hope this helps.\n",
      "\n",
      "30 V8l3xdkEQESeBz-pZ0zqCA ::  2015-09-30 00:00:00  :::  Understand: fish is fish, when you are eating raw, there are higher chances you might get sick, and restaurant have no control over what fish they get from the market place. And its not like the restaurant wants to make you sick.\n",
      "\n",
      "Fact: My wife and her 2 friends got food poisoning from eating there. A Different date, my friend(phil)  got food poisoning there. Around the same week. Not recently, like 1 year ago. \n",
      "\n",
      "1st time me and wife went, we had a good time, food is not bad. Wife stops going after. Phil and i still eat there sometimes. \n",
      "\n",
      "Interms of the food, it is good in general, guys, please. This is not your 35-50$ higher end sushi buffet, dont expect that, i see a lot of 1 star because people expect fine dining and first class service. For 12/20$ lunch/dinner, its pretty good. \n",
      "\n",
      "+1 star for making my friend phil sick LOL\n",
      "+1 star for good food in low price range\n",
      "+1 star for restaurant design\n",
      "\n",
      "-1 star for making my wife sick\n",
      "-1 star for changing their menu, and up the price \n",
      "\n",
      "My advice at sushi restaurants in bklyn:\n",
      "Avoid raw fish in lower end sushi place. The only place i eat raw and i eat a lot in brooklyn, is longevious joy. And i go there more than any body in brooklyn. And i havent got sick yet. I will be reviewing that soon.\n",
      "\n",
      "31 VdCocfnQaoZUa-2uOxubaw ::  2015-09-17 00:00:00  :::  I was here for a late lunch Saturday afternoon, and will definitely never return here based on the fact that I got FOOD POISONING from my meal. \n",
      "\n",
      "For those who are willing to run the risk of getting violently ill after a meal here, some thoughts: \n",
      "\n",
      "A- for food, overall. I really liked the food while I was eating it (soup dumplings were, as many have written, pretty great, but I've had better, specifically at any Din Tai Fung around the world; we also ordered Shanghai Fried Flat Noodles and a veggie dish that were both pretty good, although a little heavy on the salt), but my overall impression was that there is still better authentic Chinese food to be found in the city, without the risk of food poisoning attached.\n",
      "\n",
      "A+ for service, which was very quick and efficient -- made possible by the fact that there were a huge number of wait staff around. \n",
      "\n",
      "Bring cash! This place doesn't take credit card.\n",
      "\n",
      "If it weren't for the food poisoning, I would have given this place four, maybe even five stars. However, getting sick right before boarding a plane for a 6+ hour flight was a terrible enough experience to guarantee that I will never be making another trip back to Joe's Shanghai -- at least not at this location.\n",
      "\n",
      "32 VrCCr45dhN-RRM107iptdg ::  2015-09-18 00:00:00  :::  I got food poisoning from eating a lox bagel from this place!!!!  Was hurting for three days. I have called the restaurant inspection dept to report them.\n",
      "\n",
      "33 WCcvnfB_QDRF89kEJwSb-g ::  2015-09-09 00:00:00  :::  We went for Labor day 2015, My friend and I met up for dinner there. The food was okay. By 4:30 am the next morning, I was throwing up and was suffering from food poisoning symptoms. My friend experienced the same. It will be a long long time before I even consider passing by again for a meal and drinks.\n",
      "\n",
      "34 WkK91fi7UBHymIrRTTn_4Q ::  2015-10-19 00:00:00  :::  If I could give this place negative stars, F dude - I'd give -3. Word to the wise - go hungry - don't go here. On top of our order being 1.5 hrs late, the poor guy working there had no idea what to do about the fact that his delivery man went AWOL. Maybe he'd tasted some of the product and keeled over with grade 17 food poisoning on the way over. \n",
      "\n",
      "When your miso is cold and your salmon is quite warm, there's something wrong.\n",
      "\n",
      "Let's break it down:\n",
      "-1 for being really effing late\n",
      "-1 for having the wrong order\n",
      "-1 for food arriving being inedible\n",
      "-1 for restaurant manager asking me to hold on for a \"few more minutes\" so he could keep calling the delivery man and asking me what I thought was going on \n",
      "\n",
      "In short, I actually downgrade my initial -3 to a -4. Do not f with this place. Real talk.\n",
      "\n",
      "35 XeAjPnX06T0ijPZDQZE61w ::  2015-09-13 00:00:00  :::  Never was a big fan of this place.  First time I order with my boyfriend and the food was very blend. I decided to give it another try, so  I ended up ordering again with my coworkers for lunch but this time I was in for a surprise. I ordered grilled chicken Alfredo and I only had a few bites because the food was very salty. By the time I left work I was already feeling sick. I was feeling very nauseous. Three hours later I was vomiting non-stop. Bottom line I got food poisoning from this place.\n",
      "\n",
      "36 Y42Wpfr9KEw7-OIH7IatLQ ::  2015-09-10 00:00:00  :::  Terrible supermarket. Its very dirty, and certain sections smell almost nauseating, like just serious uncleanliness that you shouldn't smell in a supermarket. I also just got food poisoning from some chicken that I had only purchased one day before cooking. AVOID\n",
      "\n",
      "37 _7Wy13lQ4JRUfOeDRZ2rlw ::  2015-09-07 00:00:00  :::  Last week we took out-of-town friends to Gastronomia, one of our favorite UWS restaurants. We've had dinner there at least 10 times over the years and almost always have had a terrific experience. From the start, this night was different. First the hostess (who was new to us) had no idea what she was doing -- she seemed lost most of the evening and when she brought our food didn't even know what the dishes were. We had trouble getting the attention of waitstaff or the manager (whom we had never seen before either) to order wine and our food, having to grab them (figuratively) when they walked past the table. But the food was beautifully prepared and presented as usual, so the night seemed a success.\n",
      "\n",
      "The trouble started later that evening when my wife came down with a violent case of food poisoning - vomiting and diarrhea through the night. We called the restaurant about 10:30 that night to let them know that we thought there was an issue with the ox tail lasagna (my wife's dish). The woman who answered did not take the issue seriously, saying everyone's body reacts differently. We asked that someone call us back the next day (she said the manager and cook had already left). When no call came the next day, we called again, leaving a message and asking that someone call us back. We were concerned that no one else get sick and wanted to be sure they were taking this seriously. \n",
      "\n",
      "Alas no call, hence this review.\n",
      "\n",
      "38 _WWH46Z3RvdM6TO3hqVa8A ::  2015-10-11 00:00:00  :::  THIS IS THE WORST CHIPTOLE OF ALL TIME. \n",
      "I have never ever waited SO long for food, or had the food taste so disgusting. I was so sure I had gotten food poisoning from the janky ass chewy chicken. The workers were RUDE and would just leave the counter to go gossip with their friends. They worked slow, they were incompetent. I am honestly cannot believe the experience I had here, Chipotle, as a chain, is usually so efficient and the food at top quality but something is up with this chain. Seriously, the line was wrapped around the restaurant, and took over half an hour to move.\n",
      "\n",
      "But the most criminal is disgusting chicken they served me and my friends, I wish I had saved it so I could take it back and shut them down. I love Chiptole, I really do. But stay far far away from this chain, your life is on the line.\n",
      "\n",
      "39 aKWBuDgJfxmwkAJ-e3LhlQ ::  2015-09-13 00:00:00  :::  Ehhhhhhhhhhhhhhhhhhhhhhhh.....I almost gave this place 1 star, but I didn't get food poisoning or anything and the service was good...but I wouldn't come here again for a few reasons:\n",
      "1) Price. We were looking for a cheap diner, and the outside looks as such...but the prices are like those of a nice italian restaurant! I ordered the cheapest thing there, which was the chicken on pita...and I was still not that happy with the price: quality ratio. \n",
      "2) The food. My order was chicken on pita...which was literally a slice of pita bread, 3 slabs of chicken, and 1 bunch of lettuce/1 slice of tomato. Such a disappointment! My friend's (expensive) salad apparently was good though, and very large portion.  \n",
      "3) Flies in the diner. \n",
      "Service was fine, but would rather go to a hole-in-the wall type place than come here again.\n",
      "\n",
      "40 bU0Ymp2m_6sq3NPw_rXGFw ::  2015-09-04 00:00:00  :::  Wishing I had gone to the Chipotle a few blocks away as I got food poisoning from my dinner here last night. Oh, and they're cash only, so you have to pay a $2.00 fee at their very own ATM machine to take money out. What a scam. \n",
      "\n",
      "Due to the lack of quality in their ingredients and aloof service (we had to keep asking the waiter for every water refill), will never be coming back.\n",
      "\n",
      "41 csGdM5dj9FPCXYHiqSBtZw ::  2015-11-07 00:00:00  :::  Food was good up until the point I was projectile vomiting all over my house. The most wicked case of food poisoning I have ever had.\n",
      "\n",
      "42 d7LM2UaxRQachlWhZGP_tg ::  2015-09-18 00:00:00  :::  Possibly the worst, overpriced meal I've ever had. Olive Garden has better food. \n",
      "I should have known better when they told me I couldn't sit at street level because we were a table of two and those were four parties of 4. Meanwhile it was 9:00 and there were 6 tables empty. \n",
      "The ONLY thing decent was the bread and oil. Sangria was gross and watered down with a ton of ice. \n",
      "I ordered green noodles with crab and shrimp. My boyfriend ordered calamari with pasta. Both dishes had 0 flavor. Seafood was over cooked. Pasta was under cooked. I tried putting salt, pepper, and cheese on it. Still bad. I ate 3 bites. My boyfriend ate 6. \n",
      "After serving the food, the waiter went MIA. The manager walked by and saw we barely ate and walked away quickly, looking down. \n",
      "The bill was 70 dollars. My boyfriend had to hunt down the waiter for the bill. He told the waiter and manager about the food. He said nothing and ran the credit card. \n",
      "The best part was the food poisoning we got later that night. Throwing up and stomach pains...both of us. \n",
      "Go some where else, plenty of other quality restaurants in the area!\n",
      "\n",
      "43 dRrSB-1I5z9f4szxJ1Ol8Q ::  2015-09-27 00:00:00  :::  Run by MORONS for morons, and I can't wait for this shit-box to close down and become soho house!  Wonder why no one is ever there when every other bar in the neighborhood is packed for football?  It's easy when you see the Bafoons that run this joint!  No one in the entire restaurant and they won't let you take a table to watch games = A COMPLETE JOKE!  Not to mention the food is absolute shite and I'm pretty confident I got food poisoning on my last visit.  STAY AWAY UNLESS YOU ARE BRIDGE & TUNNEL!!!\n",
      "\n",
      "44 esubzgJqoJACTsLK8dsLig ::  2015-09-14 00:00:00  :::  Went there grab a grill salmon wrap for lunch last week. within one hour  i felt stomach pain.  And had to use bathroom twice in a short time.   Probably got food poisoning     i think they prepared the salmon improperly.\n",
      "\n",
      "45 f1Q1n_dLzCvqU-dq0EBNsQ ::  2015-10-19 00:00:00  :::  I've been coming to place for almost 2 years I loved it at first but it just keep getting worse. Last time I was there I got food poisoning (saturday 10/17)and have been on the toilet for over a week I haven't eaten anything after because I can't hold it down. What happened to you guys I'm never coming there again.\n",
      "\n",
      "46 hoZ-fYjfPSTqhkfmG3T-jA ::  2015-10-11 00:00:00  :::  We ordered this from seamless one night and my roommate got food poisoning and a stalker (the delivery guy who repeatedly texted her sexual things for months) all in one order! Yay, fun!\n",
      "\n",
      "47 j9C2XgPu4tV8HVTKeFW-HQ ::  2015-10-15 00:00:00  :::  BECAME VERY ILL AFTER EATING HERE!\n",
      "\n",
      "This is what happened.  Ordered the fiesta sampler.  Waited an extremely long time for it.  When it arrived it was cold.  I tasted a few of the items and could not accept that it was cold.  Asked for assistance and was told that a NEW plate would be made.  \n",
      "\n",
      "Received the same plate back with some of the items hot.  When I questioned the manager on duty \"Mercedes\" she swore up and down she watched them make a new plate.  (LIES)  I explained to her it was not a new plate because the items I tasted were still on the plate.  I ate the food because they did provide fresh empanadas.  \n",
      "\n",
      "THE THINGS YOU DO WHEN YOU ARE HUNGRY.  A few hours later became ill.   Because I complained and asked for hot food - do you think somebody messed with my food?  What kind of DISGUSTING people would do this?\n",
      "\n",
      "Contacted \"Mercedes\" the next day - same story.  Swearing she saw them change it. I saw other people order the same plate - if I was the only one to complain the next day - then what happened to my plate?  But SHE wasn't the right manager to deal with this.  Really?    \n",
      "\n",
      "Anyway - fulfilled my duty and reported it the NYC health dept.  And since people will read this review and go anyway - hopefully, I will have saved someone else from food poisoning - if they learn their lesson.  Bad food can cause serious health problems!\n",
      "\n",
      "NEVER AGAIN!\n",
      "\n",
      "48 kGrMEgi1Th7Fr4B4n_T8JQ ::  2015-09-03 00:00:00  :::  One of the worst restaurants I ever been to in my life. It was my husband's birthday and we never been to City Island before so we took this opportunity to go. Based on the pictures, I thought the place looked nice and a lot of the pics we seen of the food here looked really good..... well we could not be any more wrong for our decision to come here. Just like others said on this review board, this place is an overpriced diner. As a matter of fact I been to some pretty nice diners in my days and it might be a bit insulting to even compare this place to them. We spent over $120 for just 2 people on the worst and bland food I ever tasted. We even got food poisoning afterwards. I feel so bad for taking my husband here. He deserves so much better. We definitely have to do a makeup dinner for this embarrassment & total let-down of this place. Why is it still in business?????????\n",
      "\n",
      "49 kM27KOTMWnR9taTPudds9Q ::  2015-09-22 00:00:00  :::  We went to this restaurant for a wedding banquet the past weekend and some of my family members got food poisoned after the dinner.  I believe it was the raw seafood they served got contaminated as not all of my family members ate those and they are okay.  I hope the restaurant can have a better refrigerated system to preserve those seafood as food poisoning is not a joke.\n",
      "\n",
      "50 l4fwf8VwAokv3MWT45Ab7g ::  2015-10-02 00:00:00  :::  Lovely atmosphere. Brutal food poisoning... Like all culinary tragedies, it's best to start at the beginning and then move toward gastronomic bedlam. \n",
      "\n",
      "The atmosphere and positive yelp reviews drew us in. The food itself was average (the grand feast we had felt like a stylized salad), and overpriced ($48 for a \"grand feast\", why it's called \"grand\" is beyond me and compared to other Ethiopian places in Boston and LA this is expensive). After moving to a nearby bar, members of our party started getting hit with cramps and then the vomiting started, streams of it caking the Bushwick sidewalk. Diarrhea followed. The owner of the bar gave us napkins, water, and whatever else he had that could alleviate the symptoms. Our thanks to the kind people there. \n",
      "\n",
      "Without the food poisoning this place was below average food-wise  and above average atmosphere-wise, but is that worth food poisoning.\n",
      "\n",
      "51 lQgMrqcMZghWd45VIhkUAA ::  2015-10-05 00:00:00  :::  Just called to inform them that the sushi I ordered gave me food poisoning and I'd been vomiting all night. It was definitely the sushi because my boyfriend's stomach was upset as well (I hadn't eaten anything else all day) and that was the only meal we shared together. The woman at the restaurant told me I was probably sick because it was a rainy day. What?!! She offered me 20% off my next order instead of refunding or giving me equivalent credit because she said it would be \"bad for business.\" I definitely think it's worse for business if your food is causing people to vomit! Looks like a good place based on the positive reviews and I'm sure this was a fluke, but it would have been nice if she had just apologized and offered to refund or at least credit the price of the meal. I would have definitely gone back in that case, but I'll be finding another place to order sushi from.\n",
      "\n",
      "*UPDATE* After emailing seamless, the restaurant authorized a full refund. Appreciate the change in attitude, even though it was late/required seamless intervention.\n",
      "\n",
      "52 lUpyqsKw-IBqsMgYIHZj7Q ::  2015-09-19 00:00:00  :::  I ordered the falafel sandwich and tabbouleh salad.\n",
      "The food was tasty enough. I only ate half of it, but I ended up with terrible food poisoning which lasted all of the next day. I won't risk ordering from here again.\n",
      "\n",
      "53 mdhwe9pw_OD9DGPLZUmzKQ ::  2015-11-01 00:00:00  :::  WORST GYRO I EVER ATE. I got food poisoning from the chicken, that was not cooked. I am so disappointed, I was looking forward for them to open, but I'm so sick to my stomach I wish I never went. IF YOU WANT A BETTER GYRO TRY MAMA GYRO ON 77TH AND LEX! ITS COOKED!\n",
      "\n",
      "54 nlmFAz_93gjSUfmvmv8Tog ::  2015-09-03 00:00:00  :::  Charming, slow but friendly service. But food poisoning twice is insurmountable to me.\n",
      "\n",
      "55 oJjMYhA6z1_BVaQpSdyl8g ::  2015-10-11 00:00:00  :::  I got food poisoning from the chicken tempura. This restaurant was the worst, most painful experience. Blah. Honestly I think this place has ruined Chinese for me possibly forever.\n",
      "\n",
      "56 o_tyrx1YHvdII6Xm-v3FxQ ::  2015-09-15 00:00:00  :::  Terrible-- my friend and I both got food poisoning from the chicken there. DoH has been notified but go at your own risk. \n",
      "\n",
      "(And if that's not enough reason to avoid, chipotle is cheaper and the food is way better)\n",
      "\n",
      "57 od5Yed5us45CyNpHPNOPJA ::  2015-09-23 00:00:00  :::  Got food poisoning here and it ended up that my friend did too the same week . I don't know why so many people are raving about it . It's kind of bland if you ask me . Haven't been back since I got sick\n",
      "\n",
      "58 oyxk3hv9F7dGZGARmNDSYg ::  2015-09-17 00:00:00  :::  Just got food poisoning yesterday. Not happy. I came in last week and the food tasted funny, so I mentioned it to the waitress who was nice enough to replace the dish I had. Unfortunately I came in for a lunch with colleagues yesterday and the same thing happened again, and this time I didn't realize the food had gone bad until after a few bites but it was too late.\n",
      "\n",
      "Specifically, it's the hakka soup noodles.  \n",
      "\n",
      "Not sure what happened, the place used to be fantastic when it first opened, but gradually the quality went down further, and now the cleanliness and freshness of food is also compromised.\n",
      "\n",
      "A bit upset that this was mentioned to them last week, but nothing has changed, and now I'm still up with stomach pains. Not cool. And not coming back.\n",
      "\n",
      "59 pVD330c6CmzXZ0TCt2Bv5Q ::  2015-10-03 00:00:00  :::  Spending my night on the toilet, bra\n",
      "\n",
      "Cons - \n",
      "1) I got food poisoning \n",
      "2) the service was poor and inattentive - utensils were not brought concurrently with the food, orders were not taken promptly, and when the rancid mussels were brought to the attention of waitstaff, nothing was done by the kitchen nor management to rectify this\n",
      "3) acoustics - needs a lot of work \n",
      "\n",
      "Pros -\n",
      "Besides the rancid mussels, the food was solid\n",
      "\n",
      "\n",
      "This seems to more of a bar than a restaurant; if you like bros, bad service, and screaming so loud that you can't hear yourself think, this is your joint\n",
      "\n",
      "Until next time, The Brown Cocopuffs\n",
      "\n",
      "60 pfmAcS-g6SiNG0KlLvrqnA ::  2015-10-05 00:00:00  :::  Overall the worst dining experience I've ever had at my life. We were sat 1.5 hours after our reservations that we made weeks in advance. The staff was rude at every interaction topped with the manager who makes cab drivers seem polite. I wouldn't employ this staff at a McDonald's; just complete incompetence. The food was pedestrian at best and inedible in some cases. The icing on the cake was the food poisoning the next day. Just disgusting on every level, avoid at all costs.\n",
      "\n",
      "61 qCvN91oXaLFqASp8KWKZdg ::  2015-09-17 00:00:00  :::  After my last order from Jade Garden, it left me terrified to eat Chinese ever again. I will NEVER return to this place. I place a huge order with them, and in return I get food poisoning that lasted 4 or 5 days. Be weary ordering from here!\n",
      "\n",
      "62 qWGFjZJ2wJeDzt1QH7t5Xg ::  2015-09-19 00:00:00  :::  I really wanted to like this place being that it's the only French bistro in the area. Unfortunately, I did not. However, it wasn't all bad. The cocktails were good and there was a decent beer selection. The decor was lovely and plenty of seating options.\n",
      "\n",
      "The food was awful and the portions were very small. The worst French food that I have ever had. We started with the mussels (they were mediocre). Most give a giant pot, but they gave us the smallest little dish I have ever seen. I got the halibut, which was dry and flavorless and had sauce on the side that obviously didn't complement the fish. I am by no means a chef, and if given the raw ingredients used to make my food that night, I believe that I could have done a better job, which is sad. My boyfriend got the coq au vin, which was bland and mediocre at best. The service was okay. It was my birthday dinner and I was expecting much better from a pricy French restaurant. They need to hire a new chef asap!!!\n",
      "\n",
      "In addition, both of us got very sick after eating there (same symptoms a few hours later). So to summarize, we had flavorless, expensive French food that may have given us food poisoning on my birthday. Very disappointing.\n",
      "\n",
      "Giving the place 2 stars for the bartender. Just go for drinks, they are great!\n",
      "\n",
      "63 rH0CbuAZzXu_xUBOLZ05Eg ::  2015-11-06 00:00:00  :::  I usually don't write bad reviews, but after eating their chicken combo tonight, I am literally sick to my stomach. \n",
      "\n",
      "Since I was working from home today and didn't want to step out to grab anything, I figured I'd order from this Mexican place I have been seeing down the street from me. I was starving so I sorted my Seamless options by closest distance, and this is one of the top 5. After I placed my order, an hour goes by. I called and asked about the status of the order. Like another reviewer on Seamless mentioned, the lady tells me, \"he left.\" I quickly asked, \"how long ago?\" She says, \"I don't know, maybe 5-8 mins.\" I then thanked her and hung up the phone.\n",
      "\n",
      "Ten minutes later, still nothing. I could have walked there and back by now. Mind you, I am no longer hungry because an hour has gone by. I have totally forgotten about my meal by now until I heard a doorbell. Needless to say, I got yelled at over the phone, received my food half an hour past estimated delivery time (that is, over an hour from ordering), and got food poisoning as a result of all this. After this experience, I will be sure never to order here again. Leave the Mexican food to the Mexicans, please!\n",
      "\n",
      "64 rx9LmLJMwcTw2dXP02EpbQ ::  2015-10-22 00:00:00  :::  PLEASE do not go here. This place is utter rubbish. I work around the area and made the mistake of going in for a quick bite for lunch. Big mistake. Firstly, there was a lady by the pizzas and I asked her if this is margarita (I am vegetarian), she said \"i dont know. it is what it is\"j. Anyway, i ordered a slide of margarita and they took one slice from their pre-made pizzas and warmed in the oven. They gave the pizza on a paper plate. Well that slice cost me $6. it is way too much overpriced to loot the tourists in the times square area.\n",
      "\n",
      "The pizza itself has to be the worst i have ever eaten in my life. I got a terrible case of food poisoning after eating it and had to return home from work. I am just signing up on yelp to warn people about this place. This place needs to be shut down.\n",
      "\n",
      "65 vRrVSB-LegwUwIxpkeRVtQ ::  2015-09-30 00:00:00  :::  My wife and I came to Le Bernardin for lunch to celebrate our anniversary back in July. We were excited and decided to do the full tasting menu. However, it did not end well as we both had food poisoning that affected plans for the rest of our NYC visit. I even contacted the restaurant because it was so disappointing to get food poisoning from a Michelin star restaurant let alone on our anniversary. They only followed up with calls during inconvenient work day hours and never cared to followed up otherwise. Should have just gone to Per Se again where they have impeccable unmatched service...\n",
      "\n",
      "66 vfYhEpp0x-DrNjC6GSJjPQ ::  2015-11-04 00:00:00  :::  ....I really don't know where to begin. I went on 11/4 hoping to write a positive review but I just cannot bring myself to write one. The place is already dingy as it is so really it started out with 3 stars already. I used to love this place and was recommended here by a friend but I haven't been here for a while.( A while as in 9 months) First off price increased for my favorite crab slice to 5$. No biggie.  I can still afford this...  Their slices are pretty big and generous but get ready for the bad news. \n",
      "\n",
      "Readyyy? (if you love this place to death and cant bear to read bad news then please do skip this review)\n",
      "\n",
      "\n",
      "\n",
      "Oh. Too late, you've been warned. What really turned me off was the way the cashier handled food. He violated the health codes so badly that I can't enjoy my slice anymore. I ended up not wanting to eat it as I was afraid of getting food poisoning before my exam later that evening. He handled money without washing hands, then proceeded to touch the fritters , pizza slices and rice balls with his BARE HANDS. He rearranged them multiple times while I stood there with a friend waiting for my food, who also was in shock.  I am not sure if it was only the guy that was there today that does this but that was really disgusting.  \n",
      "Don't be cheap and invest in food gloves.\n",
      "\n",
      "would I come back? \"Yeahhhh... sureeeee\"....if you maybe make the place look less dirty and clean up the unsanitary acts. (meaning no just in case sarcasm fails over internet)\n",
      "\n",
      "\n",
      "I hope their other locations aren't as disgusting and way less deadly than this particular location.\n",
      "\n",
      "67 wMU7gPgp2M9JjJhkivZkgQ ::  2015-10-25 00:00:00  :::  Cheap - But he old adage rings true, you get what you pay for...... We BOTH got very bad food poisoning after visiting this restaurant. Can't be a coincidence that we BOTH had meals (one chicken and one beef) and we BOTH got ill. Think twice before dining here.\n",
      "\n",
      "68 zZ3YQoFRCVqsir_zIXmIlg ::  2015-09-17 00:00:00  :::  My friend got food poisoning from god knows what when the ronda rousey fight was on. Then fast forward to last night, my husband got all you can eat wings and got food poisoning the next morning.\n",
      "I personally love their crabs HOWEVER very skimpy. Definitely not 1 pound. I will bring a scale next time for good measure (lol). \n",
      "But anyway, their food needs to get better. This isn't the hooters I have heard so much about. The service though slow, is tolerable because you can see how packed it gets in there. Don't expect them to be fast when its jammed packed.\n",
      "\n"
     ]
    }
   ],
   "source": [
    "\n",
    "for i, r in enumerate(sorted(fp, key=lambda x:(x.business_id, x.created))):\n",
    "    print i, r.business_id, \":: \",r.created, \" ::: \", r.text\n",
    "    print"
   ]
  },
  {
   "cell_type": "code",
   "execution_count": null,
   "metadata": {
    "collapsed": true
   },
   "outputs": [],
   "source": []
  }
 ],
 "metadata": {
  "kernelspec": {
   "display_name": "Python 2",
   "language": "python",
   "name": "python2"
  },
  "language_info": {
   "codemirror_mode": {
    "name": "ipython",
    "version": 2
   },
   "file_extension": ".py",
   "mimetype": "text/x-python",
   "name": "python",
   "nbconvert_exporter": "python",
   "pygments_lexer": "ipython2",
   "version": "2.7.10"
  }
 },
 "nbformat": 4,
 "nbformat_minor": 0
}
