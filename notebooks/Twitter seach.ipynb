{
 "cells": [
  {
   "cell_type": "code",
   "execution_count": 100,
   "metadata": {
    "collapsed": true
   },
   "outputs": [],
   "source": [
    "from datetime import datetime\n",
    "import time\n",
    "import json"
   ]
  },
  {
   "cell_type": "code",
   "execution_count": 1,
   "metadata": {
    "collapsed": false
   },
   "outputs": [],
   "source": [
    "from twython import Twython\n",
    "from foodbornenyc.db_settings import twitter_config\n",
    "\n",
    "consumer_key = twitter_config['consumer_key']\n",
    "consumer_secret = twitter_config['consumer_secret']\n",
    "access_token = twitter_config['access_token']\n",
    "access_token_secret = twitter_config['access_token_secret']\n",
    "\n",
    "twitter = Twython(consumer_key, consumer_secret, access_token, access_token_secret)"
   ]
  },
  {
   "cell_type": "code",
   "execution_count": 37,
   "metadata": {
    "collapsed": false
   },
   "outputs": [
    {
     "name": "stdout",
     "output_type": "stream",
     "text": [
      "#foodpoisoning OR #stomachache OR \"food poison\" OR \"food poisoning\" OR stomach OR vomit OR puke OR diarrhea OR \"the runs\"\n"
     ]
    }
   ],
   "source": [
    "search_terms = [\n",
    "    '#foodpoisoning',\n",
    "    '#stomachache',\n",
    "    '\"food poison\"',\n",
    "    '\"food poisoning\"',\n",
    "    'stomach',\n",
    "    'vomit',\n",
    "    'puke',\n",
    "    'diarrhea',\n",
    "    '\"the runs\"'\n",
    "]\n",
    "query = \" OR \".join(search_terms)\n",
    "print query"
   ]
  },
  {
   "cell_type": "code",
   "execution_count": null,
   "metadata": {
    "collapsed": true
   },
   "outputs": [],
   "source": [
    "fields = [\n",
    "        'contributors', #<type 'NoneType'>\n",
    "        'truncated', #<type 'bool'>\n",
    "        'text', #<type 'unicode'>\n",
    "        'is_quote_status', #<type 'bool'>\n",
    "        'in_reply_to_status_id', #<type 'NoneType'>\n",
    "        'id', #<type 'int'>\n",
    "        'favorite_count', #<type 'int'>\n",
    "        'source', #<type 'unicode'>\n",
    "        'retweeted', #<type 'bool'>\n",
    "        'coordinates', #<type 'NoneType'>\n",
    "        'entities', #<type 'dict'>\n",
    "        'in_reply_to_screen_name', #<type 'NoneType'>\n",
    "        'in_reply_to_user_id', #<type 'NoneType'>\n",
    "        'retweet_count', #<type 'int'>\n",
    "        'id_str', #<type 'unicode'>\n",
    "        'favorited', #<type 'bool'>\n",
    "        'user', #<type 'dict'>\n",
    "        'geo', #<type 'NoneType'>\n",
    "        'in_reply_to_user_id_str', #<type 'NoneType'>\n",
    "        'possibly_sensitive', #<type 'bool'>\n",
    "        'lang', #<type 'unicode'>\n",
    "        'created_at', #<type 'unicode'>\n",
    "        'in_reply_to_status_id_str', #<type 'NoneType'>\n",
    "        'place', #<type 'NoneType'>\n",
    "        'metadata', #<type 'dict'>\n",
    "         ]"
   ]
  },
  {
   "cell_type": "code",
   "execution_count": 12,
   "metadata": {
    "collapsed": false
   },
   "outputs": [],
   "source": [
    "results = twitter.search(q=query)"
   ]
  },
  {
   "cell_type": "code",
   "execution_count": 22,
   "metadata": {
    "collapsed": false
   },
   "outputs": [
    {
     "name": "stdout",
     "output_type": "stream",
     "text": [
      "[u'search_metadata', u'statuses']\n"
     ]
    }
   ],
   "source": [
    "print results.keys()"
   ]
  },
  {
   "cell_type": "code",
   "execution_count": 23,
   "metadata": {
    "collapsed": false
   },
   "outputs": [
    {
     "name": "stdout",
     "output_type": "stream",
     "text": [
      "{u'count': 15, u'completed_in': 0.069, u'max_id_str': u'696427116888485888', u'since_id_str': u'0', u'next_results': u'?max_id=696426993974247423&q=%23foodpoisoning%20OR%20%23stomachache%20OR%20%22food%20poison%22%20OR%20%22food%20poisoning%22%20OR%20stomach%20OR%20vomit%20OR%20puke%20OR%20diarrhea%20OR%20%22the%20runs%22&include_entities=1', u'refresh_url': u'?since_id=696427116888485888&q=%23foodpoisoning%20OR%20%23stomachache%20OR%20%22food%20poison%22%20OR%20%22food%20poisoning%22%20OR%20stomach%20OR%20vomit%20OR%20puke%20OR%20diarrhea%20OR%20%22the%20runs%22&include_entities=1', u'since_id': 0, u'query': u'%23foodpoisoning+OR+%23stomachache+OR+%22food+poison%22+OR+%22food+poisoning%22+OR+stomach+OR+vomit+OR+puke+OR+diarrhea+OR+%22the+runs%22', u'max_id': 696427116888485888}\n"
     ]
    }
   ],
   "source": [
    "print results['search_metadata']"
   ]
  },
  {
   "cell_type": "code",
   "execution_count": 27,
   "metadata": {
    "collapsed": false
   },
   "outputs": [],
   "source": [
    "tweets = results['statuses']"
   ]
  },
  {
   "cell_type": "code",
   "execution_count": 40,
   "metadata": {
    "collapsed": false
   },
   "outputs": [
    {
     "name": "stdout",
     "output_type": "stream",
     "text": [
      "'contributors', #<type 'NoneType'>\n",
      "'truncated', #<type 'bool'>\n",
      "'text', #<type 'unicode'>\n",
      "'is_quote_status', #<type 'bool'>\n",
      "'in_reply_to_status_id', #<type 'NoneType'>\n",
      "'id', #<type 'int'>\n",
      "'favorite_count', #<type 'int'>\n",
      "'source', #<type 'unicode'>\n",
      "'retweeted', #<type 'bool'>\n",
      "'coordinates', #<type 'NoneType'>\n",
      "'entities', #<type 'dict'>\n",
      "'in_reply_to_screen_name', #<type 'NoneType'>\n",
      "'in_reply_to_user_id', #<type 'NoneType'>\n",
      "'retweet_count', #<type 'int'>\n",
      "'id_str', #<type 'unicode'>\n",
      "'favorited', #<type 'bool'>\n",
      "'user', #<type 'dict'>\n",
      "'geo', #<type 'NoneType'>\n",
      "'in_reply_to_user_id_str', #<type 'NoneType'>\n",
      "'possibly_sensitive', #<type 'bool'>\n",
      "'lang', #<type 'unicode'>\n",
      "'created_at', #<type 'unicode'>\n",
      "'in_reply_to_status_id_str', #<type 'NoneType'>\n",
      "'place', #<type 'NoneType'>\n",
      "'metadata', #<type 'dict'>\n"
     ]
    }
   ],
   "source": [
    "dic = [(k, type(v))for (k , v)in tweets[0].items()]\n",
    "for k,t in dic:\n",
    "    print \"'%s', #%s\" % (k,t)"
   ]
  },
  {
   "cell_type": "code",
   "execution_count": 78,
   "metadata": {
    "collapsed": false
   },
   "outputs": [
    {
     "name": "stdout",
     "output_type": "stream",
     "text": [
      "Sun Feb 07 20:15:38 +0000 2016\n",
      "\n",
      "Sun Feb 07 20:15:37 +0000 2016\n",
      "\n",
      "Sun Feb 07 20:15:34 +0000 2016\n",
      "\n",
      "Sun Feb 07 20:15:32 +0000 2016\n",
      "\n",
      "Sun Feb 07 20:15:27 +0000 2016\n",
      "\n",
      "Sun Feb 07 20:15:26 +0000 2016\n",
      "\n",
      "Sun Feb 07 20:15:22 +0000 2016\n",
      "\n",
      "Sun Feb 07 20:15:20 +0000 2016\n",
      "\n",
      "Sun Feb 07 20:15:17 +0000 2016\n",
      "\n",
      "Sun Feb 07 20:15:14 +0000 2016\n",
      "\n",
      "Sun Feb 07 20:15:14 +0000 2016\n",
      "\n",
      "Sun Feb 07 20:15:13 +0000 2016\n",
      "\n",
      "Sun Feb 07 20:15:11 +0000 2016\n",
      "\n",
      "Sun Feb 07 20:15:11 +0000 2016\n",
      "\n",
      "Sun Feb 07 20:15:09 +0000 2016\n",
      "\n"
     ]
    }
   ],
   "source": [
    "for t in tweets:\n",
    "    print t['created_at']\n",
    "    print"
   ]
  },
  {
   "cell_type": "code",
   "execution_count": 69,
   "metadata": {
    "collapsed": true
   },
   "outputs": [],
   "source": [
    "fields = [\n",
    "#         'contributors', #<type 'NoneType'>\n",
    "#         'truncated', #<type 'bool'>\n",
    "        'text', #<type 'unicode'>\n",
    "#         'is_quote_status', #<type 'bool'>\n",
    "#         'in_reply_to_status_id', #<type 'NoneType'>\n",
    "#         'id', #<type 'int'>\n",
    "#         'favorite_count', #<type 'int'>\n",
    "#         'source', #<type 'unicode'>\n",
    "#         'retweeted', #<type 'bool'>\n",
    "#         'coordinates', #<type 'NoneType'>\n",
    "#         'entities', #<type 'dict'>\n",
    "#         'in_reply_to_screen_name', #<type 'NoneType'>\n",
    "#         'in_reply_to_user_id', #<type 'NoneType'>\n",
    "#         'retweet_count', #<type 'int'>\n",
    "        'id_str', #<type 'unicode'>\n",
    "#         'favorited', #<type 'bool'>\n",
    "        'user', #<type 'dict'>\n",
    "#         'geo', #<type 'NoneType'>\n",
    "        'in_reply_to_user_id_str', #<type 'NoneType'>\n",
    "#         'possibly_sensitive', #<type 'bool'>\n",
    "        'lang', #<type 'unicode'>\n",
    "        'created_at', #<type 'unicode'>\n",
    "        'in_reply_to_status_id_str', #<type 'NoneType'>\n",
    "        'place', #<type 'NoneType'>\n",
    "#         'metadata', #<type 'dict'>\n",
    "         ]"
   ]
  },
  {
   "cell_type": "code",
   "execution_count": 101,
   "metadata": {
    "collapsed": false
   },
   "outputs": [],
   "source": [
    "class Tweet(object):\n",
    "    created_format = \"%a %b %d %H:%M:%S +0000 %Y\"\n",
    "#     created_format = '%c'\n",
    "    def __init__(self,\n",
    "                 text=None,\n",
    "                 id_str=None,\n",
    "                 in_reply_to_status_id_str=None,\n",
    "                 in_reply_to_user_id_str=None,\n",
    "                 user=None,\n",
    "                 lang=None,\n",
    "                 created_at=None,\n",
    "                 place=None):\n",
    "        self.text = text\n",
    "        self.id_str = id_str\n",
    "        self.in_reply_to_status_id_str = in_reply_to_status_id_str\n",
    "        self.in_reply_to_user_id_str = in_reply_to_user_id_str\n",
    "        self.user_id= user['id_str']\n",
    "        self.lang = lang\n",
    "        self.created_at = datetime.strptime(created_at, self.created_format)\n",
    "        self.place= json.dumps(place) if place else None\n"
   ]
  },
  {
   "cell_type": "code",
   "execution_count": 80,
   "metadata": {
    "collapsed": true
   },
   "outputs": [],
   "source": [
    "def make_query(twitter, keywords):\n",
    "    query = ' OR '.join(keywords)\n",
    "    results = twitter.search(q=query)\n",
    "    tweets = results['statuses']\n",
    "    return tweets\n",
    "\n",
    "def tweets_to_Tweets(tweet_list, select_fields):\n",
    "    tweets = []\n",
    "#     print select_fields\n",
    "    for tweet in tweet_list:\n",
    "        info = {k:v for (k,v) in tweet.items() if k in select_fields}\n",
    "        tweets.append(Tweet(**info))\n",
    "    return tweets"
   ]
  },
  {
   "cell_type": "code",
   "execution_count": 58,
   "metadata": {
    "collapsed": false
   },
   "outputs": [],
   "source": [
    "results = make_query(twitter, search_terms)"
   ]
  },
  {
   "cell_type": "code",
   "execution_count": 83,
   "metadata": {
    "collapsed": false
   },
   "outputs": [
    {
     "name": "stdout",
     "output_type": "stream",
     "text": [
      "['text', 'id_str', 'user', 'in_reply_to_user_id_str', 'lang', 'created_at', 'in_reply_to_status_id_str', 'place']\n"
     ]
    }
   ],
   "source": [
    "objs = tweets_to_Tweets(results, fields)"
   ]
  },
  {
   "cell_type": "code",
   "execution_count": 103,
   "metadata": {
    "collapsed": false
   },
   "outputs": [
    {
     "ename": "ImportError",
     "evalue": "No module named foodbornenyc.models.metadata",
     "output_type": "error",
     "traceback": [
      "\u001b[0;31m---------------------------------------------------------------------------\u001b[0m",
      "\u001b[0;31mImportError\u001b[0m                               Traceback (most recent call last)",
      "\u001b[0;32m<ipython-input-103-0b474f4f7e06>\u001b[0m in \u001b[0;36m<module>\u001b[0;34m()\u001b[0m\n\u001b[1;32m      1\u001b[0m \u001b[0;32mfrom\u001b[0m \u001b[0msqlalchemy\u001b[0m \u001b[0;32mimport\u001b[0m \u001b[0mTable\u001b[0m\u001b[0;34m,\u001b[0m \u001b[0mColumn\u001b[0m\u001b[0;34m,\u001b[0m \u001b[0mDateTime\u001b[0m\u001b[0;34m,\u001b[0m \u001b[0mUnicode\u001b[0m\u001b[0;34m\u001b[0m\u001b[0m\n\u001b[1;32m      2\u001b[0m \u001b[0;32mfrom\u001b[0m \u001b[0msqlalchemy\u001b[0m\u001b[0;34m.\u001b[0m\u001b[0morm\u001b[0m \u001b[0;32mimport\u001b[0m \u001b[0mmapper\u001b[0m\u001b[0;34m\u001b[0m\u001b[0m\n\u001b[0;32m----> 3\u001b[0;31m \u001b[0;32mfrom\u001b[0m \u001b[0mfoodbornenyc\u001b[0m\u001b[0;34m.\u001b[0m\u001b[0mmodels\u001b[0m\u001b[0;34m.\u001b[0m\u001b[0mmetadata\u001b[0m \u001b[0;32mimport\u001b[0m \u001b[0mmetadata\u001b[0m\u001b[0;34m\u001b[0m\u001b[0m\n\u001b[0m\u001b[1;32m      4\u001b[0m \u001b[0;34m\u001b[0m\u001b[0m\n\u001b[1;32m      5\u001b[0m tweets = Table('tweets', metadata,\n",
      "\u001b[0;31mImportError\u001b[0m: No module named foodbornenyc.models.metadata"
     ]
    }
   ],
   "source": [
    "from sqlalchemy import Table, Column, DateTime, Unicode\n",
    "from sqlalchemy.orm import mapper\n",
    "from foodbornenyc.models.metadata import metadata\n",
    "\n",
    "tweets = Table('tweets', metadata,\n",
    "               Column('id_str', Unicode, primary_key=True),\n",
    "               Column('text', Unidcode),\n",
    "               Column('user_id', Unicode),\n",
    "               Column('lang', Unicode),\n",
    "               Column('in_reply_to_status_id_str', Unicode),\n",
    "               Column('in_reply_to_user_id_str', Unicode),\n",
    "               Column('created_at', DateTime),\n",
    "               Column('place', Unicode))\n",
    "mapper(Tweet, tweets)"
   ]
  },
  {
   "cell_type": "code",
   "execution_count": 102,
   "metadata": {
    "collapsed": false
   },
   "outputs": [
    {
     "name": "stdout",
     "output_type": "stream",
     "text": [
      "15 Total unique tweets\n",
      "['text', 'id_str', 'user', 'in_reply_to_user_id_str', 'lang', 'created_at', 'in_reply_to_status_id_str', 'place']\n",
      "15 Total unique tweets\n",
      "['text', 'id_str', 'user', 'in_reply_to_user_id_str', 'lang', 'created_at', 'in_reply_to_status_id_str', 'place']\n",
      "15 Total unique tweets\n",
      "['text', 'id_str', 'user', 'in_reply_to_user_id_str', 'lang', 'created_at', 'in_reply_to_status_id_str', 'place']\n",
      "15 Total unique tweets\n",
      "['text', 'id_str', 'user', 'in_reply_to_user_id_str', 'lang', 'created_at', 'in_reply_to_status_id_str', 'place']\n",
      "30 Total unique tweets\n",
      "['text', 'id_str', 'user', 'in_reply_to_user_id_str', 'lang', 'created_at', 'in_reply_to_status_id_str', 'place']\n",
      "30 Total unique tweets\n",
      "['text', 'id_str', 'user', 'in_reply_to_user_id_str', 'lang', 'created_at', 'in_reply_to_status_id_str', 'place']\n",
      "30 Total unique tweets\n",
      "['text', 'id_str', 'user', 'in_reply_to_user_id_str', 'lang', 'created_at', 'in_reply_to_status_id_str', 'place']\n",
      "30 Total unique tweets\n",
      "['text', 'id_str', 'user', 'in_reply_to_user_id_str', 'lang', 'created_at', 'in_reply_to_status_id_str', 'place']\n",
      "45 Total unique tweets\n",
      "['text', 'id_str', 'user', 'in_reply_to_user_id_str', 'lang', 'created_at', 'in_reply_to_status_id_str', 'place']\n",
      "45 Total unique tweets\n",
      "['text', 'id_str', 'user', 'in_reply_to_user_id_str', 'lang', 'created_at', 'in_reply_to_status_id_str', 'place']\n",
      "45 Total unique tweets\n",
      "['text', 'id_str', 'user', 'in_reply_to_user_id_str', 'lang', 'created_at', 'in_reply_to_status_id_str', 'place']\n",
      "45 Total unique tweets\n",
      "['text', 'id_str', 'user', 'in_reply_to_user_id_str', 'lang', 'created_at', 'in_reply_to_status_id_str', 'place']\n"
     ]
    }
   ],
   "source": [
    "def query_twitter(how_long_in_sec=0)\n",
    "    # can send 180 requests per 15 min = 5 sec\n",
    "    request_wait = 5\n",
    "    start = time.time()\n",
    "    id_set = set()\n",
    "    # if we don't specify go indefinitely\n",
    "    while if not (how_long_in_sec) or (time.time()-start < how_long_in_sec):\n",
    "        tweets = make_query(twitter, search_terms)\n",
    "        id_set |= set([t['id'] for t in tweets]) # union\n",
    "        print \"%i Total unique tweets\" % len(id_set)\n",
    "        Tweets = tweets_to_Tweets(tweets, fields)\n",
    "        time.sleep(request_wait)"
   ]
  },
  {
   "cell_type": "code",
   "execution_count": null,
   "metadata": {
    "collapsed": true
   },
   "outputs": [],
   "source": []
  }
 ],
 "metadata": {
  "kernelspec": {
   "display_name": "Python 2",
   "language": "python",
   "name": "python2"
  },
  "language_info": {
   "codemirror_mode": {
    "name": "ipython",
    "version": 2
   },
   "file_extension": ".py",
   "mimetype": "text/x-python",
   "name": "python",
   "nbconvert_exporter": "python",
   "pygments_lexer": "ipython2",
   "version": "2.7.10"
  }
 },
 "nbformat": 4,
 "nbformat_minor": 0
}
