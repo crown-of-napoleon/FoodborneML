{
 "cells": [
  {
   "cell_type": "markdown",
   "metadata": {},
   "source": [
    "## This notebook is just to take in xls/xlsx files and write out csv's for normal use"
   ]
  },
  {
   "cell_type": "code",
   "execution_count": 89,
   "metadata": {
    "collapsed": false
   },
   "outputs": [],
   "source": [
    "import datetime\n",
    "\n",
    "### NOW THESE TAKE CELL OBJECTS INSTEAD OF THE CELL VALUES BECAUSE OF DATES\n",
    "def xuni(cell):\n",
    "    # handle numerics\n",
    "    # handle weird fucking xlrd excel dates\n",
    "    s=cell.value\n",
    "#     if cell.ctype == xlrd.XL_CELL_DATE:\n",
    "#         date = datetime.datetime(1899, 12, 30)\n",
    "#         get_ = datetime.timedelta(int(cell.value))\n",
    "#         get_col2 = str(date + get_)[:10]\n",
    "#         d = datetime.datetime.strptime(get_col2, '%Y-%m-%d')\n",
    "#         get_col = d.strftime('%Y-%m-%d')\n",
    "#         return get_col\n",
    "    \n",
    "    if type(s) == float:\n",
    "        return s\n",
    "    elif type(s) == int:\n",
    "        return s\n",
    "    elif not s:\n",
    "        return u''\n",
    "    elif type(s) == unicode:\n",
    "        return s.encode('utf-8')\n",
    "    elif type(s) == str:\n",
    "        return unicode(s, 'utf-8')\n",
    "    else: \n",
    "        return s\n",
    "    \n",
    "def xstr(cell):\n",
    "    # handle numerics\n",
    "    # handle weird fucking xlrd excel dates\n",
    "    s=cell.value\n",
    "    if cell.ctype == xlrd.XL_CELL_DATE:\n",
    "        date = datetime.datetime(1899, 12, 30)\n",
    "        get_ = datetime.timedelta(int(cell.value))\n",
    "        get_col2 = str(date + get_)[:10]\n",
    "        d = datetime.datetime.strptime(get_col2, '%Y-%m-%d')\n",
    "        get_col = d.strftime('%Y-%m-%d')\n",
    "        return get_col\n",
    "    elif type(s) == float:\n",
    "        return s\n",
    "    elif type(s) == int:\n",
    "        return s\n",
    "    elif not s:\n",
    "        return ''\n",
    "    elif type(s) == unicode:\n",
    "        return str(s)\n",
    "    elif type(s) == str:\n",
    "        return s\n",
    "    else: \n",
    "        return s\n",
    "    "
   ]
  },
  {
   "cell_type": "code",
   "execution_count": 84,
   "metadata": {
    "collapsed": false
   },
   "outputs": [
    {
     "name": "stdout",
     "output_type": "stream",
     "text": [
      "\n"
     ]
    }
   ],
   "source": [
    "import csv\n",
    "import openpyxl\n",
    "import xlrd\n",
    "\n",
    "def write_excel_to_csv(filename, sheet_index=0, strip_newline=True, unicode=True, outname=None):\n",
    "    \"\"\"If you want to write out a different sheet than the first, input the sheet index (from 0)\n",
    "        outname is the file name WITHOUT .csv\"\"\"\n",
    "    split = filename.split('.')\n",
    "    ext = split[-1]\n",
    "    if ext == 'xlsx':\n",
    "        if outname:\n",
    "            fname = outname\n",
    "        else:\n",
    "            fname = '.'.join(split[:-1])\n",
    "        wb = openpyxl.load_workbook(filename)\n",
    "        sh = wb.worksheets[sheet_index]\n",
    "        with open(fname + '.csv', 'wb') as f:\n",
    "            c = csv.writer(f)\n",
    "            for r in sh.rows:\n",
    "                if strip_newline:\n",
    "                    if unicode:\n",
    "                        line = [xuni(cell).strip('\\n').strip('\\r') for cell in r]\n",
    "                    else:\n",
    "                        line = [xstr(cell).strip('\\n').strip('\\r') for cell in r]\n",
    "                else:\n",
    "                    if unicode:\n",
    "                        line = [xuni(cell) for cell in r]\n",
    "                    else:\n",
    "                        line = [xstr(cell) for cell in r]\n",
    "                c.writerow(line)\n",
    "        return fname+'.csv'\n",
    "    elif ext == 'xls':\n",
    "        if outname:\n",
    "            fname = outname\n",
    "        else:\n",
    "            fname = '.'.join(split[:-1])\n",
    "        wb = xlrd.open_workbook(filename)\n",
    "        sh = wb.sheet_by_index(sheet_index)\n",
    "        with open(fname + '.csv', 'wb') as f:\n",
    "            c = csv.writer(f)\n",
    "            num_cols = sh.ncols   # Number of columns\n",
    "            for row_idx in range(0, sh.nrows):\n",
    "                if strip_newline:\n",
    "                    if unicode:\n",
    "                        line = [xuni(sh.cell(row_idx, col_idx)).strip('\\n').strip('\\r') for col_idx in range(0, num_cols)]\n",
    "                    else:\n",
    "                        line = [xstr(sh.cell(row_idx, col_idx)).strip('\\n').strip('\\r') for col_idx in range(0, num_cols)]\n",
    "                else:\n",
    "                    if unicode:\n",
    "                        line = [xuni(sh.cell(row_idx, col_idx)) for col_idx in range(0, num_cols)]\n",
    "                    else:\n",
    "                        line = [xstr(sh.cell(row_idx, col_idx)) for col_idx in range(0, num_cols)]\n",
    "                c.writerow(line)\n",
    "        return fname+'.csv'"
   ]
  },
  {
   "cell_type": "code",
   "execution_count": 81,
   "metadata": {
    "collapsed": false
   },
   "outputs": [
    {
     "name": "stdout",
     "output_type": "stream",
     "text": [
      "\n"
     ]
    }
   ],
   "source": [
    "def csv_col_names(csvfile):\n",
    "    with open(csvfile, 'rU') as f:\n",
    "        reader = csv.reader(f)\n",
    "        headers = reader.next()    \n",
    "    return headers\n",
    "\n",
    "def write_select_columns_to_csv(infile, outfile, colnames):\n",
    "    \"\"\" Takes a csv file, outputs a csv file with cols columns \n",
    "        NOTE: ASSUMES THE FIRST LINE IS ALWAYS THE HEADER\"\"\"\n",
    "    if infile.split('.')[-1] != 'csv':\n",
    "        print \"INPUT NEEDS TO BE CSV. EXITING\"\n",
    "        return\n",
    "    with open(infile, 'rU') as f:\n",
    "        reader = csv.reader(f)\n",
    "        with open(outfile, 'w') as w:\n",
    "            writer = csv.writer(w)\n",
    "            col_is = []\n",
    "            for i, row in enumerate(reader):\n",
    "                if i == 0: # headers\n",
    "                    col_is = [ row.index(coln) for coln in colnames]\n",
    "                    writer.writerow(colnames)\n",
    "                    continue\n",
    "                # rest of the data\n",
    "                newrow = [ row[col_i] for col_i in col_is ]\n",
    "                writer.writerow(newrow)\n",
    "    print \"DONE\"\n",
    "    "
   ]
  },
  {
   "cell_type": "code",
   "execution_count": 82,
   "metadata": {
    "collapsed": false
   },
   "outputs": [
    {
     "data": {
      "text/plain": [
       "['.DS_Store',\n",
       " '.ipynb_checkpoints',\n",
       " 'chromeremotedesktop.dmg',\n",
       " 'CSV Writer.ipynb',\n",
       " 'disclda-discriminative-learning-for-dimensionality-reduction-and-classification.bib',\n",
       " 'DiscLDA.ipynb',\n",
       " 'Doc Embeddings Presi.ipynb',\n",
       " 'Evaluation Sample.ipynb',\n",
       " 'Foodborne Twitter Tests.ipynb',\n",
       " 'kdd2011-pldp-final.pdf',\n",
       " 'Labeled Tweets Analysis.ipynb',\n",
       " 'LDA 2.ipynb',\n",
       " 'LDA.ipynb',\n",
       " 'lda_boxplot_2500_7500.pdf',\n",
       " 'lda_boxplot_drown.pdf',\n",
       " 'lda_boxplot_drown_5.pdf',\n",
       " 'lda_boxplot_drown_6.pdf',\n",
       " 'lda_boxplot_drown_6.png',\n",
       " 'ml_example.zip',\n",
       " 'pull_yelp.xlsx',\n",
       " 'pull_yelp_raw.csv',\n",
       " 'PyHealth test.ipynb',\n",
       " 'reviews_foodborne.csv',\n",
       " 'reviews_foodborne_date_biz.csv',\n",
       " 'stream_incidents1.json',\n",
       " 'stream_tweets1.json',\n",
       " 'Twitter sandbox.ipynb',\n",
       " 'Twitter Stream.ipynb',\n",
       " 'Yelp Reviews_dataset for paper data for Fotis.xlsx',\n",
       " 'Yelp Sandbox.ipynb',\n",
       " 'yelp_annotated_analysis.csv',\n",
       " 'yelp_annotated_analysis.xls',\n",
       " 'yelp_mult_data.xlsx']"
      ]
     },
     "execution_count": 82,
     "metadata": {},
     "output_type": "execute_result"
    }
   ],
   "source": [
    "import os\n",
    "os.listdir('.')"
   ]
  },
  {
   "cell_type": "code",
   "execution_count": 85,
   "metadata": {
    "collapsed": false
   },
   "outputs": [
    {
     "name": "stdout",
     "output_type": "stream",
     "text": [
      "yelp_annotated_analysis.csv\n",
      "HEADERS: ['ID', 'Date_Review', 'URL', 'User', 'Business', 'Review', 'Keyword', 'Sick', 'Sick_2', 'Multiple', 'Incubation', 'Interest', 'Score', 'Foodborne_Disease', 'Occurred_Less_Than_4_Weeks', '2_Or_More_Ill', 'Severe_Illness_Occur', 'Action_Item', '311_Report', 'FoodborneAsBoolean', 'NumIsSick']\n"
     ]
    }
   ],
   "source": [
    "og_file = 'yelp_annotated_analysis.xls'\n",
    "incsv = write_excel_to_csv(og_file, sheet_index=6, strip_newline = False)\n",
    "print incsv\n",
    "cols = csv_col_names(incsv)\n",
    "print \"HEADERS: %r\" % cols"
   ]
  },
  {
   "cell_type": "code",
   "execution_count": 86,
   "metadata": {
    "collapsed": false
   },
   "outputs": [
    {
     "name": "stdout",
     "output_type": "stream",
     "text": [
      "DONE\n"
     ]
    }
   ],
   "source": [
    "mycols = ['Review', 'FoodborneAsBoolean', 'Date_Review', 'Business']\n",
    "outfile = \"reviews_foodborne_date_biz.csv\"\n",
    "infname = 'yelp_annotated_analysis.csv'\n",
    "write_select_columns_to_csv(infname, outfile, mycols)"
   ]
  },
  {
   "cell_type": "code",
   "execution_count": 90,
   "metadata": {
    "collapsed": false
   },
   "outputs": [],
   "source": [
    "### WRITING OUT EXPERIMENT DATA\n",
    "##Annotated Reviews\n",
    "wb = openpyxl.load_workbook('yelp_sick_classifier_data.xlsx')\n",
    "sh = wb.active\n",
    "with open('yelp_sick_classifier_data.csv', 'wb') as f:\n",
    "    c = csv.writer(f)\n",
    "    for r in sh.rows:\n",
    "        c.writerow([xuni(cell) for cell in r])"
   ]
  },
  {
   "cell_type": "code",
   "execution_count": 98,
   "metadata": {
    "collapsed": false
   },
   "outputs": [
    {
     "name": "stdout",
     "output_type": "stream",
     "text": [
      "Keeping the first 464 records\n",
      "3 ::  ['Date_Review', 'Review', 'Is_Foodborne']\n",
      "\n"
     ]
    }
   ],
   "source": [
    "num_records = len([i for i,_ in enumerate(csv.reader(open('yelp_sick_classifier_data.csv', 'rU'), dialect='excel'))])\n",
    "stop = num_records/3\n",
    "print \"Keeping the first %i records\" % stop\n",
    "with open('yelp_sick_classifier_data.csv', 'rU') as f:\n",
    "    reader = csv.reader(f, dialect='excel')\n",
    "    with open('yelp_sick_small.csv', 'w') as w:\n",
    "        writer = csv.writer(w)\n",
    "        seenlen = []\n",
    "        for l, row in enumerate(reader):\n",
    "            # get indices we care about\n",
    "#             print l\n",
    "            writer.writerow(row)\n",
    "\n",
    "            if len(row) not in seenlen:\n",
    "                print len(row), ':: ', row\n",
    "                print\n",
    "                seenlen.append(len(row))\n",
    "\n",
    "#             if l == 0:\n",
    "#                 rev_i = row.index('Review')\n",
    "#                 mult_i = row.index('2_Or_More_Ill')\n",
    "#                 writer.writerow(['data', 'label'])\n",
    "#             elif row[rev_i] and row[mult_i] and row[mult_i] != '3' and row[mult_i] != '9': # skip blank rows\n",
    "#                 if row[mult_i] == '2':\n",
    "#                     writer.writerow([row[rev_i], '0'])\n",
    "#                 elif row[mult_i] == '1':\n",
    "#                     writer.writerow([row[rev_i], '1'])\n",
    "#                 else:continue\n",
    "            else: continue\n",
    "            if l >= stop: break"
   ]
  },
  {
   "cell_type": "code",
   "execution_count": 96,
   "metadata": {
    "collapsed": false
   },
   "outputs": [
    {
     "name": "stdout",
     "output_type": "stream",
     "text": [
      "1393\n"
     ]
    }
   ],
   "source": [
    "print len([ row for row in csv.reader(open('yelp_mult_data_small.csv', 'rU'), dialect='excel')])"
   ]
  },
  {
   "cell_type": "code",
   "execution_count": 99,
   "metadata": {
    "collapsed": false
   },
   "outputs": [
    {
     "name": "stdout",
     "output_type": "stream",
     "text": [
      "1393\n"
     ]
    }
   ],
   "source": [
    "print len([ row for row in csv.reader(open('yelp_sick_small.csv', 'rU'), dialect='excel')])"
   ]
  },
  {
   "cell_type": "code",
   "execution_count": 102,
   "metadata": {
    "collapsed": false
   },
   "outputs": [
    {
     "name": "stdout",
     "output_type": "stream",
     "text": [
      "['Date_Review', 'Review', 'Is_Foodborne']\n",
      "['2013-05-06 00:00:00', 'My friends and I ordered 3 burgers and a pitcher of sangria. Everything tasted good. Later on in the day we all got a stomach ache then 1 by 1 we all had to use the restroom several times before the days end. I love this place, but something there made us sick. \\n\\nIf I go back, I&#39;m going to stick with bottled beer.', '1']\n"
     ]
    }
   ],
   "source": [
    "for i, row in enumerate(csv.reader(open('yelp_sick_small.csv', 'rU'), dialect='excel')):\n",
    "    if i in [0,1]: \n",
    "        print row\n",
    "    else:\n",
    "        break"
   ]
  },
  {
   "cell_type": "code",
   "execution_count": 126,
   "metadata": {
    "collapsed": false
   },
   "outputs": [
    {
     "data": {
      "text/plain": [
       "'TrainingDataAllValues.csv'"
      ]
     },
     "execution_count": 126,
     "metadata": {},
     "output_type": "execute_result"
    }
   ],
   "source": [
    "write_excel_to_csv('TrainingDataAllValues.xlsx', strip_newline=False, sheet_index=2)"
   ]
  },
  {
   "cell_type": "code",
   "execution_count": null,
   "metadata": {
    "collapsed": true
   },
   "outputs": [],
   "source": []
  },
  {
   "cell_type": "code",
   "execution_count": 136,
   "metadata": {
    "collapsed": false,
    "scrolled": false
   },
   "outputs": [
    {
     "name": "stdout",
     "output_type": "stream",
     "text": [
      "1393\n",
      "3\n",
      "1392\n",
      "14\n",
      "4.0\n",
      "[['Date_Review', 'Review', 'Is_Foodborne', 'Business'], ['2013-05-06 00:00:00', 'My friends and I ordered 3 burgers and a pitcher of sangria. Everything tasted good. Later on in the day we all got a stomach ache then 1 by 1 we all had to use the restroom several times before the days end. I love this place, but something there made us sick. \\n\\nIf I go back, I&#39;m going to stick with bottled beer.', '1', 'Pier I Caf\\xc3\\xa9']]\n",
      "DONE\n"
     ]
    }
   ],
   "source": [
    "sickrows = [row for row in csv.reader(open('yelp_sick_small.csv', 'rU'), dialect='excel')]\n",
    "print len(sickrows)\n",
    "with open('TrainingDataAllValues.csv', 'rU') as inf:\n",
    "    nrows = 0\n",
    "    reader = csv.reader(inf, dialect='excel')\n",
    "    head = reader.next()\n",
    "    bidx = head.index('Business')\n",
    "    ridx = head.index('Review')\n",
    "    sickrows[0].append('Business')\n",
    "    print bidx\n",
    "    count = 0\n",
    "    for row in reader:\n",
    "        nrows +=1\n",
    "        for srow in sickrows:\n",
    "            if row[ridx]== srow[1]:\n",
    "                count +=1\n",
    "                #print \"Hit #%i\" % count\n",
    "                srow.append(row[bidx])\n",
    "                \n",
    "print nrows\n",
    "\n",
    "dups = [ row for row in sickrows if len(row)>4]\n",
    "print len(dups)\n",
    "fixed = [row[:4] for row in sickrows]\n",
    "print sum([len(row) for row in fixed])/float(len(fixed))\n",
    "print fixed[:2]\n",
    "with open('yelp_sick_small_biz.csv', 'w') as outf:\n",
    "    writer = csv.writer(outf)\n",
    "    for row in fixed:\n",
    "        writer.writerow(row)\n",
    "print \"DONE\""
   ]
  },
  {
   "cell_type": "code",
   "execution_count": 137,
   "metadata": {
    "collapsed": false
   },
   "outputs": [
    {
     "name": "stdout",
     "output_type": "stream",
     "text": [
      "4.0\n"
     ]
    }
   ],
   "source": [
    "# make sure it's cool\n",
    "with open('yelp_sick_small_biz.csv', 'rU') as inf:\n",
    "    reader = csv.reader(inf)\n",
    "    sick = [ row for row in reader]\n",
    "    print sum([len(row) for row in sick])/float(len(sick))"
   ]
  },
  {
   "cell_type": "code",
   "execution_count": null,
   "metadata": {
    "collapsed": true
   },
   "outputs": [],
   "source": []
  }
 ],
 "metadata": {
  "kernelspec": {
   "display_name": "Python 2",
   "language": "python",
   "name": "python2"
  },
  "language_info": {
   "codemirror_mode": {
    "name": "ipython",
    "version": 2
   },
   "file_extension": ".py",
   "mimetype": "text/x-python",
   "name": "python",
   "nbconvert_exporter": "python",
   "pygments_lexer": "ipython2",
   "version": "2.7.10"
  }
 },
 "nbformat": 4,
 "nbformat_minor": 0
}
