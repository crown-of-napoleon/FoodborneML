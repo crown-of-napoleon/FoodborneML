{
 "cells": [
  {
   "cell_type": "code",
   "execution_count": 1,
   "metadata": {
    "collapsed": false
   },
   "outputs": [
    {
     "ename": "ImportError",
     "evalue": "No module named twitter",
     "output_type": "error",
     "traceback": [
      "\u001b[0;31m---------------------------------------------------------------------------\u001b[0m",
      "\u001b[0;31mImportError\u001b[0m                               Traceback (most recent call last)",
      "\u001b[0;32m<ipython-input-1-6fb7dfc7edf3>\u001b[0m in \u001b[0;36m<module>\u001b[0;34m()\u001b[0m\n\u001b[0;32m----> 1\u001b[0;31m \u001b[0;32mimport\u001b[0m \u001b[0mtwitter\u001b[0m\u001b[0;34m\u001b[0m\u001b[0m\n\u001b[0m\u001b[1;32m      2\u001b[0m \u001b[0;32mimport\u001b[0m \u001b[0mssl\u001b[0m\u001b[0;34m\u001b[0m\u001b[0m\n\u001b[1;32m      3\u001b[0m \u001b[0;34m\u001b[0m\u001b[0m\n\u001b[1;32m      4\u001b[0m \u001b[0mconsumer_key\u001b[0m \u001b[0;34m=\u001b[0m \u001b[0;34m'7zIhqJrP60j37HRPddYwyqMAq'\u001b[0m\u001b[0;34m\u001b[0m\u001b[0m\n\u001b[1;32m      5\u001b[0m \u001b[0mconsumer_secret\u001b[0m \u001b[0;34m=\u001b[0m \u001b[0;34m'uid7tU3OgQCJvLAl38zsP3phHzmKZO7SDPvY0mOIP21hmpKoUw'\u001b[0m\u001b[0;34m\u001b[0m\u001b[0m\n",
      "\u001b[0;31mImportError\u001b[0m: No module named twitter"
     ]
    }
   ],
   "source": [
    "import twitter\n",
    "import ssl\n",
    "\n",
    "from foodbornenyc.db_settings import twitter_config\n",
    "\n",
    "api = twitter.Api(consumer_key=twitter_config['consumer_key'],\n",
    "                  consumer_secret=twitter_config['consumer_secret'],\n",
    "                  access_token_key=twitter_config['access_token'],\n",
    "                  access_token_secret=twitter_config['access_token_secret'])\n",
    "\n",
    "#print api.VerifyCredentials()\n"
   ]
  },
  {
   "cell_type": "code",
   "execution_count": 2,
   "metadata": {
    "collapsed": false
   },
   "outputs": [
    {
     "name": "stdout",
     "output_type": "stream",
     "text": [
      "A class representing the Status structure used by the twitter API.\n",
      "\n",
      "  The Status structure exposes the following properties:\n",
      "\n",
      "    status.contributors\n",
      "    status.coordinates\n",
      "    status.created_at\n",
      "    status.created_at_in_seconds # read only\n",
      "    status.favorited\n",
      "    status.favorite_count\n",
      "    status.geo\n",
      "    status.id\n",
      "    status.id_str\n",
      "    status.in_reply_to_screen_name\n",
      "    status.in_reply_to_user_id\n",
      "    status.in_reply_to_status_id\n",
      "    status.lang\n",
      "    status.place\n",
      "    status.retweet_count\n",
      "    status.relative_created_at # read only\n",
      "    status.source\n",
      "    status.text\n",
      "    status.truncated\n",
      "    status.location\n",
      "    status.user\n",
      "    status.urls\n",
      "    status.user_mentions\n",
      "    status.hashtags\n",
      "  \n"
     ]
    }
   ],
   "source": [
    "print twitter.status.Status.__doc__"
   ]
  },
  {
   "cell_type": "code",
   "execution_count": 3,
   "metadata": {
    "collapsed": false
   },
   "outputs": [
    {
     "name": "stdout",
     "output_type": "stream",
     "text": [
      "A class representing the User structure used by the twitter API.\n",
      "\n",
      "  The User structure exposes the following properties:\n",
      "\n",
      "    user.id\n",
      "    user.name\n",
      "    user.screen_name\n",
      "    user.location\n",
      "    user.description\n",
      "    user.default_profile\n",
      "    user.default_profile_image\n",
      "    user.profile_image_url\n",
      "    user.profile_background_tile\n",
      "    user.profile_background_image_url\n",
      "    user.profile_banner_url\n",
      "    user.profile_sidebar_fill_color\n",
      "    user.profile_background_color\n",
      "    user.profile_link_color\n",
      "    user.profile_text_color\n",
      "    user.protected\n",
      "    user.utc_offset\n",
      "    user.time_zone\n",
      "    user.url\n",
      "    user.status\n",
      "    user.statuses_count\n",
      "    user.followers_count\n",
      "    user.friends_count\n",
      "    user.favourites_count\n",
      "    user.geo_enabled\n",
      "    user.verified\n",
      "    user.lang\n",
      "    user.notifications\n",
      "    user.contributors_enabled\n",
      "    user.created_at\n",
      "    user.listed_count\n",
      "  \n"
     ]
    }
   ],
   "source": [
    "print twitter.user.User.__doc__"
   ]
  },
  {
   "cell_type": "code",
   "execution_count": 16,
   "metadata": {
    "collapsed": false
   },
   "outputs": [
    {
     "name": "stdout",
     "output_type": "stream",
     "text": [
      "Return twitter search results for a given term.\n",
      "\n",
      "    Args:\n",
      "      term:\n",
      "        Term to search by. Optional if you include geocode.\n",
      "      since_id:\n",
      "        Returns results with an ID greater than (that is, more recent\n",
      "        than) the specified ID. There are limits to the number of\n",
      "        Tweets which can be accessed through the API. If the limit of\n",
      "        Tweets has occurred since the since_id, the since_id will be\n",
      "        forced to the oldest ID available. [Optional]\n",
      "      max_id:\n",
      "        Returns only statuses with an ID less than (that is, older\n",
      "        than) or equal to the specified ID. [Optional]\n",
      "      until:\n",
      "        Returns tweets generated before the given date. Date should be\n",
      "        formatted as YYYY-MM-DD. [Optional]\n",
      "      geocode:\n",
      "        Geolocation information in the form (latitude, longitude, radius)\n",
      "        [Optional]\n",
      "      count:\n",
      "        Number of results to return.  Default is 15 [Optional]\n",
      "      lang:\n",
      "        Language for results as ISO 639-1 code.  Default is None (all languages)\n",
      "        [Optional]\n",
      "      locale:\n",
      "        Language of the search query. Currently only 'ja' is effective. This is\n",
      "        intended for language-specific consumers and the default should work in\n",
      "        the majority of cases.\n",
      "      result_type:\n",
      "        Type of result which should be returned.  Default is \"mixed\".  Other\n",
      "        valid options are \"recent\" and \"popular\". [Optional]\n",
      "      include_entities:\n",
      "        If True, each tweet will include a node called \"entities,\".\n",
      "        This node offers a variety of metadata about the tweet in a\n",
      "        discrete structure, including: user_mentions, urls, and\n",
      "        hashtags. [Optional]\n",
      "\n",
      "    Returns:\n",
      "      A sequence of twitter.Status instances, one for each message containing\n",
      "      the term\n",
      "    \n"
     ]
    }
   ],
   "source": [
    "print api.GetSearch.__doc__"
   ]
  },
  {
   "cell_type": "code",
   "execution_count": 18,
   "metadata": {
    "collapsed": false
   },
   "outputs": [],
   "source": [
    "#for status in api.GetUserTimeline(screen_name=\"tomeffland\"):\n",
    "#    print dict(status)"
   ]
  },
  {
   "cell_type": "code",
   "execution_count": 224,
   "metadata": {
    "collapsed": false
   },
   "outputs": [],
   "source": [
    "retrieved_tweets = set()"
   ]
  },
  {
   "cell_type": "code",
   "execution_count": 241,
   "metadata": {
    "collapsed": false
   },
   "outputs": [
    {
     "name": "stdout",
     "output_type": "stream",
     "text": [
      "food poisoning OR #foodpoisioning OR vomit OR #vomit OR diarrhea OR #diarrhea OR puke OR #puke OR illness OR #illness OR stomach ache OR #stomachache OR the runs OR #theruns OR got sick\n"
     ]
    }
   ],
   "source": [
    "search_terms = ['food poisoning',\n",
    "                '#foodpoisioning',\n",
    "                'vomit',\n",
    "                '#vomit',\n",
    "                'diarrhea',\n",
    "                '#diarrhea',\n",
    "                'puke',\n",
    "                '#puke',\n",
    "                'illness',\n",
    "                '#illness',\n",
    "                'stomach ache',\n",
    "                '#stomachache',\n",
    "                'the runs',\n",
    "                '#theruns',\n",
    "                'got sick'\n",
    "                ]\n",
    "terms = ' OR '.join(search_terms)\n",
    "print terms\n",
    "search_kwargs = {\n",
    "      #'term':terms,\n",
    "      #since_id:\n",
    "      #  Returns results with an ID greater than (that is, more recent\n",
    "      #  than) the specified ID. There are limits to the number of\n",
    "      #  Tweets which can be accessed through the API. If the limit of\n",
    "      #  Tweets has occurred since the since_id, the since_id will be\n",
    "      #  forced to the oldest ID available. [Optional]\n",
    "      #max_id:\n",
    "      #  Returns only statuses with an ID less than (that is, older\n",
    "      #  than) or equal to the specified ID. [Optional]\n",
    "      #until:\n",
    "      #  Returns tweets generated before the given date. Date should be\n",
    "      #  formatted as YYYY-MM-DD. [Optional]\n",
    "      'geocode':(40.7142700,-74.0059700, '100mi'),\n",
    "      'count':100, #not sure what this max is\n",
    "      'lang':'en',\n",
    "      'result_type':'popular', #'popular' or 'mixed'\n",
    "      'include_entities':True\n",
    "    }"
   ]
  },
  {
   "cell_type": "code",
   "execution_count": 242,
   "metadata": {
    "collapsed": false
   },
   "outputs": [],
   "source": [
    "search = api.GetSearch(**search_kwargs)"
   ]
  },
  {
   "cell_type": "code",
   "execution_count": 243,
   "metadata": {
    "collapsed": false
   },
   "outputs": [
    {
     "name": "stdout",
     "output_type": "stream",
     "text": [
      "Added 29 new tweets\n"
     ]
    }
   ],
   "source": [
    "old_ids = set(status.id for status in retrieved_tweets)\n",
    "new_tweets = set(tweet for tweet in search if tweet.id not in old_ids)\n",
    "retrieved_tweets |= new_tweets # union\n",
    "new = len(retrieved_tweets) - old\n",
    "print \"Added %i new tweets\" % new"
   ]
  },
  {
   "cell_type": "code",
   "execution_count": 244,
   "metadata": {
    "collapsed": false,
    "scrolled": true
   },
   "outputs": [
    {
     "name": "stdout",
     "output_type": "stream",
     "text": [
      "Tweet: \"@AshlieJuliard: @KarlRove @realDonaldTrump Trump is the only candidate that I've ever been excited about #SomethingSpecialIsHappening\"\n",
      "  By: @realDonaldTrump, Mentions:[u'AshlieJuliard', u'KarlRove', u'realDonaldTrump'], in_reply_to: None\n",
      "  Tweet id: 656638895388565506\n",
      "\n",
      "Tweet: \"@USATrustTrump: WOW! The More Opponents Push The Higher The #Trump2016 Reach! Keep Pushing DEMS And Jealous GOPs! https://t.co/RaS4FJAsls\"\n",
      "  By: @realDonaldTrump, Mentions:[u'USATrustTrump'], in_reply_to: None\n",
      "  Tweet id: 657038182589054976\n",
      "\n",
      "Tweet: \"@ansun_sayavong: Your opponents have no idea what they're dealing with. Sun Tzu would be very proud. You are a tactical genius. #artofwar\"\n",
      "  By: @realDonaldTrump, Mentions:[u'ansun_sayavong'], in_reply_to: None\n",
      "  Tweet id: 656669360208150528\n",
      "\n",
      "Tweet: @TimHortons I ate one of your BLTs and got sick with food poisoning the next day. #nothappy.\n",
      "  By: @sebrina_bender, Mentions:[u'TimHortons'], in_reply_to: TimHortons\n",
      "  Tweet id: 654727113375772672\n",
      "\n",
      "Tweet: Lost 15 lbs since I first got sick last Sunday I hope I never ever get that sick again talk about torture! Food poisoning to the max!\n",
      "  By: @IamHim1994, Mentions:[], in_reply_to: None\n",
      "  Tweet id: 655857193078558720\n",
      "\n",
      "Tweet: Omg either I'm sick or got food poisoning from the corn dogs at the pumpkin patch. Damn it. Research paper I don't wanna write youuuu\n",
      "￼\n",
      "  By: @CamModelNatalia, Mentions:[], in_reply_to: None\n",
      "  Tweet id: 653571073829539840\n",
      "\n",
      "Tweet: Thank God they did because ALL of the people that went got sick as hell. Food poisoning. All of them\n",
      "  By: @canu_diggit, Mentions:[], in_reply_to: None\n",
      "  Tweet id: 656495174156210176\n",
      "\n",
      "Tweet: In the past week: I was sick then got my bf sick…now I'm sick AGAIN because of food poisoning😒\n",
      "  By: @PartyGurl_Mason, Mentions:[], in_reply_to: None\n",
      "  Tweet id: 656699891696037888\n",
      "\n",
      "Tweet: \"@EricSjursen: @FoxNews @SheriffClarke @MonicaCrowley  There you go! Everyone loves Donald Trump bcuz he's the real thing, not a politician\"\n",
      "  By: @realDonaldTrump, Mentions:[u'EricSjursen', u'FoxNews', u'SheriffClarke', u'MonicaCrowley'], in_reply_to: None\n",
      "  Tweet id: 656672410025009152\n",
      "\n",
      "Tweet: \"@blewthebigone: The establishment can try all they want to keep @realDonaldTrump from winning. They are not stronger than we the people!!\"\n",
      "  By: @realDonaldTrump, Mentions:[u'blewthebigone', u'realDonaldTrump'], in_reply_to: None\n",
      "  Tweet id: 656671403576553473\n",
      "\n",
      "Tweet: RT @sebrina_bender: @TimHortons I ate one of your BLTs and got sick with food poisoning the next day. #nothappy.\n",
      "  By: @Ihatetimmys, Mentions:[u'sebrina_bender', u'TimHortons'], in_reply_to: None\n",
      "  Tweet id: 654821519630053376\n",
      "\n",
      "Tweet: The first time I've been sick at reading is cus I've got food poisoning, not even cus of alcohol. Quite impressed with myself 👍🏼\n",
      "  By: @JackGlover3, Mentions:[], in_reply_to: None\n",
      "  Tweet id: 654845746294968320\n",
      "\n",
      "Tweet: Random late night thought. I haven't eaten Thai food since I got sick in June. The thought of tofu still turns my stomach! I loved tofu. :(\n",
      "  By: @TheRosie, Mentions:[], in_reply_to: None\n",
      "  Tweet id: 656588140308799489\n",
      "\n",
      "Tweet: New poll by ABC News/Washington Post  TRUMP 32  CARSON 22  RUBIO 10  BUSH 7  Wow, how will the media put a negative spin on this one?\n",
      "  By: @realDonaldTrump, Mentions:[], in_reply_to: None\n",
      "  Tweet id: 656795360900333568\n",
      "\n",
      "Tweet: \"@dcexaminer: Rasmussen: @realDonaldTrump now beats @HillaryClinton 38%-36% nationally https://t.co/NuNulI0Voi https://t.co/1BAPAKad62\"\n",
      "  By: @realDonaldTrump, Mentions:[u'dcexaminer', u'realDonaldTrump', u'HillaryClinton'], in_reply_to: None\n",
      "  Tweet id: 656790380550180864\n",
      "\n",
      "Tweet: @WelloutonHES if he got sick last second with something like food poisoning there is shit all to do if the others havent practiced w/o him..\n",
      "  By: @coco1dfan, Mentions:[u'WelloutonHES'], in_reply_to: WelloutonHES\n",
      "  Tweet id: 656962100699369474\n",
      "\n",
      "Tweet: @gardeneraly it was shocking!!!! Tina my wife got food poisoning 2 days in and I'm resisting the urge to be sick all the time......\n",
      "  By: @Poorjim6060, Mentions:[u'gardeneraly'], in_reply_to: gardeneraly\n",
      "  Tweet id: 655978692141850625\n",
      "\n",
      "Tweet: @NaaBrassKaa well my mum is the same now, idk if you can \"catch\" food poisoning or she very conveniently got sick too\n",
      "  By: @blazwura, Mentions:[u'NaaBrassKaa'], in_reply_to: NaaBrassKaa\n",
      "  Tweet id: 655508733917818881\n",
      "\n",
      "Tweet: \"@btodd539:  @seanhannity Now they are All saying Donald really Could Be President! I Knew This from Start! We ALL must work together!\"\n",
      "  By: @realDonaldTrump, Mentions:[u'btodd539', u'seanhannity'], in_reply_to: None\n",
      "  Tweet id: 656638792426762240\n",
      "\n",
      "Tweet: How do you report a suspected case of food poisoning? Our friends had to go to A&amp;E in the weekend, &amp; their parents got Domino's &amp; sick too.\n",
      "  By: @mriceguy, Mentions:[], in_reply_to: None\n",
      "  Tweet id: 656170794628681728\n",
      "\n",
      "Tweet: \"@Trekwolf164: @wbtonyturner @RadioFreeTom @realDonaldTrump no magic just cut off USA aid money to Mex until cost is recovered.Simple really\n",
      "  By: @realDonaldTrump, Mentions:[u'Trekwolf164', u'wbtonyturner', u'RadioFreeTom', u'realDonaldTrump'], in_reply_to: None\n",
      "  Tweet id: 656620425334693892\n",
      "\n",
      "Tweet: \"@GirlDayTrader: Our new President will provide something we've never had before. #TRUTH even if it hurts. #Trump https://t.co/lZFolvR38a\"\n",
      "  By: @realDonaldTrump, Mentions:[u'GirlDayTrader'], in_reply_to: None\n",
      "  Tweet id: 656631057832411137\n",
      "\n",
      "Tweet: \"omg i haven't been ill in a while! lol\"\n",
      "*two hours later* \n",
      "*is sick, got food poisoning, next day is spent at the hospital, has high fever*\n",
      "  By: @abberanthoran, Mentions:[], in_reply_to: None\n",
      "  Tweet id: 655992176493666304\n",
      "\n",
      "Tweet: \"@aaron_athman: @realDonaldTrump first time I can ever vote and you've got mine! I want to make America great again!!!\"  FANTASTIC!\n",
      "  By: @realDonaldTrump, Mentions:[u'aaron_athman', u'realDonaldTrump'], in_reply_to: None\n",
      "  Tweet id: 656672046244610048\n",
      "\n",
      "Tweet: Sorry I've been dead to the world today, of course I got food poisoning and have been so sick all day. #comeonlife\n",
      "  By: @ericafett, Mentions:[], in_reply_to: None\n",
      "  Tweet id: 655557762731147264\n",
      "\n",
      "Tweet: RT @FRIZDARAPPER: \"@makhubed: @FRIZDARAPPER u mean this food poisoning\"yeah more than half the kids got sick but they let it slide\n",
      "  By: @makhubed, Mentions:[u'FRIZDARAPPER', u'makhubed', u'FRIZDARAPPER'], in_reply_to: None\n",
      "  Tweet id: 654993999841898496\n",
      "\n",
      "Tweet: \"@piersmorgan: Donald Trump still dominating all polls, debate, cable news, gossip...everything. The GOP nomination is his, he rarely loses!\n",
      "  By: @realDonaldTrump, Mentions:[u'piersmorgan'], in_reply_to: None\n",
      "  Tweet id: 656678059098165248\n",
      "\n",
      "Tweet: \"@PatriotByGod: @GSamUSA1 @Carolde @realDonaldTrump Trumps new VA plan will solidify Vets. Support of Trump\"  I love the VETS.\n",
      "  By: @realDonaldTrump, Mentions:[u'PatriotByGod', u'GSamUSA1', u'Carolde', u'realDonaldTrump'], in_reply_to: None\n",
      "  Tweet id: 656626835623555072\n",
      "\n",
      "Tweet: \"@makhubed: @FRIZDARAPPER u mean this food poisoning\"yeah more than half the kids got sick but they let it slide\n",
      "  By: @FRIZDARAPPER, Mentions:[u'makhubed', u'FRIZDARAPPER'], in_reply_to: None\n",
      "  Tweet id: 654991534513856512\n",
      "\n",
      "Tweet: \"@AliceCarozza: @realDonaldTrump You were so much better than Jeb on Hannity. So Great and presidential. I'm happy this was discussed.\"\n",
      "  By: @realDonaldTrump, Mentions:[u'AliceCarozza', u'realDonaldTrump'], in_reply_to: None\n",
      "  Tweet id: 656672809737932800\n",
      "\n",
      "Tweet: I got #food #poisoned for the 5th time in 2 years yesterday!  I swear that's my arch #nemesis!  #sick #feelslikedeath #vomit #hatelife\n",
      "  By: @flyexpat, Mentions:[], in_reply_to: None\n",
      "  Tweet id: 653571630967316480\n",
      "\n",
      "Tweet: This the second night i done got sick to the stomach and can't eat my food 😑😕\n",
      "  By: @iam_Dasiaa, Mentions:[], in_reply_to: None\n",
      "  Tweet id: 653783863366430720\n",
      "\n",
      "Tweet: \"@ccorreia401: @realDonaldTrump @blewthebigone well said. We the people want the truth. We the people want to make America great again.\"\n",
      "  By: @realDonaldTrump, Mentions:[u'ccorreia401', u'realDonaldTrump', u'blewthebigone'], in_reply_to: None\n",
      "  Tweet id: 656672509606150144\n",
      "\n"
     ]
    }
   ],
   "source": [
    "for status in retrieved_tweets:\n",
    "    mentions = [user.screen_name for user in status.user_mentions]\n",
    "    print \"Tweet: %s\" % status.text.encode('utf-8')\n",
    "    print \"  By: @%s, Mentions:%s, in_reply_to: %s\" % (status.user.screen_name, mentions, status.in_reply_to_screen_name)\n",
    "    print \"  Tweet id: %s\" % status.id\n",
    "    print"
   ]
  },
  {
   "cell_type": "code",
   "execution_count": 245,
   "metadata": {
    "collapsed": false
   },
   "outputs": [],
   "source": [
    "timeline_kwargs = {\n",
    "    'screen_name':'happyenglishny',#None,\n",
    "    'since_id':656330452756754432,#None,\n",
    "    'count':100,\n",
    "    'exclude_replies':False\n",
    "}"
   ]
  },
  {
   "cell_type": "code",
   "execution_count": 76,
   "metadata": {
    "collapsed": true
   },
   "outputs": [],
   "source": [
    "# test out get timeline of a user who had a tweet in the response\n",
    "timeline = api.GetUserTimeline(**timeline_kwargs)"
   ]
  },
  {
   "cell_type": "code",
   "execution_count": 179,
   "metadata": {
    "collapsed": false
   },
   "outputs": [],
   "source": [
    "def getRepliesToStatus(status):\n",
    "    \"\"\"Note: this is not provided by the API, so we are only get what search decides to give us\"\"\"\n",
    "    user = status.user.screen_name\n",
    "    potentials = api.GetSearch(term=\"@\"+user,\n",
    "                               since_id=status.id,\n",
    "                               count=100,\n",
    "                               lang='en',\n",
    "                               include_entities=True\n",
    "                              )\n",
    "#     for status in potentials:\n",
    "#         print \"Tweet: %s\" % status.text\n",
    "#         print \"  By: @%s, Mentions:%s, in_reply_to: %s\" % (status.user.screen_name, mentions, status.in_reply_to_screen_name)\n",
    "#         print \"  Tweet id: %s\" % status.id\n",
    "#         print\n",
    "    replies = [tweet for tweet in potentials if tweet.in_reply_to_status_id==status.id ]\n",
    "    #print replies\n",
    "    return replies"
   ]
  },
  {
   "cell_type": "code",
   "execution_count": 180,
   "metadata": {
    "collapsed": false
   },
   "outputs": [],
   "source": [
    "#teststatus = filter(lambda s:s.user.screen_name=='happyenglishny', retrieved_tweets)[0]\n",
    "#replies = getRepliesToStatus(teststatus)"
   ]
  },
  {
   "cell_type": "code",
   "execution_count": 182,
   "metadata": {
    "collapsed": false,
    "scrolled": true
   },
   "outputs": [
    {
     "name": "stdout",
     "output_type": "stream",
     "text": [
      "\n",
      "Status by ripalwys: RT @happyenglishny: Eating food from the street vendor always gives me the runs (diarrhea) What gives you the runs?   #English #twinglish\n",
      "\n",
      "Status by PartyGurl_Mason: In the past week: I was sick then got my bf sick…now I'm sick AGAIN because of food poisoning😒\n",
      "\n",
      "Status by canu_diggit: Thank God they did because ALL of the people that went got sick as hell. Food poisoning. All of them\n",
      "\n",
      "Status by Poorjim6060: @gardeneraly it was shocking!!!! Tina my wife got food poisoning 2 days in and I'm resisting the urge to be sick all the time......\n",
      "Tweet: @Poorjim6060 😩 ok it was really awful.... Poor you :-/\n",
      "  By: @gardeneraly, in_reply_to: Poorjim6060\n",
      "  Tweet id: 655979718852911104\n",
      "\n",
      "\n",
      "Status by iam_Dasiaa: This the second night i done got sick to the stomach and can't eat my food 😑😕\n",
      "\n",
      "Status by sebrina_bender: @TimHortons I ate one of your BLTs and got sick with food poisoning the next day. #nothappy.\n",
      "Tweet: @sebrina_bender This concerns us, pls follow back and DM with the exact location details where you visited and your phone number.\n",
      "  By: @TimHortons, in_reply_to: sebrina_bender\n",
      "  Tweet id: 654727808493576192\n",
      "\n",
      "\n",
      "Status by makhubed: RT @FRIZDARAPPER: \"@makhubed: @FRIZDARAPPER u mean this food poisoning\"yeah more than half the kids got sick but they let it slide\n",
      "\n",
      "Status by TheRosie: Random late night thought. I haven't eaten Thai food since I got sick in June. The thought of tofu still turns my stomach! I loved tofu. :(\n",
      "\n",
      "Status by CamModelNatalia: Omg either I'm sick or got food poisoning from the corn dogs at the pumpkin patch. Damn it. Research paper I don't wanna write youuuu\n",
      "￼\n",
      "\n",
      "Status by flyexpat: I got #food #poisoned for the 5th time in 2 years yesterday!  I swear that's my arch #nemesis!  #sick #feelslikedeath #vomit #hatelife\n",
      "\n",
      "Status by abberanthoran: \"omg i haven't been ill in a while! lol\"\n",
      "*two hours later* \n",
      "*is sick, got food poisoning, next day is spent at the hospital, has high fever*\n",
      "\n",
      "Status by blazwura: @NaaBrassKaa well my mum is the same now, idk if you can \"catch\" food poisoning or she very conveniently got sick too\n",
      "\n",
      "Status by eigojouhou: RT @happyenglishny: Eating food from the street vendor always gives me the runs (diarrhea) What gives you the runs?   #English #twinglish\n",
      "\n",
      "Status by FRIZDARAPPER: \"@makhubed: @FRIZDARAPPER u mean this food poisoning\"yeah more than half the kids got sick but they let it slide\n",
      "Tweet: @FRIZDARAPPER lets wait n sre\n",
      "  By: @makhubed, in_reply_to: FRIZDARAPPER\n",
      "  Tweet id: 654994771434479616\n",
      "\n",
      "\n",
      "Status by trishsalva: RT @happyenglishny: Eating food from the street vendor always gives me the runs (diarrhea) What gives you the runs?   #English #twinglish\n",
      "\n",
      "Status by coco1dfan: @WelloutonHES if he got sick last second with something like food poisoning there is shit all to do if the others havent practiced w/o him..\n",
      "Tweet: @coco1dfan When Zayn left the band the very next day they preformed so practicing isn't the problem obviously\n",
      "  By: @WelloutonHES, in_reply_to: coco1dfan\n",
      "  Tweet id: 656963507636715520\n",
      "\n",
      "\n",
      "Status by Ihatetimmys: RT @sebrina_bender: @TimHortons I ate one of your BLTs and got sick with food poisoning the next day. #nothappy.\n",
      "\n",
      "Status by JackGlover3: The first time I've been sick at reading is cus I've got food poisoning, not even cus of alcohol. Quite impressed with myself 👍🏼\n",
      "\n",
      "Status by ericafett: Sorry I've been dead to the world today, of course I got food poisoning and have been so sick all day. #comeonlife\n",
      "\n",
      "Status by IamHim1994: Lost 15 lbs since I first got sick last Sunday I hope I never ever get that sick again talk about torture! Food poisoning to the max!\n",
      "\n",
      "Status by happyenglishny: Eating food from the street vendor always gives me the runs (diarrhea) What gives you the runs?   #English #twinglish\n",
      "\n",
      "Status by mriceguy: How do you report a suspected case of food poisoning? Our friends had to go to A&amp;E in the weekend, &amp; their parents got Domino's &amp; sick too.\n"
     ]
    }
   ],
   "source": [
    "for status in retrieved_tweets:\n",
    "    print\n",
    "    print \"Status by %s: %s\" % (status.user.screen_name, status.text)\n",
    "    for reply in getRepliesToStatus(status):\n",
    "        #mentions = [user.screen_name for user in reply.user_mentions]\n",
    "        print \"Tweet: %s\" % reply.text\n",
    "        print \"  By: @%s, in_reply_to: %s\" % (reply.user.screen_name, reply.in_reply_to_screen_name)\n",
    "        print \"  Tweet id: %s\" % reply.id\n",
    "        print"
   ]
  },
  {
   "cell_type": "code",
   "execution_count": 256,
   "metadata": {
    "collapsed": false
   },
   "outputs": [],
   "source": [
    "### THIS IS NOT ROBUST ###\n",
    "# recursive conversation tracker\n",
    "def recursiveConvoTree(status, paths, path):\n",
    "    replies = getRepliesToStatus(status)\n",
    "    if not replies:\n",
    "        paths.append(path)\n",
    "        return\n",
    "    else:\n",
    "        for reply in replies:\n",
    "            path.append(reply)\n",
    "            recursiveConvoTree(reply, paths, path)\n",
    "    \n",
    "# memoization wrapper of recursive algo\n",
    "def trackConversations(root_status):\n",
    "    paths = []\n",
    "    path = [root_status]\n",
    "    recursiveConvoTree(root_status, paths, path)\n",
    "    return paths\n",
    "    \n",
    "def printConvoTree(convo_tree):\n",
    "    if max([len(path) for path in convo_tree]) <=1 :\n",
    "        print \"No conversation occured\"\n",
    "    else:\n",
    "        for i, path in enumerate(convo_tree):\n",
    "            for j, t in enumerate(path):\n",
    "                replyname = t.in_reply_to_screen_name\n",
    "                if not replyname: replyname='Not in reply'\n",
    "                print j*'  ' + t.text\n",
    "                print j*'  ' + t.user.screen_name+' , '+replyname"
   ]
  },
  {
   "cell_type": "code",
   "execution_count": 234,
   "metadata": {
    "collapsed": false
   },
   "outputs": [
    {
     "name": "stdout",
     "output_type": "stream",
     "text": [
      "{u'/search/tweets': {u'reset': 1445486107, u'limit': 180, u'remaining': 154}}\n"
     ]
    }
   ],
   "source": [
    "print api.GetRateLimitStatus()[u'resources'][u'search']#[u'/search/tweets']"
   ]
  },
  {
   "cell_type": "code",
   "execution_count": 218,
   "metadata": {
    "collapsed": false
   },
   "outputs": [],
   "source": [
    "# test recursive convo tree\n",
    "teststatus = filter(lambda s:s.user.screen_name=='sebrina_bender', retrieved_tweets)[0]\n",
    "convo_tree = trackConversations(teststatus)"
   ]
  },
  {
   "cell_type": "code",
   "execution_count": 257,
   "metadata": {
    "collapsed": false
   },
   "outputs": [
    {
     "name": "stdout",
     "output_type": "stream",
     "text": [
      "\n",
      "No conversation occured\n",
      "\n",
      "\"@USATrustTrump: WOW! The More Opponents Push The Higher The #Trump2016 Reach! Keep Pushing DEMS And Jealous GOPs! https://t.co/RaS4FJAsls\"\n",
      "realDonaldTrump , Not in reply\n",
      "  @realDonaldTrump @USATrustTrump Down with corrupt career politicians! Gooooo #TeamTrump16 #TrumpTrain #HispanicsForTrump #DemocratsForTrump\n",
      "  TejadaDennes , realDonaldTrump\n",
      "\n",
      "No conversation occured\n",
      "\n",
      "@TimHortons I ate one of your BLTs and got sick with food poisoning the next day. #nothappy.\n",
      "sebrina_bender , TimHortons\n",
      "  @sebrina_bender This concerns us, pls follow back and DM with the exact location details where you visited and your phone number.\n",
      "  TimHortons , sebrina_bender\n",
      "\n",
      "No conversation occured\n",
      "\n",
      "No conversation occured\n",
      "\n",
      "No conversation occured\n",
      "\n",
      "No conversation occured\n",
      "\n",
      "No conversation occured\n",
      "\n",
      "No conversation occured\n",
      "\n",
      "No conversation occured\n",
      "\n",
      "No conversation occured\n",
      "\n",
      "No conversation occured\n",
      "\n",
      "No conversation occured\n",
      "\n",
      "No conversation occured\n",
      "\n",
      "@WelloutonHES if he got sick last second with something like food poisoning there is shit all to do if the others havent practiced w/o him..\n",
      "coco1dfan , WelloutonHES\n",
      "  @coco1dfan When Zayn left the band the very next day they preformed so practicing isn't the problem obviously\n",
      "  WelloutonHES , coco1dfan\n",
      "    @WelloutonHES they still had a sound check without him. To figure out who Sang what.\n",
      "    coco1dfan , WelloutonHES\n",
      "      @coco1dfan when though? They had to fly out to Indonesia immediately and preform so they must have already had a plan to preform without +\n",
      "      WelloutonHES , coco1dfan\n",
      "        @WelloutonHES there is always a soundcheck before a concert to make sure everything is working, they would have done one.\n",
      "        coco1dfan , WelloutonHES\n",
      "          @coco1dfan Not always usually before new legs of the tour not before every single preformance\n",
      "          WelloutonHES , coco1dfan\n",
      "\n",
      "@gardeneraly it was shocking!!!! Tina my wife got food poisoning 2 days in and I'm resisting the urge to be sick all the time......\n",
      "Poorjim6060 , gardeneraly\n",
      "  @Poorjim6060 😩 ok it was really awful.... Poor you :-/\n",
      "  gardeneraly , Poorjim6060\n",
      "\n",
      "No conversation occured\n",
      "\n",
      "No conversation occured\n",
      "\n",
      "No conversation occured\n",
      "\n",
      "No conversation occured\n",
      "\n",
      "No conversation occured\n",
      "\n",
      "No conversation occured\n",
      "\n",
      "No conversation occured\n",
      "\n",
      "No conversation occured\n",
      "\n",
      "No conversation occured\n",
      "\n",
      "No conversation occured\n",
      "\n",
      "No conversation occured\n",
      "\n",
      "\"@makhubed: @FRIZDARAPPER u mean this food poisoning\"yeah more than half the kids got sick but they let it slide\n",
      "FRIZDARAPPER , Not in reply\n",
      "  @FRIZDARAPPER lets wait n sre\n",
      "  makhubed , FRIZDARAPPER\n",
      "\n",
      "No conversation occured\n",
      "\n",
      "No conversation occured\n",
      "\n",
      "No conversation occured\n",
      "\n",
      "\"@ccorreia401: @realDonaldTrump @blewthebigone well said. We the people want the truth. We the people want to make America great again.\"\n",
      "realDonaldTrump , Not in reply\n",
      "  @realDonaldTrump @ccorreia401 @blewthebigone @AdiosLiberty “Stay The Course Freedom Man!: PartV\n",
      "https://t.co/134J07sgfc HERE IS THE TRUTH!\n",
      "  IAmFreedomMan , realDonaldTrump\n"
     ]
    }
   ],
   "source": [
    "for tweet in list(retrieved_tweets):\n",
    "    convo_tree = trackConversations(tweet)\n",
    "    print \n",
    "    printConvoTree(convo_tree)"
   ]
  },
  {
   "cell_type": "code",
   "execution_count": 200,
   "metadata": {
    "collapsed": false
   },
   "outputs": [
    {
     "name": "stdout",
     "output_type": "stream",
     "text": [
      "[]\n"
     ]
    }
   ],
   "source": [
    "print convo_tree"
   ]
  },
  {
   "cell_type": "code",
   "execution_count": 5,
   "metadata": {
    "collapsed": false
   },
   "outputs": [],
   "source": [
    "# testing with incident data\n",
    "import json\n",
    "incidents = []\n",
    "with open('../stream_incidents2.json', 'r') as f:\n",
    "    for line in f.readlines():\n",
    "        incidents.append(json.loads(line))"
   ]
  },
  {
   "cell_type": "code",
   "execution_count": 6,
   "metadata": {
    "collapsed": false
   },
   "outputs": [
    {
     "name": "stdout",
     "output_type": "stream",
     "text": [
      "110\n"
     ]
    }
   ],
   "source": [
    "print len(incidents)"
   ]
  },
  {
   "cell_type": "code",
   "execution_count": 20,
   "metadata": {
    "collapsed": false
   },
   "outputs": [
    {
     "name": "stdout",
     "output_type": "stream",
     "text": [
      "DannyRatcliffe\n",
      "I got food poisoning from eating at @Eataly's La Birreria last night. https://t.co/qF5SVyPa1X\n"
     ]
    }
   ],
   "source": [
    "inc = incidents[107]\n",
    "tid = inc['tweet0']\n",
    "convo =  inc['conversations'][0]\n",
    "print inc['user']['screen_name']\n",
    "for tweet in convo:\n",
    "    print tweet['text']\n",
    "    "
   ]
  },
  {
   "cell_type": "code",
   "execution_count": 23,
   "metadata": {
    "collapsed": false
   },
   "outputs": [
    {
     "name": "stdout",
     "output_type": "stream",
     "text": [
      "What's up, doc? #mood https://t.co/7W3Jyl5Tzf\n",
      "@TheBrandyHoward you win at life. I can't handle how cute Mighty looks with bows! 🎀 #ThePeoplesCouch https://t.co/Jur2KxQSsh\n",
      "Goodbye... It's you https://t.co/SJD58ITykb\n",
      "RT @PersianLa27: In case you failed to notice, I could care less about your irrelevant ass.\n",
      "\"It's raining, it's pouring. The old man is snoring\" is more meaningful now that I'm older.\n",
      "@ercthms ?¿ https://t.co/JWrbirWGpD\n",
      "@jjthornhill I have yet to ride to  Ariana's new song... I'm counting on you, so please Focus! 😋 https://t.co/wTHcS7xffj\n",
      "RT @SartoriallyInc: where do u see yourself in 5 years? https://t.co/TthG3TiSY1\n",
      "@jjthornhill @cycfitness uhhh DUH, #hairography is to be expected! https://t.co/EMequuzTSZ\n",
      "I'm at @CycFitness in New York, NY https://t.co/Zll2vMXYsz\n",
      "I hate that I love this. https://t.co/SWz7gxbAAg\n",
      "RT @AlexPlaskey: DO NOT SEND ME A SNAPCHAT AND THEN PUT IT IN YOUR STORY. how dare you.\n",
      "Two more classes to go! (at @CycFitness in New York, NY) https://t.co/OYlhMQovhd\n",
      "RT @aedlein: so kelly and michelle aren't allowed to show their face now? smh http://t.co/aFNr9yicnF\n",
      "I take incredibly long showers and I'm not sorry about it.\n",
      "#SaTURNTday (at @CycFitness in New York, NY) https://t.co/d5ZaO0IzN8\n",
      "@KeoniHudoba just took #SaTURNTday at @cycfitness to a new extreme. Uhhhmazing! #CycLean #CycLift https://t.co/twGntIY3se\n",
      "RT @teamCHEER_: HOLY CHAPIN CHEER!!! #SCHSLCheerState https://t.co/Zy9tAgd13A\n",
      "@NFHSNetwork the only reason I bought the daily pass was to watch @SCHSL Cheer Championship LIVE. Too bad I have to keep refreshing...\n",
      "I'm at @Eataly NYC in New York, NY https://t.co/hfkloYHVLj\n"
     ]
    }
   ],
   "source": [
    "for status in inc['timeline']:\n",
    "    print status['text']"
   ]
  },
  {
   "cell_type": "code",
   "execution_count": null,
   "metadata": {
    "collapsed": true
   },
   "outputs": [],
   "source": []
  }
 ],
 "metadata": {
  "kernelspec": {
   "display_name": "Python 2",
   "language": "python",
   "name": "python2"
  },
  "language_info": {
   "codemirror_mode": {
    "name": "ipython",
    "version": 2
   },
   "file_extension": ".py",
   "mimetype": "text/x-python",
   "name": "python",
   "nbconvert_exporter": "python",
   "pygments_lexer": "ipython2",
   "version": "2.7.10"
  }
 },
 "nbformat": 4,
 "nbformat_minor": 0
}
