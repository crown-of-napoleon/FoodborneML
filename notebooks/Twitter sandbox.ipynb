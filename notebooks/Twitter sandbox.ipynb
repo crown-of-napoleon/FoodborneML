{
 "cells": [
  {
   "cell_type": "markdown",
   "metadata": {},
   "source": [
    "### Connect to the Twiiter API and verify it works"
   ]
  },
  {
   "cell_type": "code",
   "execution_count": 5,
   "metadata": {
    "collapsed": false
   },
   "outputs": [
    {
     "name": "stdout",
     "output_type": "stream",
     "text": [
      "{\"created_at\": \"Wed Aug 10 01:25:44 +0000 2011\", \"default_profile\": true, \"description\": \"Never forget why you are here. To live life to the fullest, never take anything for granted, and to inspire others to do the same\", \"favourites_count\": 32, \"followers_count\": 96, \"friends_count\": 107, \"id\": 352017605, \"lang\": \"en\", \"name\": \"Braveheart\", \"profile_background_color\": \"C0DEED\", \"profile_background_image_url\": \"http://abs.twimg.com/images/themes/theme1/bg.png\", \"profile_background_tile\": false, \"profile_banner_url\": \"https://pbs.twimg.com/profile_banners/352017605/1352929056\", \"profile_image_url\": \"https://pbs.twimg.com/profile_images/1682110873/image_normal.jpg\", \"profile_link_color\": \"0084B4\", \"profile_sidebar_fill_color\": \"DDEEF6\", \"profile_text_color\": \"333333\", \"protected\": false, \"screen_name\": \"tomeffland\", \"status\": {\"created_at\": \"Mon Feb 02 02:33:14 +0000 2015\", \"favorited\": false, \"id\": 562076244884598784, \"lang\": \"en\", \"retweeted\": false, \"source\": \"<a href=\\\"http://twitter.com/download/iphone\\\" rel=\\\"nofollow\\\">Twitter for iPhone</a>\", \"text\": \"Which is better? Super bowl XLIX or super bowl IL?\", \"truncated\": false}, \"statuses_count\": 403}\n"
     ]
    }
   ],
   "source": [
    "import twitter\n",
    "import ssl\n",
    "from foodbornenyc.db_settings import twitter_config\n",
    "\n",
    "consumer_key = twitter_config['consumer_key']\n",
    "consumer_secret = twitter_config['consumer_secret']\n",
    "access_token = twitter_config['access_token']\n",
    "access_token_secret = twitter_config['access_token_secret']\n",
    "\n",
    "api = twitter.Api(consumer_key=consumer_key,\n",
    "                  consumer_secret=consumer_secret,\n",
    "                  access_token_key=access_token,\n",
    "                  access_token_secret=access_token_secret)\n",
    "\n",
    "print api.VerifyCredentials()"
   ]
  },
  {
   "cell_type": "code",
   "execution_count": 8,
   "metadata": {
    "collapsed": true
   },
   "outputs": [],
   "source": [
    "import urllib"
   ]
  },
  {
   "cell_type": "code",
   "execution_count": 44,
   "metadata": {
    "collapsed": false
   },
   "outputs": [
    {
     "name": "stdout",
     "output_type": "stream",
     "text": [
      "A class representing the Status structure used by the twitter API.\n",
      "\n",
      "  The Status structure exposes the following properties:\n",
      "\n",
      "    status.contributors\n",
      "    status.coordinates\n",
      "    status.created_at\n",
      "    status.created_at_in_seconds # read only\n",
      "    status.favorited\n",
      "    status.favorite_count\n",
      "    status.geo\n",
      "    status.id\n",
      "    status.id_str\n",
      "    status.in_reply_to_screen_name\n",
      "    status.in_reply_to_user_id\n",
      "    status.in_reply_to_status_id\n",
      "    status.lang\n",
      "    status.place\n",
      "    status.retweet_count\n",
      "    status.relative_created_at # read only\n",
      "    status.source\n",
      "    status.text\n",
      "    status.truncated\n",
      "    status.location\n",
      "    status.user\n",
      "    status.urls\n",
      "    status.user_mentions\n",
      "    status.hashtags\n",
      "  \n"
     ]
    }
   ],
   "source": [
    "print twitter.status.Status.__doc__"
   ]
  },
  {
   "cell_type": "code",
   "execution_count": 2,
   "metadata": {
    "collapsed": false
   },
   "outputs": [
    {
     "name": "stdout",
     "output_type": "stream",
     "text": [
      "A class representing the User structure used by the twitter API.\n",
      "\n",
      "  The User structure exposes the following properties:\n",
      "\n",
      "    user.id\n",
      "    user.name\n",
      "    user.screen_name\n",
      "    user.location\n",
      "    user.description\n",
      "    user.default_profile\n",
      "    user.default_profile_image\n",
      "    user.profile_image_url\n",
      "    user.profile_background_tile\n",
      "    user.profile_background_image_url\n",
      "    user.profile_banner_url\n",
      "    user.profile_sidebar_fill_color\n",
      "    user.profile_background_color\n",
      "    user.profile_link_color\n",
      "    user.profile_text_color\n",
      "    user.protected\n",
      "    user.utc_offset\n",
      "    user.time_zone\n",
      "    user.url\n",
      "    user.status\n",
      "    user.statuses_count\n",
      "    user.followers_count\n",
      "    user.friends_count\n",
      "    user.favourites_count\n",
      "    user.geo_enabled\n",
      "    user.verified\n",
      "    user.lang\n",
      "    user.notifications\n",
      "    user.contributors_enabled\n",
      "    user.created_at\n",
      "    user.listed_count\n",
      "  \n"
     ]
    }
   ],
   "source": [
    "print twitter.user.User.__doc__"
   ]
  },
  {
   "cell_type": "code",
   "execution_count": 4,
   "metadata": {
    "collapsed": false
   },
   "outputs": [
    {
     "name": "stdout",
     "output_type": "stream",
     "text": [
      "Fetch the sequence of public Status messages for a single user.\n",
      "\n",
      "    The twitter.Api instance must be authenticated if the user is private.\n",
      "\n",
      "    Args:\n",
      "      user_id:\n",
      "        Specifies the ID of the user for whom to return the\n",
      "        user_timeline. Helpful for disambiguating when a valid user ID\n",
      "        is also a valid screen name. [Optional]\n",
      "      screen_name:\n",
      "        Specifies the screen name of the user for whom to return the\n",
      "        user_timeline. Helpful for disambiguating when a valid screen\n",
      "        name is also a user ID. [Optional]\n",
      "      since_id:\n",
      "        Returns results with an ID greater than (that is, more recent\n",
      "        than) the specified ID. There are limits to the number of\n",
      "        Tweets which can be accessed through the API. If the limit of\n",
      "        Tweets has occurred since the since_id, the since_id will be\n",
      "        forced to the oldest ID available. [Optional]\n",
      "      max_id:\n",
      "        Returns only statuses with an ID less than (that is, older\n",
      "        than) or equal to the specified ID. [Optional]\n",
      "      count:\n",
      "        Specifies the number of statuses to retrieve. May not be\n",
      "        greater than 200. [Optional]\n",
      "      include_rts:\n",
      "        If True, the timeline will contain native retweets (if they\n",
      "        exist) in addition to the standard stream of tweets. [Optional]\n",
      "      trim_user:\n",
      "        If True, statuses will only contain the numerical user ID only.\n",
      "        Otherwise a full user object will be returned for each status.\n",
      "        [Optional]\n",
      "      exclude_replies:\n",
      "        If True, this will prevent replies from appearing in the returned\n",
      "        timeline. Using exclude_replies with the count parameter will mean you\n",
      "        will receive up-to count tweets - this is because the count parameter\n",
      "        retrieves that many tweets before filtering out retweets and replies.\n",
      "        This parameter is only supported for JSON and XML responses. [Optional]\n",
      "\n",
      "    Returns:\n",
      "      A sequence of Status instances, one for each message up to count\n",
      "    \n"
     ]
    }
   ],
   "source": [
    "print api.GetUserTimeline.__doc__"
   ]
  },
  {
   "cell_type": "code",
   "execution_count": 4,
   "metadata": {
    "collapsed": false
   },
   "outputs": [
    {
     "name": "stdout",
     "output_type": "stream",
     "text": [
      "{\"created_at\": \"Wed Aug 10 01:25:44 +0000 2011\", \"default_profile\": true, \"description\": \"Never forget why you are here. To live life to the fullest, never take anything for granted, and to inspire others to do the same\", \"favourites_count\": 32, \"followers_count\": 96, \"friends_count\": 107, \"id\": 352017605, \"lang\": \"en\", \"name\": \"Braveheart\", \"profile_background_color\": \"C0DEED\", \"profile_background_image_url\": \"http://abs.twimg.com/images/themes/theme1/bg.png\", \"profile_background_tile\": false, \"profile_banner_url\": \"https://pbs.twimg.com/profile_banners/352017605/1352929056\", \"profile_image_url\": \"https://pbs.twimg.com/profile_images/1682110873/image_normal.jpg\", \"profile_link_color\": \"0084B4\", \"profile_sidebar_fill_color\": \"DDEEF6\", \"profile_text_color\": \"333333\", \"protected\": false, \"screen_name\": \"tomeffland\", \"status\": {\"created_at\": \"Mon Feb 02 02:33:14 +0000 2015\", \"favorited\": false, \"id\": 562076244884598784, \"lang\": \"en\", \"retweeted\": false, \"source\": \"<a href=\\\"http://twitter.com/download/iphone\\\" rel=\\\"nofollow\\\">Twitter for iPhone</a>\", \"text\": \"Which is better? Super bowl XLIX or super bowl IL?\", \"truncated\": false}, \"statuses_count\": 403}\n"
     ]
    }
   ],
   "source": [
    "results =  api.GetUser(screen_name=\"tomeffland\")\n",
    "print results"
   ]
  },
  {
   "cell_type": "code",
   "execution_count": 24,
   "metadata": {
    "collapsed": false
   },
   "outputs": [
    {
     "name": "stdout",
     "output_type": "stream",
     "text": [
      "Return twitter search results for a given term.\n",
      "\n",
      "    Args:\n",
      "      term:\n",
      "        Term to search by. Optional if you include geocode.\n",
      "      since_id:\n",
      "        Returns results with an ID greater than (that is, more recent\n",
      "        than) the specified ID. There are limits to the number of\n",
      "        Tweets which can be accessed through the API. If the limit of\n",
      "        Tweets has occurred since the since_id, the since_id will be\n",
      "        forced to the oldest ID available. [Optional]\n",
      "      max_id:\n",
      "        Returns only statuses with an ID less than (that is, older\n",
      "        than) or equal to the specified ID. [Optional]\n",
      "      until:\n",
      "        Returns tweets generated before the given date. Date should be\n",
      "        formatted as YYYY-MM-DD. [Optional]\n",
      "      geocode:\n",
      "        Geolocation information in the form (latitude, longitude, radius)\n",
      "        [Optional]\n",
      "      count:\n",
      "        Number of results to return.  Default is 15 [Optional]\n",
      "      lang:\n",
      "        Language for results as ISO 639-1 code.  Default is None (all languages)\n",
      "        [Optional]\n",
      "      locale:\n",
      "        Language of the search query. Currently only 'ja' is effective. This is\n",
      "        intended for language-specific consumers and the default should work in\n",
      "        the majority of cases.\n",
      "      result_type:\n",
      "        Type of result which should be returned.  Default is \"mixed\".  Other\n",
      "        valid options are \"recent\" and \"popular\". [Optional]\n",
      "      include_entities:\n",
      "        If True, each tweet will include a node called \"entities,\".\n",
      "        This node offers a variety of metadata about the tweet in a\n",
      "        discrete structure, including: user_mentions, urls, and\n",
      "        hashtags. [Optional]\n",
      "\n",
      "    Returns:\n",
      "      A sequence of twitter.Status instances, one for each message containing\n",
      "      the term\n",
      "    \n"
     ]
    }
   ],
   "source": [
    "print api.GetSearch.__doc__"
   ]
  },
  {
   "cell_type": "code",
   "execution_count": 51,
   "metadata": {
    "collapsed": false
   },
   "outputs": [
    {
     "name": "stdout",
     "output_type": "stream",
     "text": [
      "A class representing the Status structure used by the twitter API.\n",
      "\n",
      "  The Status structure exposes the following properties:\n",
      "\n",
      "    status.contributors\n",
      "    status.coordinates\n",
      "    status.created_at\n",
      "    status.created_at_in_seconds # read only\n",
      "    status.favorited\n",
      "    status.favorite_count\n",
      "    status.geo\n",
      "    status.id\n",
      "    status.id_str\n",
      "    status.in_reply_to_screen_name\n",
      "    status.in_reply_to_user_id\n",
      "    status.in_reply_to_status_id\n",
      "    status.lang\n",
      "    status.place\n",
      "    status.retweet_count\n",
      "    status.relative_created_at # read only\n",
      "    status.source\n",
      "    status.text\n",
      "    status.truncated\n",
      "    status.location\n",
      "    status.user\n",
      "    status.urls\n",
      "    status.user_mentions\n",
      "    status.hashtags\n",
      "  \n",
      "0 Lee_Schrager : RR says these neworleans pralines totally sick and his favorite food at #nycwff #partnerknowsbest… https://t.co/AMKDf8Nn5V AT {u'type': u'Point', u'coordinates': [-73.99669439, 40.76959338]}\n",
      "1 mzmowz : Ate kangaroo sliders with @sarah__siegel last night how wild is that ??? #food @ The Thirsty Koala https://t.co/oKrMXOCM13 AT {u'type': u'Point', u'coordinates': [-73.9087219, 40.7743988]}\n",
      "2 SuperSEOBros : Been sick the last two days so stayed home. This guy is happy about that or he wants some of my food.… https://t.co/syjYArDa2V AT {u'type': u'Point', u'coordinates': [-73.90012379, 40.74468053]}\n",
      "3 bleuLorax : FOOD! I have been so sick the past few days and today I was finally able to eat! I made a waffle, put… https://t.co/Mpm5kCQZfC AT {u'type': u'Point', u'coordinates': [-73.1891646, 41.16521569]}\n",
      "4 ErinnnChristine : Came home from the gym &amp; ate Chinese food and a twix... I mean it was leg day... 😐#needthosecarbs AT {u'type': u'Point', u'coordinates': [-74.86809681, 40.04827713]}\n",
      "5 ashleyefontana : Watched a little opera and ate a lot of food @ The Metropolitan Opera https://t.co/JwyAOKRpRq AT {u'type': u'Point', u'coordinates': [-73.98358535, 40.77244748]}\n",
      "6 steve_markham : Went to the bathroom, ate all my food, got something to drink.. now my ass is not moving from this… https://t.co/hiuHAjwPHr AT {u'type': u'Point', u'coordinates': [-73.84623955, 40.75673334]}\n",
      "7 bettykit : Back at #bettyfoodtour with @annacsimon after I fight off the evil food poisoning at #cafeselect… https://t.co/8BjbXRkqZb AT {u'type': u'Point', u'coordinates': [-73.99752167, 40.72167246]}\n",
      "8 YankeeQueen69 : Heading back out to finish up my workout. Need extra workout after all the awesome food I ate at my… https://t.co/6bmVetvk9h AT {u'type': u'Point', u'coordinates': [-74.23712208, 40.77355043]}\n",
      "9 DiDDy915 : Huge food market in downtown Philadelphia. Saw it on man show and ate… https://t.co/z3m9wSm4mJ AT {u'type': u'Point', u'coordinates': [-75.15936984, 39.95332506]}\n"
     ]
    }
   ],
   "source": [
    "terms = \"'food poisoning' OR #foodpoisioning OR ate OR sick\"\n",
    "q=\"&geocode=40.79,73.95,10km&result_type=mixed\"\n",
    "search_kwargs = {\n",
    "      'term':terms,\n",
    "      #since_id:\n",
    "      #  Returns results with an ID greater than (that is, more recent\n",
    "      #  than) the specified ID. There are limits to the number of\n",
    "      #  Tweets which can be accessed through the API. If the limit of\n",
    "      #  Tweets has occurred since the since_id, the since_id will be\n",
    "      #  forced to the oldest ID available. [Optional]\n",
    "      #max_id:\n",
    "      #  Returns only statuses with an ID less than (that is, older\n",
    "      #  than) or equal to the specified ID. [Optional]\n",
    "      #until:\n",
    "      #  Returns tweets generated before the given date. Date should be\n",
    "      #  formatted as YYYY-MM-DD. [Optional]\n",
    "      'geocode':(40.7142700,-74.0059700, '100mi'),\n",
    "      'count':100, #not sure what this max is\n",
    "      'lang':'en',\n",
    "      'result_type':'mixed'#, #'recent', 'popular' or 'mixed'\n",
    "      #'include_entities':True\n",
    "    }\n",
    "search = api.GetSearch(**search_kwargs)\n",
    "if not search: print \"No Results\"\n",
    "else:\n",
    "    print search[0].__doc__\n",
    "for i, t in enumerate(search):\n",
    "    #if \"vomit\" in t.text: print 'FOUND VOMIT'\n",
    "    print \"%i %s : %s AT %s\" % (i, t.user.screen_name, t.text, t.coordinates)"
   ]
  },
  {
   "cell_type": "code",
   "execution_count": 61,
   "metadata": {
    "collapsed": false
   },
   "outputs": [
    {
     "name": "stdout",
     "output_type": "stream",
     "text": [
      "[u'Eating again. Shocker... My favorite place in Dallas \\n@AlBiernats \\n\\n#AlBiernatsSteakHouse http://t.co/5EbkDHhoCT', u'Tuddy &amp; I before we did some damage...\\n@rodneyrinks @AlBiernats \\n\\n#Dallas http://t.co/6ilyCyMjOa', u'@albiernats Your \"meatballs\" (ungodly circular roadkill) gave me such bad food poisoning I had to be hospitalized. #FUCKYOU', u'@albiernats \\U0001f4a9\\U0001f4a9\\U0001f4a9\\U0001f4a9\\U0001f4a9\\U0001f4a9\\U0001f4a9\\U0001f4a9\\U0001f4a9\\U0001f4a9\\U0001f4a9\\U0001f4a9\\U0001f4a9\\U0001f4a9\\U0001f4a9\\U0001f4a9\\U0001f4a9\\U0001f4a9\\U0001f4a9\\U0001f4a9\\U0001f614\\U0001f614\\U0001f614', u'RT @MarioLopezExtra: Tuddy &amp; I before we did some damage...\\n@rodneyrinks @AlBiernats \\n\\n#Dallas http://t.co/6ilyCyMjOa', u'RT @MarioLopezExtra: Eating again. Shocker... My favorite place in Dallas \\n@AlBiernats \\n\\n#AlBiernatsSteakHouse http://t.co/5EbkDHhoCT', u'RT @MarioLopezExtra: Tuddy &amp; I before we did some damage...\\n@rodneyrinks @AlBiernats \\n\\n#Dallas http://t.co/6ilyCyMjOa', u'RT @MarioLopezExtra: Eating again. Shocker... My favorite place in Dallas \\n@AlBiernats \\n\\n#AlBiernatsSteakHouse http://t.co/5EbkDHhoCT', u'@MarioLopezExtra @albiernats 11 minutes from my apartment \\U0001f62d\\U0001f62d\\U0001f62d\\U0001f62d', u'RT @MarioLopezExtra: Eating again. Shocker... My favorite place in Dallas \\n@AlBiernats \\n\\n#AlBiernatsSteakHouse http://t.co/5EbkDHhoCT', u'RT @MarioLopezExtra: Eating again. Shocker... My favorite place in Dallas \\n@AlBiernats \\n\\n#AlBiernatsSteakHouse http://t.co/5EbkDHhoCT', u'@MarioLopezExtra @albiernats Cutie :)', u'RT @MarioLopezExtra: Eating again. Shocker... My favorite place in Dallas \\n@AlBiernats \\n\\n#AlBiernatsSteakHouse http://t.co/5EbkDHhoCT', u'RT @MarioLopezExtra: Tuddy &amp; I before we did some damage...\\n@rodneyrinks @AlBiernats \\n\\n#Dallas http://t.co/6ilyCyMjOa', u'RT @MarioLopezExtra: Tuddy &amp; I before we did some damage...\\n@rodneyrinks @AlBiernats \\n\\n#Dallas http://t.co/6ilyCyMjOa']\n"
     ]
    }
   ],
   "source": [
    "print [t.text for t in api.GetSearch(term=\"@albiernats\")]"
   ]
  },
  {
   "cell_type": "code",
   "execution_count": null,
   "metadata": {
    "collapsed": true
   },
   "outputs": [],
   "source": []
  },
  {
   "cell_type": "markdown",
   "metadata": {},
   "source": [
    "### Local Twitter Data"
   ]
  },
  {
   "cell_type": "code",
   "execution_count": 1,
   "metadata": {
    "collapsed": false
   },
   "outputs": [
    {
     "name": "stdout",
     "output_type": "stream",
     "text": [
      "outbreaks_twitter_1427850504103.csv Tweet\n",
      "outbreaks_twitter_1427895365566.csv Tweet\n",
      "outbreaks_twitter_1427895452317.csv Tweet\n",
      "outbreaks_twitter_1427895480604.csv Tweet\n",
      "outbreaks_twitter_1427895619297.csv Tweet\n",
      "outbreaks_twitter_1427895642967.csv seeing you makes me sick to my stomach\n",
      "outbreaks_twitter_1427895644014.csv I'm shaking and my stomach feels sick from the nerves\n",
      "outbreaks_twitter_1427895692222.csv Tweet\n",
      "outbreaks_twitter_1427896803891.csv Tweet\n",
      "outbreaks_twitter_1427896821780.csv Food poisoning.....  Great...  Smh\n",
      "outbreaks_twitter_1427896822075.csv Just beat my personal record of amount of times thrown up in one day! Thank you food poisoning\n",
      "outbreaks_twitter_1427896823224.csv I probably shouldn't waist train the morning after food poisoning but it's whatever\n",
      "outbreaks_twitter_1427896825530.csv I honestly feel so sick to my stomach now\n",
      "outbreaks_twitter_1427896826405.csv Wow I love waking up at 6 AM to food poisoning\n",
      "outbreaks_twitter_1427896827734.csv I honestly don't know which is making me feel worse\n",
      "outbreaks_twitter_1427896828714.csv Stomach virus or food poisoning... My day today...\n",
      "outbreaks_twitter_1427896829386.csv Been out of school for 5 days had food poisoning from school lunch School never called to see if I was dead or alive ???? #highschoolproblems\n",
      "outbreaks_twitter_1427896830480.csv Sick. This stomach virus needs to end. (@ 189 Schermerhorn in Brooklyn\n",
      "outbreaks_twitter_1427896830667.csv Why am I sick off an empty stomach of antibiotics and gin??????????\n",
      "outbreaks_twitter_1427896831198.csv Food poisoning alone in my room. I miss my mom.\n",
      "outbreaks_twitter_1427896832834.csv I'm shaking and my stomach feels sick from the nerves\n",
      "outbreaks_twitter_1427896834354.csv seeing you makes me sick to my stomach\n",
      "outbreaks_twitter_1427896834902.csv Food poisoning is not a joke.\n",
      "outbreaks_twitter_1427896835011.csv It's amazing. The mere scent of liquor now makes me sick to my stomach.\n",
      "outbreaks_twitter_1427897395230.csv Tweet\n",
      "outbreaks_twitter_1427897413611.csv I'm shaking and my stomach feels sick from the nerves\n",
      "outbreaks_twitter_1427897596456.csv Tweet\n",
      "outbreaks_twitter_1427992541719.csv Tweet\n",
      "outbreaks_twitter_1427992608309.csv Tweet\n",
      "outbreaks_twitter_1427992669570.csv Tweet\n",
      "outbreaks_twitter_1427992994399.csv Tweet\n",
      "outbreaks_twitter_1427993858591.csv Tweet\n",
      "outbreaks_twitter_1427994193595.csv Tweet\n",
      "outbreaks_twitter_1427994213424.csv Tweet\n",
      "outbreaks_twitter_1427994241326.csv Tweet\n",
      "[META] Total found: 18, total unique: 15\n",
      "I honestly don't know which is making me feel worse\n",
      "Food poisoning is not a joke.\n",
      "Just beat my personal record of amount of times thrown up in one day! Thank you food poisoning\n",
      "I'm shaking and my stomach feels sick from the nerves\n",
      "Wow I love waking up at 6 AM to food poisoning\n",
      "Why am I sick off an empty stomach of antibiotics and gin??????????\n",
      "Sick. This stomach virus needs to end. (@ 189 Schermerhorn in Brooklyn\n",
      "seeing you makes me sick to my stomach\n",
      "Food poisoning alone in my room. I miss my mom.\n",
      "Been out of school for 5 days had food poisoning from school lunch School never called to see if I was dead or alive ???? #highschoolproblems\n",
      "I probably shouldn't waist train the morning after food poisoning but it's whatever\n",
      "I honestly feel so sick to my stomach now\n",
      "Food poisoning.....  Great...  Smh\n",
      "It's amazing. The mere scent of liquor now makes me sick to my stomach.\n",
      "Stomach virus or food poisoning... My day today...\n"
     ]
    }
   ],
   "source": [
    "import os\n",
    "files =  os.listdir('csv')\n",
    "\n",
    "found = []\n",
    "for fname in files:\n",
    "    if 'twitter' in fname:\n",
    "        tweet = open('csv/'+fname).readlines()[0].split(',')[3]\n",
    "        if not tweet == \"Tweet\": found.append( tweet )\n",
    "        print fname, tweet\n",
    "            \n",
    "print \"[META] Total found: %i, total unique: %i\" % (len(found), len(set(found)))\n",
    "uni = set(found)\n",
    "for t in uni: print t"
   ]
  },
  {
   "cell_type": "markdown",
   "metadata": {},
   "source": [
    "### Summary stats of Chicago Twitter Data"
   ]
  },
  {
   "cell_type": "code",
   "execution_count": 66,
   "metadata": {
    "collapsed": false
   },
   "outputs": [
    {
     "name": "stdout",
     "output_type": "stream",
     "text": [
      "Indices:  17 21 27\n",
      "85 135 4746\n",
      "Labeled examples: 220/4746 = 0.044301\n"
     ]
    }
   ],
   "source": [
    "chi = open('tom_dohmh/src/data/training/sources/labeled_chicago_tweets.csv').readlines()\n",
    "header = chi[0].split(',')\n",
    "#print header\n",
    "tw_i = header.index('text') +1\n",
    "label_i = header.index('rClass')+1\n",
    "label_j = header.index('manual_class\\n')+1\n",
    "print \"Indices: \", tw_i, label_i, label_j \n",
    "p = [] #positive example\n",
    "n = [] #negative example\n",
    "na = [] # no human label\n",
    "for row in chi[1:]:\n",
    "    row = row.split(',')\n",
    "    #print row[label_j]\n",
    "    if row[label_j].strip() == '1':\n",
    "        p.append( (unicode(row[tw_i], \"utf-8\"), 1) )\n",
    "        #print \"%s, %s, %s \" % (row[label_i].strip(), row[label_j].strip(), row[tw_i])\n",
    "        #print\n",
    "    elif row[label_j].strip() == '0': \n",
    "        n.append( (unicode(row[tw_i], \"utf-8\"), 0) )\n",
    "    else:\n",
    "        na.append(row)\n",
    "        \n",
    "print len(p), len(n), len(na)\n",
    "print\"Labeled examples: %i/%i = %f\" %( len(p+n), len(na), float(len(p+n))/len(na+p+n) )\n",
    "#print len(chi), len(p)+len(n)"
   ]
  },
  {
   "cell_type": "markdown",
   "metadata": {},
   "source": [
    "### Summary stats of DOHMH outbreak training twitter data"
   ]
  },
  {
   "cell_type": "code",
   "execution_count": 81,
   "metadata": {
    "collapsed": false
   },
   "outputs": [
    {
     "name": "stdout",
     "output_type": "stream",
     "text": [
      "72 117 189\n"
     ]
    }
   ],
   "source": [
    "doh = open('tom_dohmh/src/data/training/sources/labeled_dohmh_tweets.csv', 'rU').readlines() #conver \\r to \\n\n",
    "header = doh[0].split(',')\n",
    "#print header\n",
    "pos = []\n",
    "neg = []\n",
    "for row in doh[1:]:\n",
    "    row = row.split(',')\n",
    "    t = row[0]\n",
    "    l = row[1].strip()\n",
    "    if l.lower() == \"yes\":\n",
    "        pos.append((unicode(t, \"utf-8\"), 1) )\n",
    "    elif l.lower() == \"no\":\n",
    "        neg.append((unicode(t, \"utf-8\"), 0 ) )\n",
    "    else:\n",
    "        print \"nonuniform row:, \", [l.lower()]\n",
    "        \n",
    "print len(pos), len(neg), len(doh[1:])\n",
    "    #print t,l\n",
    "    #print l[tw_i]"
   ]
  },
  {
   "cell_type": "markdown",
   "metadata": {},
   "source": [
    "## Combine twitter data into one training source csv"
   ]
  },
  {
   "cell_type": "code",
   "execution_count": 94,
   "metadata": {
    "collapsed": false
   },
   "outputs": [
    {
     "name": "stdout",
     "output_type": "stream",
     "text": [
      "Total Unique Data: 395, num dups: 14\n",
      "Data Split: 157+, 238-\n"
     ]
    }
   ],
   "source": [
    "posl = p + pos\n",
    "negl = n + neg\n",
    "data = posl+negl\n",
    "print \"Total Unique Data: %i, num dups: %i\" % ( len(set(data)) ,len(data)-len(set(data)) )\n",
    "data = set(data)\n",
    "print \"Data Split: %i+, %i-\" % ( len([d for d in data if d[1]==1]),  len([d for d in data if d[1]==0]))"
   ]
  },
  {
   "cell_type": "code",
   "execution_count": 96,
   "metadata": {
    "collapsed": false
   },
   "outputs": [],
   "source": [
    "with open('tom_dohmh/src/data/training/sources/training_chi_dohmh_tweets.csv','w') as f:\n",
    "    s = 'tweet, food_poisoning'\n",
    "    f.write(s.encode(\"UTF-8\")+'\\n')\n",
    "    for d in data:\n",
    "        s = \"%s,%s\" % ( d[0], d[1]) \n",
    "        f.write(s.encode(\"UTF-8\")+'\\n')\n",
    "        \n",
    "    f.close()"
   ]
  },
  {
   "cell_type": "code",
   "execution_count": null,
   "metadata": {
    "collapsed": true
   },
   "outputs": [],
   "source": []
  },
  {
   "cell_type": "code",
   "execution_count": null,
   "metadata": {
    "collapsed": true
   },
   "outputs": [],
   "source": []
  },
  {
   "cell_type": "markdown",
   "metadata": {
    "collapsed": true
   },
   "source": []
  },
  {
   "cell_type": "raw",
   "metadata": {},
   "source": []
  },
  {
   "cell_type": "markdown",
   "metadata": {
    "collapsed": true
   },
   "source": [
    "### Search"
   ]
  },
  {
   "cell_type": "code",
   "execution_count": 30,
   "metadata": {
    "collapsed": true
   },
   "outputs": [],
   "source": [
    "consumer_key = twitter_config['consumer_key']\n",
    "consumer_secret = twitter_config['consumer_secret']\n",
    "access_token = twitter_config['access_token']\n",
    "access_token_secret = twitter_config['access_token_secret']"
   ]
  },
  {
   "cell_type": "code",
   "execution_count": 39,
   "metadata": {
    "collapsed": false
   },
   "outputs": [
    {
     "name": "stdout",
     "output_type": "stream",
     "text": [
      "@FanFFC tweeted: Would you eat this burger ? Looks like it give you food poisoning . http://t.co/JkABFAynt2, {u'type': u'Point', u'coordinates': [51.36077415, 0.02503394]}\n",
      "@DrJohnNHamblin tweeted: Last time I had Chinese food was in Feb w/ @DrLouJurva &amp; I was knocked out of pulpit 1 night w/food poisoning, so let's see what happens! ;), {u'type': u'Point', u'coordinates': [37.5276375, -82.5751134]}\n",
      "@moll_white tweeted: of course Chris goes and gets food poisoning, {u'type': u'Point', u'coordinates': [36.82344523, 28.24294913]}\n",
      "@DylDeGea tweeted: An 80 year old with food poisoning is better at holding runs that Walcott #WATARS, {u'type': u'Point', u'coordinates': [53.049003, -2.164803]}\n",
      "@alsfoodjournal tweeted: The cat is going crazy and I think I have food poisoning, {u'type': u'Point', u'coordinates': [34.12307675, -118.19478932]}\n",
      "@LukeSatoru tweeted: Sadly I had to cancel my tattoo appointments today cause of some gnarly food poisoning. Still feel… https://t.co/qWsGgxkYQ0, {u'type': u'Point', u'coordinates': [13.7417516, 100.5489096]}\n",
      "@kennywong tweeted: What a place and time to be down with tummy upset/food poisoning. Thank goodness for Khao Thoom :) https://t.co/JvmgyZVDW9, {u'type': u'Point', u'coordinates': [13.7409692, 100.5421114]}\n",
      "@FiaHaniey tweeted: Lain macam rasa nasi goreng tadi. Hmm aku pasghah jee kalau kena food poisoning nie, {u'type': u'Point', u'coordinates': [2.188032, 102.252364]}\n",
      "@teletextile tweeted: San Fran I'm going to pull through for you even with a sprained ankle and food poisoning. @ Bottom of… https://t.co/Oag5Hl8bfd, {u'type': u'Point', u'coordinates': [37.7649193, -122.3964081]}\n",
      "@sarawoz tweeted: @ClaireHenderson wait till you see the results on Monday 😀(unless I have food poisoning). Just waiting for tonight's #apprentice, {u'type': u'Point', u'coordinates': [53.05236299, -2.16036763]}\n",
      "@DirtyJanooskies tweeted: I bet u next he will get fucking food poisoning @danielsahyounie #DanielSahyouniesCookingShow, {u'type': u'Point', u'coordinates': [55.83112161, -4.36697042]}\n",
      "@muhammadhazmi tweeted: Food poisoning memeritkan, {u'type': u'Point', u'coordinates': [3.0697051, 101.4999669]}\n",
      "@FGMGuk tweeted: First workout of the week as I managed to give myself food poisoning! Feeling much better so got to… https://t.co/AKsOqTWlCD, {u'type': u'Point', u'coordinates': [52.56493857, 1.10690538]}\n",
      "@MichelleWong25 tweeted: Food poisoning yesterday. The feeling is so damn suffer. 😓, {u'type': u'Point', u'coordinates': [3.12820253, 101.72098535]}\n",
      "@wanderlustchron tweeted: Bedridden with food poisoning today so I'm stuck inside editing photos and vids. \n",
      "Local food is a… https://t.co/R5ThDNx8ZY, {u'type': u'Point', u'coordinates': [13.7522, 100.494]}\n",
      "@hppark15 tweeted: Wish I didn't have food poisoning on my birthday 😂😁, {u'type': u'Point', u'coordinates': [39.94427659, -105.02610388]}\n",
      "@mike_paskevic tweeted: Thanks to chipotle now I have food poisoning 😑, {u'type': u'Point', u'coordinates': [41.16498484, -96.17253182]}\n",
      "@BeccaZiska21 tweeted: \"Is food poisoning contagious?\" \n",
      "-@hannahweaverr, {u'type': u'Point', u'coordinates': [39.9372105, -83.8134244]}\n",
      "@istolemycarjodi tweeted: That shit gave me food poisoning TWICE they fuckin dirty, {u'type': u'Point', u'coordinates': [33.69533736, -84.35689317]}\n",
      "@courtney_santo tweeted: Tried to go fishing this morning. Combination of high seas and possible food poisoning by oyster kept… https://t.co/KndZNLZXUG, {u'type': u'Point', u'coordinates': [30.38446856, -86.46463631]}\n",
      "@ValdorFox tweeted: Game plan for Furpoc: Only eat provided food from the convention. Ordering take away caused so many con goers to have food poisoning lst yr., {u'type': u'Point', u'coordinates': [42.228889, -72.29304]}\n",
      "@ChoosingFigs tweeted: Rallying through food poisoning like a boss. http://t.co/sRcHz2NTUk, {u'type': u'Point', u'coordinates': [13.74648491, 100.52935349]}\n",
      "@JohnFerrell97 tweeted: Back day after a long weekend with what appeared to be food poisoning. I finally dragged myself back… https://t.co/rHdnPkAdhX, {u'type': u'Point', u'coordinates': [25.7470856, -80.3498001]}\n",
      "@CrazyJInMyWorld tweeted: Hold up my mother has food poisoning.. Like who is that mean to my mother, {u'type': u'Point', u'coordinates': [-22.54687139, 17.07342496]}\n",
      "@rafiqkhai tweeted: Food poisoning (@ Klinik Kesihatan Sg. Chua in Kajang, Selangor) https://t.co/ikSX8ZvUzD, {u'type': u'Point', u'coordinates': [2.98610134, 101.77178555]}\n",
      "@samnulton tweeted: Nothing like watching the replay of the Packer game in Bangkok to help get over food poisoning.… https://t.co/Qo7Lir5mM7, {u'type': u'Point', u'coordinates': [13.72199988, 100.52900827]}\n",
      "@kanerayn tweeted: The homemade granola brought me back to life after a serious case of food poisoning last night.… https://t.co/2b69WKnnpz, {u'type': u'Point', u'coordinates': [13.72893365, 100.56796746]}\n",
      "@bettykit tweeted: Back at #bettyfoodtour with @annacsimon after I fight off the evil food poisoning at #cafeselect… https://t.co/8BjbXRkqZb, {u'type': u'Point', u'coordinates': [40.72167246, -73.99752167]}\n",
      "@man33bch tweeted: \"@theSundaily: Nearly 100 MRSM students down with food poisoning | https://t.co/Bxw28v05iB\" jadi balik! Teringat #mrsmkuantan., {u'type': u'Point', u'coordinates': [3.325104, 101.5276826]}\n",
      "@ilka_semmler tweeted: Puerto Vallarta Open didn't go as planed, food poisoning is a bitch 😩😝 only taking home some nice… https://t.co/Agu9OOFk1C, {u'type': u'Point', u'coordinates': [20.6667, -105.267]}\n",
      "@adimarudi tweeted: Ni dah 16 kali keluar masuk toilet. Naik penat lubang dubur ni mengepam ngepem. Food poisoning ka?, {u'type': u'Point', u'coordinates': [1.5210261, 110.3515741]}\n",
      "@fiyrahzirah tweeted: Tak faham betul aku kat runah pun boleh food poisoning 😔 Orang lain tak kena pun 😪 Hmm manja sgt perut nie 😞, {u'type': u'Point', u'coordinates': [2.9308156, 101.3277962]}\n"
     ]
    }
   ],
   "source": [
    "# python-twitter search doesn;t seem to work well.  Let's try TwitterSearch\n",
    "from TwitterSearch import *\n",
    "try:\n",
    "    tso = TwitterSearchOrder() # create a TwitterSearchOrder object\n",
    "    tso.set_keywords(['food poisoning']) # let's define all words we would like to have a look for\n",
    "    #tso.set_language('en') # we want to see German tweets only\n",
    "    tso.set_include_entities(False) # and don't give us all those entity information\n",
    "    #tso.set_geocode(40.79, 73.95, 100, imperial_metric=True)\n",
    "    # it's about time to create a TwitterSearch object with our secret tokens\n",
    "    ts = TwitterSearch(\n",
    "        consumer_key = consumer_key,\n",
    "        consumer_secret = consumer_secret,\n",
    "        access_token = access_token,\n",
    "        access_token_secret = access_token_secret\n",
    "     )\n",
    "\n",
    "     # this is where the fun actually starts :)\n",
    "    for tweet in ts.search_tweets_iterable(tso):\n",
    "        if tweet['geo']:\n",
    "            print( '@%s tweeted: %s, %s' % ( tweet['user']['screen_name'], tweet['text'], tweet['geo'] ) )\n",
    "\n",
    "except TwitterSearchException as e: # take care of all those ugly errors if there are some\n",
    "    print(e)"
   ]
  },
  {
   "cell_type": "code",
   "execution_count": null,
   "metadata": {
    "collapsed": true
   },
   "outputs": [],
   "source": []
  }
 ],
 "metadata": {
  "kernelspec": {
   "display_name": "Python 2",
   "language": "python",
   "name": "python2"
  },
  "language_info": {
   "codemirror_mode": {
    "name": "ipython",
    "version": 2
   },
   "file_extension": ".py",
   "mimetype": "text/x-python",
   "name": "python",
   "nbconvert_exporter": "python",
   "pygments_lexer": "ipython2",
   "version": "2.7.10"
  }
 },
 "nbformat": 4,
 "nbformat_minor": 0
}
