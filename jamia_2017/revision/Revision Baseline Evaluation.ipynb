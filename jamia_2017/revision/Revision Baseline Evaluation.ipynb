{
 "cells": [
  {
   "cell_type": "markdown",
   "metadata": {},
   "source": [
    "# Selection Bias Correction\n",
    "\n",
    "Let $T(x)$ be the biased black-box selection process for labelling data at DOHMH.\n",
    "\n",
    "Let $U$ be the set of all Yelp Reviews that have been processed by the system.\n",
    "\n",
    "Let $B \\subset U$ s.t. $B = \\{(x,y) | T(x) = 1\\}$ and $B^c \\subseteq U \\setminus B$\n",
    "\n",
    "### Training: Error Rate\n",
    "\n",
    "We can model the error rate of some classifier $f$ as:\n",
    "\n",
    "$p(f(x) \\neq y) = \\Sigma_{t}{p( f(x) \\neq y | T(x) = t)p(T(x)=t)}$\n",
    "\n",
    "and use plugin estimates:\n",
    "\n",
    "$\\hat{p}(T(x) = 1) = \\frac{|B|}{|U|}$ (the % of labeled points)\n",
    "\n",
    "$\\hat{p}(f(x) \\neq y | T(x)=1) = \\frac{1}{|B|}\\Sigma_{(x,y) \\in B}{I[f(x) \\neq y]}$\n",
    "\n",
    "likewise,\n",
    "\n",
    "$\\hat{p}(f(x) \\neq y | T(x)=0) = \\frac{1}{|B^c|}\\Sigma_{(x,y) \\in B^c}{I[f(x) \\neq y]}$\n",
    "\n",
    "therefore\n",
    "\n",
    "$\\hat{p}(f(x) \\neq y) = w_B\\Sigma_{(x,y) \\in B}{I[f(x) \\neq y]} + w_{B^c}\\Sigma_{(x,y) \\in B^c}{I[f(x) \\neq y]}$\n",
    "\n",
    "where \n",
    "\n",
    "$w_B = \\frac{1}{|U|}$ and $w_{B^c} = (1 - \\frac{|B|}{|U|})(\\frac{1}{|B^c|})$\n",
    "\n",
    "Note that when $B^c$ is the entire complement of $B$, then $w_{B^c}$ reduces to $\\frac{1}{|U|}$\n",
    "\n",
    "So, if we are trying to minimize the classification error in the objective function (which cross entropy does) then these are the sample weights to be used when calculating the error\n",
    "\n",
    "### Testing: Area Under Precision-Recall Curve\n",
    "\n",
    "We will evaluate models using the AUPR metric, calculated empirically on the dev and test sets.\n",
    "\n",
    "This metric is appropriate because of the major positive-class imbalance in the dataset (estimated to be.7%).\n",
    "\n",
    "The tricky thing is that our measures of precision and recall need to also be importance weighted, and the importance weights for precision will vary as we vary the threshold.\n",
    "\n",
    "To see why, consider the probabilistic form of precision for some classifier $f$:\n",
    "\n",
    "#### Precision\n",
    "\n",
    "Let $U$ be the test set.\n",
    "\n",
    "$Precision = p(y=1|f(x)=1) = \\Sigma_{t}{p(y=1 | f(x)=1, T(x) = t)p(T(x)=t|f(x)=1)}$\n",
    "\n",
    "Let $U_P \\subset U$ be the set $\\{(x,y) | f(x) = 1\\}$. \n",
    "\n",
    "**Note** that $U_P$ varies with the classification threshold.\n",
    "\n",
    "Then as with the error rate, we can find plugin estimates for the necessary quanities.\n",
    "\n",
    "$\\hat{p}(T(x) = 1|f(x)=1) = \\frac{1}{|U_P|} \\Sigma_{(x,y) \\in B}{I[f(x)=1]} = \\frac{|B \\cap U_P|}{|U_P|}$\n",
    "\n",
    "and so $\\hat{p}(T(x) = 0|f(x)=1) = 1 - \\frac{|B \\cap U_P|}{|U_P|}$\n",
    "\n",
    "Also,\n",
    "\n",
    "$\\hat{p}(y=1|f(x)=1, T(x)=1) = \\frac{1}{|U_P|} \\Sigma_{(x,y) \\in B\\cap U_P}{I[y=1]} \n",
    " $\n",
    "\n",
    "and $\\hat{p}(y=1|f(x)=1, T(x)=0) = \\frac{1}{|U_P|} \\Sigma_{(x,y) \\in B^c\\cap U_P}{I[y=1]}$\n",
    "\n",
    "Therefore\n",
    "\n",
    "$Precision = \\frac{|B \\cap U_P|}{|U_P|} \\frac{1}{|U_P|} \\Sigma_{(x,y) \\in B\\cap U_P}{I[y=1]} \n",
    "+ (1 - \\frac{|B \\cap U_P|}{|U_P|})\\frac{1}{|U_P|} \\Sigma_{(x,y) \\in B^c\\cap U_P}{I[y=1]}$\n",
    "\n",
    "#### Recall\n",
    "\n",
    "The derivation for improtance-weighted (IW) recall follows similary to IW precision.\n",
    "\n",
    "$Recall = p(f(x)=1|y=1) = \\Sigma_{t}{p(f(x)=1| y=1, T(x) = t)p(T(x)=t|y=1)}$\n",
    "\n",
    "Let $U_R \\subset U$ be the set $\\{(x,y) | y = 1\\}$. \n",
    "\n",
    "**Note** that $U_R$ **does not** vary with the classification threshold.\n",
    "\n",
    "The plugin estimates are:\n",
    "\n",
    "$\\hat{p}(T(x) = 1|y=1) = \\frac{1}{|U_R|} \\Sigma_{(x,y) \\in B}{I[y=1]} = \\frac{|B \\cap U_R|}{|U_R|}$\n",
    "\n",
    "and so $\\hat{p}(T(x) = 0|y=1) = 1 - \\frac{|B \\cap U_R|}{|U_R|}$\n",
    "\n",
    "Also,\n",
    "\n",
    "$\\hat{p}(f(x)=1 |y=1, T(x)=1) = \\frac{1}{|U_R|} \\Sigma_{(x,y) \\in B\\cap U_R}{I[f(x)=1]}$\n",
    "\n",
    "and $\\hat{p}(f(x)=1|y=1, T(x)=0) = \\frac{1}{|U_R|} \\Sigma_{(x,y) \\in B^c\\cap U_R}{I[f(x)=1]}$\n",
    "\n",
    "plugging in we have\n",
    "\n",
    "$ Recall =  \\frac{|B \\cap U_R|}{|U_R|} \\frac{1}{|U_R|} \\Sigma_{(x,y) \\in B\\cap U_R}{I[f(x)=1]}\n",
    "+ (1 - \\frac{|B \\cap U_R|}{|U_R|}) \\frac{1}{|U_R|} \\Sigma_{(x,y) \\in B^c\\cap U_R}{I[f(x)=1]}$\n",
    "\n",
    "#### AUPR Curve\n",
    "\n",
    "Finally, using the above plugin estimates, we can balance data from both $B$ and (a sample from) $B^c$.  We can obtain a series of ordered Precision-Recall points $E = \\{(p,r,t)_i | r_i \\leq r_{i'}\\}$ by varying the classification threshold $t \\in [0,1]$ and then using trapezoidal integration to approximate the area under the Recall vs. Precision curve.\n",
    "\n",
    "#### Bootstrap\n",
    "\n",
    "For the final evaluation, we would like confidence intervals about the AUPR. We find these by using the percentile bootstrap:\n",
    "\n",
    "We calculate bootstrap statistics for the IW-AUPR as follows:\n",
    "\n",
    "First we calculate the test data IW-AUPR. Call this $\\bar{x}$.\n",
    "\n",
    "Then we resample the test dataset with replacement $B$ times and obtain the IW-AUPR estimates for each set.\n",
    "\n",
    "Call these $x_1, ...,  x_B$.\n",
    "\n",
    "Then we can compute confidence intervals around $\\bar{x}$ the usual way by finding the $\\alpha=.025$ boundary quantiles $\\delta_{\\alpha}, \\delta_{1-\\alpha}$, such that \n",
    "\n",
    "$$P(\\bar{x}^* - \\delta_{1-\\alpha} \\leq \\bar{x} \\leq \\bar{x}^* - \\delta_{\\alpha}) = .95$$"
   ]
  },
  {
   "cell_type": "markdown",
   "metadata": {},
   "source": [
    "# TODO\n",
    "\n",
    "* [X] Take the historical unbiased data and check if any of it is in the biased data. Replace all that are.\n",
    "* [X] Setup datasets from the two training regimes\n",
    "* [X] Preprocess datasets for the baselines (scikit models)\n",
    "* [X] Code up IW objective function for baselines\n",
    "* [X] Quick test training of baselines\n",
    "* [X] Code up the dev AUPR evaluation metric.\n",
    "* [X] Batch out 100 random search cross-validated hyperparam experiments for the RF, SVM, and LR baselines\n",
    "* [X] Implement the CNN\n",
    "* [X] Batch out 100 random search early-stopping hyperparam experiments for CNN\n",
    "* [X] Finish up the viz for chainer monitor\n",
    "* [ ] Implement the DyCNN\n",
    "* [ ] Redraft paper\n",
    "* [ ] Get official test results"
   ]
  },
  {
   "cell_type": "markdown",
   "metadata": {
    "collapsed": true
   },
   "source": [
    "## Official Test Results"
   ]
  },
  {
   "cell_type": "code",
   "execution_count": 1,
   "metadata": {
    "collapsed": true
   },
   "outputs": [],
   "source": [
    "%load_ext autoreload\n",
    "%autoreload 2"
   ]
  },
  {
   "cell_type": "code",
   "execution_count": 2,
   "metadata": {
    "collapsed": false
   },
   "outputs": [],
   "source": [
    "import time\n",
    "import itertools\n",
    "from pprint import pprint\n",
    "\n",
    "import numpy as np\n",
    "import numpy.random as npr\n",
    "import pandas as pd\n",
    "\n",
    "import matplotlib.pyplot as plt\n",
    "%matplotlib inline\n",
    "import seaborn as sb\n",
    "sb.set()"
   ]
  },
  {
   "cell_type": "code",
   "execution_count": 3,
   "metadata": {
    "collapsed": false
   },
   "outputs": [],
   "source": [
    "from experiments.baseline_experiment_util import calc_train_importance_weights\n",
    "from experiments.baseline_experiment_util import importance_weighted_precision_recall, importance_weighted_pr_curve\n",
    "from experiments.baseline_experiment_util import setup_baseline_data, area_under_pr_curve\n",
    "from sklearn.metrics import confusion_matrix"
   ]
  },
  {
   "cell_type": "code",
   "execution_count": 4,
   "metadata": {
    "collapsed": false
   },
   "outputs": [],
   "source": [
    "from experiments.lr_model import model as lr_model\n",
    "from experiments.rf_model import model as rf_model\n",
    "from experiments.svm_model import model as svm_model\n",
    "from sklearn.externals import joblib"
   ]
  },
  {
   "cell_type": "code",
   "execution_count": 5,
   "metadata": {
    "collapsed": false
   },
   "outputs": [
    {
     "name": "stderr",
     "output_type": "stream",
     "text": [
      "experiments/baseline_experiment_util.py:62: SettingWithCopyWarning: \n",
      "A value is trying to be set on a copy of a slice from a DataFrame.\n",
      "Try using .loc[row_indexer,col_indexer] = value instead\n",
      "\n",
      "See the caveats in the documentation: http://pandas.pydata.org/pandas-docs/stable/indexing.html#indexing-view-versus-copy\n",
      "  old_biased['is_foodborne'] = old_biased['is_foodborne'].map({'Yes':1, 'No':0})\n",
      "experiments/baseline_experiment_util.py:64: SettingWithCopyWarning: \n",
      "A value is trying to be set on a copy of a slice from a DataFrame.\n",
      "Try using .loc[row_indexer,col_indexer] = value instead\n",
      "\n",
      "See the caveats in the documentation: http://pandas.pydata.org/pandas-docs/stable/indexing.html#indexing-view-versus-copy\n",
      "  new_biased['is_foodborne'] = new_biased['is_foodborne'].map({'Yes':1, 'No':0})\n",
      "experiments/baseline_experiment_util.py:67: SettingWithCopyWarning: \n",
      "A value is trying to be set on a copy of a slice from a DataFrame.\n",
      "Try using .loc[row_indexer,col_indexer] = value instead\n",
      "\n",
      "See the caveats in the documentation: http://pandas.pydata.org/pandas-docs/stable/indexing.html#indexing-view-versus-copy\n",
      "  old_biased['is_multiple'] = old_biased['is_multiple'].map({'Yes':1, 'No':0})\n",
      "experiments/baseline_experiment_util.py:69: SettingWithCopyWarning: \n",
      "A value is trying to be set on a copy of a slice from a DataFrame.\n",
      "Try using .loc[row_indexer,col_indexer] = value instead\n",
      "\n",
      "See the caveats in the documentation: http://pandas.pydata.org/pandas-docs/stable/indexing.html#indexing-view-versus-copy\n",
      "  new_biased['is_multiple'] = new_biased['is_multiple'].map({'Yes':1, 'No':0})\n"
     ]
    }
   ],
   "source": [
    "biased_data = setup_baseline_data(data_path='data', train_regime='biased', test_regime='gold', random_seed=0)\n",
    "gold_data = setup_baseline_data(data_path='data', train_regime='gold', test_regime='gold', random_seed=0)\n",
    "silver_data = setup_baseline_data(data_path='data', train_regime='silver', test_regime='gold', random_seed=0)"
   ]
  },
  {
   "cell_type": "code",
   "execution_count": 50,
   "metadata": {
    "collapsed": false
   },
   "outputs": [],
   "source": [
    "# train setup\n",
    "biased_text = np.array(biased_data['train_data']['text'])\n",
    "biased_sick = np.array(biased_data['train_data']['is_foodborne'])\n",
    "biased_mult = np.array(biased_data['train_data']['is_multiple'])\n",
    "biased_weights = calc_train_importance_weights(biased_data['train_data']['is_biased'], biased_data['U'])\n",
    "\n",
    "gold_text = np.array(gold_data['train_data']['text'])\n",
    "gold_sick = np.array(gold_data['train_data']['is_foodborne'])\n",
    "gold_mult = np.array(gold_data['train_data']['is_multiple'])\n",
    "gold_weights = calc_train_importance_weights(gold_data['train_data']['is_biased'], gold_data['U'])\n",
    "\n",
    "silver_text = np.array(silver_data['train_data']['text'])\n",
    "silver_sick = np.array(silver_data['train_data']['is_foodborne'])\n",
    "silver_mult = np.array(silver_data['train_data']['is_multiple'])\n",
    "silver_weights = calc_train_importance_weights(silver_data['train_data']['is_biased'], silver_data['U'])\n",
    "\n",
    "# test setup\n",
    "test_data = gold_data['test_data']\n",
    "B = 1000 # number of bootstrap test set resamples\n",
    "random_seed = 0\n",
    "all_results = {}"
   ]
  },
  {
   "cell_type": "code",
   "execution_count": 7,
   "metadata": {
    "collapsed": false
   },
   "outputs": [],
   "source": [
    "def f1(precision, recall):\n",
    "    return 2.*precision*recall/(precision+recall+1e-15)\n",
    "\n",
    "def iw_bootstrap_score_ci(trues, preds, is_biased, scoring_func, \n",
    "                          B=1000, confidence_level=.99, \n",
    "                          random_seed=None,\n",
    "                          **scoring_func_kwds):\n",
    "    \"\"\" Compute a bootstrapped estimate of the importance weighted model score and stratified resampling.\n",
    "    \n",
    "    An intuitive and practical guide to bootstrap estimation:\n",
    "    https://ocw.mit.edu/courses/mathematics/18-05-introduction-to-probability-and-statistics-spring-2014/readings/MIT18_05S14_Reading24.pdf\n",
    "    \"\"\"\n",
    "    if random_seed: npr.seed(random_seed)\n",
    "    xbar = scoring_func(trues, preds, is_biased, **scoring_func_kwds)\n",
    "    samples = []\n",
    "    biased_idxs = np.argwhere(is_biased).ravel()\n",
    "    nonbiased_idxs = np.argwhere(~is_biased).ravel()\n",
    "    print\n",
    "    for i in range(B):\n",
    "        print '\\rB: {}/{}'.format(i,B),\n",
    "        if len(nonbiased_idxs):\n",
    "            sample = np.hstack([npr.choice(biased_idxs, len(biased_idxs)), \n",
    "                                npr.choice(nonbiased_idxs, len(nonbiased_idxs))])\n",
    "        else:\n",
    "            sample = npr.choice(biased_idxs, len(biased_idxs))\n",
    "        samples.append(scoring_func(trues[sample], preds[sample], is_biased[sample], **scoring_func_kwds))\n",
    "    diffs = [ xbar - xi for xi in samples]\n",
    "    alpha = (1. - confidence_level)/2.\n",
    "    ci_bottom = xbar - np.percentile(diffs, 100.*(1-alpha))\n",
    "    ci_top = xbar - np.percentile(diffs, 100.*alpha)\n",
    "    return xbar, ci_bottom, ci_top, samples\n",
    "\n",
    "def bootstrap_f1_ci(trues, preds, is_biased, random_seed=None, **bootstrap_kwds):\n",
    "    def scorer(trues, preds, is_biased):\n",
    "        p, r = importance_weighted_precision_recall(trues, preds, is_biased, threshold=.5)\n",
    "        return f1(p,r)\n",
    "    return iw_bootstrap_score_ci(trues, preds, is_biased, scorer,\n",
    "                              random_seed=random_seed,\n",
    "                              **bootstrap_kwds)\n",
    "\n",
    "def bootstrap_aupr_ci(trues, preds, is_biased, random_seed=None, **bootstrap_kwds):\n",
    "    def scorer(trues, preds, is_biased):\n",
    "        ps, rs, ts = importance_weighted_pr_curve(trues, preds, is_biased, n_thresholds=50)\n",
    "        return area_under_pr_curve(ps, rs)\n",
    "    return iw_bootstrap_score_ci(trues, preds, is_biased, scorer,\n",
    "                              random_seed=random_seed,\n",
    "                              **bootstrap_kwds)"
   ]
  },
  {
   "cell_type": "code",
   "execution_count": 8,
   "metadata": {
    "collapsed": false
   },
   "outputs": [],
   "source": [
    "def subplot_confusion_matrix(cm, classes, \n",
    "                             fig, ax,\n",
    "                             precision=None, recall=None, f1_ci=None,\n",
    "                             normalize=False,\n",
    "                             title='Confusion matrix',\n",
    "                             cmap=plt.cm.Blues):\n",
    "    \"\"\"\n",
    "    This function prints and plots the confusion matrix.\n",
    "    Normalization can be applied by setting `normalize=True`.\n",
    "    \n",
    "    Modified from http://scikit-learn.org/stable/auto_examples/model_selection/plot_confusion_matrix.html#sphx-glr-auto-examples-model-selection-plot-confusion-matrix-py\n",
    "    \"\"\"\n",
    "    im = ax.imshow(cm, interpolation='nearest', cmap=cmap)\n",
    "    ax.set_title(title)\n",
    "    fig.colorbar(im, ax=ax)\n",
    "    tick_marks = np.arange(len(classes))\n",
    "    ax.set_xticks(tick_marks)\n",
    "    ax.set_xticklabels(classes)\n",
    "    ax.set_yticks(tick_marks)\n",
    "    ax.set_yticklabels(classes)\n",
    "\n",
    "    if normalize:\n",
    "        cm = cm.astype('float') / cm.sum(axis=1)[:, np.newaxis]\n",
    "\n",
    "    thresh = cm.max() / 2.\n",
    "    for i, j in itertools.product(range(cm.shape[0]), range(cm.shape[1])):\n",
    "        ax.text(j, i, cm[i, j],\n",
    "                 horizontalalignment=\"center\",\n",
    "                 color=\"white\" if cm[i, j] > thresh else \"black\")\n",
    "\n",
    "    ax.set_ylabel('True label')\n",
    "    xlabel = 'Predicted label'\n",
    "    if (precision is not None) and (recall is not None):\n",
    "        xlabel += '\\nPrecision: {0:2.3f}, Recall: {1:2.3f}'.format(precision, recall)\n",
    "    if f1_ci is not None:\n",
    "        xlabel +='\\nF1: {0:2.3f}, CI:({1:2.3f}, {2:2.3f})'.format(*f1_ci)\n",
    "    ax.set_xlabel(xlabel)\n",
    "    ax.grid(False)\n",
    "\n",
    "def model_report(model, title, label_key, save_fname=None, test_data=test_data, **bootstrap_kwds):\n",
    "    y_trues = np.array(test_data[label_key])\n",
    "    is_biased = np.array(test_data['is_biased'])\n",
    "    y_preds = model.predict(test_data['text'])\n",
    "    y_pred_probs = model.predict_proba(test_data['text'])[:,1]\n",
    "    ps, rs, ts = importance_weighted_pr_curve(y_trues, y_pred_probs, is_biased)\n",
    "    aupr, aupr_ci_bottom, aupr_ci_top, samples = bootstrap_aupr_ci(y_trues, y_pred_probs, is_biased, **bootstrap_kwds)\n",
    "#     print '--- {} ---'.format(title)\n",
    "#     print '  Precision@.5, Recall@.5: {0:2.2f}, {1:2.2f}'.format(precision, recall)\n",
    "#     print '  AUPR: {0:2.2f}'.format(aupr)\n",
    "    fig, axs = plt.subplots(2,2, figsize=(8,8))\n",
    "    axs[0,0].plot(rs, ps, label='AUPR: {0:2.3f} CI=({1:2.3f}, {2:2.3f})'.format(aupr, aupr_ci_bottom, aupr_ci_top))\n",
    "    axs[0,0].set_title('Precision Recall Curve')\n",
    "    axs[0,0].set_xlabel('Recall')\n",
    "    axs[0,0].set_ylabel('Precision')\n",
    "    axs[0,0].legend(loc=8)\n",
    "    \n",
    "    # plot out cms for mixed, biased, and nonbiased\n",
    "    precision_m, recall_m = importance_weighted_precision_recall(y_trues, y_pred_probs, is_biased, .5)\n",
    "    f1_ci_m = bootstrap_f1_ci(y_trues, y_pred_probs, is_biased, **bootstrap_kwds)\n",
    "    cm = confusion_matrix(y_trues, y_preds)\n",
    "    subplot_confusion_matrix(cm, ['Not Sick', 'Sick'], fig, axs[0,1], \n",
    "                             title='Mixed Bias',\n",
    "                             precision=precision_m, recall=recall_m, f1_ci=f1_ci_m[:3])\n",
    "    # biased\n",
    "    precision_b, recall_b = importance_weighted_precision_recall(y_trues[is_biased], \n",
    "                                                             y_pred_probs[is_biased], \n",
    "                                                             is_biased[is_biased], .5)\n",
    "    f1_ci_b = bootstrap_f1_ci(y_trues[is_biased], y_pred_probs[is_biased], is_biased[is_biased], **bootstrap_kwds)\n",
    "    cm = confusion_matrix(y_trues[is_biased], y_preds[is_biased])\n",
    "    subplot_confusion_matrix(cm, ['Not Sick', 'Sick'], fig, axs[1,0], \n",
    "                             title='Biased',\n",
    "                             precision=precision_b, recall=recall_b, f1_ci=f1_ci_b[:3])\n",
    "    # nonbiased\n",
    "    # there is no point to reporting precision, recall here since there are no positives\n",
    "    # but we do it anyways in case the dataset were to change\n",
    "    precision, recall = importance_weighted_precision_recall(y_trues[~is_biased], \n",
    "                                                             y_pred_probs[~is_biased], \n",
    "                                                             is_biased[~is_biased], .5)\n",
    "#     f1_ci = bootstrap_f1_ci(y_trues[~is_biased], y_pred_probs[~is_biased], is_biased[~is_biased], **bootstrap_kwds)\n",
    "    cm = confusion_matrix(y_trues[~is_biased], y_preds[~is_biased])\n",
    "    subplot_confusion_matrix(cm, ['Not Sick', 'Sick'], fig, axs[1,1], \n",
    "                             title=\"Nonbiased (all No's)\",\n",
    "                             precision=precision, recall=recall)\n",
    "    \n",
    "    \n",
    "    \n",
    "    fig.suptitle(title + ' Test Report', fontsize=14)\n",
    "    fig.tight_layout()\n",
    "    fig.subplots_adjust(top=0.92)\n",
    "    if save_fname:\n",
    "        plt.savefig(save_fname+'_report.pdf')\n",
    "    \n",
    "    # also plot the bootstrap historgrams to make sure they look ok\n",
    "    fig2, axs2 = plt.subplots(1,3, figsize=(12,4))\n",
    "    axs2[0].hist(samples, bins=100)\n",
    "    axs2[0].axvline(aupr, color='red')\n",
    "    axs2[0].axvspan(aupr_ci_bottom, aupr_ci_top, alpha=.25, color='red')\n",
    "    axs2[0].set_title('AUPR Bootstrap')\n",
    "    axs2[1].hist(f1_ci_m[3], bins=100)\n",
    "    axs2[1].axvline(f1_ci_m[0], color='red')\n",
    "    axs2[1].axvspan(f1_ci_m[1], f1_ci_m[2], alpha=.25, color='red')\n",
    "    axs2[1].set_title('Mixed Bias F1 Boostrap')\n",
    "    axs2[2].hist(f1_ci_b[3], bins=100)\n",
    "    axs2[2].axvline(f1_ci_b[0], color='red')\n",
    "    axs2[2].axvspan(f1_ci_b[1], f1_ci_b[2], alpha=.25, color='red')\n",
    "    axs2[2].set_title('Biased F1 Boostrap')\n",
    "    fig2.suptitle(title + ' Bootstrap Histograms', fontsize=14)\n",
    "    fig2.tight_layout()\n",
    "    fig2.subplots_adjust(top=0.85)\n",
    "    if save_fname:\n",
    "        plt.savefig(save_fname+'_bootstrap_hists.pdf')\n",
    "        \n",
    "    return {\n",
    "        'aupr':aupr,\n",
    "        'aupr_ci':(aupr_ci_bottom, aupr_ci_top),\n",
    "        'aupr_samples':samples,\n",
    "        'mixed_precision':precision_m,\n",
    "        'mixed_recall':recall_m,\n",
    "        'mixed_f1':f1_ci_m[0],\n",
    "        'mixed_f1_ci':f1_ci_m[1:3],\n",
    "        'mixed_f1_samples':f1_ci_m[3],\n",
    "        'biased_precision':precision_b,\n",
    "        'biased_recall':recall_b,\n",
    "        'biased_f1':f1_ci_b[0],\n",
    "        'biased_f1_ci':f1_ci_b[1:3],\n",
    "        'biased_f1_samples':f1_ci_b[3]\n",
    "    }\n",
    "        \n",
    "def print_model_hyperparams(model, name):\n",
    "    useful_params = {k:v for k,v in model.get_params().items() if '__' in k}\n",
    "    print \"*** {} Hyperparameters ***\".format(name)\n",
    "    pprint(useful_params)"
   ]
  },
  {
   "cell_type": "markdown",
   "metadata": {},
   "source": [
    "## Sick Task"
   ]
  },
  {
   "cell_type": "markdown",
   "metadata": {},
   "source": [
    "Here are the notable stats for testing on the Sick task:\n",
    "* All the test data is from 1/1/2017 and later\n",
    "* It's about 2/3 biased and 1/3 nonbiased (1975 and 1000 reviews, respectively)\n",
    "* All 1000 nonbiased reviews are have `No` labels\n",
    "* The 1975 biased reviews are about 52% `Yes`/`No` (1026/949)"
   ]
  },
  {
   "cell_type": "code",
   "execution_count": 9,
   "metadata": {
    "collapsed": false
   },
   "outputs": [
    {
     "data": {
      "text/plain": [
       "0    2026\n",
       "1     949\n",
       "dtype: int64"
      ]
     },
     "execution_count": 9,
     "metadata": {},
     "output_type": "execute_result"
    }
   ],
   "source": [
    "pd.Series(test_data['is_foodborne']).value_counts(dropna=False)"
   ]
  },
  {
   "cell_type": "code",
   "execution_count": 10,
   "metadata": {
    "collapsed": false
   },
   "outputs": [
    {
     "data": {
      "text/plain": [
       "True     1975\n",
       "False    1000\n",
       "dtype: int64"
      ]
     },
     "execution_count": 10,
     "metadata": {},
     "output_type": "execute_result"
    }
   ],
   "source": [
    "pd.Series(test_data['is_biased']).value_counts(dropna=False)"
   ]
  },
  {
   "cell_type": "markdown",
   "metadata": {},
   "source": [
    "### Logistic Regression"
   ]
  },
  {
   "cell_type": "code",
   "execution_count": 11,
   "metadata": {
    "collapsed": false
   },
   "outputs": [
    {
     "name": "stderr",
     "output_type": "stream",
     "text": [
      "/Users/thomaseffland/.virtualenvs/research/lib/python2.7/site-packages/sklearn/base.py:315: UserWarning: Trying to unpickle estimator CountVectorizer from version 0.18.1 when using version 0.18.2. This might lead to breaking code or invalid results. Use at your own risk.\n",
      "  UserWarning)\n",
      "/Users/thomaseffland/.virtualenvs/research/lib/python2.7/site-packages/sklearn/base.py:315: UserWarning: Trying to unpickle estimator TfidfTransformer from version 0.18.1 when using version 0.18.2. This might lead to breaking code or invalid results. Use at your own risk.\n",
      "  UserWarning)\n",
      "/Users/thomaseffland/.virtualenvs/research/lib/python2.7/site-packages/sklearn/base.py:315: UserWarning: Trying to unpickle estimator LogisticRegression from version 0.18.1 when using version 0.18.2. This might lead to breaking code or invalid results. Use at your own risk.\n",
      "  UserWarning)\n",
      "/Users/thomaseffland/.virtualenvs/research/lib/python2.7/site-packages/sklearn/base.py:315: UserWarning: Trying to unpickle estimator Pipeline from version 0.18.1 when using version 0.18.2. This might lead to breaking code or invalid results. Use at your own risk.\n",
      "  UserWarning)\n"
     ]
    }
   ],
   "source": [
    "best_sick_lr_biased = joblib.load('experiments/best_models/best_lr_sick_biased.pkl')\n",
    "best_sick_lr_gold = joblib.load('experiments/best_models/best_lr_sick_gold.pkl')\n",
    "best_sick_lr_silver = joblib.load('experiments/best_models/best_lr_sick_silver.pkl')"
   ]
  },
  {
   "cell_type": "code",
   "execution_count": 12,
   "metadata": {
    "collapsed": false
   },
   "outputs": [
    {
     "data": {
      "text/plain": [
       "Pipeline(steps=[('count', CountVectorizer(analyzer=u'word', binary=False, decode_error=u'strict',\n",
       "        dtype=<type 'numpy.int64'>, encoding=u'utf-8', input=u'content',\n",
       "        lowercase=True, max_df=0.92876195959267271, max_features=None,\n",
       "        min_df=1, ngram_range=(1, 3), preprocessor=None, stop_words...ty='l2', random_state=None,\n",
       "          solver='liblinear', tol=0.0001, verbose=0, warm_start=False))])"
      ]
     },
     "execution_count": 12,
     "metadata": {},
     "output_type": "execute_result"
    }
   ],
   "source": [
    "best_sick_lr_biased.fit(biased_text, biased_sick, logreg__sample_weight=biased_weights)\n",
    "best_sick_lr_gold.fit(gold_text, gold_sick, logreg__sample_weight=gold_weights)\n",
    "best_sick_lr_silver.fit(silver_text, silver_sick, logreg__sample_weight=silver_weights)"
   ]
  },
  {
   "cell_type": "code",
   "execution_count": null,
   "metadata": {
    "collapsed": false
   },
   "outputs": [
    {
     "name": "stdout",
     "output_type": "stream",
     "text": [
      "\n",
      "B: 139/1000"
     ]
    }
   ],
   "source": [
    "start = time.time()\n",
    "title = 'Logistic Regression Sick Biased'\n",
    "all_results[title] = model_report(best_sick_lr_biased, title, 'is_foodborne',\n",
    "                                  save_fname='figures/sick_lr_biased',\n",
    "                                  B=B, random_seed=random_seed)\n",
    "print '{} seconds'.format(int(time.time()-start))"
   ]
  },
  {
   "cell_type": "code",
   "execution_count": null,
   "metadata": {
    "collapsed": false
   },
   "outputs": [],
   "source": [
    "start = time.time()\n",
    "title = 'Logistic Regression Sick Gold'\n",
    "all_results[title] = model_report(best_sick_lr_gold, title, 'is_foodborne', \n",
    "                                   save_fname='figures/sick_lr_gold',\n",
    "                                   B=B, random_seed=random_seed)\n",
    "print '{} seconds'.format(int(time.time()-start))"
   ]
  },
  {
   "cell_type": "code",
   "execution_count": null,
   "metadata": {
    "collapsed": false,
    "scrolled": false
   },
   "outputs": [],
   "source": [
    "start = time.time()\n",
    "title = 'Logistic Regression Sick Silver'\n",
    "all_results[title] = model_report(best_sick_lr_silver, title, 'is_foodborne', \n",
    "                       save_fname='figures/sick_lr_silver',\n",
    "                       B=B, random_seed=random_seed)\n",
    "print '{} seconds'.format(int(time.time()-start))"
   ]
  },
  {
   "cell_type": "code",
   "execution_count": 16,
   "metadata": {
    "collapsed": false,
    "scrolled": true
   },
   "outputs": [
    {
     "name": "stdout",
     "output_type": "stream",
     "text": [
      "*** Logistic Regression Sick Biased Hyperparameters ***\n",
      "{'count__analyzer': u'word',\n",
      " 'count__binary': False,\n",
      " 'count__decode_error': u'strict',\n",
      " 'count__dtype': <type 'numpy.int64'>,\n",
      " 'count__encoding': u'utf-8',\n",
      " 'count__input': u'content',\n",
      " 'count__lowercase': True,\n",
      " 'count__max_df': 0.84528542746895707,\n",
      " 'count__max_features': None,\n",
      " 'count__min_df': 1,\n",
      " 'count__ngram_range': (1, 3),\n",
      " 'count__preprocessor': None,\n",
      " 'count__stop_words': None,\n",
      " 'count__strip_accents': None,\n",
      " 'count__token_pattern': u'(?u)\\\\b\\\\w\\\\w+\\\\b',\n",
      " 'count__tokenizer': None,\n",
      " 'count__vocabulary': None,\n",
      " 'logreg__C': 1.0043849350273031,\n",
      " 'logreg__class_weight': None,\n",
      " 'logreg__dual': False,\n",
      " 'logreg__fit_intercept': True,\n",
      " 'logreg__intercept_scaling': 1,\n",
      " 'logreg__max_iter': 100,\n",
      " 'logreg__multi_class': 'ovr',\n",
      " 'logreg__n_jobs': 1,\n",
      " 'logreg__penalty': 'l2',\n",
      " 'logreg__random_state': None,\n",
      " 'logreg__solver': 'liblinear',\n",
      " 'logreg__tol': 0.0001,\n",
      " 'logreg__verbose': 0,\n",
      " 'logreg__warm_start': False,\n",
      " 'tfidf__norm': 'l2',\n",
      " 'tfidf__smooth_idf': True,\n",
      " 'tfidf__sublinear_tf': False,\n",
      " 'tfidf__use_idf': True}\n",
      "\n",
      "*** Logistic Regression Sick Gold Hyperparameters ***\n",
      "{'count__analyzer': u'word',\n",
      " 'count__binary': False,\n",
      " 'count__decode_error': u'strict',\n",
      " 'count__dtype': <type 'numpy.int64'>,\n",
      " 'count__encoding': u'utf-8',\n",
      " 'count__input': u'content',\n",
      " 'count__lowercase': True,\n",
      " 'count__max_df': 0.90323583246016548,\n",
      " 'count__max_features': None,\n",
      " 'count__min_df': 1,\n",
      " 'count__ngram_range': (1, 3),\n",
      " 'count__preprocessor': None,\n",
      " 'count__stop_words': None,\n",
      " 'count__strip_accents': None,\n",
      " 'count__token_pattern': u'(?u)\\\\b\\\\w\\\\w+\\\\b',\n",
      " 'count__tokenizer': None,\n",
      " 'count__vocabulary': None,\n",
      " 'logreg__C': 363.62695199335934,\n",
      " 'logreg__class_weight': None,\n",
      " 'logreg__dual': False,\n",
      " 'logreg__fit_intercept': True,\n",
      " 'logreg__intercept_scaling': 1,\n",
      " 'logreg__max_iter': 100,\n",
      " 'logreg__multi_class': 'ovr',\n",
      " 'logreg__n_jobs': 1,\n",
      " 'logreg__penalty': 'l1',\n",
      " 'logreg__random_state': None,\n",
      " 'logreg__solver': 'liblinear',\n",
      " 'logreg__tol': 0.0001,\n",
      " 'logreg__verbose': 0,\n",
      " 'logreg__warm_start': False,\n",
      " 'tfidf__norm': 'l2',\n",
      " 'tfidf__smooth_idf': True,\n",
      " 'tfidf__sublinear_tf': False,\n",
      " 'tfidf__use_idf': True}\n",
      "\n",
      "*** Logistic Regression Sick Silver Hyperparameters ***\n",
      "{'count__analyzer': u'word',\n",
      " 'count__binary': False,\n",
      " 'count__decode_error': u'strict',\n",
      " 'count__dtype': <type 'numpy.int64'>,\n",
      " 'count__encoding': u'utf-8',\n",
      " 'count__input': u'content',\n",
      " 'count__lowercase': True,\n",
      " 'count__max_df': 0.92876195959267271,\n",
      " 'count__max_features': None,\n",
      " 'count__min_df': 1,\n",
      " 'count__ngram_range': (1, 3),\n",
      " 'count__preprocessor': None,\n",
      " 'count__stop_words': None,\n",
      " 'count__strip_accents': None,\n",
      " 'count__token_pattern': u'(?u)\\\\b\\\\w\\\\w+\\\\b',\n",
      " 'count__tokenizer': None,\n",
      " 'count__vocabulary': None,\n",
      " 'logreg__C': 9.7498716797727401,\n",
      " 'logreg__class_weight': None,\n",
      " 'logreg__dual': False,\n",
      " 'logreg__fit_intercept': True,\n",
      " 'logreg__intercept_scaling': 1,\n",
      " 'logreg__max_iter': 100,\n",
      " 'logreg__multi_class': 'ovr',\n",
      " 'logreg__n_jobs': 1,\n",
      " 'logreg__penalty': 'l2',\n",
      " 'logreg__random_state': None,\n",
      " 'logreg__solver': 'liblinear',\n",
      " 'logreg__tol': 0.0001,\n",
      " 'logreg__verbose': 0,\n",
      " 'logreg__warm_start': False,\n",
      " 'tfidf__norm': None,\n",
      " 'tfidf__smooth_idf': True,\n",
      " 'tfidf__sublinear_tf': False,\n",
      " 'tfidf__use_idf': False}\n",
      "\n"
     ]
    }
   ],
   "source": [
    "print_model_hyperparams(best_sick_lr_biased, 'Logistic Regression Sick Biased')\n",
    "print\n",
    "print_model_hyperparams(best_sick_lr_gold, 'Logistic Regression Sick Gold')\n",
    "print\n",
    "print_model_hyperparams(best_sick_lr_silver, 'Logistic Regression Sick Silver')\n",
    "print"
   ]
  },
  {
   "cell_type": "markdown",
   "metadata": {},
   "source": [
    "### Random Forest"
   ]
  },
  {
   "cell_type": "code",
   "execution_count": 17,
   "metadata": {
    "collapsed": false
   },
   "outputs": [
    {
     "name": "stderr",
     "output_type": "stream",
     "text": [
      "/Users/thomaseffland/.virtualenvs/research/lib/python2.7/site-packages/sklearn/base.py:315: UserWarning: Trying to unpickle estimator CountVectorizer from version 0.18 when using version 0.18.2. This might lead to breaking code or invalid results. Use at your own risk.\n",
      "  UserWarning)\n",
      "/Users/thomaseffland/.virtualenvs/research/lib/python2.7/site-packages/sklearn/base.py:315: UserWarning: Trying to unpickle estimator TfidfTransformer from version 0.18 when using version 0.18.2. This might lead to breaking code or invalid results. Use at your own risk.\n",
      "  UserWarning)\n",
      "/Users/thomaseffland/.virtualenvs/research/lib/python2.7/site-packages/sklearn/base.py:315: UserWarning: Trying to unpickle estimator DecisionTreeClassifier from version 0.18 when using version 0.18.2. This might lead to breaking code or invalid results. Use at your own risk.\n",
      "  UserWarning)\n",
      "/Users/thomaseffland/.virtualenvs/research/lib/python2.7/site-packages/sklearn/base.py:315: UserWarning: Trying to unpickle estimator RandomForestClassifier from version 0.18 when using version 0.18.2. This might lead to breaking code or invalid results. Use at your own risk.\n",
      "  UserWarning)\n",
      "/Users/thomaseffland/.virtualenvs/research/lib/python2.7/site-packages/sklearn/base.py:315: UserWarning: Trying to unpickle estimator Pipeline from version 0.18 when using version 0.18.2. This might lead to breaking code or invalid results. Use at your own risk.\n",
      "  UserWarning)\n"
     ]
    }
   ],
   "source": [
    "best_sick_rf_biased = joblib.load('experiments/best_models/best_rf_sick_biased.pkl')\n",
    "best_sick_rf_gold = joblib.load('experiments/best_models/best_rf_sick_gold.pkl')\n",
    "best_sick_rf_silver = joblib.load('experiments/best_models/best_rf_sick_silver.pkl')"
   ]
  },
  {
   "cell_type": "code",
   "execution_count": 18,
   "metadata": {
    "collapsed": false
   },
   "outputs": [
    {
     "data": {
      "text/plain": [
       "Pipeline(steps=[('count', CountVectorizer(analyzer=u'word', binary=False, decode_error=u'strict',\n",
       "        dtype=<type 'numpy.int64'>, encoding=u'utf-8', input=u'content',\n",
       "        lowercase=True, max_df=0.79926139280934727, max_features=1000,\n",
       "        min_df=1, ngram_range=(1, 3), preprocessor=None, stop_words...estimators=134, n_jobs=4, oob_score=True, random_state=0,\n",
       "            verbose=0, warm_start=False))])"
      ]
     },
     "execution_count": 18,
     "metadata": {},
     "output_type": "execute_result"
    }
   ],
   "source": [
    "best_sick_rf_biased.fit(biased_text, biased_sick, rf__sample_weight=biased_weights)\n",
    "best_sick_rf_gold.fit(gold_text, gold_sick, rf__sample_weight=gold_weights)\n",
    "best_sick_rf_silver.fit(silver_text, silver_sick, rf__sample_weight=silver_weights)"
   ]
  },
  {
   "cell_type": "code",
   "execution_count": null,
   "metadata": {
    "collapsed": false
   },
   "outputs": [],
   "source": [
    "start = time.time()\n",
    "title = 'Random Forest Sick Biased'\n",
    "all_results[title] = model_report(best_sick_rf_biased, title, 'is_foodborne',\n",
    "                                   save_fname='figures/sick_rf_biased',\n",
    "                                   B=B, random_seed=random_seed)\n",
    "print '{} seconds'.format(int(time.time()-start))"
   ]
  },
  {
   "cell_type": "code",
   "execution_count": null,
   "metadata": {
    "collapsed": false
   },
   "outputs": [],
   "source": [
    "start = time.time()\n",
    "title = 'Random Forest Sick Gold'\n",
    "all_results[title] = model_report(best_sick_rf_gold, title, 'is_foodborne',\n",
    "                                   save_fname='figures/sick_rf_gold',\n",
    "                                   B=B, random_seed=random_seed)\n",
    "print '{} seconds'.format(int(time.time()-start))"
   ]
  },
  {
   "cell_type": "code",
   "execution_count": null,
   "metadata": {
    "collapsed": false,
    "scrolled": false
   },
   "outputs": [],
   "source": [
    "start = time.time()\n",
    "title = 'Random Forest Sick Silver'\n",
    "all_results[title] = model_report(best_sick_rf_silver, title, 'is_foodborne',\n",
    "                   save_fname='figures/sick_rf_silver',\n",
    "                   B=B, random_seed=random_seed)\n",
    "print '{} seconds'.format(int(time.time()-start))"
   ]
  },
  {
   "cell_type": "code",
   "execution_count": 22,
   "metadata": {
    "collapsed": false,
    "scrolled": true
   },
   "outputs": [
    {
     "name": "stdout",
     "output_type": "stream",
     "text": [
      "*** Random Forest Sick Biased Hyperparameters ***\n",
      "{'count__analyzer': u'word',\n",
      " 'count__binary': False,\n",
      " 'count__decode_error': u'strict',\n",
      " 'count__dtype': <type 'numpy.int64'>,\n",
      " 'count__encoding': u'utf-8',\n",
      " 'count__input': u'content',\n",
      " 'count__lowercase': True,\n",
      " 'count__max_df': 0.86314175655936753,\n",
      " 'count__max_features': 1000,\n",
      " 'count__min_df': 1,\n",
      " 'count__ngram_range': (1, 2),\n",
      " 'count__preprocessor': None,\n",
      " 'count__stop_words': None,\n",
      " 'count__strip_accents': None,\n",
      " 'count__token_pattern': u'(?u)\\\\b\\\\w\\\\w+\\\\b',\n",
      " 'count__tokenizer': None,\n",
      " 'count__vocabulary': None,\n",
      " 'rf__bootstrap': True,\n",
      " 'rf__class_weight': None,\n",
      " 'rf__criterion': 'gini',\n",
      " 'rf__max_depth': None,\n",
      " 'rf__max_features': 'sqrt',\n",
      " 'rf__max_leaf_nodes': None,\n",
      " 'rf__min_impurity_split': 1e-07,\n",
      " 'rf__min_samples_leaf': 1,\n",
      " 'rf__min_samples_split': 2,\n",
      " 'rf__min_weight_fraction_leaf': 0.0,\n",
      " 'rf__n_estimators': 192,\n",
      " 'rf__n_jobs': 4,\n",
      " 'rf__oob_score': True,\n",
      " 'rf__random_state': 0,\n",
      " 'rf__verbose': 0,\n",
      " 'rf__warm_start': False,\n",
      " 'tfidf__norm': 'l1',\n",
      " 'tfidf__smooth_idf': True,\n",
      " 'tfidf__sublinear_tf': False,\n",
      " 'tfidf__use_idf': True}\n",
      "\n",
      "*** Random Forest Sick Gold Hyperparameters ***\n",
      "{'count__analyzer': u'word',\n",
      " 'count__binary': False,\n",
      " 'count__decode_error': u'strict',\n",
      " 'count__dtype': <type 'numpy.int64'>,\n",
      " 'count__encoding': u'utf-8',\n",
      " 'count__input': u'content',\n",
      " 'count__lowercase': True,\n",
      " 'count__max_df': 0.9368966695653862,\n",
      " 'count__max_features': 1000,\n",
      " 'count__min_df': 1,\n",
      " 'count__ngram_range': (1, 2),\n",
      " 'count__preprocessor': None,\n",
      " 'count__stop_words': None,\n",
      " 'count__strip_accents': None,\n",
      " 'count__token_pattern': u'(?u)\\\\b\\\\w\\\\w+\\\\b',\n",
      " 'count__tokenizer': None,\n",
      " 'count__vocabulary': None,\n",
      " 'rf__bootstrap': True,\n",
      " 'rf__class_weight': None,\n",
      " 'rf__criterion': 'gini',\n",
      " 'rf__max_depth': None,\n",
      " 'rf__max_features': 'sqrt',\n",
      " 'rf__max_leaf_nodes': None,\n",
      " 'rf__min_impurity_split': 1e-07,\n",
      " 'rf__min_samples_leaf': 1,\n",
      " 'rf__min_samples_split': 2,\n",
      " 'rf__min_weight_fraction_leaf': 0.0,\n",
      " 'rf__n_estimators': 156,\n",
      " 'rf__n_jobs': 1,\n",
      " 'rf__oob_score': True,\n",
      " 'rf__random_state': 0,\n",
      " 'rf__verbose': 0,\n",
      " 'rf__warm_start': False,\n",
      " 'tfidf__norm': 'l1',\n",
      " 'tfidf__smooth_idf': True,\n",
      " 'tfidf__sublinear_tf': False,\n",
      " 'tfidf__use_idf': True}\n",
      "\n",
      "*** Random Forest Sick Silver Hyperparameters ***\n",
      "{'count__analyzer': u'word',\n",
      " 'count__binary': False,\n",
      " 'count__decode_error': u'strict',\n",
      " 'count__dtype': <type 'numpy.int64'>,\n",
      " 'count__encoding': u'utf-8',\n",
      " 'count__input': u'content',\n",
      " 'count__lowercase': True,\n",
      " 'count__max_df': 0.79926139280934727,\n",
      " 'count__max_features': 1000,\n",
      " 'count__min_df': 1,\n",
      " 'count__ngram_range': (1, 3),\n",
      " 'count__preprocessor': None,\n",
      " 'count__stop_words': None,\n",
      " 'count__strip_accents': None,\n",
      " 'count__token_pattern': u'(?u)\\\\b\\\\w\\\\w+\\\\b',\n",
      " 'count__tokenizer': None,\n",
      " 'count__vocabulary': None,\n",
      " 'rf__bootstrap': True,\n",
      " 'rf__class_weight': None,\n",
      " 'rf__criterion': 'gini',\n",
      " 'rf__max_depth': None,\n",
      " 'rf__max_features': 'sqrt',\n",
      " 'rf__max_leaf_nodes': None,\n",
      " 'rf__min_impurity_split': 1e-07,\n",
      " 'rf__min_samples_leaf': 1,\n",
      " 'rf__min_samples_split': 2,\n",
      " 'rf__min_weight_fraction_leaf': 0.0,\n",
      " 'rf__n_estimators': 134,\n",
      " 'rf__n_jobs': 4,\n",
      " 'rf__oob_score': True,\n",
      " 'rf__random_state': 0,\n",
      " 'rf__verbose': 0,\n",
      " 'rf__warm_start': False,\n",
      " 'tfidf__norm': 'l2',\n",
      " 'tfidf__smooth_idf': True,\n",
      " 'tfidf__sublinear_tf': False,\n",
      " 'tfidf__use_idf': False}\n",
      "\n"
     ]
    }
   ],
   "source": [
    "print_model_hyperparams(best_sick_rf_biased, 'Random Forest Sick Biased')\n",
    "print\n",
    "print_model_hyperparams(best_sick_rf_gold, 'Random Forest Sick Gold')\n",
    "print\n",
    "print_model_hyperparams(best_sick_rf_silver, 'Random Forest Sick Silver')\n",
    "print"
   ]
  },
  {
   "cell_type": "markdown",
   "metadata": {},
   "source": [
    "### SVM"
   ]
  },
  {
   "cell_type": "code",
   "execution_count": 23,
   "metadata": {
    "collapsed": false
   },
   "outputs": [],
   "source": [
    "best_sick_svm_biased = joblib.load('experiments/best_models/best_svm_sick_biased.pkl')\n",
    "best_sick_svm_gold = joblib.load('experiments/best_models/best_svm_sick_gold.pkl')\n",
    "best_sick_svm_silver = joblib.load('experiments/best_models/best_svm_sick_silver.pkl')"
   ]
  },
  {
   "cell_type": "code",
   "execution_count": 24,
   "metadata": {
    "collapsed": false
   },
   "outputs": [
    {
     "data": {
      "text/plain": [
       "Pipeline(steps=[('count', CountVectorizer(analyzer=u'word', binary=False, decode_error=u'strict',\n",
       "        dtype=<type 'numpy.int64'>, encoding=u'utf-8', input=u'content',\n",
       "        lowercase=True, max_df=0.86862870075359322, max_features=None,\n",
       "        min_df=1, ngram_range=(1, 2), preprocessor=None, stop_words...',\n",
       "  max_iter=-1, probability=True, random_state=None, shrinking=True,\n",
       "  tol=0.001, verbose=False))])"
      ]
     },
     "execution_count": 24,
     "metadata": {},
     "output_type": "execute_result"
    }
   ],
   "source": [
    "best_sick_svm_biased.fit(biased_text, biased_sick, svc__sample_weight=biased_weights)\n",
    "best_sick_svm_gold.fit(gold_text, gold_sick, svc__sample_weight=gold_weights)\n",
    "best_sick_svm_silver.fit(silver_text, silver_sick, svc__sample_weight=silver_weights)"
   ]
  },
  {
   "cell_type": "code",
   "execution_count": null,
   "metadata": {
    "collapsed": false
   },
   "outputs": [],
   "source": [
    "start = time.time()\n",
    "title = 'SVM Sick Biased'\n",
    "all_results[title] = model_report(best_sick_svm_biased, title, 'is_foodborne',\n",
    "                   save_fname='figures/sick_svm_biased',\n",
    "                   B=B, random_seed=random_seed)\n",
    "print '{} seconds'.format(int(time.time()-start))"
   ]
  },
  {
   "cell_type": "code",
   "execution_count": null,
   "metadata": {
    "collapsed": false
   },
   "outputs": [],
   "source": [
    "start = time.time()\n",
    "title = 'SVM Sick Gold'\n",
    "all_results[title] = model_report(best_sick_svm_gold, title, 'is_foodborne',\n",
    "                   save_fname='figures/sick_svm_gold',\n",
    "                   B=B, random_seed=random_seed)\n",
    "print '{} seconds'.format(int(time.time()-start))"
   ]
  },
  {
   "cell_type": "code",
   "execution_count": null,
   "metadata": {
    "collapsed": false,
    "scrolled": false
   },
   "outputs": [],
   "source": [
    "start = time.time()\n",
    "title = 'SVM Sick Silver'\n",
    "all_results[title] = model_report(best_sick_svm_silver, title, 'is_foodborne',\n",
    "                   save_fname='figures/sick_svm_silver',\n",
    "                   B=B, random_seed=random_seed)\n",
    "print '{} seconds'.format(int(time.time()-start))"
   ]
  },
  {
   "cell_type": "code",
   "execution_count": 28,
   "metadata": {
    "collapsed": false,
    "scrolled": true
   },
   "outputs": [
    {
     "name": "stdout",
     "output_type": "stream",
     "text": [
      "*** SVM Sick Biased Hyperparameters ***\n",
      "{'count__analyzer': u'word',\n",
      " 'count__binary': False,\n",
      " 'count__decode_error': u'strict',\n",
      " 'count__dtype': <type 'numpy.int64'>,\n",
      " 'count__encoding': u'utf-8',\n",
      " 'count__input': u'content',\n",
      " 'count__lowercase': True,\n",
      " 'count__max_df': 0.81119879980332688,\n",
      " 'count__max_features': None,\n",
      " 'count__min_df': 1,\n",
      " 'count__ngram_range': (1, 2),\n",
      " 'count__preprocessor': None,\n",
      " 'count__stop_words': None,\n",
      " 'count__strip_accents': None,\n",
      " 'count__token_pattern': u'(?u)\\\\b\\\\w\\\\w+\\\\b',\n",
      " 'count__tokenizer': None,\n",
      " 'count__vocabulary': None,\n",
      " 'svc__C': 1.0712799833880016,\n",
      " 'svc__cache_size': 200,\n",
      " 'svc__class_weight': None,\n",
      " 'svc__coef0': 0.0,\n",
      " 'svc__decision_function_shape': None,\n",
      " 'svc__degree': 3,\n",
      " 'svc__gamma': 'auto',\n",
      " 'svc__kernel': 'linear',\n",
      " 'svc__max_iter': -1,\n",
      " 'svc__probability': True,\n",
      " 'svc__random_state': None,\n",
      " 'svc__shrinking': True,\n",
      " 'svc__tol': 0.001,\n",
      " 'svc__verbose': False,\n",
      " 'tfidf__norm': None,\n",
      " 'tfidf__smooth_idf': True,\n",
      " 'tfidf__sublinear_tf': False,\n",
      " 'tfidf__use_idf': True}\n",
      "\n",
      "*** SVM Sick Gold Hyperparameters ***\n",
      "{'count__analyzer': u'word',\n",
      " 'count__binary': False,\n",
      " 'count__decode_error': u'strict',\n",
      " 'count__dtype': <type 'numpy.int64'>,\n",
      " 'count__encoding': u'utf-8',\n",
      " 'count__input': u'content',\n",
      " 'count__lowercase': True,\n",
      " 'count__max_df': 0.81066358134332872,\n",
      " 'count__max_features': None,\n",
      " 'count__min_df': 1,\n",
      " 'count__ngram_range': (1, 3),\n",
      " 'count__preprocessor': None,\n",
      " 'count__stop_words': None,\n",
      " 'count__strip_accents': None,\n",
      " 'count__token_pattern': u'(?u)\\\\b\\\\w\\\\w+\\\\b',\n",
      " 'count__tokenizer': None,\n",
      " 'count__vocabulary': None,\n",
      " 'svc__C': 0.86038626608788882,\n",
      " 'svc__cache_size': 200,\n",
      " 'svc__class_weight': None,\n",
      " 'svc__coef0': 0.0,\n",
      " 'svc__decision_function_shape': None,\n",
      " 'svc__degree': 3,\n",
      " 'svc__gamma': 'auto',\n",
      " 'svc__kernel': 'linear',\n",
      " 'svc__max_iter': -1,\n",
      " 'svc__probability': True,\n",
      " 'svc__random_state': None,\n",
      " 'svc__shrinking': True,\n",
      " 'svc__tol': 0.001,\n",
      " 'svc__verbose': False,\n",
      " 'tfidf__norm': None,\n",
      " 'tfidf__smooth_idf': True,\n",
      " 'tfidf__sublinear_tf': False,\n",
      " 'tfidf__use_idf': True}\n",
      "\n",
      "*** SVM Sick Silver Hyperparameters ***\n",
      "{'count__analyzer': u'word',\n",
      " 'count__binary': False,\n",
      " 'count__decode_error': u'strict',\n",
      " 'count__dtype': <type 'numpy.int64'>,\n",
      " 'count__encoding': u'utf-8',\n",
      " 'count__input': u'content',\n",
      " 'count__lowercase': True,\n",
      " 'count__max_df': 0.86862870075359322,\n",
      " 'count__max_features': None,\n",
      " 'count__min_df': 1,\n",
      " 'count__ngram_range': (1, 2),\n",
      " 'count__preprocessor': None,\n",
      " 'count__stop_words': None,\n",
      " 'count__strip_accents': None,\n",
      " 'count__token_pattern': u'(?u)\\\\b\\\\w\\\\w+\\\\b',\n",
      " 'count__tokenizer': None,\n",
      " 'count__vocabulary': None,\n",
      " 'svc__C': 2.7067194537909298,\n",
      " 'svc__cache_size': 200,\n",
      " 'svc__class_weight': None,\n",
      " 'svc__coef0': 0.0,\n",
      " 'svc__decision_function_shape': None,\n",
      " 'svc__degree': 3,\n",
      " 'svc__gamma': 'auto',\n",
      " 'svc__kernel': 'rbf',\n",
      " 'svc__max_iter': -1,\n",
      " 'svc__probability': True,\n",
      " 'svc__random_state': None,\n",
      " 'svc__shrinking': True,\n",
      " 'svc__tol': 0.001,\n",
      " 'svc__verbose': False,\n",
      " 'tfidf__norm': 'l2',\n",
      " 'tfidf__smooth_idf': True,\n",
      " 'tfidf__sublinear_tf': False,\n",
      " 'tfidf__use_idf': False}\n",
      "\n"
     ]
    }
   ],
   "source": [
    "print_model_hyperparams(best_sick_svm_biased, 'SVM Sick Biased')\n",
    "print\n",
    "print_model_hyperparams(best_sick_svm_gold, 'SVM Sick Gold')\n",
    "print\n",
    "print_model_hyperparams(best_sick_svm_silver, 'SVM Sick Silver')\n",
    "print"
   ]
  },
  {
   "cell_type": "markdown",
   "metadata": {},
   "source": [
    "## Multiple Task"
   ]
  },
  {
   "cell_type": "markdown",
   "metadata": {},
   "source": [
    "Here are the notable stats for testing on the Multple task:\n",
    "* All the test data is from 1/1/2017 and later\n",
    "* It's about 2/3 biased and 1/3 nonbiased (1975 and 1000 reviews, respectively)\n",
    "* All 1000 nonbiased reviews all have `No` labels\n",
    "* The 1975 biased reviews are about 14% `Yes` (277 `Yes`, 1698 `No`)"
   ]
  },
  {
   "cell_type": "code",
   "execution_count": 29,
   "metadata": {
    "collapsed": false
   },
   "outputs": [
    {
     "data": {
      "text/plain": [
       "0    2698\n",
       "1     277\n",
       "dtype: int64"
      ]
     },
     "execution_count": 29,
     "metadata": {},
     "output_type": "execute_result"
    }
   ],
   "source": [
    "pd.Series(test_data['is_multiple']).value_counts(dropna=False)"
   ]
  },
  {
   "cell_type": "markdown",
   "metadata": {},
   "source": [
    "### Logistic Regression"
   ]
  },
  {
   "cell_type": "code",
   "execution_count": 30,
   "metadata": {
    "collapsed": true
   },
   "outputs": [],
   "source": [
    "best_mult_lr_biased = joblib.load('experiments/best_models/best_lr_mult_biased.pkl')\n",
    "best_mult_lr_gold = joblib.load('experiments/best_models/best_lr_mult_gold.pkl')\n",
    "best_mult_lr_silver = joblib.load('experiments/best_models/best_lr_mult_silver.pkl')"
   ]
  },
  {
   "cell_type": "code",
   "execution_count": 32,
   "metadata": {
    "collapsed": false
   },
   "outputs": [
    {
     "data": {
      "text/plain": [
       "Pipeline(steps=[('count', CountVectorizer(analyzer=u'word', binary=False, decode_error=u'strict',\n",
       "        dtype=<type 'numpy.int64'>, encoding=u'utf-8', input=u'content',\n",
       "        lowercase=True, max_df=0.8181949574949251, max_features=None,\n",
       "        min_df=1, ngram_range=(1, 2), preprocessor=None, stop_words=...ty='l2', random_state=None,\n",
       "          solver='liblinear', tol=0.0001, verbose=0, warm_start=False))])"
      ]
     },
     "execution_count": 32,
     "metadata": {},
     "output_type": "execute_result"
    }
   ],
   "source": [
    "best_mult_lr_biased.fit(biased_text, biased_mult, logreg__sample_weight=biased_weights)\n",
    "best_mult_lr_gold.fit(gold_text, gold_mult, logreg__sample_weight=gold_weights)\n",
    "best_mult_lr_silver.fit(silver_text, silver_mult, logreg__sample_weight=silver_weights)"
   ]
  },
  {
   "cell_type": "code",
   "execution_count": null,
   "metadata": {
    "collapsed": false
   },
   "outputs": [],
   "source": [
    "start = time.time()\n",
    "title = 'Logistic Regression Mult Biased'\n",
    "all_results[title] = model_report(best_mult_lr_biased, title, 'is_multiple',\n",
    "                   save_fname='figures/mult_lr_biased',\n",
    "                   B=B, random_seed=random_seed)\n",
    "print '{} seconds'.format(int(time.time()-start))"
   ]
  },
  {
   "cell_type": "code",
   "execution_count": null,
   "metadata": {
    "collapsed": false
   },
   "outputs": [],
   "source": [
    "start = time.time()\n",
    "title = 'Logistic Regression Mult Gold'\n",
    "all_results[title] = model_report(best_mult_lr_gold, title, 'is_multiple',\n",
    "                   save_fname='figures/mult_lr_gold',\n",
    "                   B=B, random_seed=random_seed)\n",
    "print '{} seconds'.format(int(time.time()-start))"
   ]
  },
  {
   "cell_type": "code",
   "execution_count": null,
   "metadata": {
    "collapsed": false,
    "scrolled": false
   },
   "outputs": [],
   "source": [
    "start = time.time()\n",
    "title = 'Logistic Regression Mult Silver'\n",
    "all_results[title] = model_report(best_mult_lr_silver, title, 'is_multiple',\n",
    "                   save_fname='figures/mult_lr_silver',\n",
    "                   B=B, random_seed=random_seed)\n",
    "print '{} seconds'.format(int(time.time()-start))"
   ]
  },
  {
   "cell_type": "code",
   "execution_count": 36,
   "metadata": {
    "collapsed": false,
    "scrolled": true
   },
   "outputs": [
    {
     "name": "stdout",
     "output_type": "stream",
     "text": [
      "*** Logistic Regression Mult Biased Hyperparameters ***\n",
      "{'count__analyzer': u'word',\n",
      " 'count__binary': False,\n",
      " 'count__decode_error': u'strict',\n",
      " 'count__dtype': <type 'numpy.int64'>,\n",
      " 'count__encoding': u'utf-8',\n",
      " 'count__input': u'content',\n",
      " 'count__lowercase': True,\n",
      " 'count__max_df': 0.89510489382036751,\n",
      " 'count__max_features': None,\n",
      " 'count__min_df': 1,\n",
      " 'count__ngram_range': (1, 3),\n",
      " 'count__preprocessor': None,\n",
      " 'count__stop_words': None,\n",
      " 'count__strip_accents': None,\n",
      " 'count__token_pattern': u'(?u)\\\\b\\\\w\\\\w+\\\\b',\n",
      " 'count__tokenizer': None,\n",
      " 'count__vocabulary': None,\n",
      " 'logreg__C': 16.866411904124611,\n",
      " 'logreg__class_weight': None,\n",
      " 'logreg__dual': False,\n",
      " 'logreg__fit_intercept': True,\n",
      " 'logreg__intercept_scaling': 1,\n",
      " 'logreg__max_iter': 100,\n",
      " 'logreg__multi_class': 'ovr',\n",
      " 'logreg__n_jobs': 1,\n",
      " 'logreg__penalty': 'l2',\n",
      " 'logreg__random_state': None,\n",
      " 'logreg__solver': 'liblinear',\n",
      " 'logreg__tol': 0.0001,\n",
      " 'logreg__verbose': 0,\n",
      " 'logreg__warm_start': False,\n",
      " 'tfidf__norm': 'l2',\n",
      " 'tfidf__smooth_idf': True,\n",
      " 'tfidf__sublinear_tf': False,\n",
      " 'tfidf__use_idf': True}\n",
      "\n",
      "*** Logistic Regression Mult Gold Hyperparameters ***\n",
      "{'count__analyzer': u'word',\n",
      " 'count__binary': False,\n",
      " 'count__decode_error': u'strict',\n",
      " 'count__dtype': <type 'numpy.int64'>,\n",
      " 'count__encoding': u'utf-8',\n",
      " 'count__input': u'content',\n",
      " 'count__lowercase': True,\n",
      " 'count__max_df': 0.81993982636775786,\n",
      " 'count__max_features': None,\n",
      " 'count__min_df': 1,\n",
      " 'count__ngram_range': (1, 2),\n",
      " 'count__preprocessor': None,\n",
      " 'count__stop_words': None,\n",
      " 'count__strip_accents': None,\n",
      " 'count__token_pattern': u'(?u)\\\\b\\\\w\\\\w+\\\\b',\n",
      " 'count__tokenizer': None,\n",
      " 'count__vocabulary': None,\n",
      " 'logreg__C': 4409.2470847914083,\n",
      " 'logreg__class_weight': None,\n",
      " 'logreg__dual': False,\n",
      " 'logreg__fit_intercept': True,\n",
      " 'logreg__intercept_scaling': 1,\n",
      " 'logreg__max_iter': 100,\n",
      " 'logreg__multi_class': 'ovr',\n",
      " 'logreg__n_jobs': 1,\n",
      " 'logreg__penalty': 'l2',\n",
      " 'logreg__random_state': None,\n",
      " 'logreg__solver': 'liblinear',\n",
      " 'logreg__tol': 0.0001,\n",
      " 'logreg__verbose': 0,\n",
      " 'logreg__warm_start': False,\n",
      " 'tfidf__norm': 'l2',\n",
      " 'tfidf__smooth_idf': True,\n",
      " 'tfidf__sublinear_tf': False,\n",
      " 'tfidf__use_idf': True}\n",
      "\n",
      "*** Logistic Regression Mult Silver Hyperparameters ***\n",
      "{'count__analyzer': u'word',\n",
      " 'count__binary': False,\n",
      " 'count__decode_error': u'strict',\n",
      " 'count__dtype': <type 'numpy.int64'>,\n",
      " 'count__encoding': u'utf-8',\n",
      " 'count__input': u'content',\n",
      " 'count__lowercase': True,\n",
      " 'count__max_df': 0.8181949574949251,\n",
      " 'count__max_features': None,\n",
      " 'count__min_df': 1,\n",
      " 'count__ngram_range': (1, 2),\n",
      " 'count__preprocessor': None,\n",
      " 'count__stop_words': None,\n",
      " 'count__strip_accents': None,\n",
      " 'count__token_pattern': u'(?u)\\\\b\\\\w\\\\w+\\\\b',\n",
      " 'count__tokenizer': None,\n",
      " 'count__vocabulary': None,\n",
      " 'logreg__C': 8663.5077728261076,\n",
      " 'logreg__class_weight': None,\n",
      " 'logreg__dual': False,\n",
      " 'logreg__fit_intercept': True,\n",
      " 'logreg__intercept_scaling': 1,\n",
      " 'logreg__max_iter': 100,\n",
      " 'logreg__multi_class': 'ovr',\n",
      " 'logreg__n_jobs': 1,\n",
      " 'logreg__penalty': 'l2',\n",
      " 'logreg__random_state': None,\n",
      " 'logreg__solver': 'liblinear',\n",
      " 'logreg__tol': 0.0001,\n",
      " 'logreg__verbose': 0,\n",
      " 'logreg__warm_start': False,\n",
      " 'tfidf__norm': 'l2',\n",
      " 'tfidf__smooth_idf': True,\n",
      " 'tfidf__sublinear_tf': False,\n",
      " 'tfidf__use_idf': True}\n",
      "\n"
     ]
    }
   ],
   "source": [
    "print_model_hyperparams(best_mult_lr_biased, 'Logistic Regression Mult Biased')\n",
    "print\n",
    "print_model_hyperparams(best_mult_lr_gold, 'Logistic Regression Mult Gold')\n",
    "print\n",
    "print_model_hyperparams(best_mult_lr_silver, 'Logistic Regression Mult Silver')\n",
    "print"
   ]
  },
  {
   "cell_type": "markdown",
   "metadata": {},
   "source": [
    "### Random Forest"
   ]
  },
  {
   "cell_type": "code",
   "execution_count": 37,
   "metadata": {
    "collapsed": true
   },
   "outputs": [],
   "source": [
    "best_mult_rf_biased = joblib.load('experiments/best_models/best_rf_mult_biased.pkl')\n",
    "best_mult_rf_gold = joblib.load('experiments/best_models/best_rf_mult_gold.pkl')\n",
    "best_mult_rf_silver = joblib.load('experiments/best_models/best_rf_mult_silver.pkl')"
   ]
  },
  {
   "cell_type": "code",
   "execution_count": 38,
   "metadata": {
    "collapsed": false
   },
   "outputs": [
    {
     "data": {
      "text/plain": [
       "Pipeline(steps=[('count', CountVectorizer(analyzer=u'word', binary=False, decode_error=u'strict',\n",
       "        dtype=<type 'numpy.int64'>, encoding=u'utf-8', input=u'content',\n",
       "        lowercase=True, max_df=0.80352618636857176, max_features=1000,\n",
       "        min_df=1, ngram_range=(1, 2), preprocessor=None, stop_words...estimators=194, n_jobs=4, oob_score=True, random_state=0,\n",
       "            verbose=0, warm_start=False))])"
      ]
     },
     "execution_count": 38,
     "metadata": {},
     "output_type": "execute_result"
    }
   ],
   "source": [
    "best_mult_rf_biased.fit(biased_text, biased_mult, rf__sample_weight=biased_weights)\n",
    "best_mult_rf_gold.fit(gold_text, gold_mult, rf__sample_weight=gold_weights)\n",
    "best_mult_rf_silver.fit(silver_text, silver_mult, rf__sample_weight=silver_weights)"
   ]
  },
  {
   "cell_type": "code",
   "execution_count": null,
   "metadata": {
    "collapsed": false
   },
   "outputs": [],
   "source": [
    "start = time.time()\n",
    "title = 'Random Forest Mult Biased'\n",
    "all_results[title] = model_report(best_mult_rf_biased, title, 'is_multiple',\n",
    "                   save_fname='figures/mult_rf_biased',\n",
    "                   B=B, random_seed=random_seed)\n",
    "print '{} seconds'.format(int(time.time()-start))"
   ]
  },
  {
   "cell_type": "code",
   "execution_count": null,
   "metadata": {
    "collapsed": false
   },
   "outputs": [],
   "source": [
    "start = time.time()\n",
    "title = 'Random Forest Mult Gold'\n",
    "all_results[title] = model_report(best_mult_rf_gold, title, 'is_multiple',\n",
    "                   save_fname='figures/mult_rf_gold',\n",
    "                   B=B, random_seed=random_seed)\n",
    "print '{} seconds'.format(int(time.time()-start))"
   ]
  },
  {
   "cell_type": "code",
   "execution_count": null,
   "metadata": {
    "collapsed": false,
    "scrolled": false
   },
   "outputs": [],
   "source": [
    "start = time.time()\n",
    "title = 'Random Forest Mult Silver'\n",
    "all_results[title] = model_report(best_mult_rf_silver, title, 'is_multiple',\n",
    "                   save_fname='figures/mult_rf_silver',\n",
    "                   B=B, random_seed=random_seed)\n",
    "print '{} seconds'.format(int(time.time()-start))"
   ]
  },
  {
   "cell_type": "code",
   "execution_count": 42,
   "metadata": {
    "collapsed": false,
    "scrolled": true
   },
   "outputs": [
    {
     "name": "stdout",
     "output_type": "stream",
     "text": [
      "*** Random Forest Mult Biased Hyperparameters ***\n",
      "{'count__analyzer': u'word',\n",
      " 'count__binary': False,\n",
      " 'count__decode_error': u'strict',\n",
      " 'count__dtype': <type 'numpy.int64'>,\n",
      " 'count__encoding': u'utf-8',\n",
      " 'count__input': u'content',\n",
      " 'count__lowercase': True,\n",
      " 'count__max_df': 0.91095818181620702,\n",
      " 'count__max_features': 1000,\n",
      " 'count__min_df': 1,\n",
      " 'count__ngram_range': (1, 2),\n",
      " 'count__preprocessor': None,\n",
      " 'count__stop_words': None,\n",
      " 'count__strip_accents': None,\n",
      " 'count__token_pattern': u'(?u)\\\\b\\\\w\\\\w+\\\\b',\n",
      " 'count__tokenizer': None,\n",
      " 'count__vocabulary': None,\n",
      " 'rf__bootstrap': True,\n",
      " 'rf__class_weight': None,\n",
      " 'rf__criterion': 'gini',\n",
      " 'rf__max_depth': None,\n",
      " 'rf__max_features': 'sqrt',\n",
      " 'rf__max_leaf_nodes': None,\n",
      " 'rf__min_impurity_split': 1e-07,\n",
      " 'rf__min_samples_leaf': 1,\n",
      " 'rf__min_samples_split': 2,\n",
      " 'rf__min_weight_fraction_leaf': 0.0,\n",
      " 'rf__n_estimators': 167,\n",
      " 'rf__n_jobs': 4,\n",
      " 'rf__oob_score': True,\n",
      " 'rf__random_state': 0,\n",
      " 'rf__verbose': 0,\n",
      " 'rf__warm_start': False,\n",
      " 'tfidf__norm': 'l2',\n",
      " 'tfidf__smooth_idf': True,\n",
      " 'tfidf__sublinear_tf': False,\n",
      " 'tfidf__use_idf': False}\n",
      "\n",
      "*** Random Forest Mult Gold Hyperparameters ***\n",
      "{'count__analyzer': u'word',\n",
      " 'count__binary': False,\n",
      " 'count__decode_error': u'strict',\n",
      " 'count__dtype': <type 'numpy.int64'>,\n",
      " 'count__encoding': u'utf-8',\n",
      " 'count__input': u'content',\n",
      " 'count__lowercase': True,\n",
      " 'count__max_df': 0.91249377022223643,\n",
      " 'count__max_features': 1000,\n",
      " 'count__min_df': 1,\n",
      " 'count__ngram_range': (1, 2),\n",
      " 'count__preprocessor': None,\n",
      " 'count__stop_words': None,\n",
      " 'count__strip_accents': None,\n",
      " 'count__token_pattern': u'(?u)\\\\b\\\\w\\\\w+\\\\b',\n",
      " 'count__tokenizer': None,\n",
      " 'count__vocabulary': None,\n",
      " 'rf__bootstrap': True,\n",
      " 'rf__class_weight': None,\n",
      " 'rf__criterion': 'gini',\n",
      " 'rf__max_depth': None,\n",
      " 'rf__max_features': 'sqrt',\n",
      " 'rf__max_leaf_nodes': None,\n",
      " 'rf__min_impurity_split': 1e-07,\n",
      " 'rf__min_samples_leaf': 1,\n",
      " 'rf__min_samples_split': 2,\n",
      " 'rf__min_weight_fraction_leaf': 0.0,\n",
      " 'rf__n_estimators': 186,\n",
      " 'rf__n_jobs': 4,\n",
      " 'rf__oob_score': True,\n",
      " 'rf__random_state': 0,\n",
      " 'rf__verbose': 0,\n",
      " 'rf__warm_start': False,\n",
      " 'tfidf__norm': 'l2',\n",
      " 'tfidf__smooth_idf': True,\n",
      " 'tfidf__sublinear_tf': False,\n",
      " 'tfidf__use_idf': False}\n",
      "\n",
      "*** Random Forest Mult Silver Hyperparameters ***\n",
      "{'count__analyzer': u'word',\n",
      " 'count__binary': False,\n",
      " 'count__decode_error': u'strict',\n",
      " 'count__dtype': <type 'numpy.int64'>,\n",
      " 'count__encoding': u'utf-8',\n",
      " 'count__input': u'content',\n",
      " 'count__lowercase': True,\n",
      " 'count__max_df': 0.80352618636857176,\n",
      " 'count__max_features': 1000,\n",
      " 'count__min_df': 1,\n",
      " 'count__ngram_range': (1, 2),\n",
      " 'count__preprocessor': None,\n",
      " 'count__stop_words': None,\n",
      " 'count__strip_accents': None,\n",
      " 'count__token_pattern': u'(?u)\\\\b\\\\w\\\\w+\\\\b',\n",
      " 'count__tokenizer': None,\n",
      " 'count__vocabulary': None,\n",
      " 'rf__bootstrap': True,\n",
      " 'rf__class_weight': None,\n",
      " 'rf__criterion': 'gini',\n",
      " 'rf__max_depth': None,\n",
      " 'rf__max_features': 'sqrt',\n",
      " 'rf__max_leaf_nodes': None,\n",
      " 'rf__min_impurity_split': 1e-07,\n",
      " 'rf__min_samples_leaf': 1,\n",
      " 'rf__min_samples_split': 2,\n",
      " 'rf__min_weight_fraction_leaf': 0.0,\n",
      " 'rf__n_estimators': 194,\n",
      " 'rf__n_jobs': 4,\n",
      " 'rf__oob_score': True,\n",
      " 'rf__random_state': 0,\n",
      " 'rf__verbose': 0,\n",
      " 'rf__warm_start': False,\n",
      " 'tfidf__norm': 'l2',\n",
      " 'tfidf__smooth_idf': True,\n",
      " 'tfidf__sublinear_tf': False,\n",
      " 'tfidf__use_idf': False}\n",
      "\n"
     ]
    }
   ],
   "source": [
    "print_model_hyperparams(best_mult_rf_biased, 'Random Forest Mult Biased')\n",
    "print\n",
    "print_model_hyperparams(best_mult_rf_gold, 'Random Forest Mult Gold')\n",
    "print\n",
    "print_model_hyperparams(best_mult_rf_silver, 'Random Forest Mult Silver')\n",
    "print"
   ]
  },
  {
   "cell_type": "markdown",
   "metadata": {},
   "source": [
    "### SVM"
   ]
  },
  {
   "cell_type": "code",
   "execution_count": 43,
   "metadata": {
    "collapsed": true
   },
   "outputs": [],
   "source": [
    "best_mult_svm_biased = joblib.load('experiments/best_models/best_svm_mult_biased.pkl')\n",
    "best_mult_svm_gold = joblib.load('experiments/best_models/best_svm_mult_gold.pkl')\n",
    "best_mult_svm_silver = joblib.load('experiments/best_models/best_svm_mult_silver.pkl')"
   ]
  },
  {
   "cell_type": "code",
   "execution_count": 44,
   "metadata": {
    "collapsed": false
   },
   "outputs": [
    {
     "data": {
      "text/plain": [
       "Pipeline(steps=[('count', CountVectorizer(analyzer=u'word', binary=False, decode_error=u'strict',\n",
       "        dtype=<type 'numpy.int64'>, encoding=u'utf-8', input=u'content',\n",
       "        lowercase=True, max_df=0.84144420079219573, max_features=None,\n",
       "        min_df=1, ngram_range=(1, 2), preprocessor=None, stop_words...',\n",
       "  max_iter=-1, probability=True, random_state=None, shrinking=True,\n",
       "  tol=0.001, verbose=False))])"
      ]
     },
     "execution_count": 44,
     "metadata": {},
     "output_type": "execute_result"
    }
   ],
   "source": [
    "best_mult_svm_biased.fit(biased_text, biased_mult, svc__sample_weight=biased_weights)\n",
    "best_mult_svm_gold.fit(gold_text, gold_mult, svc__sample_weight=gold_weights)\n",
    "best_mult_svm_silver.fit(silver_text, silver_mult, svc__sample_weight=silver_weights)"
   ]
  },
  {
   "cell_type": "code",
   "execution_count": null,
   "metadata": {
    "collapsed": false
   },
   "outputs": [],
   "source": [
    "start = time.time()\n",
    "title = 'SVM Mult Biased'\n",
    "all_results[title] = model_report(best_mult_svm_biased, title, 'is_multiple',\n",
    "                   save_fname='figures/mult_svm_biased',\n",
    "                   B=B, random_seed=random_seed)\n",
    "print '{} seconds'.format(int(time.time()-start))"
   ]
  },
  {
   "cell_type": "code",
   "execution_count": null,
   "metadata": {
    "collapsed": false
   },
   "outputs": [],
   "source": [
    "start = time.time()\n",
    "title = 'SVM Mult Gold'\n",
    "all_results[title] = model_report(best_mult_svm_gold, title, 'is_multiple',\n",
    "                   save_fname='figures/mult_svm_gold',\n",
    "                   B=B, random_seed=random_seed)\n",
    "print '{} seconds'.format(int(time.time()-start))"
   ]
  },
  {
   "cell_type": "code",
   "execution_count": null,
   "metadata": {
    "collapsed": false,
    "scrolled": false
   },
   "outputs": [],
   "source": [
    "start = time.time()\n",
    "title = 'SVM Mult Silver'\n",
    "all_results[title] = model_report(best_mult_svm_silver, title, 'is_multiple',\n",
    "                   save_fname='figures/mult_svm_silver',\n",
    "                   B=B, random_seed=random_seed)\n",
    "print '{} seconds'.format(int(time.time()-start))"
   ]
  },
  {
   "cell_type": "code",
   "execution_count": 48,
   "metadata": {
    "collapsed": false,
    "scrolled": true
   },
   "outputs": [
    {
     "name": "stdout",
     "output_type": "stream",
     "text": [
      "*** SVM Mult Biased Hyperparameters ***\n",
      "{'count__analyzer': u'word',\n",
      " 'count__binary': False,\n",
      " 'count__decode_error': u'strict',\n",
      " 'count__dtype': <type 'numpy.int64'>,\n",
      " 'count__encoding': u'utf-8',\n",
      " 'count__input': u'content',\n",
      " 'count__lowercase': True,\n",
      " 'count__max_df': 0.77321625014344464,\n",
      " 'count__max_features': None,\n",
      " 'count__min_df': 1,\n",
      " 'count__ngram_range': (1, 2),\n",
      " 'count__preprocessor': None,\n",
      " 'count__stop_words': None,\n",
      " 'count__strip_accents': None,\n",
      " 'count__token_pattern': u'(?u)\\\\b\\\\w\\\\w+\\\\b',\n",
      " 'count__tokenizer': None,\n",
      " 'count__vocabulary': None,\n",
      " 'svc__C': 0.55052123745597503,\n",
      " 'svc__cache_size': 200,\n",
      " 'svc__class_weight': None,\n",
      " 'svc__coef0': 0.0,\n",
      " 'svc__decision_function_shape': None,\n",
      " 'svc__degree': 3,\n",
      " 'svc__gamma': 'auto',\n",
      " 'svc__kernel': 'rbf',\n",
      " 'svc__max_iter': -1,\n",
      " 'svc__probability': True,\n",
      " 'svc__random_state': None,\n",
      " 'svc__shrinking': True,\n",
      " 'svc__tol': 0.001,\n",
      " 'svc__verbose': False,\n",
      " 'tfidf__norm': 'l2',\n",
      " 'tfidf__smooth_idf': True,\n",
      " 'tfidf__sublinear_tf': False,\n",
      " 'tfidf__use_idf': True}\n",
      "\n",
      "*** SVM Mult Gold Hyperparameters ***\n",
      "{'count__analyzer': u'word',\n",
      " 'count__binary': False,\n",
      " 'count__decode_error': u'strict',\n",
      " 'count__dtype': <type 'numpy.int64'>,\n",
      " 'count__encoding': u'utf-8',\n",
      " 'count__input': u'content',\n",
      " 'count__lowercase': True,\n",
      " 'count__max_df': 0.86994897636290802,\n",
      " 'count__max_features': None,\n",
      " 'count__min_df': 1,\n",
      " 'count__ngram_range': (1, 2),\n",
      " 'count__preprocessor': None,\n",
      " 'count__stop_words': None,\n",
      " 'count__strip_accents': None,\n",
      " 'count__token_pattern': u'(?u)\\\\b\\\\w\\\\w+\\\\b',\n",
      " 'count__tokenizer': None,\n",
      " 'count__vocabulary': None,\n",
      " 'svc__C': 389.0980066345877,\n",
      " 'svc__cache_size': 200,\n",
      " 'svc__class_weight': None,\n",
      " 'svc__coef0': 0.0,\n",
      " 'svc__decision_function_shape': None,\n",
      " 'svc__degree': 3,\n",
      " 'svc__gamma': 'auto',\n",
      " 'svc__kernel': 'linear',\n",
      " 'svc__max_iter': -1,\n",
      " 'svc__probability': True,\n",
      " 'svc__random_state': None,\n",
      " 'svc__shrinking': True,\n",
      " 'svc__tol': 0.001,\n",
      " 'svc__verbose': False,\n",
      " 'tfidf__norm': 'l2',\n",
      " 'tfidf__smooth_idf': True,\n",
      " 'tfidf__sublinear_tf': False,\n",
      " 'tfidf__use_idf': False}\n",
      "\n",
      "*** SVM Mult Silver Hyperparameters ***\n",
      "{'count__analyzer': u'word',\n",
      " 'count__binary': False,\n",
      " 'count__decode_error': u'strict',\n",
      " 'count__dtype': <type 'numpy.int64'>,\n",
      " 'count__encoding': u'utf-8',\n",
      " 'count__input': u'content',\n",
      " 'count__lowercase': True,\n",
      " 'count__max_df': 0.84144420079219573,\n",
      " 'count__max_features': None,\n",
      " 'count__min_df': 1,\n",
      " 'count__ngram_range': (1, 2),\n",
      " 'count__preprocessor': None,\n",
      " 'count__stop_words': None,\n",
      " 'count__strip_accents': None,\n",
      " 'count__token_pattern': u'(?u)\\\\b\\\\w\\\\w+\\\\b',\n",
      " 'count__tokenizer': None,\n",
      " 'count__vocabulary': None,\n",
      " 'svc__C': 699.65588015657761,\n",
      " 'svc__cache_size': 200,\n",
      " 'svc__class_weight': None,\n",
      " 'svc__coef0': 0.0,\n",
      " 'svc__decision_function_shape': None,\n",
      " 'svc__degree': 3,\n",
      " 'svc__gamma': 'auto',\n",
      " 'svc__kernel': 'rbf',\n",
      " 'svc__max_iter': -1,\n",
      " 'svc__probability': True,\n",
      " 'svc__random_state': None,\n",
      " 'svc__shrinking': True,\n",
      " 'svc__tol': 0.001,\n",
      " 'svc__verbose': False,\n",
      " 'tfidf__norm': 'l2',\n",
      " 'tfidf__smooth_idf': True,\n",
      " 'tfidf__sublinear_tf': False,\n",
      " 'tfidf__use_idf': True}\n",
      "\n"
     ]
    }
   ],
   "source": [
    "print_model_hyperparams(best_mult_svm_biased, 'SVM Mult Biased')\n",
    "print\n",
    "print_model_hyperparams(best_mult_svm_gold, 'SVM Mult Gold')\n",
    "print\n",
    "print_model_hyperparams(best_mult_svm_silver, 'SVM Mult Silver')\n",
    "print"
   ]
  },
  {
   "cell_type": "code",
   "execution_count": null,
   "metadata": {
    "collapsed": false
   },
   "outputs": [],
   "source": [
    "sick_table = pd.DataFrame()\n",
    "mult_table = pd.DataFrame()\n",
    "for name, result in sorted(all_results.items(), key=lambda x:x[0]):\n",
    "    data = {k:v for k,v in result.items() if ('samples' not in k) and ('ci' not in k) }\n",
    "    data.update({k+'_b':v[0] for k,v in result.items() if '_ci' in k})\n",
    "    data.update({k+'_t':v[1] for k,v in result.items() if '_ci' in k})\n",
    "    data['name'] = name\n",
    "    if 'Sick' in name:\n",
    "        sick_table = sick_table.append(data, ignore_index=True)\n",
    "    else:\n",
    "        mult_table = mult_table.append(data, ignore_index=True)\n",
    "sick_table.set_index('name', inplace=True)\n",
    "mult_table.set_index('name', inplace=True)"
   ]
  },
  {
   "cell_type": "code",
   "execution_count": null,
   "metadata": {
    "collapsed": false
   },
   "outputs": [],
   "source": [
    "sick_table.to_csv('baseline_sick_results.csv')\n",
    "sick_table"
   ]
  },
  {
   "cell_type": "code",
   "execution_count": null,
   "metadata": {
    "collapsed": false
   },
   "outputs": [],
   "source": [
    "mult_table.to_csv('baseline_mult_results.csv')\n",
    "mult_table"
   ]
  },
  {
   "cell_type": "code",
   "execution_count": 100,
   "metadata": {
    "collapsed": true
   },
   "outputs": [],
   "source": [
    "best_sick_model = best_sick_lr_silver\n",
    "best_mult_model = best_mult_lr_biased"
   ]
  },
  {
   "cell_type": "markdown",
   "metadata": {},
   "source": [
    "# Error Analysis\n",
    "\n",
    "We analyze error for the best models:\n",
    "* Sick: Logistic Regression Silver\n",
    "* Multiple: Logistic Regression Mult Biased"
   ]
  },
  {
   "cell_type": "markdown",
   "metadata": {},
   "source": [
    "### Sick"
   ]
  },
  {
   "cell_type": "code",
   "execution_count": 101,
   "metadata": {
    "collapsed": false
   },
   "outputs": [
    {
     "name": "stdout",
     "output_type": "stream",
     "text": [
      "297  to analyze\n"
     ]
    }
   ],
   "source": [
    "y_trues = np.array(test_data['is_foodborne'])\n",
    "preds = best_sick_model.predict_proba(test_data['text'])[:,1]\n",
    "sick_errors = (preds > .5) != y_trues\n",
    "\n",
    "sick_error_df = pd.DataFrame({\n",
    "        'text':np.array(test_data['text'])[sick_errors],\n",
    "        'y_true':y_trues[sick_errors],\n",
    "        'prob':preds[sick_errors],\n",
    "        'is_biased':np.array(test_data['is_biased'])[sick_errors]\n",
    "    })\n",
    "sick_error_df['error_type'] = \"\"\n",
    "sick_error_df['comments'] = \"\"\n",
    "print len(sick_error_df), ' to analyze'\n",
    "sick_error_df = sick_error_df.sample(frac=1, random_state=0).reset_index(drop=True)\n",
    "sick_error_df.to_excel('sick_errors_to_analyze.xlsx', encoding=\"utf8\", header=True, index=True)"
   ]
  },
  {
   "cell_type": "markdown",
   "metadata": {},
   "source": [
    "### Multiple"
   ]
  },
  {
   "cell_type": "code",
   "execution_count": 102,
   "metadata": {
    "collapsed": false
   },
   "outputs": [
    {
     "name": "stdout",
     "output_type": "stream",
     "text": [
      "182  to analyze\n"
     ]
    }
   ],
   "source": [
    "y_trues = np.array(test_data['is_multiple'])\n",
    "preds = best_mult_model.predict_proba(test_data['text'])[:,1]\n",
    "mult_errors = (preds > .5) != y_trues\n",
    "\n",
    "mult_error_df = pd.DataFrame({\n",
    "        'text':np.array(test_data['text'])[mult_errors],\n",
    "        'y_true':y_trues[mult_errors],\n",
    "        'prob':preds[mult_errors],\n",
    "        'is_biased':np.array(test_data['is_biased'])[mult_errors]\n",
    "    })\n",
    "mult_error_df['error_type'] = \"\"\n",
    "mult_error_df['comments'] = \"\"\n",
    "print len(mult_error_df), ' to analyze'\n",
    "# shuffle them and do as many as possible\n",
    "mult_error_df = mult_error_df.sample(frac=1, random_state=0).reset_index(drop=True)\n",
    "mult_error_df.to_excel('mult_errors_to_analyze.xlsx', encoding=\"utf8\", header=True, index=True)"
   ]
  },
  {
   "cell_type": "markdown",
   "metadata": {},
   "source": [
    "## Sick Task"
   ]
  },
  {
   "cell_type": "code",
   "execution_count": 31,
   "metadata": {
    "collapsed": true
   },
   "outputs": [],
   "source": [
    "\n",
    "lr_sick_biased_errors = best_sick_lr_biased.predict(test_data['text']) != y_trues\n",
    "lr_sick_gold_errors = best_sick_lr_gold.predict(test_data['text']) != y_trues\n",
    "lr_sick_silver_errors = best_sick_lr_silver.predict(test_data['text']) != y_trues\n",
    "\n",
    "rf_sick_biased_errors = best_sick_rf_biased.predict(test_data['text']) != y_trues\n",
    "rf_sick_gold_errors = best_sick_rf_gold.predict(test_data['text']) != y_trues\n",
    "rf_sick_silver_errors = best_sick_rf_silver.predict(test_data['text']) != y_trues\n",
    "\n",
    "svm_sick_biased_errors = best_sick_svm_biased.predict(test_data['text']) != y_trues\n",
    "svm_sick_gold_errors = best_sick_svm_gold.predict(test_data['text']) != y_trues\n",
    "svm_sick_silver_errors = best_sick_svm_silver.predict(test_data['text']) != y_trues"
   ]
  },
  {
   "cell_type": "code",
   "execution_count": 62,
   "metadata": {
    "collapsed": true
   },
   "outputs": [],
   "source": [
    "errors = pd.DataFrame({\n",
    "        'lr_sick_biased':lr_sick_biased_errors,\n",
    "        'lr_sick_gold':lr_sick_gold_errors,\n",
    "        'lr_sick_silver':lr_sick_silver_errors,\n",
    "        'rf_sick_biased':rf_sick_biased_errors,\n",
    "        'rf_sick_gold':rf_sick_gold_errors,\n",
    "        'rf_sick_silver':rf_sick_silver_errors,\n",
    "        'svm_sick_biased':svm_sick_biased_errors,\n",
    "        'svm_sick_gold':svm_sick_gold_errors,\n",
    "        'svm_sick_silver':svm_sick_silver_errors,\n",
    "        'true_label':y_trues,\n",
    "        'is_biased':test_data['is_biased'],\n",
    "        'text':test_data['text']\n",
    "    })"
   ]
  },
  {
   "cell_type": "code",
   "execution_count": 63,
   "metadata": {
    "collapsed": false
   },
   "outputs": [
    {
     "name": "stdout",
     "output_type": "stream",
     "text": [
      "False    2628\n",
      "True      347\n",
      "Name: lr_sick_biased, dtype: int64\n",
      "\n",
      "False    2670\n",
      "True      305\n",
      "Name: lr_sick_gold, dtype: int64\n",
      "\n",
      "False    2678\n",
      "True      297\n",
      "Name: lr_sick_silver, dtype: int64\n",
      "\n",
      "False    2532\n",
      "True      443\n",
      "Name: rf_sick_biased, dtype: int64\n",
      "\n",
      "False    2606\n",
      "True      369\n",
      "Name: rf_sick_gold, dtype: int64\n",
      "\n",
      "False    2631\n",
      "True      344\n",
      "Name: rf_sick_silver, dtype: int64\n",
      "\n",
      "False    2387\n",
      "True      588\n",
      "Name: svm_sick_biased, dtype: int64\n",
      "\n",
      "False    2656\n",
      "True      319\n",
      "Name: svm_sick_gold, dtype: int64\n",
      "\n",
      "False    2026\n",
      "True      949\n",
      "Name: svm_sick_silver, dtype: int64\n",
      "\n"
     ]
    }
   ],
   "source": [
    "for col in errors.columns:\n",
    "    if 'sick' in col:\n",
    "        print errors[col].value_counts()\n",
    "        print "
   ]
  },
  {
   "cell_type": "code",
   "execution_count": 52,
   "metadata": {
    "collapsed": true
   },
   "outputs": [],
   "source": [
    "errors['total'] = errors.sum(axis=1)"
   ]
  },
  {
   "cell_type": "code",
   "execution_count": 59,
   "metadata": {
    "collapsed": false
   },
   "outputs": [
    {
     "data": {
      "text/plain": [
       "<matplotlib.text.Text at 0x18e7f31d0>"
      ]
     },
     "execution_count": 59,
     "metadata": {},
     "output_type": "execute_result"
    },
    {
     "data": {
      "image/png": "[encoded data removed]",
      "text/plain": [
       "<matplotlib.figure.Figure at 0x19fb4a4d0>"
      ]
     },
     "metadata": {},
     "output_type": "display_data"
    }
   ],
   "source": [
    "counts, bin_edges, _ = plt.hist(errors.total, bins=np.arange(11))\n",
    "plt.xticks(np.arange(10))\n",
    "plt.title('Classification Errors Hist')"
   ]
  },
  {
   "cell_type": "code",
   "execution_count": 51,
   "metadata": {
    "collapsed": false
   },
   "outputs": [
    {
     "name": "stdout",
     "output_type": "stream",
     "text": [
      "1284 examples were mistaken by 0/9 classifiers\n",
      "1030 examples were mistaken by 1/9 classifiers\n",
      "173 examples were mistaken by 2/9 classifiers\n",
      "123 examples were mistaken by 3/9 classifiers\n",
      "95 examples were mistaken by 4/9 classifiers\n",
      "68 examples were mistaken by 5/9 classifiers\n",
      "45 examples were mistaken by 6/9 classifiers\n",
      "52 examples were mistaken by 7/9 classifiers\n",
      "83 examples were mistaken by 8/9 classifiers\n",
      "22 examples were mistaken by 9/9 classifiers\n"
     ]
    }
   ],
   "source": [
    "for i, count in zip(range(len(counts)), counts):\n",
    "    print '{} examples were mistaken by {}/9 classifiers'.format(int(count), i)"
   ]
  },
  {
   "cell_type": "code",
   "execution_count": null,
   "metadata": {
    "collapsed": true
   },
   "outputs": [],
   "source": [
    "errors[errors['total'] == ]"
   ]
  }
 ],
 "metadata": {
  "kernelspec": {
   "display_name": "Python 2",
   "language": "python",
   "name": "python2"
  },
  "language_info": {
   "codemirror_mode": {
    "name": "ipython",
    "version": 2
   },
   "file_extension": ".py",
   "mimetype": "text/x-python",
   "name": "python",
   "nbconvert_exporter": "python",
   "pygments_lexer": "ipython2",
   "version": "2.7.10"
  }
 },
 "nbformat": 4,
 "nbformat_minor": 1
}
