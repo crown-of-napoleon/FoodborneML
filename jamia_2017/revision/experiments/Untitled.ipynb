{
 "cells": [
  {
   "cell_type": "code",
   "execution_count": 1,
   "metadata": {
    "collapsed": false
   },
   "outputs": [],
   "source": [
    "%load_ext autoreload\n",
    "%autoreload 2"
   ]
  },
  {
   "cell_type": "code",
   "execution_count": 2,
   "metadata": {
    "collapsed": true
   },
   "outputs": [],
   "source": [
    "import yaml"
   ]
  },
  {
   "cell_type": "code",
   "execution_count": 3,
   "metadata": {
    "collapsed": true
   },
   "outputs": [],
   "source": [
    "config = yaml.load(open('cbow_setup_base_config.yaml'))"
   ]
  },
  {
   "cell_type": "code",
   "execution_count": 4,
   "metadata": {
    "collapsed": false
   },
   "outputs": [
    {
     "data": {
      "text/plain": [
       "{'data_setup': {'setup_config': {'dev_portion': 0.2,\n",
       "   'lowercase': True,\n",
       "   'normalize_vectors': True,\n",
       "   'pretrained_vectors': '../data/word_vectors/trimmed_glove.840B.300d.txt',\n",
       "   'response_key': 'is_foodborne',\n",
       "   'split_random_seed': 0,\n",
       "   'train_regime': 'gold',\n",
       "   'trim_vector_file': False},\n",
       "  'setup_file': 'chainer_data_setup.py'},\n",
       " 'description': 'First we load normalized glove vectors. The doc rep is just the sum of the word vectors',\n",
       " 'email': 'teffland@cs.columbia.edu',\n",
       " 'model_setup': {'setup_config': {'composition_func': 'sum',\n",
       "   'example': 'config option because it must be nonempty'},\n",
       "  'setup_file': 'cbow_model_setup.py'},\n",
       " 'mongo_config': {'database': 'experiments',\n",
       "  'host': 'teffland.cs.columbia.edu',\n",
       "  'port': 27017,\n",
       "  'username': 'tom'},\n",
       " 'random_seed': 0,\n",
       " 'results_dir_prefix': 'chainer_experiments/',\n",
       " 'task': 'DOHMH: Yelp is foodborne?',\n",
       " 'title': 'CBOW Test Gold Regime',\n",
       " 'trainer_setup': {'setup_config': {'adam_alpha': 0.001,\n",
       "   'batch_size': 256,\n",
       "   'checkpoint_trigger': [1, 'epoch'],\n",
       "   'early_stop_patience': 10,\n",
       "   'evaluation_trigger': [1, 'epoch'],\n",
       "   'freeze_embeddings': True,\n",
       "   'l2_coef': 1.0,\n",
       "   'max_examples': 100,\n",
       "   'n_epoch': 50},\n",
       "  'setup_file': 'chainer_trainer_setup.py'}}"
      ]
     },
     "execution_count": 4,
     "metadata": {},
     "output_type": "execute_result"
    }
   ],
   "source": [
    "config"
   ]
  },
  {
   "cell_type": "code",
   "execution_count": 7,
   "metadata": {
    "collapsed": false
   },
   "outputs": [],
   "source": [
    "from chainer_data_setup import setup as data_setup\n",
    "from cnn_model_setup import setup as model_setup"
   ]
  },
  {
   "cell_type": "code",
   "execution_count": 8,
   "metadata": {
    "collapsed": false
   },
   "outputs": [
    {
     "name": "stderr",
     "output_type": "stream",
     "text": [
      "baseline_experiment_util.py:57: SettingWithCopyWarning: \n",
      "A value is trying to be set on a copy of a slice from a DataFrame.\n",
      "Try using .loc[row_indexer,col_indexer] = value instead\n",
      "\n",
      "See the caveats in the documentation: http://pandas.pydata.org/pandas-docs/stable/indexing.html#indexing-view-versus-copy\n",
      "  old_biased['is_foodborne'] = old_biased['is_foodborne'].map({'Yes':1, 'No':0})\n",
      "baseline_experiment_util.py:59: SettingWithCopyWarning: \n",
      "A value is trying to be set on a copy of a slice from a DataFrame.\n",
      "Try using .loc[row_indexer,col_indexer] = value instead\n",
      "\n",
      "See the caveats in the documentation: http://pandas.pydata.org/pandas-docs/stable/indexing.html#indexing-view-versus-copy\n",
      "  new_biased['is_foodborne'] = new_biased['is_foodborne'].map({'Yes':1, 'No':0})\n",
      "baseline_experiment_util.py:62: SettingWithCopyWarning: \n",
      "A value is trying to be set on a copy of a slice from a DataFrame.\n",
      "Try using .loc[row_indexer,col_indexer] = value instead\n",
      "\n",
      "See the caveats in the documentation: http://pandas.pydata.org/pandas-docs/stable/indexing.html#indexing-view-versus-copy\n",
      "  old_biased['is_multiple'] = old_biased['is_multiple'].map({'Yes':1, 'No':0})\n",
      "baseline_experiment_util.py:64: SettingWithCopyWarning: \n",
      "A value is trying to be set on a copy of a slice from a DataFrame.\n",
      "Try using .loc[row_indexer,col_indexer] = value instead\n",
      "\n",
      "See the caveats in the documentation: http://pandas.pydata.org/pandas-docs/stable/indexing.html#indexing-view-versus-copy\n",
      "  new_biased['is_multiple'] = new_biased['is_multiple'].map({'Yes':1, 'No':0})\n"
     ]
    },
    {
     "name": "stdout",
     "output_type": "stream",
     "text": [
      "Setting pad token to have a zeros embeddings\n",
      "Pretrained coverage: 26372/31173 = 84.60%\n"
     ]
    },
    {
     "name": "stderr",
     "output_type": "stream",
     "text": [
      "[INFO] 2017-07-01 02:26:59,400: chainer_data_setup: 9252 Training examples, 2314 Dev, 2975 Test\n"
     ]
    }
   ],
   "source": [
    "data_results = data_setup(config['data_setup']['setup_config'])"
   ]
  },
  {
   "cell_type": "code",
   "execution_count": 9,
   "metadata": {
    "collapsed": false,
    "scrolled": true
   },
   "outputs": [],
   "source": [
    "model_results = model_setup(config['model_setup']['setup_config'], data_results)"
   ]
  },
  {
   "cell_type": "code",
   "execution_count": 10,
   "metadata": {
    "collapsed": true
   },
   "outputs": [],
   "source": [
    "# pred = model_results['predictor_model']"
   ]
  },
  {
   "cell_type": "code",
   "execution_count": 11,
   "metadata": {
    "collapsed": false
   },
   "outputs": [],
   "source": [
    "# vocab = data_results['token_vocab']\n",
    "# xs = vocab.seqs2idx([datum['text'] for datum in data_results['train_data'][:10]], as_array=True)\n",
    "# ys = [datum['label'] for datum in data_results['train_data'][:10]]\n",
    "# ws = [datum['weight'] for datum in data_results['train_data'][:10]]"
   ]
  },
  {
   "cell_type": "code",
   "execution_count": 12,
   "metadata": {
    "collapsed": true
   },
   "outputs": [],
   "source": [
    "from chainer.dataset import concat_examples\n",
    "import chainer as ch\n",
    "import numpy as np"
   ]
  },
  {
   "cell_type": "code",
   "execution_count": 13,
   "metadata": {
    "collapsed": false
   },
   "outputs": [
    {
     "name": "stdout",
     "output_type": "stream",
     "text": [
      "[1 1 0 ..., 0 1 1]\n"
     ]
    },
    {
     "data": {
      "text/plain": [
       "1    4719\n",
       "0    4533\n",
       "dtype: int64"
      ]
     },
     "execution_count": 13,
     "metadata": {},
     "output_type": "execute_result"
    }
   ],
   "source": [
    "a = np.array([d['ys'] for d in data_results['train_data']])\n",
    "print a\n",
    "import pandas as pd\n",
    "pd.Series(a).value_counts()"
   ]
  },
  {
   "cell_type": "code",
   "execution_count": 12,
   "metadata": {
    "collapsed": false
   },
   "outputs": [],
   "source": [
    "# [len(x) for x in xs]"
   ]
  },
  {
   "cell_type": "code",
   "execution_count": 13,
   "metadata": {
    "collapsed": false
   },
   "outputs": [],
   "source": [
    "# pred(concat_examples([x.astype(np.int32) for x in xs], padding=vocab.ipad)).shape"
   ]
  },
  {
   "cell_type": "code",
   "execution_count": 11,
   "metadata": {
    "collapsed": false
   },
   "outputs": [],
   "source": [
    "# optimizer = ch.optimizers.Adam(alpha=.01)\n",
    "# optimizer.setup(model_results['loss_model'])\n",
    "# train_iter = ch.iterators.SerialIterator(data_results['train_data'][:100],\n",
    "#                                              64, shuffle=True, repeat=True)\n",
    "# concat_and_pad = lambda x, device:ch.dataset.concat_examples(x, device,\n",
    "#         padding=vocab.ipad)\n",
    "# updater = ch.training.StandardUpdater(train_iter, optimizer, converter=concat_and_pad)\n",
    "# print updater._optimizers['main'].target\n",
    "# trainer = ch.training.Trainer(updater, (1,'epoch'))\n",
    "# trainer.run()"
   ]
  },
  {
   "cell_type": "code",
   "execution_count": 12,
   "metadata": {
    "collapsed": false
   },
   "outputs": [],
   "source": [
    "# concat_and_pad(train_iter.next(), None)"
   ]
  },
  {
   "cell_type": "code",
   "execution_count": 13,
   "metadata": {
    "collapsed": false
   },
   "outputs": [],
   "source": [
    "# vars(trainer)"
   ]
  },
  {
   "cell_type": "code",
   "execution_count": null,
   "metadata": {
    "collapsed": false
   },
   "outputs": [],
   "source": [
    "from chainer_monitor.run_experiment import run_experiment"
   ]
  },
  {
   "cell_type": "code",
   "execution_count": 80,
   "metadata": {
    "collapsed": false,
    "scrolled": true
   },
   "outputs": [
    {
     "name": "stderr",
     "output_type": "stream",
     "text": [
      "[INFO] 2017-07-01 05:00:00,484: sh.command: <Command u'/Applications/Xcode.app/Contents/Developer/usr/bin/git commit -a -m \"auto commit tracked files for new experiment: chainer_experiments/Jul-01-2017-05.00.457058_experiment\" --allow-empty'>: starting process\n",
      "[INFO] 2017-07-01 05:00:00,538: sh.command: <Command u'/Applications/Xcode.app/Contents/Developer/usr/bin/git commit -a -m \"auto commit tracked files for new experiment: chainer_experiments/Jul-01-2017-05.00.457058_experiment\" --allow-empty', pid 90360>: process started\n",
      "[INFO] 2017-07-01 05:00:00,696: sh.command: <Command u'/Applications/Xcode.app/Contents/Developer/usr/bin/git commit -a -m \"auto commit tracked files for new experiment: chainer_experiments/Jul-01-2017-05.00.457058_experiment\" --allow-empty', pid 90360>: process completed\n",
      "[INFO] 2017-07-01 05:00:00,699: sh.command: <Command u'/Applications/Xcode.app/Contents/Developer/usr/bin/git rev-parse HEAD'>: starting process\n",
      "[INFO] 2017-07-01 05:00:00,722: sh.command: <Command u'/Applications/Xcode.app/Contents/Developer/usr/bin/git rev-parse HEAD', pid 90363>: process started\n",
      "[INFO] 2017-07-01 05:00:00,729: sh.command: <Command u'/Applications/Xcode.app/Contents/Developer/usr/bin/git rev-parse HEAD', pid 90363>: process completed\n",
      "[INFO] 2017-07-01 05:00:00,730: sh.command: <Command u'/Applications/Xcode.app/Contents/Developer/usr/bin/git rev-parse HEAD', pid 90363>: process completed\n",
      "[INFO] 2017-07-01 05:00:00,731: sh.command: <Command u'/Applications/Xcode.app/Contents/Developer/usr/bin/git rev-parse HEAD', pid 90363>: process completed\n",
      "[INFO] 2017-07-01 05:00:00,737: chainer_monitor.run_experiment: Loading dataset\n"
     ]
    },
    {
     "name": "stdout",
     "output_type": "stream",
     "text": [
      "Setting pad token to have a zeros embeddings\n",
      "Pretrained coverage: 26372/31173 = 84.60%\n"
     ]
    },
    {
     "name": "stderr",
     "output_type": "stream",
     "text": [
      "[INFO] 2017-07-01 05:00:49,899: data_setup: 9252 Training examples, 2314 Dev, 2975 Test\n",
      "[INFO] 2017-07-01 05:00:49,958: chainer_monitor.run_experiment: Setting up models\n",
      "[INFO] 2017-07-01 05:00:50,039: chainer_monitor.run_experiment: Setting up training\n",
      "[INFO] 2017-07-01 05:00:50,102: chainer_monitor.run_experiment: Saving experiment configuration\n",
      "[INFO] 2017-07-01 05:00:50,286: chainer_monitor.run_experiment: Running trainer\n"
     ]
    },
    {
     "name": "stdout",
     "output_type": "stream",
     "text": [
      "elapsed_time  epoch       iteration   main/loss   main/aupr   validation/main/aupr\n",
      "\u001b[J32.4295       0           1           0.755534    0.436171                          \n",
      "\u001b[J32.741        0           1           0.755534    0.436171                          \n",
      "\u001b[J64.9889       0           2           0.679924    0.647839                          \n",
      "\u001b[J65.0827       0           2           0.679924    0.647839                          \n",
      "\u001b[J94.3269       0           3           0.741165    0.478865                          \n",
      "\u001b[J94.4331       0           3           0.741165    0.478865                          \n",
      "\u001b[J125.72        0           4           0.693318    0.570424                          \n",
      "\u001b[J125.804       0           4           0.693318    0.570424                          \n",
      "\u001b[J152.866       0           5           0.680038    0.643823                          \n",
      "\u001b[J153.003       0           5           0.680038    0.643823                          \n",
      "\u001b[J187.467       0           6           0.694253    0.518714                          \n",
      "\u001b[J187.596       0           6           0.694253    0.518714                          \n",
      "\u001b[J213.623       0           7           0.67972     0.616805                          \n",
      "\u001b[J213.746       0           7           0.67972     0.616805                          \n",
      "\u001b[J253.864       0           8           0.66646     0.627628                          \n",
      "\u001b[J254.121       0           8           0.66646     0.627628                          \n",
      "\u001b[J288.627       0           9           0.696352    0.495552                          \n",
      "\u001b[J288.74        0           9           0.696352    0.495552                          \n",
      "\u001b[J320.857       0           10          0.696024    0.546367                          \n",
      "\u001b[J321.059       0           10          0.696024    0.546367                          \n",
      "\u001b[J354.858       0           11          0.68949     0.566256                          \n",
      "\u001b[J355.039       0           11          0.68949     0.566256                          \n",
      "\u001b[J384.94        0           12          0.677982    0.55479                           \n",
      "\u001b[J385.11        0           12          0.677982    0.55479                           \n",
      "\u001b[J416.002       0           13          0.679694    0.618763                          \n",
      "\u001b[J416.173       0           13          0.679694    0.618763                          \n",
      "\u001b[J444.217       0           14          0.682339    0.565751                          \n",
      "\u001b[J444.453       0           14          0.682339    0.565751                          \n",
      "\u001b[J478.247       0           15          0.682735    0.558561                          \n",
      "\u001b[J478.449       0           15          0.682735    0.558561                          \n",
      "\u001b[J511.154       0           16          0.678224    0.613476                          \n",
      "\u001b[J511.293       0           16          0.678224    0.613476                          \n",
      "\u001b[J542.513       0           17          0.693898    0.533357                          \n",
      "\u001b[J542.683       0           17          0.693898    0.533357                          \n",
      "\u001b[J573.907       0           18          0.665053    0.615176                          \n",
      "\u001b[J574.066       0           18          0.665053    0.615176                          \n",
      "\u001b[J607.341       0           19          0.680968    0.568279                          \n",
      "\u001b[J607.515       0           19          0.680968    0.568279                          \n",
      "\u001b[J639.296       0           20          0.684505    0.580959                          \n",
      "\u001b[J639.465       0           20          0.684505    0.580959                          \n",
      "\u001b[J665.788       0           21          0.679897    0.523149                          \n",
      "\u001b[J665.973       0           21          0.679897    0.523149                          \n",
      "\u001b[J697.28        0           22          0.693082    0.616606                          \n",
      "\u001b[J697.47        0           22          0.693082    0.616606                          \n",
      "\u001b[J730.077       0           23          0.684439    0.692593                          \n",
      "\u001b[J730.304       0           23          0.684439    0.692593                          \n",
      "\u001b[J766.383       0           24          0.679021    0.662886                          \n",
      "\u001b[J766.599       0           24          0.679021    0.662886                          \n",
      "\u001b[J805.856       0           25          0.680049    0.529697                          \n",
      "\u001b[J806.06        0           25          0.680049    0.529697                          \n",
      "\u001b[J840.577       0           26          0.681732    0.520604                          \n",
      "\u001b[J840.797       0           26          0.681732    0.520604                          \n",
      "\u001b[J873.901       0           27          0.682391    0.655551                          \n",
      "\u001b[J874.18        0           27          0.682391    0.655551                          \n",
      "\u001b[J903.881       0           28          0.683175    0.513736                          \n",
      "\u001b[J904.353       0           28          0.683175    0.513736                          \n",
      "\u001b[J939.222       0           29          0.680993    0.541649                          \n",
      "\u001b[J939.475       0           29          0.680993    0.541649                          \n",
      "\u001b[J972.667       0           30          0.69422     0.674529                          \n",
      "\u001b[J972.945       0           30          0.69422     0.674529                          \n",
      "\u001b[J1004.65       0           31          0.682299    0.622109                          \n",
      "\u001b[J1004.89       0           31          0.682299    0.622109                          \n",
      "\u001b[J1025.26       0           32          0.682595    0.567741                          \n",
      "\u001b[J1025.5        0           32          0.682595    0.567741                          \n",
      "\u001b[J1055.66       0           33          0.683126    0.544967                          \n",
      "\u001b[J1055.95       0           33          0.683126    0.544967                          \n",
      "\u001b[J1084.27       0           34          0.684426    0.671626                          \n",
      "\u001b[J1084.55       0           34          0.684426    0.671626                          \n",
      "\u001b[J1119.3        0           35          0.687059    0.503095                          \n",
      "\u001b[J1119.67       0           35          0.687059    0.503095                          \n",
      "\u001b[J1157.96       0           36          0.68526     0.539726                          \n",
      "\u001b[J1158.23       0           36          0.68526     0.539726                          \n",
      "\u001b[J1288.9        1           37          0.684656    0.445693    0.406905              \n",
      "\u001b[J1289.24       1           37          0.684656    0.445693    0.406905              \n",
      "\u001b[J1327.21       1           38          0.696467    0.438985                          \n",
      "\u001b[J1327.51       1           38          0.696467    0.438985                          \n",
      "\u001b[J1358.82       1           39          0.684852    0.502814                          \n",
      "\u001b[J1359.26       1           39          0.684852    0.502814                          \n",
      "\u001b[J1396.31       1           40          0.686838    0.43021                           \n",
      "\u001b[J1397.38       1           40          0.686838    0.43021                           \n",
      "\u001b[J1426.36       1           41          0.689299    0.423281                          \n",
      "\u001b[J1427.32       1           41          0.689299    0.423281                          \n",
      "\u001b[J1476.17       1           42          0.687964    0.399071                          \n",
      "\u001b[J1477.06       1           42          0.687964    0.399071                          \n",
      "\u001b[J1523.81       1           43          0.687846    0.405368                          \n",
      "\u001b[J1524.76       1           43          0.687846    0.405368                          \n"
     ]
    },
    {
     "ename": "KeyboardInterrupt",
     "evalue": "",
     "output_type": "error",
     "traceback": [
      "\u001b[0;31m---------------------------------------------------------------------------\u001b[0m",
      "\u001b[0;31mKeyboardInterrupt\u001b[0m                         Traceback (most recent call last)",
      "\u001b[0;32m<ipython-input-80-489ef1704328>\u001b[0m in \u001b[0;36m<module>\u001b[0;34m()\u001b[0m\n\u001b[1;32m      1\u001b[0m \u001b[0mconfig\u001b[0m \u001b[0;34m=\u001b[0m \u001b[0myaml\u001b[0m\u001b[0;34m.\u001b[0m\u001b[0mload\u001b[0m\u001b[0;34m(\u001b[0m\u001b[0mopen\u001b[0m\u001b[0;34m(\u001b[0m\u001b[0;34m'cnn_setup_base_config.yaml'\u001b[0m\u001b[0;34m)\u001b[0m\u001b[0;34m)\u001b[0m\u001b[0;34m\u001b[0m\u001b[0m\n\u001b[0;32m----> 2\u001b[0;31m \u001b[0mrun_experiment\u001b[0m\u001b[0;34m(\u001b[0m\u001b[0mconfig\u001b[0m\u001b[0;34m,\u001b[0m \u001b[0;34m'101693'\u001b[0m\u001b[0;34m)\u001b[0m\u001b[0;34m\u001b[0m\u001b[0m\n\u001b[0m",
      "\u001b[0;32m/Users/thomaseffland/.virtualenvs/research/lib/python2.7/site-packages/chainer_monitor/run_experiment.pyc\u001b[0m in \u001b[0;36mrun_experiment\u001b[0;34m(config, mongo_password)\u001b[0m\n\u001b[1;32m    199\u001b[0m                                     \u001b[0;31m'\u001b[0m\u001b[0;34m<\u001b[0m\u001b[0mh3\u001b[0m\u001b[0;34m>\u001b[0m\u001b[0mExperiment\u001b[0m \u001b[0;34m{\u001b[0m\u001b[0;34m}\u001b[0m \u001b[0mhas\u001b[0m \u001b[0msetup\u001b[0m \u001b[0msuccessfully\u001b[0m \u001b[0;32mand\u001b[0m \u001b[0;32mis\u001b[0m \u001b[0mstarting\u001b[0m\u001b[0;34m<\u001b[0m\u001b[0;34m/\u001b[0m\u001b[0mh3\u001b[0m\u001b[0;34m>\u001b[0m\u001b[0;31m\\\u001b[0m\u001b[0mn\u001b[0m\u001b[0;31m\\\u001b[0m\u001b[0mn\u001b[0m\u001b[0;31m\\\u001b[0m\u001b[0;34m\u001b[0m\u001b[0m\n\u001b[1;32m    200\u001b[0m Here is the configuration:\\n\\n<pre>{}</pre>'.format(results_dir, pprint.pformat(full_config)))\n\u001b[0;32m--> 201\u001b[0;31m         \u001b[0mtrainer\u001b[0m\u001b[0;34m.\u001b[0m\u001b[0mrun\u001b[0m\u001b[0;34m(\u001b[0m\u001b[0;34m)\u001b[0m\u001b[0;34m\u001b[0m\u001b[0m\n\u001b[0m\u001b[1;32m    202\u001b[0m \u001b[0;34m\u001b[0m\u001b[0m\n\u001b[1;32m    203\u001b[0m         \u001b[0;31m# finish up\u001b[0m\u001b[0;34m\u001b[0m\u001b[0;34m\u001b[0m\u001b[0m\n",
      "\u001b[0;32m/Users/thomaseffland/.virtualenvs/research/lib/python2.7/site-packages/chainer/training/trainer.pyc\u001b[0m in \u001b[0;36mrun\u001b[0;34m(self)\u001b[0m\n\u001b[1;32m    294\u001b[0m                 \u001b[0mself\u001b[0m\u001b[0;34m.\u001b[0m\u001b[0mobservation\u001b[0m \u001b[0;34m=\u001b[0m \u001b[0;34m{\u001b[0m\u001b[0;34m}\u001b[0m\u001b[0;34m\u001b[0m\u001b[0m\n\u001b[1;32m    295\u001b[0m                 \u001b[0;32mwith\u001b[0m \u001b[0mreporter\u001b[0m\u001b[0;34m.\u001b[0m\u001b[0mscope\u001b[0m\u001b[0;34m(\u001b[0m\u001b[0mself\u001b[0m\u001b[0;34m.\u001b[0m\u001b[0mobservation\u001b[0m\u001b[0;34m)\u001b[0m\u001b[0;34m:\u001b[0m\u001b[0;34m\u001b[0m\u001b[0m\n\u001b[0;32m--> 296\u001b[0;31m                     \u001b[0mupdate\u001b[0m\u001b[0;34m(\u001b[0m\u001b[0;34m)\u001b[0m\u001b[0;34m\u001b[0m\u001b[0m\n\u001b[0m\u001b[1;32m    297\u001b[0m                     \u001b[0;32mfor\u001b[0m \u001b[0mname\u001b[0m\u001b[0;34m,\u001b[0m \u001b[0mentry\u001b[0m \u001b[0;32min\u001b[0m \u001b[0mextensions\u001b[0m\u001b[0;34m:\u001b[0m\u001b[0;34m\u001b[0m\u001b[0m\n\u001b[1;32m    298\u001b[0m                         \u001b[0;32mif\u001b[0m \u001b[0mentry\u001b[0m\u001b[0;34m.\u001b[0m\u001b[0mtrigger\u001b[0m\u001b[0;34m(\u001b[0m\u001b[0mself\u001b[0m\u001b[0;34m)\u001b[0m\u001b[0;34m:\u001b[0m\u001b[0;34m\u001b[0m\u001b[0m\n",
      "\u001b[0;32m/Users/thomaseffland/.virtualenvs/research/lib/python2.7/site-packages/chainer/training/updater.pyc\u001b[0m in \u001b[0;36mupdate\u001b[0;34m(self)\u001b[0m\n\u001b[1;32m    175\u001b[0m \u001b[0;34m\u001b[0m\u001b[0m\n\u001b[1;32m    176\u001b[0m     \u001b[0;32mdef\u001b[0m \u001b[0mupdate\u001b[0m\u001b[0;34m(\u001b[0m\u001b[0mself\u001b[0m\u001b[0;34m)\u001b[0m\u001b[0;34m:\u001b[0m\u001b[0;34m\u001b[0m\u001b[0m\n\u001b[0;32m--> 177\u001b[0;31m         \u001b[0mself\u001b[0m\u001b[0;34m.\u001b[0m\u001b[0mupdate_core\u001b[0m\u001b[0;34m(\u001b[0m\u001b[0;34m)\u001b[0m\u001b[0;34m\u001b[0m\u001b[0m\n\u001b[0m\u001b[1;32m    178\u001b[0m         \u001b[0mself\u001b[0m\u001b[0;34m.\u001b[0m\u001b[0miteration\u001b[0m \u001b[0;34m+=\u001b[0m \u001b[0;36m1\u001b[0m\u001b[0;34m\u001b[0m\u001b[0m\n\u001b[1;32m    179\u001b[0m \u001b[0;34m\u001b[0m\u001b[0m\n",
      "\u001b[0;32m/Users/thomaseffland/.virtualenvs/research/lib/python2.7/site-packages/chainer/training/updater.pyc\u001b[0m in \u001b[0;36mupdate_core\u001b[0;34m(self)\u001b[0m\n\u001b[1;32m    188\u001b[0m             \u001b[0moptimizer\u001b[0m\u001b[0;34m.\u001b[0m\u001b[0mupdate\u001b[0m\u001b[0;34m(\u001b[0m\u001b[0mloss_func\u001b[0m\u001b[0;34m,\u001b[0m \u001b[0;34m*\u001b[0m\u001b[0min_arrays\u001b[0m\u001b[0;34m)\u001b[0m\u001b[0;34m\u001b[0m\u001b[0m\n\u001b[1;32m    189\u001b[0m         \u001b[0;32melif\u001b[0m \u001b[0misinstance\u001b[0m\u001b[0;34m(\u001b[0m\u001b[0min_arrays\u001b[0m\u001b[0;34m,\u001b[0m \u001b[0mdict\u001b[0m\u001b[0;34m)\u001b[0m\u001b[0;34m:\u001b[0m\u001b[0;34m\u001b[0m\u001b[0m\n\u001b[0;32m--> 190\u001b[0;31m             \u001b[0moptimizer\u001b[0m\u001b[0;34m.\u001b[0m\u001b[0mupdate\u001b[0m\u001b[0;34m(\u001b[0m\u001b[0mloss_func\u001b[0m\u001b[0;34m,\u001b[0m \u001b[0;34m**\u001b[0m\u001b[0min_arrays\u001b[0m\u001b[0;34m)\u001b[0m\u001b[0;34m\u001b[0m\u001b[0m\n\u001b[0m\u001b[1;32m    191\u001b[0m         \u001b[0;32melse\u001b[0m\u001b[0;34m:\u001b[0m\u001b[0;34m\u001b[0m\u001b[0m\n\u001b[1;32m    192\u001b[0m             \u001b[0moptimizer\u001b[0m\u001b[0;34m.\u001b[0m\u001b[0mupdate\u001b[0m\u001b[0;34m(\u001b[0m\u001b[0mloss_func\u001b[0m\u001b[0;34m,\u001b[0m \u001b[0min_arrays\u001b[0m\u001b[0;34m)\u001b[0m\u001b[0;34m\u001b[0m\u001b[0m\n",
      "\u001b[0;32m/Users/thomaseffland/.virtualenvs/research/lib/python2.7/site-packages/chainer_monitor/retain_grad.pyc\u001b[0m in \u001b[0;36mupdate_retain_grad\u001b[0;34m(self, lossfun, *args, **kwds)\u001b[0m\n\u001b[1;32m     23\u001b[0m         \u001b[0;32mif\u001b[0m \u001b[0mlossfun\u001b[0m \u001b[0;32mis\u001b[0m \u001b[0;32mnot\u001b[0m \u001b[0mNone\u001b[0m\u001b[0;34m:\u001b[0m\u001b[0;34m\u001b[0m\u001b[0m\n\u001b[1;32m     24\u001b[0m             \u001b[0muse_cleargrads\u001b[0m \u001b[0;34m=\u001b[0m \u001b[0mgetattr\u001b[0m\u001b[0;34m(\u001b[0m\u001b[0mself\u001b[0m\u001b[0;34m,\u001b[0m \u001b[0;34m'_use_cleargrads'\u001b[0m\u001b[0;34m,\u001b[0m \u001b[0mTrue\u001b[0m\u001b[0;34m)\u001b[0m\u001b[0;34m\u001b[0m\u001b[0m\n\u001b[0;32m---> 25\u001b[0;31m             \u001b[0mloss\u001b[0m \u001b[0;34m=\u001b[0m \u001b[0mlossfun\u001b[0m\u001b[0;34m(\u001b[0m\u001b[0;34m*\u001b[0m\u001b[0margs\u001b[0m\u001b[0;34m,\u001b[0m \u001b[0;34m**\u001b[0m\u001b[0mkwds\u001b[0m\u001b[0;34m)\u001b[0m\u001b[0;34m\u001b[0m\u001b[0m\n\u001b[0m\u001b[1;32m     26\u001b[0m             \u001b[0;32mif\u001b[0m \u001b[0muse_cleargrads\u001b[0m\u001b[0;34m:\u001b[0m\u001b[0;34m\u001b[0m\u001b[0m\n\u001b[1;32m     27\u001b[0m                 \u001b[0mself\u001b[0m\u001b[0;34m.\u001b[0m\u001b[0mtarget\u001b[0m\u001b[0;34m.\u001b[0m\u001b[0mcleargrads\u001b[0m\u001b[0;34m(\u001b[0m\u001b[0;34m)\u001b[0m\u001b[0;34m\u001b[0m\u001b[0m\n",
      "\u001b[0;32m/Users/thomaseffland/Development/projects/fbnyc/FoodborneNYC/jamia_2017/revision/experiments/weighted_loss_model.py\u001b[0m in \u001b[0;36m__call__\u001b[0;34m(self, xs, ys, weights, is_biased)\u001b[0m\n\u001b[1;32m     11\u001b[0m \u001b[0;34m\u001b[0m\u001b[0m\n\u001b[1;32m     12\u001b[0m     \u001b[0;32mdef\u001b[0m \u001b[0m__call__\u001b[0m\u001b[0;34m(\u001b[0m\u001b[0mself\u001b[0m\u001b[0;34m,\u001b[0m \u001b[0mxs\u001b[0m\u001b[0;34m,\u001b[0m \u001b[0mys\u001b[0m\u001b[0;34m,\u001b[0m \u001b[0mweights\u001b[0m\u001b[0;34m,\u001b[0m \u001b[0mis_biased\u001b[0m\u001b[0;34m)\u001b[0m\u001b[0;34m:\u001b[0m\u001b[0;34m\u001b[0m\u001b[0m\n\u001b[0;32m---> 13\u001b[0;31m         \u001b[0my_scores\u001b[0m \u001b[0;34m=\u001b[0m \u001b[0mself\u001b[0m\u001b[0;34m.\u001b[0m\u001b[0mpredictor\u001b[0m\u001b[0;34m(\u001b[0m\u001b[0mxs\u001b[0m\u001b[0;34m)\u001b[0m\u001b[0;34m\u001b[0m\u001b[0m\n\u001b[0m\u001b[1;32m     14\u001b[0m         \u001b[0my_pred_probs\u001b[0m \u001b[0;34m=\u001b[0m \u001b[0mF\u001b[0m\u001b[0;34m.\u001b[0m\u001b[0msoftmax\u001b[0m\u001b[0;34m(\u001b[0m\u001b[0my_scores\u001b[0m\u001b[0;34m)\u001b[0m\u001b[0;34m\u001b[0m\u001b[0m\n\u001b[1;32m     15\u001b[0m         \u001b[0mys\u001b[0m \u001b[0;34m=\u001b[0m \u001b[0mself\u001b[0m\u001b[0;34m.\u001b[0m\u001b[0m_maybe_change_type\u001b[0m\u001b[0;34m(\u001b[0m\u001b[0mys\u001b[0m\u001b[0;34m)\u001b[0m\u001b[0;34m\u001b[0m\u001b[0m\n",
      "\u001b[0;32m/Users/thomaseffland/Development/projects/fbnyc/FoodborneNYC/jamia_2017/revision/experiments/cnn_model.py\u001b[0m in \u001b[0;36m__call__\u001b[0;34m(self, xs)\u001b[0m\n\u001b[1;32m     36\u001b[0m         \u001b[0;31m# print 'x_vec shape:', x_vecs.shape\u001b[0m\u001b[0;34m\u001b[0m\u001b[0;34m\u001b[0m\u001b[0m\n\u001b[1;32m     37\u001b[0m         filter_activations = [ self.f(conv(F.expand_dims(x_vecs,1)))\n\u001b[0;32m---> 38\u001b[0;31m                                for conv in self.convs ]\n\u001b[0m\u001b[1;32m     39\u001b[0m         \u001b[0;32mfor\u001b[0m \u001b[0mi\u001b[0m\u001b[0;34m,\u001b[0m \u001b[0mf\u001b[0m \u001b[0;32min\u001b[0m \u001b[0menumerate\u001b[0m\u001b[0;34m(\u001b[0m\u001b[0mfilter_activations\u001b[0m\u001b[0;34m)\u001b[0m\u001b[0;34m:\u001b[0m\u001b[0;34m\u001b[0m\u001b[0m\n\u001b[1;32m     40\u001b[0m             \u001b[0mmonitor\u001b[0m\u001b[0;34m(\u001b[0m\u001b[0;34m'f(cnn(activation)) for ngram {}'\u001b[0m\u001b[0;34m.\u001b[0m\u001b[0mformat\u001b[0m\u001b[0;34m(\u001b[0m\u001b[0mi\u001b[0m\u001b[0;34m)\u001b[0m\u001b[0;34m,\u001b[0m \u001b[0mf\u001b[0m\u001b[0;34m,\u001b[0m \u001b[0mself\u001b[0m\u001b[0;34m)\u001b[0m\u001b[0;34m\u001b[0m\u001b[0m\n",
      "\u001b[0;32m/Users/thomaseffland/.virtualenvs/research/lib/python2.7/site-packages/chainer/links/connection/convolution_2d.pyc\u001b[0m in \u001b[0;36m__call__\u001b[0;34m(self, x)\u001b[0m\n\u001b[1;32m    152\u001b[0m             \u001b[0mself\u001b[0m\u001b[0;34m.\u001b[0m\u001b[0m_initialize_params\u001b[0m\u001b[0;34m(\u001b[0m\u001b[0mx\u001b[0m\u001b[0;34m.\u001b[0m\u001b[0mshape\u001b[0m\u001b[0;34m[\u001b[0m\u001b[0;36m1\u001b[0m\u001b[0;34m]\u001b[0m\u001b[0;34m)\u001b[0m\u001b[0;34m\u001b[0m\u001b[0m\n\u001b[1;32m    153\u001b[0m         return convolution_2d.convolution_2d(\n\u001b[0;32m--> 154\u001b[0;31m             x, self.W, self.b, self.stride, self.pad)\n\u001b[0m\u001b[1;32m    155\u001b[0m \u001b[0;34m\u001b[0m\u001b[0m\n\u001b[1;32m    156\u001b[0m \u001b[0;34m\u001b[0m\u001b[0m\n",
      "\u001b[0;32m/Users/thomaseffland/.virtualenvs/research/lib/python2.7/site-packages/chainer/functions/connection/convolution_2d.pyc\u001b[0m in \u001b[0;36mconvolution_2d\u001b[0;34m(x, W, b, stride, pad, cover_all, **kwargs)\u001b[0m\n\u001b[1;32m    437\u001b[0m         \u001b[0;32mreturn\u001b[0m \u001b[0mfunc\u001b[0m\u001b[0;34m(\u001b[0m\u001b[0mx\u001b[0m\u001b[0;34m,\u001b[0m \u001b[0mW\u001b[0m\u001b[0;34m)\u001b[0m\u001b[0;34m\u001b[0m\u001b[0m\n\u001b[1;32m    438\u001b[0m     \u001b[0;32melse\u001b[0m\u001b[0;34m:\u001b[0m\u001b[0;34m\u001b[0m\u001b[0m\n\u001b[0;32m--> 439\u001b[0;31m         \u001b[0;32mreturn\u001b[0m \u001b[0mfunc\u001b[0m\u001b[0;34m(\u001b[0m\u001b[0mx\u001b[0m\u001b[0;34m,\u001b[0m \u001b[0mW\u001b[0m\u001b[0;34m,\u001b[0m \u001b[0mb\u001b[0m\u001b[0;34m)\u001b[0m\u001b[0;34m\u001b[0m\u001b[0m\n\u001b[0m",
      "\u001b[0;32m/Users/thomaseffland/.virtualenvs/research/lib/python2.7/site-packages/chainer/function.pyc\u001b[0m in \u001b[0;36m__call__\u001b[0;34m(self, *inputs)\u001b[0m\n\u001b[1;32m    198\u001b[0m             \u001b[0mself\u001b[0m\u001b[0;34m.\u001b[0m\u001b[0m_input_indexes_to_retain\u001b[0m \u001b[0;34m=\u001b[0m \u001b[0mNone\u001b[0m\u001b[0;34m\u001b[0m\u001b[0m\n\u001b[1;32m    199\u001b[0m             \u001b[0mself\u001b[0m\u001b[0;34m.\u001b[0m\u001b[0m_output_indexes_to_retain\u001b[0m \u001b[0;34m=\u001b[0m \u001b[0mNone\u001b[0m\u001b[0;34m\u001b[0m\u001b[0m\n\u001b[0;32m--> 200\u001b[0;31m             \u001b[0moutputs\u001b[0m \u001b[0;34m=\u001b[0m \u001b[0mself\u001b[0m\u001b[0;34m.\u001b[0m\u001b[0mforward\u001b[0m\u001b[0;34m(\u001b[0m\u001b[0min_data\u001b[0m\u001b[0;34m)\u001b[0m\u001b[0;34m\u001b[0m\u001b[0m\n\u001b[0m\u001b[1;32m    201\u001b[0m             \u001b[0;32massert\u001b[0m \u001b[0mtype\u001b[0m\u001b[0;34m(\u001b[0m\u001b[0moutputs\u001b[0m\u001b[0;34m)\u001b[0m \u001b[0;34m==\u001b[0m \u001b[0mtuple\u001b[0m\u001b[0;34m\u001b[0m\u001b[0m\n\u001b[1;32m    202\u001b[0m         \u001b[0;32mfor\u001b[0m \u001b[0mhook\u001b[0m \u001b[0;32min\u001b[0m \u001b[0msix\u001b[0m\u001b[0;34m.\u001b[0m\u001b[0mitervalues\u001b[0m\u001b[0;34m(\u001b[0m\u001b[0mhooks\u001b[0m\u001b[0;34m)\u001b[0m\u001b[0;34m:\u001b[0m\u001b[0;34m\u001b[0m\u001b[0m\n",
      "\u001b[0;32m/Users/thomaseffland/.virtualenvs/research/lib/python2.7/site-packages/chainer/function.pyc\u001b[0m in \u001b[0;36mforward\u001b[0;34m(self, inputs)\u001b[0m\n\u001b[1;32m    327\u001b[0m             \u001b[0;32mreturn\u001b[0m \u001b[0mself\u001b[0m\u001b[0;34m.\u001b[0m\u001b[0mforward_gpu\u001b[0m\u001b[0;34m(\u001b[0m\u001b[0minputs\u001b[0m\u001b[0;34m)\u001b[0m\u001b[0;34m\u001b[0m\u001b[0m\n\u001b[1;32m    328\u001b[0m         \u001b[0;32melse\u001b[0m\u001b[0;34m:\u001b[0m\u001b[0;34m\u001b[0m\u001b[0m\n\u001b[0;32m--> 329\u001b[0;31m             \u001b[0;32mreturn\u001b[0m \u001b[0mself\u001b[0m\u001b[0;34m.\u001b[0m\u001b[0mforward_cpu\u001b[0m\u001b[0;34m(\u001b[0m\u001b[0minputs\u001b[0m\u001b[0;34m)\u001b[0m\u001b[0;34m\u001b[0m\u001b[0m\n\u001b[0m\u001b[1;32m    330\u001b[0m \u001b[0;34m\u001b[0m\u001b[0m\n\u001b[1;32m    331\u001b[0m     \u001b[0;32mdef\u001b[0m \u001b[0mforward_cpu\u001b[0m\u001b[0;34m(\u001b[0m\u001b[0mself\u001b[0m\u001b[0;34m,\u001b[0m \u001b[0minputs\u001b[0m\u001b[0;34m)\u001b[0m\u001b[0;34m:\u001b[0m\u001b[0;34m\u001b[0m\u001b[0m\n",
      "\u001b[0;32m/Users/thomaseffland/.virtualenvs/research/lib/python2.7/site-packages/chainer/functions/connection/convolution_2d.pyc\u001b[0m in \u001b[0;36mforward_cpu\u001b[0;34m(self, inputs)\u001b[0m\n\u001b[1;32m     85\u001b[0m         self.col = conv.im2col_cpu(\n\u001b[1;32m     86\u001b[0m             \u001b[0mx\u001b[0m\u001b[0;34m,\u001b[0m \u001b[0mkh\u001b[0m\u001b[0;34m,\u001b[0m \u001b[0mkw\u001b[0m\u001b[0;34m,\u001b[0m \u001b[0mself\u001b[0m\u001b[0;34m.\u001b[0m\u001b[0msy\u001b[0m\u001b[0;34m,\u001b[0m \u001b[0mself\u001b[0m\u001b[0;34m.\u001b[0m\u001b[0msx\u001b[0m\u001b[0;34m,\u001b[0m \u001b[0mself\u001b[0m\u001b[0;34m.\u001b[0m\u001b[0mph\u001b[0m\u001b[0;34m,\u001b[0m \u001b[0mself\u001b[0m\u001b[0;34m.\u001b[0m\u001b[0mpw\u001b[0m\u001b[0;34m,\u001b[0m\u001b[0;34m\u001b[0m\u001b[0m\n\u001b[0;32m---> 87\u001b[0;31m             cover_all=self.cover_all)\n\u001b[0m\u001b[1;32m     88\u001b[0m         y = numpy.tensordot(\n\u001b[1;32m     89\u001b[0m             self.col, W, ((1, 2, 3), (1, 2, 3))).astype(x.dtype, copy=False)\n",
      "\u001b[0;32m/Users/thomaseffland/.virtualenvs/research/lib/python2.7/site-packages/chainer/utils/conv.pyc\u001b[0m in \u001b[0;36mim2col_cpu\u001b[0;34m(img, kh, kw, sy, sx, ph, pw, pval, cover_all, dy, dx)\u001b[0m\n\u001b[1;32m     39\u001b[0m             \u001b[0midx\u001b[0m \u001b[0;34m=\u001b[0m \u001b[0mi\u001b[0m \u001b[0;34m*\u001b[0m \u001b[0mdx\u001b[0m\u001b[0;34m\u001b[0m\u001b[0m\n\u001b[1;32m     40\u001b[0m             \u001b[0mi_lim\u001b[0m \u001b[0;34m=\u001b[0m \u001b[0midx\u001b[0m \u001b[0;34m+\u001b[0m \u001b[0msx\u001b[0m \u001b[0;34m*\u001b[0m \u001b[0mout_w\u001b[0m\u001b[0;34m\u001b[0m\u001b[0m\n\u001b[0;32m---> 41\u001b[0;31m             \u001b[0mcol\u001b[0m\u001b[0;34m[\u001b[0m\u001b[0;34m:\u001b[0m\u001b[0;34m,\u001b[0m \u001b[0;34m:\u001b[0m\u001b[0;34m,\u001b[0m \u001b[0mj\u001b[0m\u001b[0;34m,\u001b[0m \u001b[0mi\u001b[0m\u001b[0;34m,\u001b[0m \u001b[0;34m:\u001b[0m\u001b[0;34m,\u001b[0m \u001b[0;34m:\u001b[0m\u001b[0;34m]\u001b[0m \u001b[0;34m=\u001b[0m \u001b[0mimg\u001b[0m\u001b[0;34m[\u001b[0m\u001b[0;34m:\u001b[0m\u001b[0;34m,\u001b[0m \u001b[0;34m:\u001b[0m\u001b[0;34m,\u001b[0m \u001b[0mjdy\u001b[0m\u001b[0;34m:\u001b[0m\u001b[0mj_lim\u001b[0m\u001b[0;34m:\u001b[0m\u001b[0msy\u001b[0m\u001b[0;34m,\u001b[0m \u001b[0midx\u001b[0m\u001b[0;34m:\u001b[0m\u001b[0mi_lim\u001b[0m\u001b[0;34m:\u001b[0m\u001b[0msx\u001b[0m\u001b[0;34m]\u001b[0m\u001b[0;34m\u001b[0m\u001b[0m\n\u001b[0m\u001b[1;32m     42\u001b[0m \u001b[0;34m\u001b[0m\u001b[0m\n\u001b[1;32m     43\u001b[0m     \u001b[0;32mreturn\u001b[0m \u001b[0mcol\u001b[0m\u001b[0;34m\u001b[0m\u001b[0m\n",
      "\u001b[0;31mKeyboardInterrupt\u001b[0m: "
     ]
    }
   ],
   "source": [
    "config = yaml.load(open('cnn_setup_base_config.yaml'))\n",
    "run_experiment(config, '101693')"
   ]
  },
  {
   "cell_type": "code",
   "execution_count": 21,
   "metadata": {
    "collapsed": false
   },
   "outputs": [
    {
     "name": "stdout",
     "output_type": "stream",
     "text": [
      "\u001b[34mJun-28-2017-16.30.932571_experiment\u001b[m\u001b[m/ \u001b[34mJun-28-2017-17.06.014814_experiment\u001b[m\u001b[m/\r\n",
      "\u001b[34mJun-28-2017-16.32.101715_experiment\u001b[m\u001b[m/ \u001b[34mJun-28-2017-17.10.327646_experiment\u001b[m\u001b[m/\r\n",
      "\u001b[34mJun-28-2017-16.33.062379_experiment\u001b[m\u001b[m/ \u001b[34mJun-28-2017-17.11.400609_experiment\u001b[m\u001b[m/\r\n",
      "\u001b[34mJun-28-2017-16.46.364098_experiment\u001b[m\u001b[m/ \u001b[34mJun-28-2017-17.15.762166_experiment\u001b[m\u001b[m/\r\n",
      "\u001b[34mJun-28-2017-16.55.304516_experiment\u001b[m\u001b[m/ \u001b[34mJun-28-2017-17.16.971732_experiment\u001b[m\u001b[m/\r\n",
      "\u001b[34mJun-28-2017-16.56.319239_experiment\u001b[m\u001b[m/ \u001b[34mJun-28-2017-18.03.377179_experiment\u001b[m\u001b[m/\r\n",
      "\u001b[34mJun-28-2017-17.01.517068_experiment\u001b[m\u001b[m/\r\n"
     ]
    }
   ],
   "source": [
    "ls chainer_experiments/"
   ]
  },
  {
   "cell_type": "code",
   "execution_count": 23,
   "metadata": {
    "collapsed": false
   },
   "outputs": [
    {
     "data": {
      "text/plain": [
       "<function chainer.functions.activation.softmax.softmax>"
      ]
     },
     "execution_count": 23,
     "metadata": {},
     "output_type": "execute_result"
    }
   ],
   "source": [
    "from chainer import functions as F\n",
    "F.softmax"
   ]
  },
  {
   "cell_type": "code",
   "execution_count": 12,
   "metadata": {
    "collapsed": false
   },
   "outputs": [],
   "source": [
    "def recursive_set_with_slice(base, grid, i):\n",
    "    for gkey in grid:\n",
    "        if type(base[gkey]) is dict:\n",
    "            base[gkey] = recursive_set_with_slice(base[gkey], grid[gkey], i)\n",
    "        else:\n",
    "            base[gkey] = grid[gkey][i]\n",
    "    return base\n",
    "\n",
    "def chainer_random_search(base_config, trials_config, N):\n",
    "    title = base_config['title'][:]\n",
    "    for i in range(N):\n",
    "        config = recursive_set_with_slice(base_config, trials_config, i)\n",
    "        config['title'] = title+' hp[{}]'.format(i)\n",
    "        print 'Experiment {} config: {}'.format(i, config)\n",
    "        run_experiment(config, '101693')\n",
    "    print \"All Done\""
   ]
  },
  {
   "cell_type": "code",
   "execution_count": 27,
   "metadata": {
    "collapsed": false
   },
   "outputs": [],
   "source": [
    "import numpy.random as npr\n",
    "import numpy as np\n",
    "from chainer_monitor.run_experiment import run_experiment"
   ]
  },
  {
   "cell_type": "code",
   "execution_count": 26,
   "metadata": {
    "collapsed": false,
    "scrolled": false
   },
   "outputs": [
    {
     "name": "stderr",
     "output_type": "stream",
     "text": [
      "[INFO] 2017-07-01 06:11:13,755: sh.command: <Command u'/Applications/Xcode.app/Contents/Developer/usr/bin/git commit -a -m \"auto commit tracked files for new experiment: chainer_experiments/Jul-01-2017-06.11.753820_experiment\" --allow-empty'>: starting process\n",
      "[INFO] 2017-07-01 06:11:13,780: sh.command: <Command u'/Applications/Xcode.app/Contents/Developer/usr/bin/git commit -a -m \"auto commit tracked files for new experiment: chainer_experiments/Jul-01-2017-06.11.753820_experiment\" --allow-empty', pid 95606>: process started\n",
      "[INFO] 2017-07-01 06:11:13,819: sh.command: <Command u'/Applications/Xcode.app/Contents/Developer/usr/bin/git commit -a -m \"auto commit tracked files for new experiment: chainer_experiments/Jul-01-2017-06.11.753820_experiment\" --allow-empty', pid 95606>: process completed\n",
      "[INFO] 2017-07-01 06:11:13,822: sh.command: <Command u'/Applications/Xcode.app/Contents/Developer/usr/bin/git rev-parse HEAD'>: starting process\n",
      "[INFO] 2017-07-01 06:11:13,865: sh.command: <Command u'/Applications/Xcode.app/Contents/Developer/usr/bin/git rev-parse HEAD', pid 95608>: process started\n",
      "[INFO] 2017-07-01 06:11:13,883: sh.command: <Command u'/Applications/Xcode.app/Contents/Developer/usr/bin/git rev-parse HEAD', pid 95608>: process completed\n",
      "[INFO] 2017-07-01 06:11:13,884: sh.command: <Command u'/Applications/Xcode.app/Contents/Developer/usr/bin/git rev-parse HEAD', pid 95608>: process completed\n",
      "[INFO] 2017-07-01 06:11:13,886: sh.command: <Command u'/Applications/Xcode.app/Contents/Developer/usr/bin/git rev-parse HEAD', pid 95608>: process completed\n",
      "[INFO] 2017-07-01 06:11:13,915: chainer_monitor.run_experiment: Loading dataset\n"
     ]
    },
    {
     "name": "stdout",
     "output_type": "stream",
     "text": [
      "Experiment 0 config: {'task': 'DOHMH: Yelp Multiple', 'random_seed': 0, 'description': 'Uses an ngram convolution over the input doc', 'title': 'CNN simple hp search test hp[0]', 'mongo_config': {'username': 'tom', 'host': 'teffland.cs.columbia.edu', 'port': 27017, 'database': 'experiments'}, 'model_setup': {'setup_file': 'cnn_model_setup.py', 'setup_config': {'cnn_pooling': 'max', 'cnn_activation_func': 'leaky_relu', 'cnn_n_filters_per': 10, 'cnn_ngrams': [1, 2, 3], 'dropout_prob': 0.25}}, 'trainer_setup': {'setup_file': 'chainer_trainer_setup.py', 'setup_config': {'adam_alpha': 0.0079270368455369288, 'n_epoch': 50, 'early_stop_patience': 5, 'batch_size': 64, 'evaluation_trigger': [1, 'epoch'], 'l2_coef': 4.5782528482199778, 'freeze_embeddings': True, 'max_examples': 64, 'checkpoint_trigger': [1, 'epoch']}}, 'data_setup': {'setup_file': 'chainer_data_setup.py', 'setup_config': {'lowercase': True, 'pretrained_vectors': '../data/word_vectors/trimmed_glove.840B.300d.txt', 'train_regime': 'biased', 'normalize_vectors': True, 'trim_vector_file': False, 'dev_portion': 0.2, 'split_random_seed': 0, 'response_key': 'is_multiple'}}, 'results_dir_prefix': 'chainer_experiments/', 'email': 'teffland@cs.columbia.edu'}\n",
      "Setting pad token to have a zeros embeddings\n",
      "Pretrained coverage: 26372/31173 = 84.60%\n"
     ]
    },
    {
     "name": "stderr",
     "output_type": "stream",
     "text": [
      "[INFO] 2017-07-01 06:11:51,111: data_setup: 9252 Training examples, 2314 Dev, 2975 Test\n",
      "[INFO] 2017-07-01 06:11:51,167: chainer_monitor.run_experiment: Setting up models\n",
      "[INFO] 2017-07-01 06:11:51,294: chainer_monitor.run_experiment: Setting up training\n",
      "[INFO] 2017-07-01 06:11:51,310: chainer_monitor.run_experiment: Saving experiment configuration\n",
      "[INFO] 2017-07-01 06:11:51,477: chainer_monitor.run_experiment: Running trainer\n"
     ]
    },
    {
     "name": "stdout",
     "output_type": "stream",
     "text": [
      "elapsed_time  epoch       iteration   main/loss   main/aupr   validation/main/aupr\n",
      "\u001b[J5.84372       1           1           0.522713    0.151109    0.116716              \n",
      "\u001b[J6.07268       1           1           0.522713    0.151109    0.116716              \n",
      "\u001b[J19.1733       2           2           0.486748    0.161914    0.203292              \n",
      "\u001b[J19.2465       2           2           0.486748    0.161914    0.203292              \n",
      "\u001b[J31.0402       3           3           0.463914    0.191124    0.201455              \n",
      "\u001b[J31.117        3           3           0.463914    0.191124    0.201455              \n",
      "\u001b[J39.7433       4           4           0.454557    0.300116    0.177448              \n",
      "\u001b[J39.8226       4           4           0.454557    0.300116    0.177448              \n",
      "\u001b[J49.5831       5           5           0.450571    0.297195    0.181085              \n",
      "\u001b[J49.6976       5           5           0.450571    0.297195    0.181085              \n",
      "\u001b[J59.725        6           6           0.448892    0.379598    0.157408              \n",
      "\u001b[J59.8302       6           6           0.448892    0.379598    0.157408              \n",
      "\u001b[J68.6129       7           7           0.44647     0.418364    0.162868              \n",
      "\u001b[J68.7218       7           7           0.44647     0.418364    0.162868              \n"
     ]
    },
    {
     "name": "stderr",
     "output_type": "stream",
     "text": [
      "[INFO] 2017-07-01 06:13:06,373: chainer_monitor.run_experiment: Finished Experiment\n",
      "[INFO] 2017-07-01 06:13:08,175: sh.command: <Command u'/Applications/Xcode.app/Contents/Developer/usr/bin/git commit -a -m \"auto commit tracked files for new experiment: chainer_experiments/Jul-01-2017-06.13.171870_experiment\" --allow-empty'>: starting process\n",
      "[INFO] 2017-07-01 06:13:08,335: sh.command: <Command u'/Applications/Xcode.app/Contents/Developer/usr/bin/git commit -a -m \"auto commit tracked files for new experiment: chainer_experiments/Jul-01-2017-06.13.171870_experiment\" --allow-empty', pid 95692>: process started\n",
      "[INFO] 2017-07-01 06:13:08,370: sh.command: <Command u'/Applications/Xcode.app/Contents/Developer/usr/bin/git commit -a -m \"auto commit tracked files for new experiment: chainer_experiments/Jul-01-2017-06.13.171870_experiment\" --allow-empty', pid 95692>: process completed\n"
     ]
    },
    {
     "name": "stdout",
     "output_type": "stream",
     "text": [
      "Experiment 1 config: {'task': 'DOHMH: Yelp Multiple', 'random_seed': 0, 'description': 'Uses an ngram convolution over the input doc', 'title': 'CNN simple hp search test hp[1]', 'start_time': datetime.datetime(2017, 7, 1, 6, 11, 51, 311605), 'mongo_config': {'username': 'tom', 'host': 'teffland.cs.columbia.edu', 'port': 27017, 'database': 'experiments'}, 'model_setup': {'setup_file': 'cnn_model_setup.py', 'setup_config': {'cnn_pooling': 'max', 'cnn_activation_func': 'leaky_relu', 'cnn_n_filters_per': 45, 'cnn_ngrams': [1, 2, 3], 'dropout_prob': 0.25}}, 'hostname': 'Thomass-MacBook-Pro-2.local', 'pid': 94837, 'total_iterations': 50, 'cwd': '/Users/thomaseffland/Development/projects/fbnyc/FoodborneNYC/jamia_2017/revision/experiments', '_id': ObjectId('595775678ca2097276994b10'), 'finish_time': datetime.datetime(2017, 7, 1, 6, 13, 6, 374486), 'trainer_setup': {'setup_file': 'chainer_trainer_setup.py', 'setup_config': {'adam_alpha': 0.0038849015437591697, 'n_epoch': 50, 'early_stop_patience': 5, 'experiment_uid': 'Jul-01-2017-06.11.753820', 'results_dirname': 'chainer_experiments/Jul-01-2017-06.11.753820_experiment', 'batch_size': 64, 'evaluation_trigger': [1, 'epoch'], 'l2_coef': 8.6040647105466501, 'mongo_config': {'username': 'tom', 'host': 'teffland.cs.columbia.edu', 'port': 27017, 'database': 'experiments'}, 'freeze_embeddings': True, 'max_examples': 64, 'checkpoint_trigger': [1, 'epoch']}}, 'commit_hash': u'74b2ff735ff8f13dc4c131d3ca21fcba4cf9eced', 'data_setup': {'setup_file': 'chainer_data_setup.py', 'setup_config': {'lowercase': True, 'pretrained_vectors': '../data/word_vectors/trimmed_glove.840B.300d.txt', 'train_regime': 'biased', 'normalize_vectors': True, 'trim_vector_file': False, 'dev_portion': 0.2, 'split_random_seed': 0, 'response_key': 'is_multiple'}}, 'results_dir_prefix': 'chainer_experiments/', 'results_dirname': 'chainer_experiments/Jul-01-2017-06.11.753820_experiment', 'email': 'teffland@cs.columbia.edu', 'uid': 'Jul-01-2017-06.11.753820'}\n"
     ]
    },
    {
     "name": "stderr",
     "output_type": "stream",
     "text": [
      "[INFO] 2017-07-01 06:13:08,375: sh.command: <Command u'/Applications/Xcode.app/Contents/Developer/usr/bin/git rev-parse HEAD'>: starting process\n",
      "[INFO] 2017-07-01 06:13:08,411: sh.command: <Command u'/Applications/Xcode.app/Contents/Developer/usr/bin/git rev-parse HEAD', pid 95695>: process started\n",
      "[INFO] 2017-07-01 06:13:08,415: sh.command: <Command u'/Applications/Xcode.app/Contents/Developer/usr/bin/git rev-parse HEAD', pid 95695>: process completed\n",
      "[INFO] 2017-07-01 06:13:08,418: sh.command: <Command u'/Applications/Xcode.app/Contents/Developer/usr/bin/git rev-parse HEAD', pid 95695>: process completed\n",
      "[INFO] 2017-07-01 06:13:08,420: sh.command: <Command u'/Applications/Xcode.app/Contents/Developer/usr/bin/git rev-parse HEAD', pid 95695>: process completed\n",
      "[INFO] 2017-07-01 06:13:08,435: chainer_monitor.run_experiment: Loading dataset\n"
     ]
    },
    {
     "name": "stdout",
     "output_type": "stream",
     "text": [
      "Setting pad token to have a zeros embeddings\n",
      "Pretrained coverage: 26372/31173 = 84.60%\n"
     ]
    },
    {
     "name": "stderr",
     "output_type": "stream",
     "text": [
      "[INFO] 2017-07-01 06:13:45,012: data_setup: 9252 Training examples, 2314 Dev, 2975 Test\n",
      "[INFO] 2017-07-01 06:13:45,069: chainer_monitor.run_experiment: Setting up models\n",
      "[INFO] 2017-07-01 06:13:45,140: chainer_monitor.run_experiment: Setting up training\n",
      "[INFO] 2017-07-01 06:13:45,160: chainer_monitor.run_experiment: Saving experiment configuration\n",
      "[INFO] 2017-07-01 06:13:45,343: chainer_monitor.run_experiment: Running trainer\n"
     ]
    },
    {
     "name": "stdout",
     "output_type": "stream",
     "text": [
      "elapsed_time  epoch       iteration   main/loss   main/aupr   validation/main/aupr\n",
      "\u001b[J6.61348       1           1           0.842216    0.117007    0.234859              \n",
      "\u001b[J6.86091       1           1           0.842216    0.117007    0.234859              \n",
      "\u001b[J23.5501       2           2           0.706035    0.1228      0.190627              \n",
      "\u001b[J23.643        2           2           0.706035    0.1228      0.190627              \n",
      "\u001b[J32.9593       3           3           0.631804    0.153599    0.170581              \n",
      "\u001b[J33.0342       3           3           0.631804    0.153599    0.170581              \n",
      "\u001b[J42.1411       4           4           0.59369     0.16399     0.154413              \n",
      "\u001b[J42.2543       4           4           0.59369     0.16399     0.154413              \n",
      "\u001b[J51.1387       5           5           0.576413    0.199628    0.157797              \n",
      "\u001b[J51.2318       5           5           0.576413    0.199628    0.157797              \n",
      "\u001b[J60.6339       6           6           0.569722    0.204186    0.143771              \n",
      "\u001b[J60.732        6           6           0.569722    0.204186    0.143771              \n"
     ]
    },
    {
     "name": "stderr",
     "output_type": "stream",
     "text": [
      "[INFO] 2017-07-01 06:14:50,459: chainer_monitor.run_experiment: Finished Experiment\n",
      "[INFO] 2017-07-01 06:14:52,185: sh.command: <Command u'/Applications/Xcode.app/Contents/Developer/usr/bin/git commit -a -m \"auto commit tracked files for new experiment: chainer_experiments/Jul-01-2017-06.14.184633_experiment\" --allow-empty'>: starting process\n",
      "[INFO] 2017-07-01 06:14:52,201: sh.command: <Command u'/Applications/Xcode.app/Contents/Developer/usr/bin/git commit -a -m \"auto commit tracked files for new experiment: chainer_experiments/Jul-01-2017-06.14.184633_experiment\" --allow-empty', pid 95747>: process started\n",
      "[INFO] 2017-07-01 06:14:52,333: sh.command: <Command u'/Applications/Xcode.app/Contents/Developer/usr/bin/git commit -a -m \"auto commit tracked files for new experiment: chainer_experiments/Jul-01-2017-06.14.184633_experiment\" --allow-empty', pid 95747>: process completed\n",
      "[INFO] 2017-07-01 06:14:52,338: sh.command: <Command u'/Applications/Xcode.app/Contents/Developer/usr/bin/git rev-parse HEAD'>: starting process\n",
      "[INFO] 2017-07-01 06:14:52,365: sh.command: <Command u'/Applications/Xcode.app/Contents/Developer/usr/bin/git rev-parse HEAD', pid 95750>: process started\n",
      "[INFO] 2017-07-01 06:14:52,375: sh.command: <Command u'/Applications/Xcode.app/Contents/Developer/usr/bin/git rev-parse HEAD', pid 95750>: process completed\n",
      "[INFO] 2017-07-01 06:14:52,378: sh.command: <Command u'/Applications/Xcode.app/Contents/Developer/usr/bin/git rev-parse HEAD', pid 95750>: process completed\n",
      "[INFO] 2017-07-01 06:14:52,379: sh.command: <Command u'/Applications/Xcode.app/Contents/Developer/usr/bin/git rev-parse HEAD', pid 95750>: process completed\n"
     ]
    },
    {
     "name": "stdout",
     "output_type": "stream",
     "text": [
      "Experiment 2 config: {'task': 'DOHMH: Yelp Multiple', 'random_seed': 0, 'description': 'Uses an ngram convolution over the input doc', 'title': 'CNN simple hp search test hp[2]', 'start_time': datetime.datetime(2017, 7, 1, 6, 13, 45, 161225), 'mongo_config': {'username': 'tom', 'host': 'teffland.cs.columbia.edu', 'port': 27017, 'database': 'experiments'}, 'model_setup': {'setup_file': 'cnn_model_setup.py', 'setup_config': {'cnn_pooling': 'max', 'cnn_activation_func': 'leaky_relu', 'cnn_n_filters_per': 45, 'cnn_ngrams': [1], 'dropout_prob': 0.25}}, 'hostname': 'Thomass-MacBook-Pro-2.local', 'pid': 94837, 'total_iterations': 50, 'cwd': '/Users/thomaseffland/Development/projects/fbnyc/FoodborneNYC/jamia_2017/revision/experiments', '_id': ObjectId('595775d98ca2097276994b1a'), 'finish_time': datetime.datetime(2017, 7, 1, 6, 14, 50, 460691), 'trainer_setup': {'setup_file': 'chainer_trainer_setup.py', 'setup_config': {'adam_alpha': 0.002384383320105603, 'n_epoch': 50, 'early_stop_patience': 5, 'experiment_uid': 'Jul-01-2017-06.13.171870', 'results_dirname': 'chainer_experiments/Jul-01-2017-06.13.171870_experiment', 'batch_size': 64, 'evaluation_trigger': [1, 'epoch'], 'l2_coef': 3.4860067396816206, 'mongo_config': {'username': 'tom', 'host': 'teffland.cs.columbia.edu', 'port': 27017, 'database': 'experiments'}, 'freeze_embeddings': True, 'max_examples': 64, 'checkpoint_trigger': [1, 'epoch']}}, 'commit_hash': u'9c59913f639aaaa1c347e27d551e0779feecfa86', 'data_setup': {'setup_file': 'chainer_data_setup.py', 'setup_config': {'lowercase': True, 'pretrained_vectors': '../data/word_vectors/trimmed_glove.840B.300d.txt', 'train_regime': 'biased', 'normalize_vectors': True, 'trim_vector_file': False, 'dev_portion': 0.2, 'split_random_seed': 0, 'response_key': 'is_multiple'}}, 'results_dir_prefix': 'chainer_experiments/', 'results_dirname': 'chainer_experiments/Jul-01-2017-06.13.171870_experiment', 'email': 'teffland@cs.columbia.edu', 'uid': 'Jul-01-2017-06.13.171870'}\n"
     ]
    },
    {
     "name": "stderr",
     "output_type": "stream",
     "text": [
      "[INFO] 2017-07-01 06:14:52,389: chainer_monitor.run_experiment: Loading dataset\n"
     ]
    },
    {
     "name": "stdout",
     "output_type": "stream",
     "text": [
      "Setting pad token to have a zeros embeddings\n",
      "Pretrained coverage: 26372/31173 = 84.60%\n"
     ]
    },
    {
     "name": "stderr",
     "output_type": "stream",
     "text": [
      "[INFO] 2017-07-01 06:15:27,668: data_setup: 9252 Training examples, 2314 Dev, 2975 Test\n",
      "[INFO] 2017-07-01 06:15:27,725: chainer_monitor.run_experiment: Setting up models\n",
      "[INFO] 2017-07-01 06:15:27,813: chainer_monitor.run_experiment: Setting up training\n",
      "[INFO] 2017-07-01 06:15:27,834: chainer_monitor.run_experiment: Saving experiment configuration\n",
      "[INFO] 2017-07-01 06:15:27,995: chainer_monitor.run_experiment: Running trainer\n"
     ]
    },
    {
     "name": "stdout",
     "output_type": "stream",
     "text": [
      "elapsed_time  epoch       iteration   main/loss   main/aupr   validation/main/aupr\n",
      "\u001b[J3.43235       1           1           0.547317    0.126239    0.182342              \n",
      "\u001b[J3.62944       1           1           0.547317    0.126239    0.182342              \n",
      "\u001b[J11.8618       2           2           0.533279    0.132556    0.184041              \n",
      "\u001b[J11.9111       2           2           0.533279    0.132556    0.184041              \n",
      "\u001b[J20.2053       3           3           0.521831    0.137552    0.187557              \n",
      "\u001b[J20.2648       3           3           0.521831    0.137552    0.187557              \n",
      "\u001b[J28.8503       4           4           0.511655    0.141034    0.191027              \n",
      "\u001b[J28.9085       4           4           0.511655    0.141034    0.191027              \n",
      "\u001b[J39.6942       5           5           0.502793    0.144898    0.198389              \n",
      "\u001b[J39.7631       5           5           0.502793    0.144898    0.198389              \n",
      "\u001b[J50.0121       6           6           0.495335    0.148246    0.188625              \n",
      "\u001b[J50.0809       6           6           0.495335    0.148246    0.188625              \n",
      "\u001b[J56.479        7           7           0.488886    0.152501    0.192867              \n",
      "\u001b[J56.5556       7           7           0.488886    0.152501    0.192867              \n",
      "\u001b[J62.355        8           8           0.483615    0.156607    0.1946                \n",
      "\u001b[J62.4279       8           8           0.483615    0.156607    0.1946                \n",
      "\u001b[J68.5692       9           9           0.479235    0.163552    0.19879               \n",
      "\u001b[J68.6552       9           9           0.479235    0.163552    0.19879               \n",
      "\u001b[J78.1895       10          10          0.476457    0.165355    0.204077              \n",
      "\u001b[J78.3202       10          10          0.476457    0.165355    0.204077              \n",
      "\u001b[J87.9601       11          11          0.474189    0.167884    0.202325              \n",
      "\u001b[J88.0502       11          11          0.474189    0.167884    0.202325              \n",
      "\u001b[J94.2035       12          12          0.472367    0.16823     0.204456              \n",
      "\u001b[J94.2977       12          12          0.472367    0.16823     0.204456              \n",
      "\u001b[J103.485       13          13          0.469938    0.172923    0.20964               \n",
      "\u001b[J103.594       13          13          0.469938    0.172923    0.20964               \n",
      "\u001b[J112.052       14          14          0.467009    0.178654    0.225893              \n",
      "\u001b[J112.161       14          14          0.467009    0.178654    0.225893              \n",
      "\u001b[J121.014       15          15          0.464299    0.18079     0.222628              \n",
      "\u001b[J121.126       15          15          0.464299    0.18079     0.222628              \n",
      "\u001b[J127.502       16          16          0.462206    0.185723    0.223201              \n",
      "\u001b[J127.619       16          16          0.462206    0.185723    0.223201              \n",
      "\u001b[J133.792       17          17          0.460506    0.183346    0.287478              \n",
      "\u001b[J133.994       17          17          0.460506    0.183346    0.287478              \n",
      "\u001b[J144.062       18          18          0.459252    0.189155    0.328338              \n",
      "\u001b[J144.206       18          18          0.459252    0.189155    0.328338              \n",
      "\u001b[J152.562       19          19          0.458244    0.191312    0.30576               \n",
      "\u001b[J152.689       19          19          0.458244    0.191312    0.30576               \n",
      "\u001b[J158.998       20          20          0.457273    0.196994    0.327471              \n",
      "\u001b[J159.165       20          20          0.457273    0.196994    0.327471              \n",
      "\u001b[J165.319       21          21          0.456193    0.198391    0.347375              \n",
      "\u001b[J165.455       21          21          0.456193    0.198391    0.347375              \n",
      "\u001b[J175.287       22          22          0.454937    0.199388    0.331841              \n",
      "\u001b[J175.449       22          22          0.454937    0.199388    0.331841              \n",
      "\u001b[J181.963       23          23          0.454458    0.205301    0.304413              \n",
      "\u001b[J182.16        23          23          0.454458    0.205301    0.304413              \n",
      "\u001b[J188.163       24          24          0.454255    0.206759    0.303311              \n",
      "\u001b[J188.349       24          24          0.454255    0.206759    0.303311              \n",
      "\u001b[J196.793       25          25          0.454498    0.205446    0.303391              \n",
      "\u001b[J197.397       25          25          0.454498    0.205446    0.303391              \n",
      "\u001b[J209.298       26          26          0.455075    0.209674    0.298138              \n",
      "\u001b[J211.134       26          26          0.455075    0.209674    0.298138              \n"
     ]
    },
    {
     "name": "stderr",
     "output_type": "stream",
     "text": [
      "[INFO] 2017-07-01 06:19:05,270: chainer_monitor.run_experiment: Finished Experiment\n"
     ]
    }
   ],
   "source": [
    "base = yaml.load(open('cnn_setup_simple_test_config.yaml'))\n",
    "N = 3\n",
    "base['title'] = \"TEST: \"+base['title']\n",
    "random_points = {\n",
    "    'model_setup':{\n",
    "        'setup_config':{\n",
    "            'cnn_ngrams':[range(1,n) for n in npr.choice([2,3,4], N)],\n",
    "            'cnn_n_filters_per':npr.randint(10,50, N),\n",
    "            'dropout_prob':npr.uniform(.1,.4, N)\n",
    "        }\n",
    "    },\n",
    "    'trainer_setup':{\n",
    "        'setup_config': {\n",
    "            'adam_alpha':npr.uniform(1e-3, 1e-2, N),\n",
    "            'l2_coef':[10.**e for e in npr.uniform(-3,1, N)]\n",
    "        }\n",
    "    }\n",
    "}\n",
    "\n",
    "chainer_random_search(base, random_points, N)"
   ]
  },
  {
   "cell_type": "code",
   "execution_count": 25,
   "metadata": {
    "collapsed": false
   },
   "outputs": [
    {
     "data": {
      "text/plain": [
       "9.0000001e-19"
      ]
     },
     "execution_count": 25,
     "metadata": {},
     "output_type": "execute_result"
    }
   ],
   "source": [
    "np.float32(1e-18 - 1e-19)"
   ]
  },
  {
   "cell_type": "code",
   "execution_count": null,
   "metadata": {
    "collapsed": true
   },
   "outputs": [],
   "source": []
  }
 ],
 "metadata": {
  "kernelspec": {
   "display_name": "Python 2",
   "language": "python",
   "name": "python2"
  },
  "language_info": {
   "codemirror_mode": {
    "name": "ipython",
    "version": 2
   },
   "file_extension": ".py",
   "mimetype": "text/x-python",
   "name": "python",
   "nbconvert_exporter": "python",
   "pygments_lexer": "ipython2",
   "version": "2.7.10"
  }
 },
 "nbformat": 4,
 "nbformat_minor": 1
}
