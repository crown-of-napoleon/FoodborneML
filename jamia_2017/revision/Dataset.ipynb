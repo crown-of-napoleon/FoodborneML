{
 "cells": [
  {
   "cell_type": "code",
   "execution_count": 7,
   "metadata": {
    "collapsed": true
   },
   "outputs": [],
   "source": [
    "import pandas as pd\n",
    "from datetime import datetime"
   ]
  },
  {
   "cell_type": "code",
   "execution_count": 19,
   "metadata": {
    "collapsed": false
   },
   "outputs": [],
   "source": [
    "biased = pd.read_csv('data/biased.csv', encoding='utf8')\n",
    "biased.date = pd.to_datetime(biased.date)\n",
    "unbiased = pd.read_csv('data/unbiased.csv', encoding='utf8', parse_dates=True)\n",
    "unbiased.date = pd.to_datetime(unbiased.date)"
   ]
  },
  {
   "cell_type": "code",
   "execution_count": 20,
   "metadata": {
    "collapsed": false
   },
   "outputs": [],
   "source": [
    "split_date = datetime.strptime('1/1/2017', '%d/%m/%Y')"
   ]
  },
  {
   "cell_type": "code",
   "execution_count": 26,
   "metadata": {
    "collapsed": true
   },
   "outputs": [],
   "source": [
    "new_biased = biased[biased.date >= split_date]\n",
    "old_biased = biased[biased.date < split_date]\n",
    "new_unbiased = unbiased[unbiased.date >= split_date]\n",
    "old_unbiased = unbiased[unbiased.date < split_date]"
   ]
  },
  {
   "cell_type": "code",
   "execution_count": 24,
   "metadata": {
    "collapsed": false
   },
   "outputs": [
    {
     "name": "stdout",
     "output_type": "stream",
     "text": [
      "Current Is Foodborne Yes: 949 / 1975 = 48.05%\n",
      "Historical Is Foodborne Yes: 5899 / 11566 = 51.00%\n"
     ]
    }
   ],
   "source": [
    "counts = new_biased.is_foodborne.value_counts()\n",
    "print 'Current Is Foodborne Yes: {0} / {1} = {2:2.2f}%'.format(counts.Yes, counts.sum(), 100.*counts.Yes/counts.sum())\n",
    "counts = old_biased.is_foodborne.value_counts()\n",
    "print 'Historical Is Foodborne Yes: {0} / {1} = {2:2.2f}%'.format(counts.Yes, counts.sum(), 100.*counts.Yes/counts.sum())"
   ]
  },
  {
   "cell_type": "code",
   "execution_count": 25,
   "metadata": {
    "collapsed": false
   },
   "outputs": [
    {
     "name": "stdout",
     "output_type": "stream",
     "text": [
      "Current Is Multiple Yes: 277 / 1975 = 14.03%\n",
      "Historical Is Multiple Yes: 1488 / 11566 = 12.87%\n"
     ]
    }
   ],
   "source": [
    "counts = new_biased.is_multiple.value_counts()\n",
    "print 'Current Is Multiple Yes: {0} / {1} = {2:2.2f}%'.format(counts.Yes, counts.sum(), 100.*counts.Yes/counts.sum())\n",
    "counts = old_biased.is_multiple.value_counts()\n",
    "print 'Historical Is Multiple Yes: {0} / {1} = {2:2.2f}%'.format(counts.Yes, counts.sum(), 100.*counts.Yes/counts.sum())"
   ]
  },
  {
   "cell_type": "code",
   "execution_count": null,
   "metadata": {
    "collapsed": true
   },
   "outputs": [],
   "source": []
  }
 ],
 "metadata": {
  "kernelspec": {
   "display_name": "Python 2",
   "language": "python",
   "name": "python2"
  },
  "language_info": {
   "codemirror_mode": {
    "name": "ipython",
    "version": 2
   },
   "file_extension": ".py",
   "mimetype": "text/x-python",
   "name": "python",
   "nbconvert_exporter": "python",
   "pygments_lexer": "ipython2",
   "version": "2.7.10"
  }
 },
 "nbformat": 4,
 "nbformat_minor": 1
}
