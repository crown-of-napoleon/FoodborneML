{
 "cells": [
  {
   "cell_type": "markdown",
   "metadata": {},
   "source": [
    "# Discovering Foodborne Illness in Online Restaurant Reviews - Official Experiments File\n",
    "\n",
    "This notebook walks through all experiments presented in the manuscript \"Discovering Foodborne Illness in Online Restaurant Reviews.\" Since there are many files for the original experiments and they are very hard to follow, this notebook consolidates all results and experiments presented in the manuscript in one linearly runnable notebook.\n",
    "\n",
    "For questions about this notebook, please contact Tom Effland at teffland@.cs.columbia.edu\n",
    "\n",
    "Notes:\n",
    "* This notebook does not include hyperparam tuning experiments, only the best found setting of parameters.  Those exploratory experiments can be found in `unofficial/Notebooks`. (Note they are _very_ difficult to follow)"
   ]
  },
  {
   "cell_type": "code",
   "execution_count": 225,
   "metadata": {
    "collapsed": false
   },
   "outputs": [],
   "source": [
    "# modules\n",
    "import csv\n",
    "\n",
    "# libraries\n",
    "import numpy as np\n",
    "import numpy.random as npr\n",
    "import pandas as pd\n",
    "from sklearn import preprocessing, metrics, cross_validation, grid_search\n",
    "from sklearn.externals import joblib\n",
    "\n",
    "# model components\n",
    "from sklearn.pipeline import Pipeline\n",
    "from sklearn.feature_extraction.text import CountVectorizer\n",
    "from sklearn.feature_extraction.text import TfidfTransformer\n",
    "from sklearn.svm import SVC\n",
    "from sklearn.linear_model import LogisticRegression\n",
    "from sklearn.ensemble import RandomForestClassifier\n",
    "from sklearn.tree import DecisionTreeClassifier\n",
    "\n",
    "# plots\n",
    "from matplotlib import pyplot as plt\n",
    "%matplotlib inline\n",
    "import seaborn as sb\n",
    "sb.set_color_codes()"
   ]
  },
  {
   "cell_type": "markdown",
   "metadata": {},
   "source": [
    "# Data Preprocessing\n",
    "\n",
    "`all_data_from_dohmh.xlsx` contains the original annotations from the DOHMH epidemiologists\n",
    "* This file contains multiple sheets with mixed schemas, with many missing labels or scores (basically it was unusable)\n",
    "* To remedy this, Anna pulled out (by hand) the first (chronological) 1,392 (1/3) of the about 5,000 reviews that had good scores and annotations. These were put into `yelp_sick_data.csv` and `yelp_mult_data.csv`.\n",
    "* These two files contain (almost) the same reviews, but with different labels for the Sick and Multiple tasks, respectively. \n",
    "* To train and test the models, we perform a stratified (by label) sampling of the reviews into 80% train, 20% test \n",
    "\n",
    "These data have the following issues, which we remedy below:\n",
    "\n",
    "* There each have 1 review that doesn't appear in the other file\n",
    "    * We remove both of these reviews. Data size 1392 -> 1391\n",
    "* There are a few duplicates for some inexplicable reason\n",
    "    * We remove all duplicates. Data size 1391 -> 1384\n",
    "* The train/test splits are not stratified by restaurant and so there is a potential restaurant label bias\n",
    "    * We remove all reviews from the test data that have a restaurant with at least one other review in the training data which shares the same label, for each task. This way no restaurant-specific features can be discriminative of class labels in the test set. Since the restaurant names were not saved during Anna's transfer, we look them up in the original csv. Data size: Sick: 1384 -> 1337, Multiple: 1384 -> 1333\n",
    "    "
   ]
  },
  {
   "cell_type": "markdown",
   "metadata": {},
   "source": [
    "### Load in the sick and multiple data, removing the reviews that are different or are duplicate"
   ]
  },
  {
   "cell_type": "code",
   "execution_count": 99,
   "metadata": {
    "collapsed": false
   },
   "outputs": [
    {
     "name": "stdout",
     "output_type": "stream",
     "text": [
      "1392 1392\n"
     ]
    }
   ],
   "source": [
    "sick_df = pd.read_csv('yelp_sick_data.csv')\n",
    "mult_df = pd.read_csv('yelp_mult_data.csv')\n",
    "print len(sick_df), len(mult_df)"
   ]
  },
  {
   "cell_type": "code",
   "execution_count": 97,
   "metadata": {
    "collapsed": false
   },
   "outputs": [
    {
     "name": "stdout",
     "output_type": "stream",
     "text": [
      "Resulting number of reviews after mismatches and duplicates removed: 1384\n"
     ]
    }
   ],
   "source": [
    "sick_review_set = set(sick_df['data'].tolist())\n",
    "mult_review_set = set(mult_df['data'].tolist())\n",
    "mismatch_review_set = sick_review_set ^ mult_review_set\n",
    "# print len(mismatch_review_set)\n",
    "# print mismatch_review_set\n",
    "all_data = {}\n",
    "for _, row in sick_df.iterrows():\n",
    "    if row['data'] not in mismatch_review_set:\n",
    "        all_data[row['data']] = {'sick_label':row['label'],\n",
    "                                   'old_sick_score':row['old_score']}\n",
    "    else:\n",
    "        pass #print row\n",
    "for _, row in mult_df.iterrows():\n",
    "    if row['data'] not in mismatch_review_set:\n",
    "        all_data[row['data']].update({'mult_label':row['label'],\n",
    "                                      'old_mult_score':row['old_score']})\n",
    "    else:\n",
    "        pass #print row\n",
    "    \n",
    "print 'Resulting number of reviews after mismatches and duplicates removed: {}'.format(len(all_data))"
   ]
  },
  {
   "cell_type": "code",
   "execution_count": 131,
   "metadata": {
    "collapsed": false
   },
   "outputs": [],
   "source": [
    "sick_data = {'x':np.array(all_data.keys()), \n",
    "             'y':np.array([d['sick_label'] for d in all_data.values()]),\n",
    "             'old_sick_score':np.array([d['old_sick_score'] for d in all_data.values()])}\n",
    "mult_data = {'x':np.array(all_data.keys()), \n",
    "             'y':np.array([d['mult_label'] for d in all_data.values()]),\n",
    "             'old_mult_score':np.array([d['old_mult_score'] for d in all_data.values()])}"
   ]
  },
  {
   "cell_type": "code",
   "execution_count": 311,
   "metadata": {
    "collapsed": false
   },
   "outputs": [
    {
     "data": {
      "text/plain": [
       "'177 positive multiple instances'"
      ]
     },
     "execution_count": 311,
     "metadata": {},
     "output_type": "execute_result"
    }
   ],
   "source": [
    "'{} positive multiple instances'.format(np.sum(mult_data['y']))"
   ]
  },
  {
   "cell_type": "markdown",
   "metadata": {},
   "source": [
    "### Now split into train and test sets, removing all data from the test sets that could be restaurant-biased. These are reviews that have a parent restaurant which has another review in the train data with the same label"
   ]
  },
  {
   "cell_type": "code",
   "execution_count": 132,
   "metadata": {
    "collapsed": true
   },
   "outputs": [],
   "source": [
    "# compile mapping of all reviews to restaurants\n",
    "xls = pd.ExcelFile('all_data_from_dohmh.xlsx')\n",
    "df1 = xls.parse('allreviews')\n",
    "df2 = xls.parse('July 12-Mar 13')\n",
    "df3 = xls.parse('May 2013-present')\n",
    "all_reviews = df1['Review'].tolist() + df2['Review'].tolist() + df3['Review'].tolist()\n",
    "\n",
    "review2restaurant = {r:b for r,b in zip(df1['Review'].tolist(), df1['Business'].tolist())}\n",
    "review2restaurant.update({r:b for r,b in zip(df2['Review'].tolist(), df2['Business'].tolist())})\n",
    "review2restaurant.update({r:b for r,b in zip(df3['Review'].tolist(), df3['Business'].tolist())})"
   ]
  },
  {
   "cell_type": "code",
   "execution_count": 178,
   "metadata": {
    "collapsed": false
   },
   "outputs": [
    {
     "name": "stdout",
     "output_type": "stream",
     "text": [
      "Sick data:\n",
      "Training/Dev data shape:  (1107,) (1107,)\n",
      "Test data shape:  (230,) (230,)\n",
      "Mult data:\n",
      "Training/Dev data shape:  (1107,) (1107,)\n",
      "Test data shape:  (226,) (226,)\n"
     ]
    }
   ],
   "source": [
    "# split up the data into train and test using class-stratified sampling\n",
    "def split_dev_test(data, test_size=.2):\n",
    "    \"\"\" Get a stratified random sample of reviews, dropping any biased teset reviews \"\"\"\n",
    "    restaurant_labelsets = {v: set([]) for v in review2restaurant.values()+['UNKNOWN']}\n",
    "    for train, test in cross_validation.StratifiedShuffleSplit(data['y'], n_iter=1, test_size=test_size, random_state=0):\n",
    "        train_data = {k:v[train] for k,v in data.items()}\n",
    "        # get the restaurant of each review and add this review's label to its training label set\n",
    "        for i in train:\n",
    "            if data['x'][i] in review2restaurant:\n",
    "                restaurant_labelsets[review2restaurant[data['x'][i]]] |= set([data['y'][i]])\n",
    "            else: \n",
    "                # a few are missing the restaurant\n",
    "                # this is likely an encoding error\n",
    "                # but we take a conservative approach\n",
    "                # by calling these all 'UNKNOWN' \n",
    "                # which causes all unknowns in test to be dropped\n",
    "                restaurant_labelsets['UNKNOWN'] |= set([data['y'][i]])\n",
    "                \n",
    "        # for each test document\n",
    "        # make sure that its restaurant does not have a review with the same label in the training set\n",
    "        # if it does, then omit it from the test data\n",
    "        good_idxs = []\n",
    "        for i in test:\n",
    "            review_restaurant = review2restaurant[data['x'][i]] if data['x'][i] in review2restaurant else 'UNKNOWN'\n",
    "            if data['y'][i] not in restaurant_labelsets[review_restaurant]:\n",
    "                good_idxs.append(i)\n",
    "        good_idxs = np.array(good_idxs)\n",
    "        test_data = {k:v[good_idxs] for k,v in data.items()}\n",
    "        \n",
    "        \n",
    "    print \"Training/Dev data shape: \", train_data['x'].shape, train_data['y'].shape\n",
    "    print \"Test data shape: \",test_data['x'].shape, test_data['y'].shape\n",
    "    return train_data, test_data\n",
    "\n",
    "print \"Sick data:\"\n",
    "sick_train, sick_test = split_dev_test(sick_data)\n",
    "print \"Mult data:\"\n",
    "mult_train, mult_test = split_dev_test(mult_data)"
   ]
  },
  {
   "cell_type": "markdown",
   "metadata": {},
   "source": [
    "# Experiments for old classifier AUCs"
   ]
  },
  {
   "cell_type": "code",
   "execution_count": 179,
   "metadata": {
    "collapsed": true
   },
   "outputs": [],
   "source": [
    "def bootstrap_auc_ci(preds, trues, alpha=.05, B=1000, random_seed=0):\n",
    "    \"\"\" Bootstrap a 1-alpha CI around AUC scores for a classifiers predictions. \"\"\"\n",
    "    npr.seed(random_seed)\n",
    "    N = len(preds)\n",
    "    sample_indices = (npr.choice(range(N), size=N, replace=True) for b in range(B))\n",
    "    # run simulation\n",
    "    bootstrap = []\n",
    "    for i, idx in enumerate(sample_indices):\n",
    "        if i % (B/100) == 0: print '\\r',100*(i)/(float(B)), '%',\n",
    "        auc = metrics.roc_auc_score(trues[idx], preds[idx], average='micro')\n",
    "        bootstrap.append(auc)\n",
    "    print\n",
    "    # calculate ci\n",
    "    bootstrap.sort()\n",
    "    low_idx = int(np.ceil(B*(alpha/2.)))\n",
    "    high_idx = int(np.floor(B*(1.-alpha/2.)))\n",
    "#     print low_idx, high_idx\n",
    "    ci = (bootstrap[low_idx], bootstrap[high_idx])\n",
    "    return bootstrap, ci"
   ]
  },
  {
   "cell_type": "markdown",
   "metadata": {},
   "source": [
    "### The AUC of the old sick classifier, on the test split of the data"
   ]
  },
  {
   "cell_type": "code",
   "execution_count": 158,
   "metadata": {
    "collapsed": false
   },
   "outputs": [
    {
     "name": "stdout",
     "output_type": "stream",
     "text": [
      "99.0 %\n",
      "OLD SICK AUC: 0.67, 95% CI: (0.62, 0.73)\n"
     ]
    }
   ],
   "source": [
    "old_auc = metrics.roc_auc_score(sick_test['y'], sick_test['old_sick_score'], average='micro')\n",
    "_, old_ci = bootstrap_auc_ci(sick_test['old_sick_score'], sick_test['y'], B=10000)\n",
    "print 'OLD SICK AUC: {0:2.2f}, 95% CI: ({1:2.2f}, {2:2.2f})'.format(old_auc, old_ci[0], old_ci[1])"
   ]
  },
  {
   "cell_type": "markdown",
   "metadata": {},
   "source": [
    "### The AUC of the old multiple classifier, on the test split of the data"
   ]
  },
  {
   "cell_type": "code",
   "execution_count": 159,
   "metadata": {
    "collapsed": false
   },
   "outputs": [
    {
     "name": "stdout",
     "output_type": "stream",
     "text": [
      "99.0 %\n",
      "OLD MULT AUC: 0.66, 95% CI: (0.57, 0.75)\n"
     ]
    }
   ],
   "source": [
    "old_auc = metrics.roc_auc_score(mult_test['y'], mult_test['old_mult_score'], average='micro')\n",
    "_, old_ci = bootstrap_auc_ci(mult_test['old_mult_score'], mult_test['y'], B=10000)\n",
    "print 'OLD MULT AUC: {0:2.2f}, 95% CI: ({1:2.2f}, {2:2.2f})'.format(old_auc, old_ci[0], old_ci[1])"
   ]
  },
  {
   "cell_type": "markdown",
   "metadata": {},
   "source": [
    "# Experiments for new classifier AUCs"
   ]
  },
  {
   "cell_type": "markdown",
   "metadata": {},
   "source": [
    "## Sick Experiments"
   ]
  },
  {
   "cell_type": "markdown",
   "metadata": {},
   "source": [
    "### SVM"
   ]
  },
  {
   "cell_type": "code",
   "execution_count": 162,
   "metadata": {
    "collapsed": false
   },
   "outputs": [
    {
     "name": "stdout",
     "output_type": "stream",
     "text": [
      "99.0 %\n",
      "BEST SVM SICK AUC: 0.88, 95% CI: (0.83, 0.92)\n"
     ]
    }
   ],
   "source": [
    "# best svm for sick\n",
    "f1 = CountVectorizer(\n",
    "        input=u'content', \n",
    "        encoding=u'utf-8', \n",
    "        decode_error=u'strict', \n",
    "        strip_accents=None, \n",
    "        lowercase=True, \n",
    "        preprocessor=None, \n",
    "        tokenizer=None, \n",
    "        stop_words=None, \n",
    "        ngram_range=(1, 3), \n",
    "        analyzer=u'word', \n",
    "        max_df=.93, \n",
    "        min_df=1, \n",
    "        max_features=None, \n",
    "        vocabulary=None, \n",
    "        binary=False, \n",
    "        )\n",
    "tfidf = TfidfTransformer(norm='l2', use_idf=True)\n",
    "svc = SVC(kernel='linear', C=30, probability=True)\n",
    "sick_svm = Pipeline([\n",
    "        ('count', f1),\n",
    "        ('tfidf', tfidf),\n",
    "        ('svc',svc)\n",
    "    ])\n",
    "\n",
    "# fit model and get results\n",
    "sick_svm.fit(sick_train['x'], sick_train['y'])\n",
    "sick_svm_scores = sick_svm.predict_proba(sick_test['x'])[:,1]\n",
    "sick_svm_auc = metrics.roc_auc_score(sick_test['y'], sick_svm_scores, average='micro')\n",
    "_, sick_svm_ci = bootstrap_auc_ci(sick_svm_scores, sick_test['y'], B=10000)\n",
    "print 'BEST SVM SICK AUC: {0:2.2f}, 95% CI: ({1:2.2f}, {2:2.2f})'.format(sick_svm_auc, sick_svm_ci[0], sick_svm_ci[1])"
   ]
  },
  {
   "cell_type": "markdown",
   "metadata": {},
   "source": [
    "### Random Forest"
   ]
  },
  {
   "cell_type": "code",
   "execution_count": 187,
   "metadata": {
    "collapsed": false
   },
   "outputs": [
    {
     "name": "stdout",
     "output_type": "stream",
     "text": [
      "99.0 %\n",
      "BEST RANDOM FOREST SICK AUC: 0.86, 95% CI: (0.81, 0.90)\n"
     ]
    }
   ],
   "source": [
    "# best random forest for sick\n",
    "f1 = CountVectorizer(\n",
    "        input=u'content', \n",
    "        encoding=u'utf-8', \n",
    "        decode_error=u'strict', \n",
    "        strip_accents=None, \n",
    "        lowercase=True, \n",
    "        preprocessor=None, \n",
    "        tokenizer=None, \n",
    "        stop_words=None, \n",
    "        ngram_range=(1, 2), \n",
    "        analyzer=u'word', \n",
    "        max_df=.94, \n",
    "        min_df=1, \n",
    "        max_features=1000, \n",
    "        vocabulary=None, \n",
    "        binary=False, \n",
    "        )\n",
    "tfidf = TfidfTransformer(norm='l1', use_idf=True)\n",
    "rf = RandomForestClassifier(\n",
    "    oob_score=True,\n",
    "    n_estimators=150,\n",
    "    max_depth=None,\n",
    "    max_features='sqrt',\n",
    "    random_state=0\n",
    ")\n",
    "sick_rf = Pipeline([\n",
    "        ('count', f1),\n",
    "        ('tfidf', tfidf),\n",
    "        ('rf',rf)\n",
    "    ])\n",
    "\n",
    "# fit model and get results\n",
    "sick_rf.fit(sick_train['x'], sick_train['y'])\n",
    "sick_rf_scores = sick_rf.predict_proba(sick_test['x'])[:,1]\n",
    "sick_rf_auc = metrics.roc_auc_score(sick_test['y'], sick_rf_scores, average='micro')\n",
    "_, sick_rf_ci = bootstrap_auc_ci(sick_rf_scores, sick_test['y'], B=10000)\n",
    "print 'BEST RANDOM FOREST SICK AUC: {0:2.2f}, 95% CI: ({1:2.2f}, {2:2.2f})'.format(sick_rf_auc, sick_rf_ci[0], sick_rf_ci[1])"
   ]
  },
  {
   "cell_type": "markdown",
   "metadata": {},
   "source": [
    "### Logistic Regression"
   ]
  },
  {
   "cell_type": "code",
   "execution_count": 213,
   "metadata": {
    "collapsed": false
   },
   "outputs": [
    {
     "name": "stdout",
     "output_type": "stream",
     "text": [
      "99.0 %\n",
      "BEST LOGISTIC REGRESSION SICK AUC: 0.88, 95% CI: (0.83, 0.92)\n"
     ]
    }
   ],
   "source": [
    "# best logistic regression for sick\n",
    "f1 = CountVectorizer(\n",
    "        input=u'content', \n",
    "        encoding=u'utf-8', \n",
    "        decode_error=u'strict', \n",
    "        strip_accents=None, \n",
    "        lowercase=True, \n",
    "        preprocessor=None, \n",
    "        tokenizer=None, \n",
    "        stop_words=None, \n",
    "        ngram_range=(1, 3), \n",
    "        analyzer=u'word', \n",
    "        max_df=.95, \n",
    "        min_df=1, \n",
    "        max_features=None, \n",
    "        vocabulary=None, \n",
    "        binary=False, \n",
    "        )\n",
    "tfidf = TfidfTransformer(norm='l2', use_idf=True)\n",
    "logreg = LogisticRegression(\n",
    "    fit_intercept=True, \n",
    "    C=100, \n",
    "    penalty='l2'\n",
    ")\n",
    "sick_logreg = Pipeline([\n",
    "        ('count', f1),\n",
    "        ('tfidf', tfidf),\n",
    "        ('logreg',logreg)\n",
    "    ])\n",
    "\n",
    "# fit model and get results\n",
    "sick_logreg.fit(sick_train['x'], sick_train['y'])\n",
    "sick_logreg_scores = sick_logreg.predict_proba(sick_test['x'])[:,1]\n",
    "sick_logreg_auc = metrics.roc_auc_score(sick_test['y'], sick_logreg_scores, average='micro')\n",
    "_, sick_logreg_ci = bootstrap_auc_ci(sick_logreg_scores, sick_test['y'], B=10000)\n",
    "print 'BEST LOGISTIC REGRESSION SICK AUC: {0:2.2f}, 95% CI: ({1:2.2f}, {2:2.2f})'.format(\n",
    "    sick_logreg_auc, sick_logreg_ci[0], sick_logreg_ci[1])\n",
    "\n",
    "best_params = sick_logreg.get_params()"
   ]
  },
  {
   "cell_type": "markdown",
   "metadata": {},
   "source": [
    "## Multiple Experiments"
   ]
  },
  {
   "cell_type": "markdown",
   "metadata": {},
   "source": [
    "### SVM"
   ]
  },
  {
   "cell_type": "code",
   "execution_count": 188,
   "metadata": {
    "collapsed": false
   },
   "outputs": [
    {
     "name": "stdout",
     "output_type": "stream",
     "text": [
      "99.0 %\n",
      "BEST SVM MULT AUC: 0.89, 95% CI: (0.82, 0.95)\n"
     ]
    }
   ],
   "source": [
    "# best svm for mult\n",
    "f1 = CountVectorizer(\n",
    "        input=u'content', \n",
    "        encoding=u'utf-8', \n",
    "        decode_error=u'strict', \n",
    "        strip_accents=None, \n",
    "        lowercase=True, \n",
    "        preprocessor=None, \n",
    "        tokenizer=None, \n",
    "        stop_words=None, \n",
    "        ngram_range=(1, 3), \n",
    "        analyzer=u'word', \n",
    "        max_df=.91, \n",
    "        min_df=1, \n",
    "        max_features=None, \n",
    "        vocabulary=None, \n",
    "        binary=False, \n",
    "        )\n",
    "tfidf = TfidfTransformer(norm='l2', use_idf=True)\n",
    "svc = SVC(kernel='linear', C=.1, probability=True)\n",
    "mult_svm = Pipeline([\n",
    "        ('count', f1),\n",
    "        ('tfidf', tfidf),\n",
    "        ('svc',svc)\n",
    "    ])\n",
    "\n",
    "# fit model and get results\n",
    "mult_svm.fit(mult_train['x'], mult_train['y'])\n",
    "mult_svm_scores = mult_svm.predict_proba(mult_test['x'])[:,1]\n",
    "mult_svm_auc = metrics.roc_auc_score(mult_test['y'], mult_svm_scores, average='micro')\n",
    "_, mult_svm_ci = bootstrap_auc_ci(mult_svm_scores, mult_test['y'], B=10000)\n",
    "print 'BEST SVM MULT AUC: {0:2.2f}, 95% CI: ({1:2.2f}, {2:2.2f})'.format(mult_svm_auc, mult_svm_ci[0], mult_svm_ci[1])"
   ]
  },
  {
   "cell_type": "markdown",
   "metadata": {},
   "source": [
    "### Random Forest"
   ]
  },
  {
   "cell_type": "code",
   "execution_count": 202,
   "metadata": {
    "collapsed": false
   },
   "outputs": [
    {
     "name": "stdout",
     "output_type": "stream",
     "text": [
      "99.0 %\n",
      "BEST RANDOM FOREST MULT AUC: 0.83, 95% CI: (0.76, 0.90)\n"
     ]
    }
   ],
   "source": [
    "# best random forest for mult\n",
    "f1 = CountVectorizer(\n",
    "        input=u'content', \n",
    "        encoding=u'utf-8', \n",
    "        decode_error=u'strict', \n",
    "        strip_accents=None, \n",
    "        lowercase=True, \n",
    "        preprocessor=None, \n",
    "        tokenizer=None, \n",
    "        stop_words=None, \n",
    "        ngram_range=(1, 3), \n",
    "        analyzer=u'word', \n",
    "        max_df=.92, \n",
    "        min_df=1, \n",
    "        max_features=1000, \n",
    "        vocabulary=None, \n",
    "        binary=False, \n",
    "        )\n",
    "tfidf = TfidfTransformer(norm='l2', use_idf=True)\n",
    "rf = RandomForestClassifier(\n",
    "    oob_score=True,\n",
    "    n_estimators=200,\n",
    "    max_depth=50,\n",
    "    max_features='sqrt',\n",
    "    random_state=0\n",
    ")\n",
    "mult_rf = Pipeline([\n",
    "        ('count', f1),\n",
    "        ('tfidf', tfidf),\n",
    "        ('rf',rf)\n",
    "    ])\n",
    "\n",
    "# fit model and get results\n",
    "mult_rf.fit(mult_train['x'], mult_train['y'])\n",
    "mult_rf_scores = mult_rf.predict_proba(mult_test['x'])[:,1]\n",
    "mult_rf_auc = metrics.roc_auc_score(mult_test['y'], mult_rf_scores, average='micro')\n",
    "_, mult_rf_ci = bootstrap_auc_ci(mult_rf_scores, mult_test['y'], B=10000)\n",
    "print 'BEST RANDOM FOREST MULT AUC: {0:2.2f}, 95% CI: ({1:2.2f}, {2:2.2f})'.format(\n",
    "    mult_rf_auc, mult_rf_ci[0], mult_rf_ci[1])"
   ]
  },
  {
   "cell_type": "markdown",
   "metadata": {},
   "source": [
    "### Logistic Regression"
   ]
  },
  {
   "cell_type": "code",
   "execution_count": 204,
   "metadata": {
    "collapsed": false
   },
   "outputs": [
    {
     "name": "stdout",
     "output_type": "stream",
     "text": [
      "99.0 %\n",
      "BEST LOGISTIC REGRESSION MULT AUC: 0.90, 95% CI: (0.83, 0.95)\n"
     ]
    }
   ],
   "source": [
    "# best logistic regression for mult\n",
    "f1 = CountVectorizer(\n",
    "        input=u'content', \n",
    "        encoding=u'utf-8', \n",
    "        decode_error=u'strict', \n",
    "        strip_accents=None, \n",
    "        lowercase=True, \n",
    "        preprocessor=None, \n",
    "        tokenizer=None, \n",
    "        stop_words=None, \n",
    "        ngram_range=(1, 3), \n",
    "        analyzer=u'word', \n",
    "        max_df=.92, \n",
    "        min_df=1, \n",
    "        max_features=None, \n",
    "        vocabulary=None, \n",
    "        binary=False, \n",
    "        )\n",
    "tfidf = TfidfTransformer(norm='l2', use_idf=True)\n",
    "logreg = LogisticRegression(\n",
    "    fit_intercept=True, \n",
    "    C=190, \n",
    "    penalty='l2'\n",
    ")\n",
    "mult_logreg = Pipeline([\n",
    "        ('count', f1),\n",
    "        ('tfidf', tfidf),\n",
    "        ('logreg',logreg)\n",
    "    ])\n",
    "\n",
    "# fit model and get results\n",
    "mult_logreg.fit(mult_train['x'], mult_train['y'])\n",
    "mult_logreg_scores = mult_logreg.predict_proba(mult_test['x'])[:,1]\n",
    "mult_logreg_auc = metrics.roc_auc_score(mult_test['y'], mult_logreg_scores, average='micro')\n",
    "_, mult_logreg_ci = bootstrap_auc_ci(mult_logreg_scores, mult_test['y'], B=10000)\n",
    "print 'BEST LOGISTIC REGRESSION MULT AUC: {0:2.2f}, 95% CI: ({1:2.2f}, {2:2.2f})'.format(\n",
    "    mult_logreg_auc, mult_logreg_ci[0], mult_logreg_ci[1])"
   ]
  },
  {
   "cell_type": "markdown",
   "metadata": {},
   "source": [
    "# Precision and Recall for Best Logistic Regressions, used for error analysis\n",
    "\n",
    "First we compute the best thresholds from the ROC cureves using Youden's J statistic (this is particularly important for the multiple classifier)\n",
    "\n",
    "Then we report the confusion matrices.\n",
    "\n",
    "The actual error analysis was done on Anna's laptop and unfortunately cannot be reproduced for publication."
   ]
  },
  {
   "cell_type": "code",
   "execution_count": 298,
   "metadata": {
    "collapsed": false
   },
   "outputs": [],
   "source": [
    "def youdens_J(fpr, tpr, thresholds):\n",
    "    \"\"\"Computes the best decision threshold along a ROC curve according to Youden's J statistic\n",
    "    \n",
    "    The J statistic is equivalent to the point of maximum distance from the ROC curve to the diaganol line.\n",
    "    This point marks the maximum point of informedness over random guessing. \n",
    "    It is equivalently the likelihood of a positive classification of a positive sample versus a negative sample.\n",
    "    \n",
    "    Args:\n",
    "        fpr(array(float)): array of false positive rates\n",
    "        tpr(array(float)): array of true postiive rates\n",
    "        thresholds(array(float)): array of thresholds the fpr and tpr were calculated from\n",
    "        \n",
    "    Returns:\n",
    "        (best_j,best_fpr,best_tpr,best_threshold)(float,float,float,float): 4-tuple of the best J statistic \n",
    "            and the accompanying values of fpr, tpr and decision threshold that generated that J\n",
    "            \n",
    "    References:\n",
    "        https://en.wikipedia.org/wiki/Youden%27s_J_statistic\n",
    "        \n",
    "        Schisterman, E.F.; Perkins, N.J.; Liu, A.; Bondell, H. (2005). \n",
    "        \"Optimal cut-point and its corresponding Youden Index to discriminate individuals using pooled blood samples\". \n",
    "        Epidemiology 16: 73–81. doi:10.1097/01.ede.0000147512.81966.ba\n",
    "    \"\"\"\n",
    "    max_J = -1\n",
    "    best_index = 0\n",
    "    for i in range(len(fpr)):\n",
    "        if ((1 - fpr[i]) + tpr[i] - 1 > max_J):\n",
    "            max_J = (1 - fpr[i]) + tpr[i] - 1\n",
    "            best_index = i\n",
    "    return (max_J, fpr[best_index], tpr[best_index], thresholds[best_index])\n",
    "\n",
    "def bootstrap_precision_ci(preds, trues, alpha=.05, B=10000, random_seed=0):\n",
    "    \"\"\" Bootstrap a 1-alpha CI around precision scores for a classifiers predictions. \"\"\"\n",
    "    npr.seed(random_seed)\n",
    "    N = len(preds)\n",
    "    sample_indices = (npr.choice(range(N), size=N, replace=True) for b in range(B))\n",
    "    # run simulation\n",
    "    bootstrap = []\n",
    "    for i, idx in enumerate(sample_indices):\n",
    "        if i % (B/100) == 0: print '\\r',100*(i)/(float(B)), '%',\n",
    "        precision = metrics.precision_score(trues[idx], preds[idx])\n",
    "        bootstrap.append(precision)\n",
    "    print\n",
    "    # calculate ci\n",
    "    bootstrap.sort()\n",
    "    low_idx = int(np.ceil(B*(alpha/2.)))\n",
    "    high_idx = int(np.floor(B*(1.-alpha/2.)))\n",
    "#     print low_idx, high_idx\n",
    "    ci = (bootstrap[low_idx], bootstrap[high_idx])\n",
    "    return bootstrap, ci\n",
    "\n",
    "def bootstrap_recall_ci(preds, trues, alpha=.05, B=10000, random_seed=0):\n",
    "    \"\"\" Bootstrap a 1-alpha CI around precision scores for a classifiers predictions. \"\"\"\n",
    "    npr.seed(random_seed)\n",
    "    N = len(preds)\n",
    "    sample_indices = (npr.choice(range(N), size=N, replace=True) for b in range(B))\n",
    "    # run simulation\n",
    "    bootstrap = []\n",
    "    for i, idx in enumerate(sample_indices):\n",
    "        if i % (B/100) == 0: print '\\r',100*(i)/(float(B)), '%',\n",
    "        precision = metrics.recall_score(trues[idx], preds[idx])\n",
    "        bootstrap.append(precision)\n",
    "    print\n",
    "    # calculate ci\n",
    "    bootstrap.sort()\n",
    "    low_idx = int(np.ceil(B*(alpha/2.)))\n",
    "    high_idx = int(np.floor(B*(1.-alpha/2.)))\n",
    "#     print low_idx, high_idx\n",
    "    ci = (bootstrap[low_idx], bootstrap[high_idx])\n",
    "    return bootstrap, ci"
   ]
  },
  {
   "cell_type": "code",
   "execution_count": 291,
   "metadata": {
    "collapsed": false
   },
   "outputs": [],
   "source": [
    "def plot_confusion_matrix(cm, label_names, title='Confusion matrix', cmap=plt.cm.Blues):\n",
    "    fig, ax = plt.subplots()\n",
    "    \n",
    "    min_val, max_val, diff = 0., len(cm.astype('float')[:,0]), 1.\n",
    "\n",
    "    #text portion\n",
    "    x, y = np.meshgrid(range(cm.shape[0]), range(cm.shape[1]))\n",
    "    cm_normalized = cm.astype('float') / cm.sum(axis=1)[:, np.newaxis]\n",
    "    for x_val, y_val in zip(x.flatten(), y.flatten()):\n",
    "        c = \"%i = %0.2f\" % (cm.astype('int')[x_val, y_val], cm_normalized[x_val, y_val])\n",
    "        color = 'w' if cm[x_val, y_val] > .5*np.max(cm) else 'k'\n",
    "        ax.text(y_val, x_val, c, color=color, va='center', ha='center')\n",
    "\n",
    "    #set tick marks for grid\n",
    "    ax.set_xticks(np.arange(min_val-diff/2, max_val-diff/2))\n",
    "    ax.set_yticks(np.arange(min_val-diff/2, max_val-diff/2))\n",
    "    ax.set_xticklabels([])\n",
    "    ax.set_yticklabels([])\n",
    "    ax.set_xlim(min_val-diff/2, max_val-diff/2)\n",
    "    ax.set_ylim(min_val-diff/2, max_val-diff/2)\n",
    "    plt.imshow(cm, interpolation='nearest', cmap=cmap)\n",
    "    plt.title(title)\n",
    "    plt.colorbar()\n",
    "    plt.grid(False)\n",
    "    tick_marks = np.arange(len(label_names))\n",
    "    plt.xticks(tick_marks, label_names)#, rotation=45)\n",
    "    plt.yticks(tick_marks, label_names)\n",
    "    plt.tight_layout()\n",
    "    plt.ylabel('True label')\n",
    "    plt.xlabel('Predicted label')"
   ]
  },
  {
   "cell_type": "code",
   "execution_count": 296,
   "metadata": {
    "collapsed": false
   },
   "outputs": [
    {
     "name": "stdout",
     "output_type": "stream",
     "text": [
      "Youden's sick threshold: 0.49\n",
      "0.858407079646\n",
      "99.0 %\n",
      "New Precision: 0.86, 95% CI: (0.79, 0.92)\n",
      "99.0 %\n",
      "Old Precision: 0.55, 95% CI: (0.48, 0.61)\n"
     ]
    },
    {
     "data": {
      "image/png": "[encoded data removed]",
      "text/plain": [
       "<matplotlib.figure.Figure at 0x111ba4f50>"
      ]
     },
     "metadata": {},
     "output_type": "display_data"
    }
   ],
   "source": [
    "sick_scores = sick_logreg.predict_proba(sick_test['x'])[:,1]\n",
    "_, _, _, sick_threshold = youdens_J(*metrics.roc_curve(sick_test['y'], sick_scores))\n",
    "print 'Youden\\'s sick threshold: {0:2.2f}'.format(sick_threshold)\n",
    "sick_preds = (sick_scores >= sick_threshold).astype(np.int32)\n",
    "sick_cm = metrics.confusion_matrix(y_true=sick_test['y'], y_pred=sick_preds)\n",
    "plot_confusion_matrix(sick_cm, ['Not Sick', 'Sick'], 'Sick Confusion Matrix')\n",
    "\n",
    "new_precision = metrics.precision_score(sick_test['y'], sick_preds)\n",
    "_, new_ci = bootstrap_precision_ci(sick_preds, sick_test['y'])\n",
    "print 'New Precision: {0:2.2f}, 95% CI: ({1:2.2f}, {2:2.2f})'.format(\n",
    "    new_precision, new_ci[0], new_ci[1])\n",
    "\n",
    "old_preds = (sick_test['old_sick_score'] > .5).astype(np.int32)\n",
    "old_precision = metrics.precision_score(sick_test['y'], old_preds)\n",
    "_, old_ci = bootstrap_precision_ci(old_preds, sick_test['y'])\n",
    "print 'Old Precision: {0:2.2f}, 95% CI: ({1:2.2f}, {2:2.2f})'.format(\n",
    "    old_precision, old_ci[0], old_ci[1])"
   ]
  },
  {
   "cell_type": "code",
   "execution_count": 299,
   "metadata": {
    "collapsed": false
   },
   "outputs": [
    {
     "name": "stdout",
     "output_type": "stream",
     "text": [
      "Youden's multiple threshold: 0.04\n",
      "99.0 %\n",
      "New Precision: 0.51, 95% CI: (0.37, 0.65)\n",
      "99.0 %\n",
      "Old Precision: 0.21, 95% CI: (0.14, 0.29)\n",
      "99.0 %\n",
      "New Recall: 0.84, 95% CI: (0.71, 0.96)\n",
      "99.0 %\n",
      "Old Recall: 0.75, 95% CI: (0.59, 0.89)\n"
     ]
    },
    {
     "data": {
      "image/png": "[encoded data removed]",
      "text/plain": [
       "<matplotlib.figure.Figure at 0x120c6a0d0>"
      ]
     },
     "metadata": {},
     "output_type": "display_data"
    }
   ],
   "source": [
    "mult_scores = mult_logreg.predict_proba(mult_test['x'])[:,1]\n",
    "_, _, _, mult_threshold = youdens_J(*metrics.roc_curve(mult_test['y'], mult_scores))\n",
    "print 'Youden\\'s multiple threshold: {0:2.2f}'.format(mult_threshold)\n",
    "mult_preds = (mult_scores >= mult_threshold).astype(np.int32)\n",
    "mult_cm = metrics.confusion_matrix(y_true=mult_test['y'], y_pred=mult_preds)\n",
    "plot_confusion_matrix(mult_cm, ['Not Multiple', 'Multiple'], 'Multiple Confusion Matrix')\n",
    "\n",
    "new_precision = metrics.precision_score(mult_test['y'], mult_preds)\n",
    "_, new_ci = bootstrap_precision_ci(mult_preds, mult_test['y'])\n",
    "print 'New Precision: {0:2.2f}, 95% CI: ({1:2.2f}, {2:2.2f})'.format(\n",
    "    new_precision, new_ci[0], new_ci[1])\n",
    "\n",
    "old_preds = (mult_test['old_mult_score'] > .5).astype(np.int32)\n",
    "old_precision = metrics.precision_score(mult_test['y'], old_preds)\n",
    "_, old_ci = bootstrap_precision_ci(old_preds, mult_test['y'])\n",
    "print 'Old Precision: {0:2.2f}, 95% CI: ({1:2.2f}, {2:2.2f})'.format(\n",
    "    old_precision, old_ci[0], old_ci[1])\n",
    "\n",
    "new_recall = metrics.recall_score(mult_test['y'], mult_preds)\n",
    "_, new_ci = bootstrap_recall_ci(mult_preds, mult_test['y'])\n",
    "print 'New Recall: {0:2.2f}, 95% CI: ({1:2.2f}, {2:2.2f})'.format(\n",
    "    new_recall, new_ci[0], new_ci[1])\n",
    "\n",
    "old_preds = (mult_test['old_mult_score'] > .5).astype(np.int32)\n",
    "old_recall = metrics.recall_score(mult_test['y'], old_preds)\n",
    "_, old_ci = bootstrap_recall_ci(old_preds, mult_test['y'])\n",
    "print 'Old Recall: {0:2.2f}, 95% CI: ({1:2.2f}, {2:2.2f})'.format(\n",
    "    old_recall, old_ci[0], old_ci[1])"
   ]
  },
  {
   "cell_type": "markdown",
   "metadata": {},
   "source": [
    "# Sick Ablation Experiment\n",
    "\n",
    "In this experiment, we take the best logistic regression classifier for the Sick task and ablate:\n",
    "1. Additional training data (down to the original 500 from 1,107 labeled reviews)\n",
    "2. TF-IDF (use Bag-of-words only)\n",
    "3. n-grams (use unigrams only)\n",
    "4. All 3 of the above (vanilla Logistic Regression)\n",
    "\n",
    "Additionally we try the original Decision tree classifier, but with the extra data and both representational enhancements (1-3) above.\n",
    "\n",
    "This experiment shows that the extra data, enhanced representations, and better model class all contribute to the better performance."
   ]
  },
  {
   "cell_type": "markdown",
   "metadata": {},
   "source": [
    "### Best Logistic Regression"
   ]
  },
  {
   "cell_type": "code",
   "execution_count": 237,
   "metadata": {
    "collapsed": false
   },
   "outputs": [
    {
     "name": "stdout",
     "output_type": "stream",
     "text": [
      "99.0 %\n",
      "BEST LOGISTIC REGRESSION SICK AUC: 0.88, 95% CI: (0.83, 0.92)\n"
     ]
    }
   ],
   "source": [
    "sick_logreg = sick_logreg.set_params(**best_params)\n",
    "sick_logreg.fit(sick_train['x'], sick_train['y'])\n",
    "\n",
    "sick_scores = sick_logreg.predict_proba(sick_test['x'])[:,1]\n",
    "\n",
    "best_roc = metrics.roc_curve(sick_test['y'], sick_scores)\n",
    "best_auc = metrics.roc_auc_score(sick_test['y'], sick_scores, average='micro')\n",
    "_, best_ci = bootstrap_auc_ci(sick_scores, sick_test['y'], B=10000)\n",
    "print 'BEST LOGISTIC REGRESSION SICK AUC: {0:2.2f}, 95% CI: ({1:2.2f}, {2:2.2f})'.format(\n",
    "    best_auc, best_ci[0], best_ci[1])"
   ]
  },
  {
   "cell_type": "markdown",
   "metadata": {},
   "source": [
    "### 1. Use only 500 training data"
   ]
  },
  {
   "cell_type": "code",
   "execution_count": 232,
   "metadata": {
    "collapsed": false
   },
   "outputs": [
    {
     "name": "stdout",
     "output_type": "stream",
     "text": [
      "99.0 %\n",
      "500 DATA LOGISTIC REGRESSION SICK AUC: 0.85, 95% CI: (0.80, 0.90)\n"
     ]
    }
   ],
   "source": [
    "# get the smaller dataset, but maintain class balance\n",
    "# 1107 - 500 = 607 training samples need to be omitted\n",
    "sss = cross_validation.StratifiedShuffleSplit(sick_train['y'], n_iter=1, test_size=607, random_state=0)\n",
    "small_idx, _ = [(a,b) for a,b in sss][0]\n",
    "\n",
    "small_sick_logreg = sick_logreg.set_params(**best_params)\n",
    "small_sick_logreg.fit(sick_train['x'][small_idx], sick_train['y'][small_idx])\n",
    "\n",
    "sick_scores = small_sick_logreg.predict_proba(sick_test['x'])[:,1]\n",
    "\n",
    "small_roc = metrics.roc_curve(sick_test['y'], sick_scores)\n",
    "small_auc = metrics.roc_auc_score(sick_test['y'], sick_scores, average='micro')\n",
    "_, small_ci = bootstrap_auc_ci(sick_scores, sick_test['y'], B=10000)\n",
    "print '500 DATA LOGISTIC REGRESSION SICK AUC: {0:2.2f}, 95% CI: ({1:2.2f}, {2:2.2f})'.format(\n",
    "    small_auc, small_ci[0], small_ci[1])"
   ]
  },
  {
   "cell_type": "markdown",
   "metadata": {},
   "source": [
    "### 2. No TF-IDF, Bag-of-words only"
   ]
  },
  {
   "cell_type": "code",
   "execution_count": 233,
   "metadata": {
    "collapsed": false
   },
   "outputs": [
    {
     "name": "stdout",
     "output_type": "stream",
     "text": [
      "99.0 %\n",
      "BOW LOGISTIC REGRESSION SICK AUC: 0.84, 95% CI: (0.79, 0.89)\n"
     ]
    }
   ],
   "source": [
    "# best logistic regression for sick\n",
    "f1 = CountVectorizer(\n",
    "        input=u'content', \n",
    "        encoding=u'utf-8', \n",
    "        decode_error=u'strict', \n",
    "        strip_accents=None, \n",
    "        lowercase=True, \n",
    "        preprocessor=None, \n",
    "        tokenizer=None, \n",
    "        stop_words=None, \n",
    "        ngram_range=(1, 3), \n",
    "        analyzer=u'word', \n",
    "        max_df=.95, \n",
    "        min_df=1, \n",
    "        max_features=None, \n",
    "        vocabulary=None, \n",
    "        binary=False, \n",
    "        )\n",
    "logreg = LogisticRegression(\n",
    "    fit_intercept=True, \n",
    "    C=100, \n",
    "    penalty='l2'\n",
    ")\n",
    "bow_sick_logreg = Pipeline([\n",
    "        ('count', f1),\n",
    "#         ('tfidf', tfidf),\n",
    "        ('logreg',logreg)\n",
    "    ])\n",
    "bow_sick_logreg.fit(sick_train['x'], sick_train['y'])\n",
    "\n",
    "sick_scores = bow_sick_logreg.predict_proba(sick_test['x'])[:,1]\n",
    "\n",
    "bow_roc = metrics.roc_curve(sick_test['y'], sick_scores)\n",
    "bow_auc = metrics.roc_auc_score(sick_test['y'], sick_scores, average='micro')\n",
    "_, bow_ci = bootstrap_auc_ci(sick_scores, sick_test['y'], B=10000)\n",
    "print 'BOW LOGISTIC REGRESSION SICK AUC: {0:2.2f}, 95% CI: ({1:2.2f}, {2:2.2f})'.format(\n",
    "    bow_auc, bow_ci[0], bow_ci[1])"
   ]
  },
  {
   "cell_type": "markdown",
   "metadata": {},
   "source": [
    "### 3. Use unigrams only"
   ]
  },
  {
   "cell_type": "code",
   "execution_count": 234,
   "metadata": {
    "collapsed": false
   },
   "outputs": [
    {
     "name": "stdout",
     "output_type": "stream",
     "text": [
      "99.0 %\n",
      "UNIGRAM LOGISTIC REGRESSION SICK AUC: 0.83, 95% CI: (0.78, 0.88)\n"
     ]
    }
   ],
   "source": [
    "params = sick_logreg.get_params()\n",
    "params['count__ngram_range'] = (1,1)\n",
    "unigram_sick_logreg = sick_logreg.set_params(**params)\n",
    "unigram_sick_logreg.fit(sick_train['x'], sick_train['y'])\n",
    "\n",
    "sick_scores = unigram_sick_logreg.predict_proba(sick_test['x'])[:,1]\n",
    "\n",
    "unigram_auc = metrics.roc_auc_score(sick_test['y'], sick_scores, average='micro')\n",
    "_, unigram_ci = bootstrap_auc_ci(sick_scores, sick_test['y'], B=10000)\n",
    "print 'UNIGRAM LOGISTIC REGRESSION SICK AUC: {0:2.2f}, 95% CI: ({1:2.2f}, {2:2.2f})'.format(\n",
    "    unigram_auc, unigram_ci[0], unigram_ci[1])"
   ]
  },
  {
   "cell_type": "markdown",
   "metadata": {},
   "source": [
    "### 4. (1-3) all together"
   ]
  },
  {
   "cell_type": "code",
   "execution_count": 235,
   "metadata": {
    "collapsed": false
   },
   "outputs": [
    {
     "name": "stdout",
     "output_type": "stream",
     "text": [
      "99.0 %\n",
      "VANILLA LOGISTIC REGRESSION SICK AUC: 0.76, 95% CI: (0.70, 0.82)\n"
     ]
    }
   ],
   "source": [
    "# best logistic regression for sick\n",
    "f1 = CountVectorizer(\n",
    "        input=u'content', \n",
    "        encoding=u'utf-8', \n",
    "        decode_error=u'strict', \n",
    "        strip_accents=None, \n",
    "        lowercase=True, \n",
    "        preprocessor=None, \n",
    "        tokenizer=None, \n",
    "        stop_words=None, \n",
    "        ngram_range=(1, 1), # Changed this from (1,3)\n",
    "        analyzer=u'word', \n",
    "        max_df=.95, \n",
    "        min_df=1, \n",
    "        max_features=None, \n",
    "        vocabulary=None, \n",
    "        binary=False, \n",
    "        )\n",
    "logreg = LogisticRegression(\n",
    "    fit_intercept=True, \n",
    "    C=100, \n",
    "    penalty='l2'\n",
    ")\n",
    "vanilla_sick_logreg = Pipeline([\n",
    "        ('count', f1),\n",
    "#         ('tfidf', tfidf), # No tf-idf\n",
    "        ('logreg',logreg)\n",
    "    ])\n",
    "vanilla_sick_logreg.fit(sick_train['x'][small_idx], sick_train['y'][small_idx]) # small data\n",
    "\n",
    "sick_scores = vanilla_sick_logreg.predict_proba(sick_test['x'])[:,1]\n",
    "\n",
    "vanilla_roc = metrics.roc_curve(sick_test['y'], sick_scores)\n",
    "vanilla_auc = metrics.roc_auc_score(sick_test['y'], sick_scores, average='micro')\n",
    "_, vanilla_ci = bootstrap_auc_ci(sick_scores, sick_test['y'], B=10000)\n",
    "print 'VANILLA LOGISTIC REGRESSION SICK AUC: {0:2.2f}, 95% CI: ({1:2.2f}, {2:2.2f})'.format(\n",
    "    vanilla_auc, vanilla_ci[0], vanilla_ci[1])"
   ]
  },
  {
   "cell_type": "markdown",
   "metadata": {},
   "source": [
    "### 5. Decision Tree with all of the enhancements ablated in 1-3\n",
    "\n",
    "Since we do not have a good setting of parameters in this environment, we do a grid search to find the best setting of the hyperparams"
   ]
  },
  {
   "cell_type": "code",
   "execution_count": 227,
   "metadata": {
    "collapsed": true
   },
   "outputs": [],
   "source": [
    "def parameter_search(data, pipeline, paramgrid, n_folds=3, gscv_kwargs=None):\n",
    "    print \"SEARCHING PARAMETER SPACE:\"\n",
    "    folds = cross_validation.StratifiedKFold(data['y'], n_folds=n_folds, random_state=0,shuffle=True)\n",
    "    if not gscv_kwargs:\n",
    "        gscv_kwargs = {\n",
    "             'scoring':micro_roc_auc_scorer, \n",
    "             'fit_params':None, \n",
    "             'n_jobs':1, \n",
    "             'iid':True, \n",
    "             'refit':True, \n",
    "             'cv':folds, \n",
    "             'verbose':2, \n",
    "             'error_score':'raise'\n",
    "        }\n",
    "    gscv = grid_search.GridSearchCV(pipeline, paramgrid, **gscv_kwargs)\n",
    "    gscv.fit(data['x'], data['y'])\n",
    "    return gscv\n",
    "\n",
    "# need to make auc calculations micro averaged\n",
    "def micro_roc_auc(ground_truth, predictions):\n",
    "    ground_truth = np.array(ground_truth)\n",
    "    predictions = np.array(predictions)\n",
    "    return metrics.roc_auc_score(ground_truth, predictions, average='micro')\n",
    "\n",
    "micro_roc_auc_scorer = metrics.make_scorer(micro_roc_auc, needs_threshold=True, greater_is_better=True)"
   ]
  },
  {
   "cell_type": "code",
   "execution_count": 228,
   "metadata": {
    "collapsed": true
   },
   "outputs": [
    {
     "name": "stdout",
     "output_type": "stream",
     "text": [
      "SEARCHING PARAMETER SPACE:\n",
      "Fitting 5 folds for each of 9 candidates, totalling 45 fits\n",
      "[CV] tree__min_samples_leaf=1 ........................................\n",
      "[CV] ............................... tree__min_samples_leaf=1 -   3.4s\n",
      "[CV] tree__min_samples_leaf=1 ........................................\n"
     ]
    },
    {
     "name": "stderr",
     "output_type": "stream",
     "text": [
      "[Parallel(n_jobs=1)]: Done   1 out of   1 | elapsed:    3.4s remaining:    0.0s\n"
     ]
    },
    {
     "name": "stdout",
     "output_type": "stream",
     "text": [
      "[CV] ............................... tree__min_samples_leaf=1 -   3.2s\n",
      "[CV] tree__min_samples_leaf=1 ........................................\n",
      "[CV] ............................... tree__min_samples_leaf=1 -   3.3s\n",
      "[CV] tree__min_samples_leaf=1 ........................................\n",
      "[CV] ............................... tree__min_samples_leaf=1 -   3.1s\n",
      "[CV] tree__min_samples_leaf=1 ........................................\n",
      "[CV] ............................... tree__min_samples_leaf=1 -   3.2s\n",
      "[CV] tree__min_samples_leaf=2 ........................................\n",
      "[CV] ............................... tree__min_samples_leaf=2 -   2.9s\n",
      "[CV] tree__min_samples_leaf=2 ........................................\n",
      "[CV] ............................... tree__min_samples_leaf=2 -   3.0s\n",
      "[CV] tree__min_samples_leaf=2 ........................................\n",
      "[CV] ............................... tree__min_samples_leaf=2 -   3.1s\n",
      "[CV] tree__min_samples_leaf=2 ........................................\n",
      "[CV] ............................... tree__min_samples_leaf=2 -   2.9s\n",
      "[CV] tree__min_samples_leaf=2 ........................................\n",
      "[CV] ............................... tree__min_samples_leaf=2 -   3.1s\n",
      "[CV] tree__min_samples_leaf=3 ........................................\n",
      "[CV] ............................... tree__min_samples_leaf=3 -   2.9s\n",
      "[CV] tree__min_samples_leaf=3 ........................................\n",
      "[CV] ............................... tree__min_samples_leaf=3 -   2.7s\n",
      "[CV] tree__min_samples_leaf=3 ........................................\n",
      "[CV] ............................... tree__min_samples_leaf=3 -   2.7s\n",
      "[CV] tree__min_samples_leaf=3 ........................................\n",
      "[CV] ............................... tree__min_samples_leaf=3 -   2.5s\n",
      "[CV] tree__min_samples_leaf=3 ........................................\n",
      "[CV] ............................... tree__min_samples_leaf=3 -   2.6s\n",
      "[CV] tree__min_samples_leaf=5 ........................................\n",
      "[CV] ............................... tree__min_samples_leaf=5 -   2.5s\n",
      "[CV] tree__min_samples_leaf=5 ........................................\n",
      "[CV] ............................... tree__min_samples_leaf=5 -   2.4s\n",
      "[CV] tree__min_samples_leaf=5 ........................................\n",
      "[CV] ............................... tree__min_samples_leaf=5 -   2.6s\n",
      "[CV] tree__min_samples_leaf=5 ........................................\n",
      "[CV] ............................... tree__min_samples_leaf=5 -   2.5s\n",
      "[CV] tree__min_samples_leaf=5 ........................................\n",
      "[CV] ............................... tree__min_samples_leaf=5 -   2.5s\n",
      "[CV] tree__min_samples_leaf=10 .......................................\n",
      "[CV] .............................. tree__min_samples_leaf=10 -   2.9s\n",
      "[CV] tree__min_samples_leaf=10 .......................................\n",
      "[CV] .............................. tree__min_samples_leaf=10 -   2.5s\n",
      "[CV] tree__min_samples_leaf=10 .......................................\n",
      "[CV] .............................. tree__min_samples_leaf=10 -   2.4s\n",
      "[CV] tree__min_samples_leaf=10 .......................................\n",
      "[CV] .............................. tree__min_samples_leaf=10 -   2.4s\n",
      "[CV] tree__min_samples_leaf=10 .......................................\n",
      "[CV] .............................. tree__min_samples_leaf=10 -   2.3s\n",
      "[CV] tree__min_samples_leaf=20 .......................................\n",
      "[CV] .............................. tree__min_samples_leaf=20 -   2.2s\n",
      "[CV] tree__min_samples_leaf=20 .......................................\n",
      "[CV] .............................. tree__min_samples_leaf=20 -   2.1s\n",
      "[CV] tree__min_samples_leaf=20 .......................................\n",
      "[CV] .............................. tree__min_samples_leaf=20 -   2.2s\n",
      "[CV] tree__min_samples_leaf=20 .......................................\n",
      "[CV] .............................. tree__min_samples_leaf=20 -   2.2s\n",
      "[CV] tree__min_samples_leaf=20 .......................................\n",
      "[CV] .............................. tree__min_samples_leaf=20 -   2.2s\n",
      "[CV] tree__min_samples_leaf=30 .......................................\n",
      "[CV] .............................. tree__min_samples_leaf=30 -   2.0s\n",
      "[CV] tree__min_samples_leaf=30 .......................................\n",
      "[CV] .............................. tree__min_samples_leaf=30 -   2.0s\n",
      "[CV] tree__min_samples_leaf=30 .......................................\n",
      "[CV] .............................. tree__min_samples_leaf=30 -   2.2s\n",
      "[CV] tree__min_samples_leaf=30 .......................................\n",
      "[CV] .............................. tree__min_samples_leaf=30 -   2.1s\n",
      "[CV] tree__min_samples_leaf=30 .......................................\n",
      "[CV] .............................. tree__min_samples_leaf=30 -   2.1s\n",
      "[CV] tree__min_samples_leaf=40 .......................................\n",
      "[CV] .............................. tree__min_samples_leaf=40 -   2.0s\n",
      "[CV] tree__min_samples_leaf=40 .......................................\n",
      "[CV] .............................. tree__min_samples_leaf=40 -   2.0s\n",
      "[CV] tree__min_samples_leaf=40 .......................................\n",
      "[CV] .............................. tree__min_samples_leaf=40 -   2.1s\n",
      "[CV] tree__min_samples_leaf=40 .......................................\n",
      "[CV] .............................. tree__min_samples_leaf=40 -   2.1s\n",
      "[CV] tree__min_samples_leaf=40 .......................................\n",
      "[CV] .............................. tree__min_samples_leaf=40 -   2.0s\n",
      "[CV] tree__min_samples_leaf=50 .......................................\n",
      "[CV] .............................. tree__min_samples_leaf=50 -   2.0s\n",
      "[CV] tree__min_samples_leaf=50 .......................................\n",
      "[CV] .............................. tree__min_samples_leaf=50 -   2.0s\n",
      "[CV] tree__min_samples_leaf=50 .......................................\n",
      "[CV] .............................. tree__min_samples_leaf=50 -   2.0s\n",
      "[CV] tree__min_samples_leaf=50 .......................................\n",
      "[CV] .............................. tree__min_samples_leaf=50 -   2.0s\n",
      "[CV] tree__min_samples_leaf=50 .......................................\n",
      "[CV] .............................. tree__min_samples_leaf=50 -   2.0s\n"
     ]
    },
    {
     "name": "stderr",
     "output_type": "stream",
     "text": [
      "[Parallel(n_jobs=1)]: Done  45 out of  45 | elapsed:  1.9min finished\n"
     ]
    }
   ],
   "source": [
    "best = 0\n",
    "f1 = CountVectorizer(\n",
    "        input=u'content', \n",
    "        encoding=u'utf-8', \n",
    "        decode_error=u'strict', \n",
    "        strip_accents=None, \n",
    "        lowercase=True, \n",
    "        preprocessor=None, \n",
    "        tokenizer=None, \n",
    "        stop_words=None, \n",
    "        #token_pattern=u'(?u)\\\\b\\w\\w+\\b', # one alphanumeric is a token\n",
    "        ngram_range=(1, 3), \n",
    "        analyzer=u'word', \n",
    "        max_df=1.0, \n",
    "        min_df=1, \n",
    "        max_features=None, \n",
    "        vocabulary=None, \n",
    "        binary=False, \n",
    "        #dtype=type 'numpy.int64'>\n",
    "        )\n",
    "\n",
    "tree = DecisionTreeClassifier()\n",
    "enhanced_tree = Pipeline([\n",
    "        ('count', f1),\n",
    "        ('tfidf', tfidf),\n",
    "        ('tree', tree)\n",
    "    ])\n",
    "tree_grid = {'tree__min_samples_leaf':[1,2,3,5,10,20, 30,40,50]}\n",
    "\n",
    "tree_results = parameter_search(sick_train, enhanced_tree, tree_grid, n_folds=5)\n",
    "\n",
    "ranked_results = sorted(tree_results.grid_scores_, key=lambda x:x.mean_validation_score, reverse=True)\n",
    "best_tree_params = ranked_results[0].parameters"
   ]
  },
  {
   "cell_type": "code",
   "execution_count": 236,
   "metadata": {
    "collapsed": false
   },
   "outputs": [
    {
     "name": "stdout",
     "output_type": "stream",
     "text": [
      "99.0 %\n",
      "ENHANCED DECISION TREE SICK AUC: 0.77, 95% CI: (0.71, 0.83)\n"
     ]
    }
   ],
   "source": [
    "enhanced_tree = enhanced_tree.set_params(**best_tree_params)\n",
    "enhanced_tree.fit(sick_train['x'], sick_train['y'])\n",
    "\n",
    "sick_scores = enhanced_tree.predict_proba(sick_test['x'])[:,1]\n",
    "\n",
    "tree_roc = metrics.roc_curve(sick_test['y'], sick_scores)\n",
    "tree_auc = metrics.roc_auc_score(sick_test['y'], sick_scores, average='micro')\n",
    "_, tree_ci = bootstrap_auc_ci(sick_scores, sick_test['y'], B=10000)\n",
    "print 'ENHANCED DECISION TREE SICK AUC: {0:2.2f}, 95% CI: ({1:2.2f}, {2:2.2f})'.format(\n",
    "    tree_auc, tree_ci[0], tree_ci[1])"
   ]
  },
  {
   "cell_type": "markdown",
   "metadata": {},
   "source": [
    "### Plot all of the ablation ROC curves"
   ]
  },
  {
   "cell_type": "code",
   "execution_count": 283,
   "metadata": {
    "collapsed": false
   },
   "outputs": [
    {
     "data": {
      "image/png": "[encoded data removed]",
      "text/plain": [
       "<matplotlib.figure.Figure at 0x123c6e950>"
      ]
     },
     "metadata": {},
     "output_type": "display_data"
    }
   ],
   "source": [
    "## Plot all the ROCs\n",
    "fig, ax = plt.subplots(1,1,figsize=(9,6))\n",
    "\n",
    "ax.plot(best_roc[0], best_roc[1], '-', \n",
    "        label=\"Best Logistic Regression:$\\;\\;\\,$   $AUC=%2.2f, CI=(%2.2f, %2.2f)$\" % (best_auc, best_ci[0], best_ci[1]))\n",
    "ax.plot(small_roc[0], small_roc[1], '-', dashes=[4,4],#[8, 4, 2, 4, 2, 4], \n",
    "        label=\"Small data $N=500$:       $\\;\\;\\,$     $AUC=%2.2f, CI=(%2.2f, %2.2f)$\" % (small_auc, small_ci[0], small_ci[1]))\n",
    "ax.plot(bow_roc[0], bow_roc[1], '-', #dashes=[12,4], \n",
    "        label=\"No TF-IDF:                  $\\,$         $AUC=%2.2f, CI=(%2.2f, %2.2f)$\" % (bow_auc, bow_ci[0], bow_ci[1]))\n",
    "ax.plot(unigram_roc[0], unigram_roc[1], '-', dashes=[8,4], \n",
    "        label=\"Unigrams only:             $\\,$        $AUC=%2.2f, CI=(%2.2f, %2.2f)$\" % (unigram_auc, unigram_ci[0], unigram_ci[1]))\n",
    "ax.plot(vanilla_roc[0], vanilla_roc[1], '-', dashes=[12,4], \n",
    "        label=\"Vanilla Logistic Regression: $\\,$$AUC=%2.2f, CI=(%2.2f, %2.2f)$\"%(vanilla_auc, vanilla_ci[0], vanilla_ci[1]))\n",
    "ax.plot(tree_roc[0], tree_roc[1], '-', #dashes=[8,8], \n",
    "        label=\"Enhanced Decision Tree: $\\;\\,$   $AUC=%2.2f, CI=(%2.2f, %2.2f)$\"%(tree_auc, tree_ci[0], tree_ci[1]))\n",
    "\n",
    "\n",
    "ax.legend(loc='best', fancybox=True, fontsize=14)\n",
    "ax.set_title(\"ROC Curves for Ablation Tests\", fontsize=18)\n",
    "ax.set_xlabel(\"False Positive Rate\", fontsize=16)\n",
    "ax.set_ylabel(\"True Positive Rate\", fontsize=16)\n",
    "plt.savefig('auc_ablation_plot_revised.pdf')"
   ]
  },
  {
   "cell_type": "code",
   "execution_count": null,
   "metadata": {
    "collapsed": true
   },
   "outputs": [],
   "source": []
  }
 ],
 "metadata": {
  "kernelspec": {
   "display_name": "Python 2",
   "language": "python",
   "name": "python2"
  },
  "language_info": {
   "codemirror_mode": {
    "name": "ipython",
    "version": 2
   },
   "file_extension": ".py",
   "mimetype": "text/x-python",
   "name": "python",
   "nbconvert_exporter": "python",
   "pygments_lexer": "ipython2",
   "version": "2.7.10"
  }
 },
 "nbformat": 4,
 "nbformat_minor": 1
}
